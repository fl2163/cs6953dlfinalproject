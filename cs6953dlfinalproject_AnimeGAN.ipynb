{
  "nbformat": 4,
  "nbformat_minor": 0,
  "metadata": {
    "colab": {
      "provenance": [],
      "gpuType": "T4",
      "machine_shape": "hm"
    },
    "kernelspec": {
      "name": "python3",
      "display_name": "Python 3"
    },
    "language_info": {
      "name": "python"
    },
    "accelerator": "GPU",
    "gpuClass": "standard"
  },
  "cells": [
    {
      "cell_type": "markdown",
      "source": [
        "# Generative Adversarial Nerwork - AnimeGAN"
      ],
      "metadata": {
        "id": "hnjlFC9w0ZNx"
      }
    },
    {
      "cell_type": "markdown",
      "source": [
        "Outline\n",
        "\n",
        "1.   Initialize weights \n",
        "2.   Establish Five Component Blocks of the Generator Network  \n",
        "3.   Generator Network\n",
        "4.   Discriminator Network\n",
        "5.   Initialize Overall Network Settings\n",
        "6.   Prepare VGG19\n",
        "7.   Initialize Loss Functions\n",
        "8.   Helper Function\n",
        "9.   Prepare Dataset\n",
        "10.  Prepare Colab Path\n",
        "11.  Initialize the Generator and Discriminator\n",
        "12.  Show Summarize of the Network Structure\n",
        "13.  Main - Training\n",
        "14.  References\n"
      ],
      "metadata": {
        "id": "EtTH-q12u9X4"
      }
    },
    {
      "cell_type": "code",
      "source": [
        "import torch\n",
        "import torch.nn as nn\n",
        "import torch.nn.functional as F\n",
        "\n",
        "import os\n",
        "import cv2\n",
        "from tqdm import tqdm\n",
        "import numpy as np\n",
        "\n",
        "# Imports for the helper functions\n",
        "import gc\n",
        "import urllib.request\n",
        "\n",
        "# Imports for the generator and discriminator\n",
        "from torch.nn.utils import spectral_norm\n",
        "\n",
        "# Imports for main training\n",
        "import torch.optim as optim\n",
        "from multiprocessing import cpu_count\n",
        "from torch.utils.data import DataLoader\n",
        "\n",
        "#Imports for Prepare Dataset\n",
        "import pandas as pd\n",
        "from torch.utils.data import Dataset"
      ],
      "metadata": {
        "id": "fmd-rjLcvbPn"
      },
      "execution_count": 1,
      "outputs": []
    },
    {
      "cell_type": "markdown",
      "source": [
        "### 1. Initialize weights"
      ],
      "metadata": {
        "id": "2LGuI6mJyW3p"
      }
    },
    {
      "cell_type": "code",
      "source": [
        "# Initilize weights\n",
        "\n",
        "def initialize_weights(net):\n",
        "    for m in net.modules():\n",
        "        try:\n",
        "            if isinstance(m, nn.Conv2d):\n",
        "                m.weight.data.normal_(0, 0.02)\n",
        "                m.bias.data.zero_()\n",
        "            elif isinstance(m, nn.ConvTranspose2d):\n",
        "                m.weight.data.normal_(0, 0.02)\n",
        "                m.bias.data.zero_()\n",
        "            elif isinstance(m, nn.Linear):\n",
        "                m.weight.data.normal_(0, 0.02)\n",
        "                m.bias.data.zero_()\n",
        "            elif isinstance(m, nn.BatchNorm2d):\n",
        "                m.weight.data.fill_(1)\n",
        "                m.bias.data.zero_()\n",
        "        except Exception as e:\n",
        "            # print(f'SKip layer {m}, {e}')\n",
        "            pass"
      ],
      "metadata": {
        "id": "XScCXajixG0_"
      },
      "execution_count": 2,
      "outputs": []
    },
    {
      "cell_type": "markdown",
      "source": [
        "### 2. Five Component Blocks of the Generator Network"
      ],
      "metadata": {
        "id": "gkcgarr7yOvn"
      }
    },
    {
      "cell_type": "code",
      "execution_count": 3,
      "metadata": {
        "id": "h1ImKJIru39x"
      },
      "outputs": [],
      "source": [
        "# 5 Component Blocks of the Generator Network\n",
        "\n",
        "class DownConv(nn.Module):\n",
        "    def __init__(self, channels, bias=False):\n",
        "        super(DownConv, self).__init__()\n",
        "        self.conv1 = SeparableConv2D(channels, channels, stride=2, bias=bias)\n",
        "        self.conv2 = SeparableConv2D(channels, channels, stride=1, bias=bias)\n",
        "\n",
        "    def forward(self, x):\n",
        "        out1 = self.conv1(x)\n",
        "        out2 = F.interpolate(x, scale_factor=0.5, mode='bilinear')\n",
        "        out2 = self.conv2(out2)\n",
        "\n",
        "        return out1 + out2\n",
        "\n",
        "\n",
        "class UpConv(nn.Module):\n",
        "    def __init__(self, channels, bias=False):\n",
        "        super(UpConv, self).__init__()\n",
        "        self.conv = SeparableConv2D(channels, channels, stride=1, bias=bias)\n",
        "\n",
        "    def forward(self, x):\n",
        "        out = F.interpolate(x, scale_factor=2.0, mode='bilinear')\n",
        "        out = self.conv(out)\n",
        "\n",
        "        return out\n",
        "\n",
        "\n",
        "class SeparableConv2D(nn.Module):\n",
        "    def __init__(self, in_channels, out_channels, stride=1, bias=False):\n",
        "        super(SeparableConv2D, self).__init__()\n",
        "        self.depthwise = nn.Conv2d(in_channels, in_channels, kernel_size=3,\n",
        "            stride=stride, padding=1, groups=in_channels, bias=bias)\n",
        "        self.pointwise = nn.Conv2d(in_channels, out_channels,\n",
        "            kernel_size=1, stride=1, bias=bias)\n",
        "        # self.pad = \n",
        "        self.ins_norm1 = nn.InstanceNorm2d(in_channels)\n",
        "        self.activation1 = nn.LeakyReLU(0.2, True)\n",
        "        self.ins_norm2 = nn.InstanceNorm2d(out_channels)\n",
        "        self.activation2 = nn.LeakyReLU(0.2, True)\n",
        "\n",
        "        initialize_weights(self)\n",
        "\n",
        "    def forward(self, x):\n",
        "        out = self.depthwise(x)\n",
        "        out = self.ins_norm1(out)\n",
        "        out = self.activation1(out)\n",
        "\n",
        "        out = self.pointwise(out)\n",
        "        out = self.ins_norm2(out)\n",
        "\n",
        "        return self.activation2(out)\n",
        "\n",
        "\n",
        "class ConvBlock(nn.Module):\n",
        "    def __init__(self, channels, out_channels, kernel_size=3, stride=1, padding=1, bias=False):\n",
        "        super(ConvBlock, self).__init__()\n",
        "\n",
        "        self.conv = nn.Conv2d(channels, out_channels,\n",
        "            kernel_size=kernel_size, stride=stride, padding=padding, bias=bias)\n",
        "        self.ins_norm = nn.InstanceNorm2d(out_channels)\n",
        "        self.activation = nn.LeakyReLU(0.2, True)\n",
        "\n",
        "        initialize_weights(self)\n",
        "\n",
        "    def forward(self, x):\n",
        "        out = self.conv(x)\n",
        "        out = self.ins_norm(out)\n",
        "        out = self.activation(out)\n",
        "\n",
        "        return out\n",
        "\n",
        "\n",
        "class InvertedResBlock(nn.Module):\n",
        "    def __init__(self, channels=256, out_channels=256, expand_ratio=2, bias=False):\n",
        "        super(InvertedResBlock, self).__init__()\n",
        "        bottleneck_dim = round(expand_ratio * channels)\n",
        "        self.conv_block = ConvBlock(channels, bottleneck_dim, kernel_size=1, stride=1, padding=0, bias=bias)\n",
        "        self.depthwise_conv = nn.Conv2d(bottleneck_dim, bottleneck_dim,\n",
        "            kernel_size=3, groups=bottleneck_dim, stride=1, padding=1, bias=bias)\n",
        "        self.conv = nn.Conv2d(bottleneck_dim, out_channels,\n",
        "            kernel_size=1, stride=1, bias=bias)\n",
        "\n",
        "        self.ins_norm1 = nn.InstanceNorm2d(out_channels)\n",
        "        self.ins_norm2 = nn.InstanceNorm2d(out_channels)\n",
        "        self.activation = nn.LeakyReLU(0.2, True)\n",
        "\n",
        "        initialize_weights(self)\n",
        "\n",
        "    def forward(self, x):\n",
        "        out = self.conv_block(x)\n",
        "        out = self.depthwise_conv(out)\n",
        "        out = self.ins_norm1(out)\n",
        "        out = self.activation(out)\n",
        "        out = self.conv(out)\n",
        "        out = self.ins_norm2(out)\n",
        "\n",
        "        return out + x"
      ]
    },
    {
      "cell_type": "markdown",
      "source": [
        "### 3. Generator Network"
      ],
      "metadata": {
        "id": "IPRb3XS9ygli"
      }
    },
    {
      "cell_type": "code",
      "source": [
        "# The Generator Network\n",
        "\n",
        "class Generator(nn.Module):\n",
        "    def __init__(self, dataset=''):\n",
        "        super(Generator, self).__init__()\n",
        "        self.name = f'generator_{dataset}'\n",
        "        bias = False\n",
        "\n",
        "        self.encode_blocks = nn.Sequential(\n",
        "            ConvBlock(3, 64, bias=bias),\n",
        "            ConvBlock(64, 128, bias=bias),\n",
        "            DownConv(128, bias=bias),\n",
        "            ConvBlock(128, 128, bias=bias),\n",
        "            SeparableConv2D(128, 256, bias=bias),\n",
        "            DownConv(256, bias=bias),\n",
        "            ConvBlock(256, 256, bias=bias),\n",
        "        )\n",
        "\n",
        "        self.res_blocks = nn.Sequential(\n",
        "            InvertedResBlock(256, 256, bias=bias),\n",
        "            InvertedResBlock(256, 256, bias=bias),\n",
        "            InvertedResBlock(256, 256, bias=bias),\n",
        "            InvertedResBlock(256, 256, bias=bias),\n",
        "            InvertedResBlock(256, 256, bias=bias),\n",
        "            InvertedResBlock(256, 256, bias=bias),\n",
        "            InvertedResBlock(256, 256, bias=bias),\n",
        "            InvertedResBlock(256, 256, bias=bias),\n",
        "        )\n",
        "\n",
        "        self.decode_blocks = nn.Sequential(\n",
        "            ConvBlock(256, 128, bias=bias),\n",
        "            UpConv(128, bias=bias),\n",
        "            SeparableConv2D(128, 128, bias=bias),\n",
        "            ConvBlock(128, 128, bias=bias),\n",
        "            UpConv(128, bias=bias),\n",
        "            ConvBlock(128, 64, bias=bias),\n",
        "            ConvBlock(64, 64, bias=bias),\n",
        "            nn.Conv2d(64, 3, kernel_size=1, stride=1, padding=0, bias=bias),\n",
        "            nn.Tanh(),\n",
        "        )\n",
        "\n",
        "        initialize_weights(self)\n",
        "\n",
        "    def forward(self, x):\n",
        "        out = self.encode_blocks(x)\n",
        "        out = self.res_blocks(out)\n",
        "        img = self.decode_blocks(out)\n",
        "\n",
        "        return img"
      ],
      "metadata": {
        "id": "sfwgj4Jmv3WQ"
      },
      "execution_count": 4,
      "outputs": []
    },
    {
      "cell_type": "markdown",
      "source": [
        "### 4. Discriminator Network"
      ],
      "metadata": {
        "id": "2Obkzq35ykzl"
      }
    },
    {
      "cell_type": "code",
      "source": [
        "# The Discriminator Network\n",
        "\n",
        "class Discriminator(nn.Module):\n",
        "    def __init__(self,  args):\n",
        "        super(Discriminator, self).__init__()\n",
        "        self.name = f'discriminator_{args.dataset}'\n",
        "        self.bias = False\n",
        "        channels = 32\n",
        "\n",
        "        layers = [\n",
        "            nn.Conv2d(3, channels, kernel_size=3, stride=1, padding=1, bias=self.bias),\n",
        "            nn.LeakyReLU(0.2, True)\n",
        "        ]\n",
        "\n",
        "        for i in range(args.d_layers):\n",
        "            layers += [\n",
        "                nn.Conv2d(channels, channels * 2, kernel_size=3, stride=2, padding=1, bias=self.bias),\n",
        "                nn.LeakyReLU(0.2, True),\n",
        "                nn.Conv2d(channels * 2, channels * 4, kernel_size=3, stride=1, padding=1, bias=self.bias),\n",
        "                nn.InstanceNorm2d(channels * 4),\n",
        "                nn.LeakyReLU(0.2, True),\n",
        "            ]\n",
        "            channels *= 4\n",
        "\n",
        "        layers += [\n",
        "            nn.Conv2d(channels, channels, kernel_size=3, stride=1, padding=1, bias=self.bias),\n",
        "            nn.InstanceNorm2d(channels),\n",
        "            nn.LeakyReLU(0.2, True),\n",
        "            nn.Conv2d(channels, 1, kernel_size=3, stride=1, padding=1, bias=self.bias),\n",
        "        ]\n",
        "\n",
        "        if args.use_sn:\n",
        "            for i in range(len(layers)):\n",
        "                if isinstance(layers[i], nn.Conv2d):\n",
        "                    layers[i] = spectral_norm(layers[i])\n",
        "\n",
        "        self.discriminate = nn.Sequential(*layers)\n",
        "\n",
        "        initialize_weights(self)\n",
        "\n",
        "    def forward(self, img):\n",
        "        return self.discriminate(img)"
      ],
      "metadata": {
        "id": "i6a9c5wvv9qt"
      },
      "execution_count": 5,
      "outputs": []
    },
    {
      "cell_type": "markdown",
      "source": [
        "### 5. Initialize Overall Network Settings"
      ],
      "metadata": {
        "id": "VMef2n3n7SBX"
      }
    },
    {
      "cell_type": "code",
      "source": [
        "# Initilize model settings\n",
        "\n",
        "class Setting:\n",
        "  def __init__(self):\n",
        "    self.dataset = 'Hayao'\n",
        "    self.data_dir = '/content/dataset'\n",
        "\n",
        "    self.epochs = 100\n",
        "    self.init_epochs = 5\n",
        "    self.batch_size = 6\n",
        "\n",
        "    self.checkpoint_dir = '/content/checkpoints'\n",
        "    self.save_image_dir = '/content/images'\n",
        "    self.gan_loss = 'lsgan'\n",
        "\n",
        "    self.resume = 'False'\n",
        "    self.use_sn = 'False'\n",
        "\n",
        "    self.save_interval = 1\n",
        "    self.debug_samples = 0\n",
        "    self.lr_g = 0.00002\n",
        "    self.lr_d = 0.00004\n",
        "    self.init_lr = 0.0001\n",
        "\n",
        "    self.wadvg = 10.0\n",
        "    self.wadvd = 10.0\n",
        "    self.wcon = 1.5\n",
        "    self.wgra = 3.0\n",
        "    self.wcol = 70.0\n",
        "    self.d_layers = 3\n",
        "    self.d_noise = 'False'\n",
        "\n",
        "args = Setting()"
      ],
      "metadata": {
        "id": "97YEbI3O18IB"
      },
      "execution_count": 6,
      "outputs": []
    },
    {
      "cell_type": "code",
      "source": [
        "vars(args)"
      ],
      "metadata": {
        "id": "22O1k7h94cZx",
        "colab": {
          "base_uri": "https://localhost:8080/",
          "height": 0
        },
        "outputId": "c8716b44-fa1f-4d6d-f272-40353b7f3712"
      },
      "execution_count": 7,
      "outputs": [
        {
          "output_type": "execute_result",
          "data": {
            "text/plain": [
              "{'dataset': 'Hayao',\n",
              " 'data_dir': '/content/dataset',\n",
              " 'epochs': 100,\n",
              " 'init_epochs': 5,\n",
              " 'batch_size': 6,\n",
              " 'checkpoint_dir': '/content/checkpoints',\n",
              " 'save_image_dir': '/content/images',\n",
              " 'gan_loss': 'lsgan',\n",
              " 'resume': 'False',\n",
              " 'use_sn': 'False',\n",
              " 'save_interval': 1,\n",
              " 'debug_samples': 0,\n",
              " 'lr_g': 2e-05,\n",
              " 'lr_d': 4e-05,\n",
              " 'init_lr': 0.0001,\n",
              " 'wadvg': 10.0,\n",
              " 'wadvd': 10.0,\n",
              " 'wcon': 1.5,\n",
              " 'wgra': 3.0,\n",
              " 'wcol': 70.0,\n",
              " 'd_layers': 3,\n",
              " 'd_noise': 'False'}"
            ]
          },
          "metadata": {},
          "execution_count": 7
        }
      ]
    },
    {
      "cell_type": "code",
      "source": [
        "# import torch\n",
        "# import cv2\n",
        "# import os\n",
        "# import numpy as np\n",
        "# from tqdm import tqdm\n",
        "\n",
        "_rgb_to_yuv_kernel = torch.tensor([\n",
        "    [0.299, -0.14714119, 0.61497538],\n",
        "    [0.587, -0.28886916, -0.51496512],\n",
        "    [0.114, 0.43601035, -0.10001026]\n",
        "]).float()\n",
        "\n",
        "if torch.cuda.is_available():\n",
        "    _rgb_to_yuv_kernel = _rgb_to_yuv_kernel.cuda()\n",
        "\n",
        "\n",
        "def gram(input):\n",
        "    \"\"\"\n",
        "    Calculate Gram Matrix\n",
        "    https://pytorch.org/tutorials/advanced/neural_style_tutorial.html#style-loss\n",
        "    \"\"\"\n",
        "    b, c, w, h = input.size()\n",
        "    x = input.view(b * c, w * h)\n",
        "    G = torch.mm(x, x.T)\n",
        "\n",
        "    # normalize by total elements\n",
        "    return G.div(b * c * w * h)\n",
        "\n",
        "def rgb_to_yuv(image):\n",
        "    '''\n",
        "    https://en.wikipedia.org/wiki/YUV\n",
        "    output: Image of shape (H, W, C) (channel last)\n",
        "    '''\n",
        "    # -1 1 -> 0 1\n",
        "    image = (image + 1.0) / 2.0\n",
        "    yuv_img = torch.tensordot(\n",
        "        image,\n",
        "        _rgb_to_yuv_kernel,\n",
        "        dims=([image.ndim - 3], [0]))\n",
        "\n",
        "    return yuv_img\n",
        "\n",
        "\n",
        "def divisible(dim):\n",
        "    '''\n",
        "    Make width and height divisible by 32\n",
        "    '''\n",
        "    width, height = dim\n",
        "    return width - (width % 32), height - (height % 32)\n",
        "\n",
        "\n",
        "def resize_image(image, width=None, height=None, inter=cv2.INTER_AREA):\n",
        "    dim = None\n",
        "    h, w = image.shape[:2]\n",
        "\n",
        "    if width and height:\n",
        "        return cv2.resize(image, divisible((width, height)),  interpolation=inter)\n",
        "\n",
        "    if width is None and height is None:\n",
        "        return cv2.resize(image, divisible((w, h)),  interpolation=inter)\n",
        "\n",
        "    if width is None:\n",
        "        r = height / float(h)\n",
        "        dim = (int(w * r), height)\n",
        "\n",
        "    else:\n",
        "        r = width / float(w)\n",
        "        dim = (width, int(h * r))\n",
        "\n",
        "    return cv2.resize(image, divisible(dim), interpolation=inter)\n",
        "\n",
        "\n",
        "def normalize_input(images):\n",
        "    '''\n",
        "    [0, 255] -> [-1, 1]\n",
        "    '''\n",
        "    return images / 127.5 - 1.0\n",
        "\n",
        "\n",
        "def denormalize_input(images, dtype=None):\n",
        "    '''\n",
        "    [-1, 1] -> [0, 255]\n",
        "    '''\n",
        "    images = images * 127.5 + 127.5\n",
        "\n",
        "    if dtype is not None:\n",
        "        if isinstance(images, torch.Tensor):\n",
        "            images = images.type(dtype)\n",
        "        else:\n",
        "            # numpy.ndarray\n",
        "            images = images.astype(dtype)\n",
        "\n",
        "    return images\n",
        "\n",
        "\n",
        "def compute_data_mean(data_folder):\n",
        "    if not os.path.exists(data_folder):\n",
        "        raise FileNotFoundError(f'Folder {data_folder} does not exits')\n",
        "\n",
        "    image_files = os.listdir(data_folder)\n",
        "    total = np.zeros(3)\n",
        "\n",
        "    print(f\"Compute mean (R, G, B) from {len(image_files)} images\")\n",
        "\n",
        "    for img_file in tqdm(image_files):\n",
        "        path = os.path.join(data_folder, img_file)\n",
        "        image = cv2.imread(path)\n",
        "        total += image.mean(axis=(0, 1))\n",
        "\n",
        "    channel_mean = total / len(image_files)\n",
        "    mean = np.mean(channel_mean)\n",
        "\n",
        "    return mean - channel_mean[...,::-1]  # Convert to BGR for training"
      ],
      "metadata": {
        "id": "yLwkH-nV9RG5"
      },
      "execution_count": 8,
      "outputs": []
    },
    {
      "cell_type": "markdown",
      "source": [
        "### 6. Prepare VGG19"
      ],
      "metadata": {
        "id": "hF0XQ1r_8qFS"
      }
    },
    {
      "cell_type": "code",
      "source": [
        "from numpy.lib.arraysetops import isin\n",
        "import torchvision.models as models\n",
        "# import torch.nn as nn\n",
        "# import torch\n",
        "\n",
        "vgg_mean = torch.tensor([0.485, 0.456, 0.406]).float()\n",
        "vgg_std = torch.tensor([0.229, 0.224, 0.225]).float()\n",
        "\n",
        "if torch.cuda.is_available():\n",
        "    vgg_std = vgg_std.cuda()\n",
        "    vgg_mean = vgg_mean.cuda()\n",
        "\n",
        "class Vgg19(nn.Module):\n",
        "    def __init__(self):\n",
        "        super(Vgg19, self).__init__()\n",
        "        self.vgg19 = self.get_vgg19().eval()\n",
        "        self.mean = vgg_mean.view(-1, 1 ,1)\n",
        "        self.std = vgg_std.view(-1, 1, 1)\n",
        "\n",
        "    def forward(self, x):\n",
        "        return self.vgg19(self.normalize_vgg(x))\n",
        "\n",
        "\n",
        "    @staticmethod\n",
        "    def get_vgg19(last_layer='conv4_4'):\n",
        "        vgg = models.vgg19(pretrained=torch.cuda.is_available()).features\n",
        "        model_list = []\n",
        "\n",
        "        i = 0\n",
        "        j = 1\n",
        "        for layer in vgg.children():\n",
        "            if isinstance(layer, nn.MaxPool2d):\n",
        "                i = 0\n",
        "                j += 1\n",
        "\n",
        "            elif isinstance(layer, nn.Conv2d):\n",
        "                i += 1\n",
        "\n",
        "            name = f'conv{j}_{i}'\n",
        "\n",
        "            if name == last_layer:\n",
        "                model_list.append(layer)\n",
        "                break\n",
        "\n",
        "            model_list.append(layer)\n",
        "\n",
        "\n",
        "        model = nn.Sequential(*model_list)\n",
        "        return model\n",
        "\n",
        "\n",
        "    def normalize_vgg(self, image):\n",
        "        '''\n",
        "        Expect input in range -1 1\n",
        "        '''\n",
        "        image = (image + 1.0) / 2.0\n",
        "        return (image - self.mean) / self.std\n"
      ],
      "metadata": {
        "id": "sPfJ0YKR8vqT"
      },
      "execution_count": 9,
      "outputs": []
    },
    {
      "cell_type": "markdown",
      "source": [
        "### 7.Initialize Loss Functions"
      ],
      "metadata": {
        "id": "2Y0P3FXZ7bwz"
      }
    },
    {
      "cell_type": "code",
      "source": [
        "class ColorLoss(nn.Module):\n",
        "    def __init__(self):\n",
        "        super(ColorLoss, self).__init__()\n",
        "        self.l1 = nn.L1Loss()\n",
        "        self.huber = nn.SmoothL1Loss()\n",
        "\n",
        "    def forward(self, image, image_g):\n",
        "        image = rgb_to_yuv(image)\n",
        "        image_g = rgb_to_yuv(image_g)\n",
        "\n",
        "        return (self.l1(image[:, :, :, 0], image_g[:, :, :, 0]) +\n",
        "                self.huber(image[:, :, :, 1], image_g[:, :, :, 1]) +\n",
        "                self.huber(image[:, :, :, 2], image_g[:, :, :, 2]))"
      ],
      "metadata": {
        "id": "PGdveAV_7peb"
      },
      "execution_count": 10,
      "outputs": []
    },
    {
      "cell_type": "code",
      "source": [
        "class AnimeGanLoss:\n",
        "    def __init__(self, args):\n",
        "        self.content_loss = nn.L1Loss().cuda()\n",
        "        self.gram_loss = nn.L1Loss().cuda()\n",
        "        self.color_loss = ColorLoss().cuda()\n",
        "        self.wadvg = args.wadvg\n",
        "        self.wadvd = args.wadvd\n",
        "        self.wcon = args.wcon\n",
        "        self.wgra = args.wgra\n",
        "        self.wcol = args.wcol\n",
        "        self.vgg19 = Vgg19().cuda().eval()\n",
        "        self.adv_type = args.gan_loss\n",
        "        self.bce_loss = nn.BCELoss()\n",
        "\n",
        "    def compute_loss_G(self, fake_img, img, fake_logit, anime_gray):\n",
        "        '''\n",
        "        Compute loss for Generator\n",
        "\n",
        "        @Arugments:\n",
        "            - fake_img: generated image\n",
        "            - img: image\n",
        "            - fake_logit: output of Discriminator given fake image\n",
        "            - anime_gray: grayscale of anime image\n",
        "\n",
        "        @Returns:\n",
        "            loss\n",
        "        '''\n",
        "        fake_feat = self.vgg19(fake_img)\n",
        "        anime_feat = self.vgg19(anime_gray)\n",
        "        img_feat = self.vgg19(img).detach()\n",
        "\n",
        "        return [\n",
        "            self.wadvg * self.adv_loss_g(fake_logit),\n",
        "            self.wcon * self.content_loss(img_feat, fake_feat),\n",
        "            self.wgra * self.gram_loss(gram(anime_feat), gram(fake_feat)),\n",
        "            self.wcol * self.color_loss(img, fake_img),\n",
        "        ]\n",
        "\n",
        "    def compute_loss_D(self, fake_img_d, real_anime_d, real_anime_gray_d, real_anime_smooth_gray_d):\n",
        "        return self.wadvd * (\n",
        "            self.adv_loss_d_real(real_anime_d) +\n",
        "            self.adv_loss_d_fake(fake_img_d) +\n",
        "            self.adv_loss_d_fake(real_anime_gray_d) +\n",
        "            0.2 * self.adv_loss_d_fake(real_anime_smooth_gray_d)\n",
        "        )\n",
        "\n",
        "\n",
        "    def content_loss_vgg(self, image, recontruction):\n",
        "        feat = self.vgg19(image)\n",
        "        re_feat = self.vgg19(recontruction)\n",
        "\n",
        "        return self.content_loss(feat, re_feat)\n",
        "\n",
        "    def adv_loss_d_real(self, pred):\n",
        "        if self.adv_type == 'hinge':\n",
        "            return torch.mean(F.relu(1.0 - pred))\n",
        "\n",
        "        elif self.adv_type == 'lsgan':\n",
        "            return torch.mean(torch.square(pred - 1.0))\n",
        "\n",
        "        elif self.adv_type == 'normal':\n",
        "            return self.bce_loss(pred, torch.ones_like(pred))\n",
        "\n",
        "        raise ValueError(f'Do not support loss type {self.adv_type}')\n",
        "\n",
        "    def adv_loss_d_fake(self, pred):\n",
        "        if self.adv_type == 'hinge':\n",
        "            return torch.mean(F.relu(1.0 + pred))\n",
        "\n",
        "        elif self.adv_type == 'lsgan':\n",
        "            return torch.mean(torch.square(pred))\n",
        "\n",
        "        elif self.adv_type == 'normal':\n",
        "            return self.bce_loss(pred, torch.zeros_like(pred))\n",
        "\n",
        "        raise ValueError(f'Do not support loss type {self.adv_type}')\n",
        "\n",
        "\n",
        "    def adv_loss_g(self, pred):\n",
        "        if self.adv_type == 'hinge':\n",
        "            return -torch.mean(pred)\n",
        "\n",
        "        elif self.adv_type == 'lsgan':\n",
        "            return torch.mean(torch.square(pred - 1.0))\n",
        "\n",
        "        elif self.adv_type == 'normal':\n",
        "            return self.bce_loss(pred, torch.zeros_like(pred))\n",
        "\n",
        "        raise ValueError(f'Do not support loss type {self.adv_type}')\n"
      ],
      "metadata": {
        "id": "uKCI9coh7efD"
      },
      "execution_count": 11,
      "outputs": []
    },
    {
      "cell_type": "code",
      "source": [
        "\n",
        "class LossSummary:\n",
        "    def __init__(self):\n",
        "        self.reset()\n",
        "\n",
        "    def reset(self):\n",
        "        self.loss_g_adv = []\n",
        "        self.loss_content = []\n",
        "        self.loss_gram = []\n",
        "        self.loss_color = []\n",
        "        self.loss_d_adv = []\n",
        "\n",
        "    def update_loss_G(self, adv, gram, color, content):\n",
        "        self.loss_g_adv.append(adv.cpu().detach().numpy())\n",
        "        self.loss_gram.append(gram.cpu().detach().numpy())\n",
        "        self.loss_color.append(color.cpu().detach().numpy())\n",
        "        self.loss_content.append(content.cpu().detach().numpy())\n",
        "\n",
        "    def update_loss_D(self, loss):\n",
        "        self.loss_d_adv.append(loss.cpu().detach().numpy())\n",
        "\n",
        "    def avg_loss_G(self):\n",
        "        return (\n",
        "            self._avg(self.loss_g_adv),\n",
        "            self._avg(self.loss_gram),\n",
        "            self._avg(self.loss_color),\n",
        "            self._avg(self.loss_content),\n",
        "        )\n",
        "\n",
        "    def avg_loss_D(self):\n",
        "        return self._avg(self.loss_d_adv)\n",
        "\n",
        "\n",
        "    @staticmethod\n",
        "    def _avg(losses):\n",
        "        return sum(losses) / len(losses)"
      ],
      "metadata": {
        "id": "XPnYxjW47kIS"
      },
      "execution_count": 12,
      "outputs": []
    },
    {
      "cell_type": "markdown",
      "source": [
        "### 8. Helper Functions"
      ],
      "metadata": {
        "id": "YxfELNbtDC3n"
      }
    },
    {
      "cell_type": "code",
      "source": [
        "import torch\n",
        "import gc\n",
        "import os\n",
        "import torch.nn as nn\n",
        "import urllib.request\n",
        "import cv2\n",
        "from tqdm import tqdm\n",
        "\n",
        "HTTP_PREFIXES = [\n",
        "    'http',\n",
        "    'data:image/jpeg',\n",
        "]\n",
        "\n",
        "SUPPORT_WEIGHTS = {\n",
        "    'hayao',\n",
        "    'shinkai',\n",
        "}\n",
        "\n",
        "ASSET_HOST = 'https://github.com/ptran1203/pytorch-animeGAN/releases/download/v1.0'\n",
        "\n",
        "\n",
        "def read_image(path):\n",
        "    \"\"\"\n",
        "    Read image from given path\n",
        "    \"\"\"\n",
        "\n",
        "    if any(path.startswith(p) for p in HTTP_PREFIXES):\n",
        "        urllib.request.urlretrieve(path, \"temp.jpg\")\n",
        "        path = \"temp.jpg\"\n",
        "\n",
        "    return cv2.imread(path)[: ,: ,::-1]\n",
        "\n",
        "\n",
        "def save_checkpoint(model, optimizer, epoch, args, posfix=''):\n",
        "    checkpoint = {\n",
        "        'model_state_dict': model.state_dict(),\n",
        "        'optimizer_state_dict': optimizer.state_dict(),\n",
        "        'epoch': epoch,\n",
        "    }\n",
        "    path = os.path.join(args.checkpoint_dir, f'{model.name}{posfix}.pth')\n",
        "    torch.save(checkpoint, path)\n",
        "\n",
        "\n",
        "def load_checkpoint(model, checkpoint_dir, posfix=''):\n",
        "    path = os.path.join(checkpoint_dir, f'{model.name}{posfix}.pth')\n",
        "    return load_weight(model, path)\n",
        "\n",
        "\n",
        "def load_weight(model, weight):\n",
        "    if weight.lower() in SUPPORT_WEIGHTS:\n",
        "        weight = _download_weight(weight)\n",
        "\n",
        "    checkpoint = torch.load(weight,  map_location='cuda:0') if torch.cuda.is_available() else \\\n",
        "        torch.load(weight,  map_location='cpu')\n",
        "    model.load_state_dict(checkpoint['model_state_dict'], strict=True)\n",
        "    epoch = checkpoint['epoch']\n",
        "    del checkpoint\n",
        "    torch.cuda.empty_cache()\n",
        "    gc.collect()\n",
        "\n",
        "    return epoch\n",
        "\n",
        "\n",
        "# def initialize_weights(net):\n",
        "#     for m in net.modules():\n",
        "#         try:\n",
        "#             if isinstance(m, nn.Conv2d):\n",
        "#                 m.weight.data.normal_(0, 0.02)\n",
        "#                 m.bias.data.zero_()\n",
        "#             elif isinstance(m, nn.ConvTranspose2d):\n",
        "#                 m.weight.data.normal_(0, 0.02)\n",
        "#                 m.bias.data.zero_()\n",
        "#             elif isinstance(m, nn.Linear):\n",
        "#                 m.weight.data.normal_(0, 0.02)\n",
        "#                 m.bias.data.zero_()\n",
        "#             elif isinstance(m, nn.BatchNorm2d):\n",
        "#                 m.weight.data.fill_(1)\n",
        "#                 m.bias.data.zero_()\n",
        "#         except Exception as e:\n",
        "#             # print(f'SKip layer {m}, {e}')\n",
        "#             pass\n",
        "\n",
        "\n",
        "def set_lr(optimizer, lr):\n",
        "    for param_group in optimizer.param_groups:\n",
        "        param_group['lr'] = lr\n",
        "\n",
        "\n",
        "class DownloadProgressBar(tqdm):\n",
        "    '''\n",
        "    https://stackoverflow.com/questions/15644964/python-progress-bar-and-downloads\n",
        "    '''\n",
        "    def update_to(self, b=1, bsize=1, tsize=None):\n",
        "        if tsize is not None:\n",
        "            self.total = tsize\n",
        "        self.update(b * bsize - self.n)\n",
        "\n",
        "\n",
        "def _download_weight(weight):\n",
        "    '''\n",
        "    Download weight and save to local file\n",
        "    '''\n",
        "    filename = f'generator_{weight.lower()}.pth'\n",
        "    os.makedirs('.cache', exist_ok=True)\n",
        "    url = f'{ASSET_HOST}/{filename}'\n",
        "    save_path = f'.cache/{filename}'\n",
        "\n",
        "    if os.path.isfile(save_path):\n",
        "        return save_path\n",
        "\n",
        "    desc = f'Downloading {url} to {save_path}'\n",
        "    with DownloadProgressBar(unit='B', unit_scale=True, miniters=1, desc=desc) as t:\n",
        "        urllib.request.urlretrieve(url, save_path, reporthook=t.update_to)\n",
        "\n",
        "    return save_path\n",
        "\n",
        "\n"
      ],
      "metadata": {
        "id": "E8EAeHHPDG6i"
      },
      "execution_count": 13,
      "outputs": []
    },
    {
      "cell_type": "markdown",
      "source": [
        "### 9. Prepare Dataset"
      ],
      "metadata": {
        "id": "i8r-4zYG_5H_"
      }
    },
    {
      "cell_type": "code",
      "source": [
        "# Prepare Dataset\n",
        "\n",
        "class AnimeDataSet(Dataset):\n",
        "    def __init__(self, args, transform=None):\n",
        "        \"\"\"   \n",
        "        folder structure:\n",
        "            - {data_dir}\n",
        "                - photo\n",
        "                    1.jpg, ..., n.jpg\n",
        "                - {dataset}  # E.g Hayao\n",
        "                    smooth\n",
        "                        1.jpg, ..., n.jpg\n",
        "                    style\n",
        "                        1.jpg, ..., n.jpg\n",
        "        \"\"\"\n",
        "        data_dir = args.data_dir\n",
        "        dataset = args.dataset\n",
        "\n",
        "        anime_dir = os.path.join(data_dir, dataset)\n",
        "        if not os.path.exists(data_dir):\n",
        "            raise FileNotFoundError(f'Folder {data_dir} does not exist')\n",
        "\n",
        "        if not os.path.exists(anime_dir):\n",
        "            raise FileNotFoundError(f'Folder {anime_dir} does not exist')\n",
        "\n",
        "        self.mean = compute_data_mean(os.path.join(anime_dir, 'style'))\n",
        "        print(f'Mean(B, G, R) of {dataset} are {self.mean}')\n",
        "\n",
        "        self.debug_samples = args.debug_samples or 0\n",
        "        self.data_dir = data_dir\n",
        "        self.image_files =  {}\n",
        "        self.photo = 'train_photo'\n",
        "        self.style = f'{anime_dir}/style'\n",
        "        self.smooth =  f'{anime_dir}/smooth'\n",
        "        self.dummy = torch.zeros(3, 256, 256)\n",
        "\n",
        "        for opt in [self.photo, self.style, self.smooth]:\n",
        "            folder = os.path.join(data_dir, opt)\n",
        "            files = os.listdir(folder)\n",
        "\n",
        "            self.image_files[opt] = [os.path.join(folder, fi) for fi in files]\n",
        "\n",
        "        self.transform = transform\n",
        "\n",
        "        print(f'Dataset: real {len(self.image_files[self.photo])} style {self.len_anime}, smooth {self.len_smooth}')\n",
        "\n",
        "    def __len__(self):\n",
        "        return self.debug_samples or len(self.image_files[self.photo])\n",
        "\n",
        "    @property\n",
        "    def len_anime(self):\n",
        "        return len(self.image_files[self.style])\n",
        "\n",
        "    @property\n",
        "    def len_smooth(self):\n",
        "        return len(self.image_files[self.smooth])\n",
        "\n",
        "    def __getitem__(self, index):\n",
        "        image = self.load_photo(index)\n",
        "        anm_idx = index\n",
        "        if anm_idx > self.len_anime - 1:\n",
        "            anm_idx -= self.len_anime * (index // self.len_anime)\n",
        "\n",
        "        anime, anime_gray = self.load_anime(anm_idx)\n",
        "        smooth_gray = self.load_anime_smooth(anm_idx)\n",
        "\n",
        "        return image, anime, anime_gray, smooth_gray\n",
        "\n",
        "    def load_photo(self, index):\n",
        "        fpath = self.image_files[self.photo][index]\n",
        "        image = cv2.imread(fpath)[:,:,::-1]\n",
        "        image = self._transform(image, addmean=False)\n",
        "        image = image.transpose(2, 0, 1)\n",
        "        return torch.tensor(image)\n",
        "\n",
        "    def load_anime(self, index):\n",
        "        fpath = self.image_files[self.style][index]\n",
        "        image = cv2.imread(fpath)[:,:,::-1]\n",
        "\n",
        "        image_gray = cv2.cvtColor(image.copy(), cv2.COLOR_BGR2GRAY)\n",
        "        image_gray = np.stack([image_gray, image_gray, image_gray], axis=-1)\n",
        "        image_gray = self._transform(image_gray, addmean=False)\n",
        "        image_gray = image_gray.transpose(2, 0, 1)\n",
        "\n",
        "        image = self._transform(image, addmean=True)\n",
        "        image = image.transpose(2, 0, 1)\n",
        "\n",
        "        return torch.tensor(image), torch.tensor(image_gray)\n",
        "\n",
        "    def load_anime_smooth(self, index):\n",
        "        fpath = self.image_files[self.smooth][index]\n",
        "        image = cv2.imread(fpath, cv2.IMREAD_GRAYSCALE)\n",
        "        image = np.stack([image, image, image], axis=-1)\n",
        "        image = self._transform(image, addmean=False)\n",
        "        image = image.transpose(2, 0, 1)\n",
        "        return torch.tensor(image)\n",
        "\n",
        "    def _transform(self, img, addmean=True):\n",
        "        if self.transform is not None:\n",
        "            img =  self.transform(image=img)['image']\n",
        "\n",
        "        img = img.astype(np.float32)\n",
        "        if addmean:\n",
        "            img += self.mean\n",
        "    \n",
        "        return normalize_input(img)"
      ],
      "metadata": {
        "id": "_pOaAxom_zQt"
      },
      "execution_count": 14,
      "outputs": []
    },
    {
      "cell_type": "markdown",
      "source": [
        "### 10. Prepare Colab Path"
      ],
      "metadata": {
        "id": "TlSnej9qEZoP"
      }
    },
    {
      "cell_type": "code",
      "source": [
        "from google.colab import drive, output\n",
        "import torch\n",
        "dv = torch.cuda.get_device_name(0)\n",
        "print(dv)\n",
        "\n",
        "drive.mount('/content/drive', force_remount=False)\n",
        "repo = \"Pytorch-animeGAN\"\n",
        "%cd \"/content\"\n",
        "!rm -rf {repo}\n",
        "!git clone https://github.com/ptran1203/{repo}\n",
        "%cd {repo}\n",
        "output.clear()"
      ],
      "metadata": {
        "id": "eVbb1XJmEcd0"
      },
      "execution_count": 15,
      "outputs": []
    },
    {
      "cell_type": "code",
      "source": [
        "import os\n",
        "import urllib\n",
        "\n",
        "data_path = 'anime-gan.zip'\n",
        "dataset_url = 'https://github.com/ptran1203/pytorch-animeGAN/releases/download/v1.0/dataset_v1.zip'\n",
        "\n",
        "if not os.path.exists(\"/content/dataset\"):\n",
        "    !wget -O {data_path} {dataset_url}\n",
        "    !unzip {data_path} -d /content\n",
        "    !rm {data_path}\n",
        "\n",
        "    if not os.path.exists(\"/content/dataset\"):\n",
        "        raise ValueError(f\"Download Failed, {data_path}\")\n",
        "\n",
        "output.clear()"
      ],
      "metadata": {
        "id": "G6qGsyrKEkjt"
      },
      "execution_count": 16,
      "outputs": []
    },
    {
      "cell_type": "code",
      "source": [
        "working_dir = '/content/drive/MyDrive/animeGAN'\n",
        "ckp_dir = f'{working_dir}/checkpoints'\n",
        "save_img_dir = f'{working_dir}/generated_samples'\n",
        "print(f\"You're running on {dv}\")"
      ],
      "metadata": {
        "id": "URgCWUG3En5z",
        "colab": {
          "base_uri": "https://localhost:8080/",
          "height": 0
        },
        "outputId": "646e3f77-418b-4dcc-adad-d3aa6635f0ea"
      },
      "execution_count": 17,
      "outputs": [
        {
          "output_type": "stream",
          "name": "stdout",
          "text": [
            "You're running on Tesla T4\n"
          ]
        }
      ]
    },
    {
      "cell_type": "markdown",
      "source": [
        "### 11. Initialize Generator and Discriminator"
      ],
      "metadata": {
        "id": "aw3AYH5Q_BWQ"
      }
    },
    {
      "cell_type": "code",
      "source": [
        "gaussian_mean = torch.tensor(0.0)\n",
        "gaussian_std = torch.tensor(0.1)"
      ],
      "metadata": {
        "id": "CoeMYsvjDtmV"
      },
      "execution_count": 18,
      "outputs": []
    },
    {
      "cell_type": "code",
      "source": [
        "def collate_fn(batch):\n",
        "    img, anime, anime_gray, anime_smt_gray = zip(*batch)\n",
        "    return (\n",
        "        torch.stack(img, 0),\n",
        "        torch.stack(anime, 0),\n",
        "        torch.stack(anime_gray, 0),\n",
        "        torch.stack(anime_smt_gray, 0),\n",
        "    )\n",
        "\n",
        "\n",
        "def check_params(args):\n",
        "    data_path = os.path.join(args.data_dir, args.dataset)\n",
        "    if not os.path.exists(data_path):\n",
        "        raise FileNotFoundError(f'Dataset not found {data_path}')\n",
        "\n",
        "    if not os.path.exists(args.save_image_dir):\n",
        "        print(f'* {args.save_image_dir} does not exist, creating...')\n",
        "        os.makedirs(args.save_image_dir)\n",
        "\n",
        "    if not os.path.exists(args.checkpoint_dir):\n",
        "        print(f'* {args.checkpoint_dir} does not exist, creating...')\n",
        "        os.makedirs(args.checkpoint_dir)\n",
        "\n",
        "    assert args.gan_loss in {'lsgan', 'hinge', 'bce'}, f'{args.gan_loss} is not supported'\n",
        "\n",
        "\n",
        "def save_samples(generator, loader, args, max_imgs=2, subname='gen'):\n",
        "    '''\n",
        "    Generate and save images\n",
        "    '''\n",
        "    generator.eval()\n",
        "\n",
        "    max_iter = (max_imgs // args.batch_size) + 1\n",
        "    fake_imgs = []\n",
        "\n",
        "    for i, (img, *_) in enumerate(loader):\n",
        "        with torch.no_grad():\n",
        "            fake_img = generator(img.cuda())\n",
        "            fake_img = fake_img.detach().cpu().numpy()\n",
        "            # Channel first -> channel last\n",
        "            fake_img  = fake_img.transpose(0, 2, 3, 1)\n",
        "            fake_imgs.append(denormalize_input(fake_img, dtype=np.int16))\n",
        "\n",
        "        if i + 1 == max_iter:\n",
        "            break\n",
        "\n",
        "    fake_imgs = np.concatenate(fake_imgs, axis=0)\n",
        "\n",
        "    for i, img in enumerate(fake_imgs):\n",
        "        save_path = os.path.join(args.save_image_dir, f'{subname}_{i}.jpg')\n",
        "        cv2.imwrite(save_path, img[..., ::-1])\n",
        "\n",
        "\n",
        "def gaussian_noise():\n",
        "    return torch.normal(gaussian_mean, gaussian_std)"
      ],
      "metadata": {
        "id": "vNIjhp2lDubI"
      },
      "execution_count": 19,
      "outputs": []
    },
    {
      "cell_type": "code",
      "source": [
        "check_params(args)\n",
        "print(\"Initializing models...\")\n",
        "G = Generator(args.dataset).cuda()\n",
        "D = Discriminator(args).cuda()"
      ],
      "metadata": {
        "id": "x8hF3i1q0XWC",
        "colab": {
          "base_uri": "https://localhost:8080/",
          "height": 0
        },
        "outputId": "daeb7da0-be20-470f-8348-ae51be7ff887"
      },
      "execution_count": 20,
      "outputs": [
        {
          "output_type": "stream",
          "name": "stdout",
          "text": [
            "* /content/images does not exist, creating...\n",
            "* /content/checkpoints does not exist, creating...\n",
            "Initializing models...\n"
          ]
        }
      ]
    },
    {
      "cell_type": "markdown",
      "source": [
        "### 12. Summarize Network Structure"
      ],
      "metadata": {
        "id": "zatpqYjvyR8B"
      }
    },
    {
      "cell_type": "code",
      "source": [
        "from torchsummary import summary\n",
        "\n",
        "summary(G,(3, 256, 256))\n",
        "summary(D,(3, 256, 256))"
      ],
      "metadata": {
        "id": "GKiuFhO8WnmP",
        "colab": {
          "base_uri": "https://localhost:8080/",
          "height": 0
        },
        "outputId": "f7c6d994-1a9b-44b8-d891-87fef6b58650"
      },
      "execution_count": 21,
      "outputs": [
        {
          "output_type": "stream",
          "name": "stdout",
          "text": [
            "----------------------------------------------------------------\n",
            "        Layer (type)               Output Shape         Param #\n",
            "================================================================\n",
            "            Conv2d-1         [-1, 64, 256, 256]           1,728\n",
            "    InstanceNorm2d-2         [-1, 64, 256, 256]               0\n",
            "         LeakyReLU-3         [-1, 64, 256, 256]               0\n",
            "         ConvBlock-4         [-1, 64, 256, 256]               0\n",
            "            Conv2d-5        [-1, 128, 256, 256]          73,728\n",
            "    InstanceNorm2d-6        [-1, 128, 256, 256]               0\n",
            "         LeakyReLU-7        [-1, 128, 256, 256]               0\n",
            "         ConvBlock-8        [-1, 128, 256, 256]               0\n",
            "            Conv2d-9        [-1, 128, 128, 128]           1,152\n",
            "   InstanceNorm2d-10        [-1, 128, 128, 128]               0\n",
            "        LeakyReLU-11        [-1, 128, 128, 128]               0\n",
            "           Conv2d-12        [-1, 128, 128, 128]          16,384\n",
            "   InstanceNorm2d-13        [-1, 128, 128, 128]               0\n",
            "        LeakyReLU-14        [-1, 128, 128, 128]               0\n",
            "  SeparableConv2D-15        [-1, 128, 128, 128]               0\n",
            "           Conv2d-16        [-1, 128, 128, 128]           1,152\n",
            "   InstanceNorm2d-17        [-1, 128, 128, 128]               0\n",
            "        LeakyReLU-18        [-1, 128, 128, 128]               0\n",
            "           Conv2d-19        [-1, 128, 128, 128]          16,384\n",
            "   InstanceNorm2d-20        [-1, 128, 128, 128]               0\n",
            "        LeakyReLU-21        [-1, 128, 128, 128]               0\n",
            "  SeparableConv2D-22        [-1, 128, 128, 128]               0\n",
            "         DownConv-23        [-1, 128, 128, 128]               0\n",
            "           Conv2d-24        [-1, 128, 128, 128]         147,456\n",
            "   InstanceNorm2d-25        [-1, 128, 128, 128]               0\n",
            "        LeakyReLU-26        [-1, 128, 128, 128]               0\n",
            "        ConvBlock-27        [-1, 128, 128, 128]               0\n",
            "           Conv2d-28        [-1, 128, 128, 128]           1,152\n",
            "   InstanceNorm2d-29        [-1, 128, 128, 128]               0\n",
            "        LeakyReLU-30        [-1, 128, 128, 128]               0\n",
            "           Conv2d-31        [-1, 256, 128, 128]          32,768\n",
            "   InstanceNorm2d-32        [-1, 256, 128, 128]               0\n",
            "        LeakyReLU-33        [-1, 256, 128, 128]               0\n",
            "  SeparableConv2D-34        [-1, 256, 128, 128]               0\n",
            "           Conv2d-35          [-1, 256, 64, 64]           2,304\n",
            "   InstanceNorm2d-36          [-1, 256, 64, 64]               0\n",
            "        LeakyReLU-37          [-1, 256, 64, 64]               0\n",
            "           Conv2d-38          [-1, 256, 64, 64]          65,536\n",
            "   InstanceNorm2d-39          [-1, 256, 64, 64]               0\n",
            "        LeakyReLU-40          [-1, 256, 64, 64]               0\n",
            "  SeparableConv2D-41          [-1, 256, 64, 64]               0\n",
            "           Conv2d-42          [-1, 256, 64, 64]           2,304\n",
            "   InstanceNorm2d-43          [-1, 256, 64, 64]               0\n",
            "        LeakyReLU-44          [-1, 256, 64, 64]               0\n",
            "           Conv2d-45          [-1, 256, 64, 64]          65,536\n",
            "   InstanceNorm2d-46          [-1, 256, 64, 64]               0\n",
            "        LeakyReLU-47          [-1, 256, 64, 64]               0\n",
            "  SeparableConv2D-48          [-1, 256, 64, 64]               0\n",
            "         DownConv-49          [-1, 256, 64, 64]               0\n",
            "           Conv2d-50          [-1, 256, 64, 64]         589,824\n",
            "   InstanceNorm2d-51          [-1, 256, 64, 64]               0\n",
            "        LeakyReLU-52          [-1, 256, 64, 64]               0\n",
            "        ConvBlock-53          [-1, 256, 64, 64]               0\n",
            "           Conv2d-54          [-1, 512, 64, 64]         131,072\n",
            "   InstanceNorm2d-55          [-1, 512, 64, 64]               0\n",
            "        LeakyReLU-56          [-1, 512, 64, 64]               0\n",
            "        ConvBlock-57          [-1, 512, 64, 64]               0\n",
            "           Conv2d-58          [-1, 512, 64, 64]           4,608\n",
            "   InstanceNorm2d-59          [-1, 512, 64, 64]               0\n",
            "        LeakyReLU-60          [-1, 512, 64, 64]               0\n",
            "           Conv2d-61          [-1, 256, 64, 64]         131,072\n",
            "   InstanceNorm2d-62          [-1, 256, 64, 64]               0\n",
            " InvertedResBlock-63          [-1, 256, 64, 64]               0\n",
            "           Conv2d-64          [-1, 512, 64, 64]         131,072\n",
            "   InstanceNorm2d-65          [-1, 512, 64, 64]               0\n",
            "        LeakyReLU-66          [-1, 512, 64, 64]               0\n",
            "        ConvBlock-67          [-1, 512, 64, 64]               0\n",
            "           Conv2d-68          [-1, 512, 64, 64]           4,608\n",
            "   InstanceNorm2d-69          [-1, 512, 64, 64]               0\n",
            "        LeakyReLU-70          [-1, 512, 64, 64]               0\n",
            "           Conv2d-71          [-1, 256, 64, 64]         131,072\n",
            "   InstanceNorm2d-72          [-1, 256, 64, 64]               0\n",
            " InvertedResBlock-73          [-1, 256, 64, 64]               0\n",
            "           Conv2d-74          [-1, 512, 64, 64]         131,072\n",
            "   InstanceNorm2d-75          [-1, 512, 64, 64]               0\n",
            "        LeakyReLU-76          [-1, 512, 64, 64]               0\n",
            "        ConvBlock-77          [-1, 512, 64, 64]               0\n",
            "           Conv2d-78          [-1, 512, 64, 64]           4,608\n",
            "   InstanceNorm2d-79          [-1, 512, 64, 64]               0\n",
            "        LeakyReLU-80          [-1, 512, 64, 64]               0\n",
            "           Conv2d-81          [-1, 256, 64, 64]         131,072\n",
            "   InstanceNorm2d-82          [-1, 256, 64, 64]               0\n",
            " InvertedResBlock-83          [-1, 256, 64, 64]               0\n",
            "           Conv2d-84          [-1, 512, 64, 64]         131,072\n",
            "   InstanceNorm2d-85          [-1, 512, 64, 64]               0\n",
            "        LeakyReLU-86          [-1, 512, 64, 64]               0\n",
            "        ConvBlock-87          [-1, 512, 64, 64]               0\n",
            "           Conv2d-88          [-1, 512, 64, 64]           4,608\n",
            "   InstanceNorm2d-89          [-1, 512, 64, 64]               0\n",
            "        LeakyReLU-90          [-1, 512, 64, 64]               0\n",
            "           Conv2d-91          [-1, 256, 64, 64]         131,072\n",
            "   InstanceNorm2d-92          [-1, 256, 64, 64]               0\n",
            " InvertedResBlock-93          [-1, 256, 64, 64]               0\n",
            "           Conv2d-94          [-1, 512, 64, 64]         131,072\n",
            "   InstanceNorm2d-95          [-1, 512, 64, 64]               0\n",
            "        LeakyReLU-96          [-1, 512, 64, 64]               0\n",
            "        ConvBlock-97          [-1, 512, 64, 64]               0\n",
            "           Conv2d-98          [-1, 512, 64, 64]           4,608\n",
            "   InstanceNorm2d-99          [-1, 512, 64, 64]               0\n",
            "       LeakyReLU-100          [-1, 512, 64, 64]               0\n",
            "          Conv2d-101          [-1, 256, 64, 64]         131,072\n",
            "  InstanceNorm2d-102          [-1, 256, 64, 64]               0\n",
            "InvertedResBlock-103          [-1, 256, 64, 64]               0\n",
            "          Conv2d-104          [-1, 512, 64, 64]         131,072\n",
            "  InstanceNorm2d-105          [-1, 512, 64, 64]               0\n",
            "       LeakyReLU-106          [-1, 512, 64, 64]               0\n",
            "       ConvBlock-107          [-1, 512, 64, 64]               0\n",
            "          Conv2d-108          [-1, 512, 64, 64]           4,608\n",
            "  InstanceNorm2d-109          [-1, 512, 64, 64]               0\n",
            "       LeakyReLU-110          [-1, 512, 64, 64]               0\n",
            "          Conv2d-111          [-1, 256, 64, 64]         131,072\n",
            "  InstanceNorm2d-112          [-1, 256, 64, 64]               0\n",
            "InvertedResBlock-113          [-1, 256, 64, 64]               0\n",
            "          Conv2d-114          [-1, 512, 64, 64]         131,072\n",
            "  InstanceNorm2d-115          [-1, 512, 64, 64]               0\n",
            "       LeakyReLU-116          [-1, 512, 64, 64]               0\n",
            "       ConvBlock-117          [-1, 512, 64, 64]               0\n",
            "          Conv2d-118          [-1, 512, 64, 64]           4,608\n",
            "  InstanceNorm2d-119          [-1, 512, 64, 64]               0\n",
            "       LeakyReLU-120          [-1, 512, 64, 64]               0\n",
            "          Conv2d-121          [-1, 256, 64, 64]         131,072\n",
            "  InstanceNorm2d-122          [-1, 256, 64, 64]               0\n",
            "InvertedResBlock-123          [-1, 256, 64, 64]               0\n",
            "          Conv2d-124          [-1, 512, 64, 64]         131,072\n",
            "  InstanceNorm2d-125          [-1, 512, 64, 64]               0\n",
            "       LeakyReLU-126          [-1, 512, 64, 64]               0\n",
            "       ConvBlock-127          [-1, 512, 64, 64]               0\n",
            "          Conv2d-128          [-1, 512, 64, 64]           4,608\n",
            "  InstanceNorm2d-129          [-1, 512, 64, 64]               0\n",
            "       LeakyReLU-130          [-1, 512, 64, 64]               0\n",
            "          Conv2d-131          [-1, 256, 64, 64]         131,072\n",
            "  InstanceNorm2d-132          [-1, 256, 64, 64]               0\n",
            "InvertedResBlock-133          [-1, 256, 64, 64]               0\n",
            "          Conv2d-134          [-1, 128, 64, 64]         294,912\n",
            "  InstanceNorm2d-135          [-1, 128, 64, 64]               0\n",
            "       LeakyReLU-136          [-1, 128, 64, 64]               0\n",
            "       ConvBlock-137          [-1, 128, 64, 64]               0\n",
            "          Conv2d-138        [-1, 128, 128, 128]           1,152\n",
            "  InstanceNorm2d-139        [-1, 128, 128, 128]               0\n",
            "       LeakyReLU-140        [-1, 128, 128, 128]               0\n",
            "          Conv2d-141        [-1, 128, 128, 128]          16,384\n",
            "  InstanceNorm2d-142        [-1, 128, 128, 128]               0\n",
            "       LeakyReLU-143        [-1, 128, 128, 128]               0\n",
            " SeparableConv2D-144        [-1, 128, 128, 128]               0\n",
            "          UpConv-145        [-1, 128, 128, 128]               0\n",
            "          Conv2d-146        [-1, 128, 128, 128]           1,152\n",
            "  InstanceNorm2d-147        [-1, 128, 128, 128]               0\n",
            "       LeakyReLU-148        [-1, 128, 128, 128]               0\n",
            "          Conv2d-149        [-1, 128, 128, 128]          16,384\n",
            "  InstanceNorm2d-150        [-1, 128, 128, 128]               0\n",
            "       LeakyReLU-151        [-1, 128, 128, 128]               0\n",
            " SeparableConv2D-152        [-1, 128, 128, 128]               0\n",
            "          Conv2d-153        [-1, 128, 128, 128]         147,456\n",
            "  InstanceNorm2d-154        [-1, 128, 128, 128]               0\n",
            "       LeakyReLU-155        [-1, 128, 128, 128]               0\n",
            "       ConvBlock-156        [-1, 128, 128, 128]               0\n",
            "          Conv2d-157        [-1, 128, 256, 256]           1,152\n",
            "  InstanceNorm2d-158        [-1, 128, 256, 256]               0\n",
            "       LeakyReLU-159        [-1, 128, 256, 256]               0\n",
            "          Conv2d-160        [-1, 128, 256, 256]          16,384\n",
            "  InstanceNorm2d-161        [-1, 128, 256, 256]               0\n",
            "       LeakyReLU-162        [-1, 128, 256, 256]               0\n",
            " SeparableConv2D-163        [-1, 128, 256, 256]               0\n",
            "          UpConv-164        [-1, 128, 256, 256]               0\n",
            "          Conv2d-165         [-1, 64, 256, 256]          73,728\n",
            "  InstanceNorm2d-166         [-1, 64, 256, 256]               0\n",
            "       LeakyReLU-167         [-1, 64, 256, 256]               0\n",
            "       ConvBlock-168         [-1, 64, 256, 256]               0\n",
            "          Conv2d-169         [-1, 64, 256, 256]          36,864\n",
            "  InstanceNorm2d-170         [-1, 64, 256, 256]               0\n",
            "       LeakyReLU-171         [-1, 64, 256, 256]               0\n",
            "       ConvBlock-172         [-1, 64, 256, 256]               0\n",
            "          Conv2d-173          [-1, 3, 256, 256]             192\n",
            "            Tanh-174          [-1, 3, 256, 256]               0\n",
            "================================================================\n",
            "Total params: 3,757,184\n",
            "Trainable params: 3,757,184\n",
            "Non-trainable params: 0\n",
            "----------------------------------------------------------------\n",
            "Input size (MB): 0.75\n",
            "Forward/backward pass size (MB): 3195.00\n",
            "Params size (MB): 14.33\n",
            "Estimated Total Size (MB): 3210.08\n",
            "----------------------------------------------------------------\n",
            "----------------------------------------------------------------\n",
            "        Layer (type)               Output Shape         Param #\n",
            "================================================================\n",
            "            Conv2d-1         [-1, 32, 256, 256]             864\n",
            "         LeakyReLU-2         [-1, 32, 256, 256]               0\n",
            "            Conv2d-3         [-1, 64, 128, 128]          18,432\n",
            "         LeakyReLU-4         [-1, 64, 128, 128]               0\n",
            "            Conv2d-5        [-1, 128, 128, 128]          73,728\n",
            "    InstanceNorm2d-6        [-1, 128, 128, 128]               0\n",
            "         LeakyReLU-7        [-1, 128, 128, 128]               0\n",
            "            Conv2d-8          [-1, 256, 64, 64]         294,912\n",
            "         LeakyReLU-9          [-1, 256, 64, 64]               0\n",
            "           Conv2d-10          [-1, 512, 64, 64]       1,179,648\n",
            "   InstanceNorm2d-11          [-1, 512, 64, 64]               0\n",
            "        LeakyReLU-12          [-1, 512, 64, 64]               0\n",
            "           Conv2d-13         [-1, 1024, 32, 32]       4,718,592\n",
            "        LeakyReLU-14         [-1, 1024, 32, 32]               0\n",
            "           Conv2d-15         [-1, 2048, 32, 32]      18,874,368\n",
            "   InstanceNorm2d-16         [-1, 2048, 32, 32]               0\n",
            "        LeakyReLU-17         [-1, 2048, 32, 32]               0\n",
            "           Conv2d-18         [-1, 2048, 32, 32]      37,748,736\n",
            "   InstanceNorm2d-19         [-1, 2048, 32, 32]               0\n",
            "        LeakyReLU-20         [-1, 2048, 32, 32]               0\n",
            "           Conv2d-21            [-1, 1, 32, 32]          18,432\n",
            "================================================================\n",
            "Total params: 62,927,712\n",
            "Trainable params: 62,927,712\n",
            "Non-trainable params: 0\n",
            "----------------------------------------------------------------\n",
            "Input size (MB): 0.75\n",
            "Forward/backward pass size (MB): 272.01\n",
            "Params size (MB): 240.05\n",
            "Estimated Total Size (MB): 512.81\n",
            "----------------------------------------------------------------\n"
          ]
        }
      ]
    },
    {
      "cell_type": "markdown",
      "source": [
        "### 13. Main - Training"
      ],
      "metadata": {
        "id": "_e-WyTrEzBZB"
      }
    },
    {
      "cell_type": "code",
      "source": [
        "loss_tracker = LossSummary()\n",
        "loss_fn = AnimeGanLoss(args)\n",
        "\n",
        "# Create DataLoader\n",
        "data_loader = DataLoader(\n",
        "    AnimeDataSet(args),\n",
        "    batch_size=args.batch_size,\n",
        "    num_workers=cpu_count(),\n",
        "    pin_memory=True,\n",
        "    shuffle=True,\n",
        "    collate_fn=collate_fn,\n",
        ")\n",
        "\n",
        "optimizer_g = optim.Adam(G.parameters(), lr=args.lr_g, betas=(0.5, 0.999))\n",
        "optimizer_d = optim.Adam(D.parameters(), lr=args.lr_d, betas=(0.5, 0.999))\n",
        "\n",
        "start_e = 0\n",
        "if args.resume == 'GD':\n",
        "    # Load G and D\n",
        "    try:\n",
        "        start_e = load_checkpoint(G, args.checkpoint_dir)\n",
        "        print(\"G weight loaded\")\n",
        "        load_checkpoint(D, args.checkpoint_dir)\n",
        "        print(\"D weight loaded\")\n",
        "    except Exception as e:\n",
        "        print('Could not load checkpoint, train from scratch', e)\n",
        "elif args.resume == 'G':\n",
        "    # Load G only\n",
        "    try:\n",
        "        start_e = load_checkpoint(G, args.checkpoint_dir, posfix='_init')\n",
        "    except Exception as e:\n",
        "        print('Could not load G init checkpoint, train from scratch', e)\n",
        "\n",
        "\n",
        "for e in range(start_e, args.epochs):\n",
        "    print(f\"Epoch {e}/{args.epochs}\")\n",
        "    bar = tqdm(data_loader)\n",
        "    G.train()\n",
        "\n",
        "    init_losses = []\n",
        "\n",
        "    if e < args.init_epochs:\n",
        "        # Train with content loss only\n",
        "        set_lr(optimizer_g, args.init_lr)\n",
        "        for img, *_ in bar:\n",
        "            img = img.cuda()\n",
        "            \n",
        "            optimizer_g.zero_grad()\n",
        "\n",
        "            fake_img = G(img)\n",
        "            loss = loss_fn.content_loss_vgg(img, fake_img)\n",
        "            loss.backward()\n",
        "            optimizer_g.step()\n",
        "\n",
        "            init_losses.append(loss.cpu().detach().numpy())\n",
        "            avg_content_loss = sum(init_losses) / len(init_losses)\n",
        "            bar.set_description(f'[Init Training G] content loss: {avg_content_loss:2f}')\n",
        "\n",
        "        set_lr(optimizer_g, args.lr_g)\n",
        "        save_checkpoint(G, optimizer_g, e, args, posfix='_init')\n",
        "        save_samples(G, data_loader, args, subname='initg')\n",
        "        continue\n",
        "\n",
        "\n",
        "loss_tracker.reset()\n",
        "\n",
        "for img, anime, anime_gray, anime_smt_gray in bar:\n",
        "    # To cuda\n",
        "    img = img.cuda()\n",
        "    anime = anime.cuda()\n",
        "    anime_gray = anime_gray.cuda()\n",
        "    anime_smt_gray = anime_smt_gray.cuda()\n",
        "\n",
        "    # ---------------- TRAIN D ---------------- #\n",
        "    optimizer_d.zero_grad()\n",
        "    fake_img = G(img).detach()\n",
        "\n",
        "    # Add some Gaussian noise to images before feeding to D\n",
        "    if args.d_noise:\n",
        "        fake_img += gaussian_noise()\n",
        "        anime += gaussian_noise()\n",
        "        anime_gray += gaussian_noise()\n",
        "        anime_smt_gray += gaussian_noise()\n",
        "\n",
        "    fake_d = D(fake_img)\n",
        "    real_anime_d = D(anime)\n",
        "    real_anime_gray_d = D(anime_gray)\n",
        "    real_anime_smt_gray_d = D(anime_smt_gray)\n",
        "\n",
        "    loss_d = loss_fn.compute_loss_D(\n",
        "        fake_d, real_anime_d, real_anime_gray_d, real_anime_smt_gray_d)\n",
        "\n",
        "    loss_d.backward()\n",
        "    optimizer_d.step()\n",
        "\n",
        "    loss_tracker.update_loss_D(loss_d)\n",
        "\n",
        "    # ---------------- TRAIN G ---------------- #\n",
        "    optimizer_g.zero_grad()\n",
        "\n",
        "    fake_img = G(img)\n",
        "    fake_d = D(fake_img)\n",
        "\n",
        "    adv_loss, con_loss, gra_loss, col_loss = loss_fn.compute_loss_G(\n",
        "        fake_img, img, fake_d, anime_gray)\n",
        "\n",
        "    loss_g = adv_loss + con_loss + gra_loss + col_loss\n",
        "\n",
        "    loss_g.backward()\n",
        "    optimizer_g.step()\n",
        "\n",
        "    loss_tracker.update_loss_G(adv_loss, gra_loss, col_loss, con_loss)\n",
        "\n",
        "    avg_adv, avg_gram, avg_color, avg_content = loss_tracker.avg_loss_G()\n",
        "    avg_adv_d = loss_tracker.avg_loss_D()\n",
        "    bar.set_description(f'loss G: adv {avg_adv:2f} con {avg_content:2f} gram {avg_gram:2f} color {avg_color:2f} / loss D: {avg_adv_d:2f}')\n",
        "\n",
        "if e % args.save_interval == 0:\n",
        "    save_checkpoint(G, optimizer_g, e, args)\n",
        "    save_checkpoint(D, optimizer_d, e, args)\n",
        "    save_samples(G, data_loader, args)\n",
        "\n"
      ],
      "metadata": {
        "colab": {
          "base_uri": "https://localhost:8080/",
          "height": 0
        },
        "id": "1diHxC20_Dle",
        "outputId": "dd0ddafd-5b02-4813-cd71-25807f3e6bc0"
      },
      "execution_count": 22,
      "outputs": [
        {
          "output_type": "stream",
          "name": "stderr",
          "text": [
            "/usr/local/lib/python3.10/dist-packages/torchvision/models/_utils.py:208: UserWarning: The parameter 'pretrained' is deprecated since 0.13 and may be removed in the future, please use 'weights' instead.\n",
            "  warnings.warn(\n",
            "/usr/local/lib/python3.10/dist-packages/torchvision/models/_utils.py:223: UserWarning: Arguments other than a weight enum or `None` for 'weights' are deprecated since 0.13 and may be removed in the future. The current behavior is equivalent to passing `weights=VGG19_Weights.IMAGENET1K_V1`. You can also use `weights=VGG19_Weights.DEFAULT` to get the most up-to-date weights.\n",
            "  warnings.warn(msg)\n",
            "Downloading: \"https://download.pytorch.org/models/vgg19-dcbb9e9d.pth\" to /root/.cache/torch/hub/checkpoints/vgg19-dcbb9e9d.pth\n",
            "100%|██████████| 548M/548M [00:05<00:00, 104MB/s]\n"
          ]
        },
        {
          "output_type": "stream",
          "name": "stdout",
          "text": [
            "Compute mean (R, G, B) from 1792 images\n"
          ]
        },
        {
          "output_type": "stream",
          "name": "stderr",
          "text": [
            "100%|██████████| 1792/1792 [00:05<00:00, 349.92it/s]\n"
          ]
        },
        {
          "output_type": "stream",
          "name": "stdout",
          "text": [
            "Mean(B, G, R) of Hayao are [-4.4346958  -8.66591597 13.10061177]\n",
            "Dataset: real 6656 style 1792, smooth 1792\n",
            "Epoch 0/100\n"
          ]
        },
        {
          "output_type": "stream",
          "name": "stderr",
          "text": [
            "[Init Training G] content loss: 3.450860: 100%|██████████| 1110/1110 [15:38<00:00,  1.18it/s]\n"
          ]
        },
        {
          "output_type": "stream",
          "name": "stdout",
          "text": [
            "Epoch 1/100\n"
          ]
        },
        {
          "output_type": "stream",
          "name": "stderr",
          "text": [
            "[Init Training G] content loss: 2.682352: 100%|██████████| 1110/1110 [15:39<00:00,  1.18it/s]\n"
          ]
        },
        {
          "output_type": "stream",
          "name": "stdout",
          "text": [
            "Epoch 2/100\n"
          ]
        },
        {
          "output_type": "stream",
          "name": "stderr",
          "text": [
            "[Init Training G] content loss: 2.329197: 100%|██████████| 1110/1110 [15:40<00:00,  1.18it/s]\n"
          ]
        },
        {
          "output_type": "stream",
          "name": "stdout",
          "text": [
            "Epoch 3/100\n"
          ]
        },
        {
          "output_type": "stream",
          "name": "stderr",
          "text": [
            "[Init Training G] content loss: 2.100415: 100%|██████████| 1110/1110 [15:39<00:00,  1.18it/s]\n"
          ]
        },
        {
          "output_type": "stream",
          "name": "stdout",
          "text": [
            "Epoch 4/100\n"
          ]
        },
        {
          "output_type": "stream",
          "name": "stderr",
          "text": [
            "[Init Training G] content loss: 1.946512: 100%|██████████| 1110/1110 [15:38<00:00,  1.18it/s]\n"
          ]
        },
        {
          "output_type": "stream",
          "name": "stdout",
          "text": [
            "Epoch 5/100\n"
          ]
        },
        {
          "output_type": "stream",
          "name": "stderr",
          "text": [
            "\r  0%|          | 0/1110 [00:00<?, ?it/s]"
          ]
        },
        {
          "output_type": "stream",
          "name": "stdout",
          "text": [
            "Epoch 6/100\n"
          ]
        },
        {
          "output_type": "stream",
          "name": "stderr",
          "text": [
            "\n",
            "  0%|          | 0/1110 [00:00<?, ?it/s]\n"
          ]
        },
        {
          "output_type": "stream",
          "name": "stdout",
          "text": [
            "Epoch 7/100\n"
          ]
        },
        {
          "output_type": "stream",
          "name": "stderr",
          "text": [
            "  0%|          | 0/1110 [00:00<?, ?it/s]\n"
          ]
        },
        {
          "output_type": "stream",
          "name": "stdout",
          "text": [
            "Epoch 8/100\n"
          ]
        },
        {
          "output_type": "stream",
          "name": "stderr",
          "text": [
            "\n",
            "  0%|          | 0/1110 [00:00<?, ?it/s]\n"
          ]
        },
        {
          "output_type": "stream",
          "name": "stdout",
          "text": [
            "Epoch 9/100\n"
          ]
        },
        {
          "output_type": "stream",
          "name": "stderr",
          "text": [
            "  0%|          | 0/1110 [00:00<?, ?it/s]\n"
          ]
        },
        {
          "output_type": "stream",
          "name": "stdout",
          "text": [
            "Epoch 10/100\n"
          ]
        },
        {
          "output_type": "stream",
          "name": "stderr",
          "text": [
            "\n",
            "  0%|          | 0/1110 [00:00<?, ?it/s]\n"
          ]
        },
        {
          "output_type": "stream",
          "name": "stdout",
          "text": [
            "Epoch 11/100\n"
          ]
        },
        {
          "output_type": "stream",
          "name": "stderr",
          "text": [
            "  0%|          | 0/1110 [00:00<?, ?it/s]\n"
          ]
        },
        {
          "output_type": "stream",
          "name": "stdout",
          "text": [
            "Epoch 12/100\n"
          ]
        },
        {
          "output_type": "stream",
          "name": "stderr",
          "text": [
            "\n",
            "  0%|          | 0/1110 [00:00<?, ?it/s]\n"
          ]
        },
        {
          "output_type": "stream",
          "name": "stdout",
          "text": [
            "Epoch 13/100\n"
          ]
        },
        {
          "output_type": "stream",
          "name": "stderr",
          "text": [
            "  0%|          | 0/1110 [00:00<?, ?it/s]\n"
          ]
        },
        {
          "output_type": "stream",
          "name": "stdout",
          "text": [
            "Epoch 14/100\n"
          ]
        },
        {
          "output_type": "stream",
          "name": "stderr",
          "text": [
            "\n",
            "  0%|          | 0/1110 [00:00<?, ?it/s]\n"
          ]
        },
        {
          "output_type": "stream",
          "name": "stdout",
          "text": [
            "Epoch 15/100\n"
          ]
        },
        {
          "output_type": "stream",
          "name": "stderr",
          "text": [
            "  0%|          | 0/1110 [00:00<?, ?it/s]\n"
          ]
        },
        {
          "output_type": "stream",
          "name": "stdout",
          "text": [
            "Epoch 16/100\n"
          ]
        },
        {
          "output_type": "stream",
          "name": "stderr",
          "text": [
            "\n",
            "  0%|          | 0/1110 [00:00<?, ?it/s]\n"
          ]
        },
        {
          "output_type": "stream",
          "name": "stdout",
          "text": [
            "Epoch 17/100\n"
          ]
        },
        {
          "output_type": "stream",
          "name": "stderr",
          "text": [
            "  0%|          | 0/1110 [00:00<?, ?it/s]\n"
          ]
        },
        {
          "output_type": "stream",
          "name": "stdout",
          "text": [
            "Epoch 18/100\n"
          ]
        },
        {
          "output_type": "stream",
          "name": "stderr",
          "text": [
            "\n",
            "  0%|          | 0/1110 [00:00<?, ?it/s]\n"
          ]
        },
        {
          "output_type": "stream",
          "name": "stdout",
          "text": [
            "Epoch 19/100\n"
          ]
        },
        {
          "output_type": "stream",
          "name": "stderr",
          "text": [
            "\r  0%|          | 0/1110 [00:00<?, ?it/s]"
          ]
        },
        {
          "output_type": "stream",
          "name": "stdout",
          "text": [
            "Epoch 20/100\n"
          ]
        },
        {
          "output_type": "stream",
          "name": "stderr",
          "text": [
            "\n",
            "\n",
            "  0%|          | 0/1110 [00:00<?, ?it/s]\n"
          ]
        },
        {
          "output_type": "stream",
          "name": "stdout",
          "text": [
            "Epoch 21/100\n"
          ]
        },
        {
          "output_type": "stream",
          "name": "stderr",
          "text": [
            "  0%|          | 0/1110 [00:00<?, ?it/s]\n"
          ]
        },
        {
          "output_type": "stream",
          "name": "stdout",
          "text": [
            "Epoch 22/100\n"
          ]
        },
        {
          "output_type": "stream",
          "name": "stderr",
          "text": [
            "\n",
            "\n",
            "  0%|          | 0/1110 [00:00<?, ?it/s]\n"
          ]
        },
        {
          "output_type": "stream",
          "name": "stdout",
          "text": [
            "Epoch 23/100\n"
          ]
        },
        {
          "output_type": "stream",
          "name": "stderr",
          "text": [
            "  0%|          | 0/1110 [00:00<?, ?it/s]\n"
          ]
        },
        {
          "output_type": "stream",
          "name": "stdout",
          "text": [
            "Epoch 24/100\n"
          ]
        },
        {
          "output_type": "stream",
          "name": "stderr",
          "text": [
            "\n",
            "\n",
            "  0%|          | 0/1110 [00:00<?, ?it/s]\n"
          ]
        },
        {
          "output_type": "stream",
          "name": "stdout",
          "text": [
            "Epoch 25/100\n"
          ]
        },
        {
          "output_type": "stream",
          "name": "stderr",
          "text": [
            "  0%|          | 0/1110 [00:00<?, ?it/s]\n"
          ]
        },
        {
          "output_type": "stream",
          "name": "stdout",
          "text": [
            "Epoch 26/100\n"
          ]
        },
        {
          "output_type": "stream",
          "name": "stderr",
          "text": [
            "\n",
            "\n",
            "  0%|          | 0/1110 [00:00<?, ?it/s]\n"
          ]
        },
        {
          "output_type": "stream",
          "name": "stdout",
          "text": [
            "Epoch 27/100\n"
          ]
        },
        {
          "output_type": "stream",
          "name": "stderr",
          "text": [
            "  0%|          | 0/1110 [00:00<?, ?it/s]\n"
          ]
        },
        {
          "output_type": "stream",
          "name": "stdout",
          "text": [
            "Epoch 28/100\n"
          ]
        },
        {
          "output_type": "stream",
          "name": "stderr",
          "text": [
            "\n",
            "\n",
            "  0%|          | 0/1110 [00:00<?, ?it/s]\n"
          ]
        },
        {
          "output_type": "stream",
          "name": "stdout",
          "text": [
            "Epoch 29/100\n"
          ]
        },
        {
          "output_type": "stream",
          "name": "stderr",
          "text": [
            "  0%|          | 0/1110 [00:00<?, ?it/s]\n"
          ]
        },
        {
          "output_type": "stream",
          "name": "stdout",
          "text": [
            "Epoch 30/100\n"
          ]
        },
        {
          "output_type": "stream",
          "name": "stderr",
          "text": [
            "\n",
            "\n",
            "  0%|          | 0/1110 [00:00<?, ?it/s]\n"
          ]
        },
        {
          "output_type": "stream",
          "name": "stdout",
          "text": [
            "Epoch 31/100\n"
          ]
        },
        {
          "output_type": "stream",
          "name": "stderr",
          "text": [
            "  0%|          | 0/1110 [00:00<?, ?it/s]\n"
          ]
        },
        {
          "output_type": "stream",
          "name": "stdout",
          "text": [
            "Epoch 32/100\n"
          ]
        },
        {
          "output_type": "stream",
          "name": "stderr",
          "text": [
            "\n",
            "\n",
            "  0%|          | 0/1110 [00:00<?, ?it/s]\n"
          ]
        },
        {
          "output_type": "stream",
          "name": "stdout",
          "text": [
            "Epoch 33/100\n"
          ]
        },
        {
          "output_type": "stream",
          "name": "stderr",
          "text": [
            "  0%|          | 0/1110 [00:00<?, ?it/s]\n"
          ]
        },
        {
          "output_type": "stream",
          "name": "stdout",
          "text": [
            "Epoch 34/100\n"
          ]
        },
        {
          "output_type": "stream",
          "name": "stderr",
          "text": [
            "\n",
            "\n",
            "  0%|          | 0/1110 [00:00<?, ?it/s]\n"
          ]
        },
        {
          "output_type": "stream",
          "name": "stdout",
          "text": [
            "Epoch 35/100\n"
          ]
        },
        {
          "output_type": "stream",
          "name": "stderr",
          "text": [
            "  0%|          | 0/1110 [00:00<?, ?it/s]\n"
          ]
        },
        {
          "output_type": "stream",
          "name": "stdout",
          "text": [
            "Epoch 36/100\n"
          ]
        },
        {
          "output_type": "stream",
          "name": "stderr",
          "text": [
            "\n",
            "\n",
            "  0%|          | 0/1110 [00:00<?, ?it/s]\n"
          ]
        },
        {
          "output_type": "stream",
          "name": "stdout",
          "text": [
            "Epoch 37/100\n"
          ]
        },
        {
          "output_type": "stream",
          "name": "stderr",
          "text": [
            "  0%|          | 0/1110 [00:00<?, ?it/s]\n"
          ]
        },
        {
          "output_type": "stream",
          "name": "stdout",
          "text": [
            "Epoch 38/100\n"
          ]
        },
        {
          "output_type": "stream",
          "name": "stderr",
          "text": [
            "\n",
            "\n",
            "  0%|          | 0/1110 [00:00<?, ?it/s]\n"
          ]
        },
        {
          "output_type": "stream",
          "name": "stdout",
          "text": [
            "Epoch 39/100\n"
          ]
        },
        {
          "output_type": "stream",
          "name": "stderr",
          "text": [
            "  0%|          | 0/1110 [00:00<?, ?it/s]\n"
          ]
        },
        {
          "output_type": "stream",
          "name": "stdout",
          "text": [
            "Epoch 40/100\n"
          ]
        },
        {
          "output_type": "stream",
          "name": "stderr",
          "text": [
            "\n",
            "\n",
            "  0%|          | 0/1110 [00:00<?, ?it/s]\n"
          ]
        },
        {
          "output_type": "stream",
          "name": "stdout",
          "text": [
            "Epoch 41/100\n"
          ]
        },
        {
          "output_type": "stream",
          "name": "stderr",
          "text": [
            "  0%|          | 0/1110 [00:00<?, ?it/s]\n"
          ]
        },
        {
          "output_type": "stream",
          "name": "stdout",
          "text": [
            "Epoch 42/100\n"
          ]
        },
        {
          "output_type": "stream",
          "name": "stderr",
          "text": [
            "\n",
            "\n",
            "  0%|          | 0/1110 [00:00<?, ?it/s]\n"
          ]
        },
        {
          "output_type": "stream",
          "name": "stdout",
          "text": [
            "Epoch 43/100\n"
          ]
        },
        {
          "output_type": "stream",
          "name": "stderr",
          "text": [
            "  0%|          | 0/1110 [00:00<?, ?it/s]\n",
            "  0%|          | 0/1110 [00:00<?, ?it/s]\n"
          ]
        },
        {
          "output_type": "stream",
          "name": "stdout",
          "text": [
            "Epoch 44/100\n"
          ]
        },
        {
          "output_type": "stream",
          "name": "stderr",
          "text": [
            "\n",
            "  0%|          | 0/1110 [00:00<?, ?it/s]\u001b[A"
          ]
        },
        {
          "output_type": "stream",
          "name": "stdout",
          "text": [
            "Epoch 45/100\n"
          ]
        },
        {
          "output_type": "stream",
          "name": "stderr",
          "text": [
            "\n",
            "\n",
            "  0%|          | 0/1110 [00:00<?, ?it/s]\n"
          ]
        },
        {
          "output_type": "stream",
          "name": "stdout",
          "text": [
            "Epoch 46/100\n"
          ]
        },
        {
          "output_type": "stream",
          "name": "stderr",
          "text": [
            "\n",
            "  0%|          | 0/1110 [00:00<?, ?it/s]\n"
          ]
        },
        {
          "output_type": "stream",
          "name": "stdout",
          "text": [
            "Epoch 47/100\n"
          ]
        },
        {
          "output_type": "stream",
          "name": "stderr",
          "text": [
            "\n",
            "\n",
            "  0%|          | 0/1110 [00:00<?, ?it/s]\n"
          ]
        },
        {
          "output_type": "stream",
          "name": "stdout",
          "text": [
            "Epoch 48/100\n"
          ]
        },
        {
          "output_type": "stream",
          "name": "stderr",
          "text": [
            "\n",
            "  0%|          | 0/1110 [00:00<?, ?it/s]\n"
          ]
        },
        {
          "output_type": "stream",
          "name": "stdout",
          "text": [
            "Epoch 49/100\n"
          ]
        },
        {
          "output_type": "stream",
          "name": "stderr",
          "text": [
            "\n",
            "\n",
            "  0%|          | 0/1110 [00:00<?, ?it/s]\n"
          ]
        },
        {
          "output_type": "stream",
          "name": "stdout",
          "text": [
            "Epoch 50/100\n"
          ]
        },
        {
          "output_type": "stream",
          "name": "stderr",
          "text": [
            "\n",
            "  0%|          | 0/1110 [00:00<?, ?it/s]\n"
          ]
        },
        {
          "output_type": "stream",
          "name": "stdout",
          "text": [
            "Epoch 51/100\n"
          ]
        },
        {
          "output_type": "stream",
          "name": "stderr",
          "text": [
            "\n",
            "\n",
            "  0%|          | 0/1110 [00:00<?, ?it/s]\n"
          ]
        },
        {
          "output_type": "stream",
          "name": "stdout",
          "text": [
            "Epoch 52/100\n"
          ]
        },
        {
          "output_type": "stream",
          "name": "stderr",
          "text": [
            "\n",
            "  0%|          | 0/1110 [00:00<?, ?it/s]\n"
          ]
        },
        {
          "output_type": "stream",
          "name": "stdout",
          "text": [
            "Epoch 53/100\n"
          ]
        },
        {
          "output_type": "stream",
          "name": "stderr",
          "text": [
            "\n",
            "\n",
            "  0%|          | 0/1110 [00:00<?, ?it/s]\n"
          ]
        },
        {
          "output_type": "stream",
          "name": "stdout",
          "text": [
            "Epoch 54/100\n"
          ]
        },
        {
          "output_type": "stream",
          "name": "stderr",
          "text": [
            "\n",
            "  0%|          | 0/1110 [00:00<?, ?it/s]\n"
          ]
        },
        {
          "output_type": "stream",
          "name": "stdout",
          "text": [
            "Epoch 55/100\n"
          ]
        },
        {
          "output_type": "stream",
          "name": "stderr",
          "text": [
            "\n",
            "\n",
            "  0%|          | 0/1110 [00:00<?, ?it/s]\n"
          ]
        },
        {
          "output_type": "stream",
          "name": "stdout",
          "text": [
            "Epoch 56/100\n"
          ]
        },
        {
          "output_type": "stream",
          "name": "stderr",
          "text": [
            "\n",
            "  0%|          | 0/1110 [00:00<?, ?it/s]\n"
          ]
        },
        {
          "output_type": "stream",
          "name": "stdout",
          "text": [
            "Epoch 57/100\n"
          ]
        },
        {
          "output_type": "stream",
          "name": "stderr",
          "text": [
            "\n",
            "\n",
            "  0%|          | 0/1110 [00:00<?, ?it/s]\n"
          ]
        },
        {
          "output_type": "stream",
          "name": "stdout",
          "text": [
            "Epoch 58/100\n"
          ]
        },
        {
          "output_type": "stream",
          "name": "stderr",
          "text": [
            "\n",
            "  0%|          | 0/1110 [00:00<?, ?it/s]\n"
          ]
        },
        {
          "output_type": "stream",
          "name": "stdout",
          "text": [
            "Epoch 59/100\n"
          ]
        },
        {
          "output_type": "stream",
          "name": "stderr",
          "text": [
            "\n",
            "\n",
            "  0%|          | 0/1110 [00:00<?, ?it/s]\n"
          ]
        },
        {
          "output_type": "stream",
          "name": "stdout",
          "text": [
            "Epoch 60/100\n"
          ]
        },
        {
          "output_type": "stream",
          "name": "stderr",
          "text": [
            "\n",
            "  0%|          | 0/1110 [00:00<?, ?it/s]\n"
          ]
        },
        {
          "output_type": "stream",
          "name": "stdout",
          "text": [
            "Epoch 61/100\n"
          ]
        },
        {
          "output_type": "stream",
          "name": "stderr",
          "text": [
            "\n",
            "\n",
            "  0%|          | 0/1110 [00:00<?, ?it/s]\n"
          ]
        },
        {
          "output_type": "stream",
          "name": "stdout",
          "text": [
            "Epoch 62/100\n"
          ]
        },
        {
          "output_type": "stream",
          "name": "stderr",
          "text": [
            "\n",
            "  0%|          | 0/1110 [00:00<?, ?it/s]\n",
            "  0%|          | 0/1110 [00:00<?, ?it/s]"
          ]
        },
        {
          "output_type": "stream",
          "name": "stdout",
          "text": [
            "Epoch 63/100\n"
          ]
        },
        {
          "output_type": "stream",
          "name": "stderr",
          "text": [
            "\n",
            "\n",
            "\n",
            "  0%|          | 0/1110 [00:00<?, ?it/s]\u001b[A\u001b[A"
          ]
        },
        {
          "output_type": "stream",
          "name": "stdout",
          "text": [
            "Epoch 64/100\n"
          ]
        },
        {
          "output_type": "stream",
          "name": "stderr",
          "text": [
            "  0%|          | 0/1110 [00:00<?, ?it/s]\n"
          ]
        },
        {
          "output_type": "stream",
          "name": "stdout",
          "text": [
            "Epoch 65/100\n"
          ]
        },
        {
          "output_type": "stream",
          "name": "stderr",
          "text": [
            "\n",
            "\n",
            "  0%|          | 0/1110 [00:00<?, ?it/s]\n"
          ]
        },
        {
          "output_type": "stream",
          "name": "stdout",
          "text": [
            "Epoch 66/100\n"
          ]
        },
        {
          "output_type": "stream",
          "name": "stderr",
          "text": [
            "  0%|          | 0/1110 [00:00<?, ?it/s]\n"
          ]
        },
        {
          "output_type": "stream",
          "name": "stdout",
          "text": [
            "Epoch 67/100\n"
          ]
        },
        {
          "output_type": "stream",
          "name": "stderr",
          "text": [
            "\n",
            "\n",
            "  0%|          | 0/1110 [00:00<?, ?it/s]\n"
          ]
        },
        {
          "output_type": "stream",
          "name": "stdout",
          "text": [
            "Epoch 68/100\n"
          ]
        },
        {
          "output_type": "stream",
          "name": "stderr",
          "text": [
            "  0%|          | 0/1110 [00:00<?, ?it/s]\n"
          ]
        },
        {
          "output_type": "stream",
          "name": "stdout",
          "text": [
            "Epoch 69/100\n"
          ]
        },
        {
          "output_type": "stream",
          "name": "stderr",
          "text": [
            "\n",
            "\n",
            "  0%|          | 0/1110 [00:00<?, ?it/s]\n"
          ]
        },
        {
          "output_type": "stream",
          "name": "stdout",
          "text": [
            "Epoch 70/100\n"
          ]
        },
        {
          "output_type": "stream",
          "name": "stderr",
          "text": [
            "  0%|          | 0/1110 [00:00<?, ?it/s]\n"
          ]
        },
        {
          "output_type": "stream",
          "name": "stdout",
          "text": [
            "Epoch 71/100\n"
          ]
        },
        {
          "output_type": "stream",
          "name": "stderr",
          "text": [
            "\n",
            "\n",
            "  0%|          | 0/1110 [00:00<?, ?it/s]\n"
          ]
        },
        {
          "output_type": "stream",
          "name": "stdout",
          "text": [
            "Epoch 72/100\n"
          ]
        },
        {
          "output_type": "stream",
          "name": "stderr",
          "text": [
            "  0%|          | 0/1110 [00:00<?, ?it/s]\n"
          ]
        },
        {
          "output_type": "stream",
          "name": "stdout",
          "text": [
            "Epoch 73/100\n"
          ]
        },
        {
          "output_type": "stream",
          "name": "stderr",
          "text": [
            "\n",
            "\n",
            "  0%|          | 0/1110 [00:00<?, ?it/s]\n"
          ]
        },
        {
          "output_type": "stream",
          "name": "stdout",
          "text": [
            "Epoch 74/100\n"
          ]
        },
        {
          "output_type": "stream",
          "name": "stderr",
          "text": [
            "  0%|          | 0/1110 [00:00<?, ?it/s]\n"
          ]
        },
        {
          "output_type": "stream",
          "name": "stdout",
          "text": [
            "Epoch 75/100\n"
          ]
        },
        {
          "output_type": "stream",
          "name": "stderr",
          "text": [
            "\n",
            "\n",
            "  0%|          | 0/1110 [00:00<?, ?it/s]\n"
          ]
        },
        {
          "output_type": "stream",
          "name": "stdout",
          "text": [
            "Epoch 76/100\n"
          ]
        },
        {
          "output_type": "stream",
          "name": "stderr",
          "text": [
            "  0%|          | 0/1110 [00:00<?, ?it/s]\n"
          ]
        },
        {
          "output_type": "stream",
          "name": "stdout",
          "text": [
            "Epoch 77/100\n"
          ]
        },
        {
          "output_type": "stream",
          "name": "stderr",
          "text": [
            "\n",
            "\n",
            "  0%|          | 0/1110 [00:00<?, ?it/s]\n"
          ]
        },
        {
          "output_type": "stream",
          "name": "stdout",
          "text": [
            "Epoch 78/100\n"
          ]
        },
        {
          "output_type": "stream",
          "name": "stderr",
          "text": [
            "  0%|          | 0/1110 [00:00<?, ?it/s]\n"
          ]
        },
        {
          "output_type": "stream",
          "name": "stdout",
          "text": [
            "Epoch 79/100\n"
          ]
        },
        {
          "output_type": "stream",
          "name": "stderr",
          "text": [
            "\n",
            "\n",
            "  0%|          | 0/1110 [00:00<?, ?it/s]\n"
          ]
        },
        {
          "output_type": "stream",
          "name": "stdout",
          "text": [
            "Epoch 80/100\n"
          ]
        },
        {
          "output_type": "stream",
          "name": "stderr",
          "text": [
            "  0%|          | 0/1110 [00:00<?, ?it/s]\n"
          ]
        },
        {
          "output_type": "stream",
          "name": "stdout",
          "text": [
            "Epoch 81/100\n"
          ]
        },
        {
          "output_type": "stream",
          "name": "stderr",
          "text": [
            "\n",
            "\n",
            "  0%|          | 0/1110 [00:00<?, ?it/s]\n"
          ]
        },
        {
          "output_type": "stream",
          "name": "stdout",
          "text": [
            "Epoch 82/100\n"
          ]
        },
        {
          "output_type": "stream",
          "name": "stderr",
          "text": [
            "  0%|          | 0/1110 [00:00<?, ?it/s]\n"
          ]
        },
        {
          "output_type": "stream",
          "name": "stdout",
          "text": [
            "Epoch 83/100\n"
          ]
        },
        {
          "output_type": "stream",
          "name": "stderr",
          "text": [
            "\n",
            "\n",
            "  0%|          | 0/1110 [00:00<?, ?it/s]\n"
          ]
        },
        {
          "output_type": "stream",
          "name": "stdout",
          "text": [
            "Epoch 84/100\n"
          ]
        },
        {
          "output_type": "stream",
          "name": "stderr",
          "text": [
            "  0%|          | 0/1110 [00:00<?, ?it/s]\n"
          ]
        },
        {
          "output_type": "stream",
          "name": "stdout",
          "text": [
            "Epoch 85/100\n"
          ]
        },
        {
          "output_type": "stream",
          "name": "stderr",
          "text": [
            "\n",
            "\n",
            "  0%|          | 0/1110 [00:00<?, ?it/s]\n"
          ]
        },
        {
          "output_type": "stream",
          "name": "stdout",
          "text": [
            "Epoch 86/100\n"
          ]
        },
        {
          "output_type": "stream",
          "name": "stderr",
          "text": [
            "  0%|          | 0/1110 [00:00<?, ?it/s]\n",
            "  0%|          | 0/1110 [00:00<?, ?it/s]\n"
          ]
        },
        {
          "output_type": "stream",
          "name": "stdout",
          "text": [
            "Epoch 87/100\n"
          ]
        },
        {
          "output_type": "stream",
          "name": "stderr",
          "text": [
            "\n",
            "  0%|          | 0/1110 [00:00<?, ?it/s]\u001b[A"
          ]
        },
        {
          "output_type": "stream",
          "name": "stdout",
          "text": [
            "Epoch 88/100\n"
          ]
        },
        {
          "output_type": "stream",
          "name": "stderr",
          "text": [
            "\n",
            "\n",
            "  0%|          | 0/1110 [00:00<?, ?it/s]\n"
          ]
        },
        {
          "output_type": "stream",
          "name": "stdout",
          "text": [
            "Epoch 89/100\n"
          ]
        },
        {
          "output_type": "stream",
          "name": "stderr",
          "text": [
            "\n",
            "  0%|          | 0/1110 [00:00<?, ?it/s]\n"
          ]
        },
        {
          "output_type": "stream",
          "name": "stdout",
          "text": [
            "Epoch 90/100\n"
          ]
        },
        {
          "output_type": "stream",
          "name": "stderr",
          "text": [
            "\n",
            "\n",
            "  0%|          | 0/1110 [00:00<?, ?it/s]\n"
          ]
        },
        {
          "output_type": "stream",
          "name": "stdout",
          "text": [
            "Epoch 91/100\n"
          ]
        },
        {
          "output_type": "stream",
          "name": "stderr",
          "text": [
            "\n",
            "  0%|          | 0/1110 [00:00<?, ?it/s]\n"
          ]
        },
        {
          "output_type": "stream",
          "name": "stdout",
          "text": [
            "Epoch 92/100\n"
          ]
        },
        {
          "output_type": "stream",
          "name": "stderr",
          "text": [
            "\n",
            "\n",
            "  0%|          | 0/1110 [00:00<?, ?it/s]\n"
          ]
        },
        {
          "output_type": "stream",
          "name": "stdout",
          "text": [
            "Epoch 93/100\n"
          ]
        },
        {
          "output_type": "stream",
          "name": "stderr",
          "text": [
            "\n",
            "  0%|          | 0/1110 [00:00<?, ?it/s]\n"
          ]
        },
        {
          "output_type": "stream",
          "name": "stdout",
          "text": [
            "Epoch 94/100\n"
          ]
        },
        {
          "output_type": "stream",
          "name": "stderr",
          "text": [
            "\n",
            "\n",
            "  0%|          | 0/1110 [00:00<?, ?it/s]\n"
          ]
        },
        {
          "output_type": "stream",
          "name": "stdout",
          "text": [
            "Epoch 95/100\n"
          ]
        },
        {
          "output_type": "stream",
          "name": "stderr",
          "text": [
            "\n",
            "  0%|          | 0/1110 [00:00<?, ?it/s]\n"
          ]
        },
        {
          "output_type": "stream",
          "name": "stdout",
          "text": [
            "Epoch 96/100\n"
          ]
        },
        {
          "output_type": "stream",
          "name": "stderr",
          "text": [
            "\n",
            "\n",
            "  0%|          | 0/1110 [00:00<?, ?it/s]\n"
          ]
        },
        {
          "output_type": "stream",
          "name": "stdout",
          "text": [
            "Epoch 97/100\n"
          ]
        },
        {
          "output_type": "stream",
          "name": "stderr",
          "text": [
            "\n",
            "  0%|          | 0/1110 [00:00<?, ?it/s]\n"
          ]
        },
        {
          "output_type": "stream",
          "name": "stdout",
          "text": [
            "Epoch 98/100\n"
          ]
        },
        {
          "output_type": "stream",
          "name": "stderr",
          "text": [
            "\n",
            "\n",
            "  0%|          | 0/1110 [00:00<?, ?it/s]\n"
          ]
        },
        {
          "output_type": "stream",
          "name": "stdout",
          "text": [
            "Epoch 99/100\n"
          ]
        },
        {
          "output_type": "stream",
          "name": "stderr",
          "text": [
            "\n",
            "  0%|          | 0/1110 [00:00<?, ?it/s]\n",
            "  0%|          | 0/1110 [00:00<?, ?it/s]\n",
            "\n",
            "loss G: adv 77.800285 con 2.485363 gram 0.023013 color 10.121670 / loss D: 20.779772:   0%|          | 0/1110 [00:03<?, ?it/s]\u001b[A\n",
            "loss G: adv 77.800285 con 2.485363 gram 0.023013 color 10.121670 / loss D: 20.779772:   0%|          | 1/1110 [00:03<1:10:30,  3.82s/it]\u001b[A\n",
            "loss G: adv 46.107111 con 3.287941 gram 0.021086 color 10.845865 / loss D: 88.351609:   0%|          | 1/1110 [00:07<1:10:30,  3.82s/it]\u001b[A\n",
            "loss G: adv 46.107111 con 3.287941 gram 0.021086 color 10.845865 / loss D: 88.351609:   0%|          | 2/1110 [00:07<1:07:02,  3.63s/it]\u001b[A\n",
            "loss G: adv 34.599005 con 3.498938 gram 0.019883 color 10.072534 / loss D: 69.686177:   0%|          | 2/1110 [00:10<1:07:02,  3.63s/it]\u001b[A\n",
            "loss G: adv 34.599005 con 3.498938 gram 0.019883 color 10.072534 / loss D: 69.686177:   0%|          | 3/1110 [00:10<1:05:52,  3.57s/it]\u001b[A\n",
            "loss G: adv 28.374017 con 3.703124 gram 0.022452 color 9.883547 / loss D: 59.638818:   0%|          | 3/1110 [00:14<1:05:52,  3.57s/it] \u001b[A\n",
            "loss G: adv 28.374017 con 3.703124 gram 0.022452 color 9.883547 / loss D: 59.638818:   0%|          | 4/1110 [00:14<1:05:19,  3.54s/it]\u001b[A\n",
            "loss G: adv 24.537291 con 3.825775 gram 0.021665 color 9.994803 / loss D: 52.906768:   0%|          | 4/1110 [00:17<1:05:19,  3.54s/it]\u001b[A\n",
            "loss G: adv 24.537291 con 3.825775 gram 0.021665 color 9.994803 / loss D: 52.906768:   0%|          | 5/1110 [00:17<1:04:57,  3.53s/it]\u001b[A\n",
            "loss G: adv 22.407240 con 3.791077 gram 0.022307 color 10.099949 / loss D: 47.884856:   0%|          | 5/1110 [00:21<1:04:57,  3.53s/it]\u001b[A\n",
            "loss G: adv 22.407240 con 3.791077 gram 0.022307 color 10.099949 / loss D: 47.884856:   1%|          | 6/1110 [00:21<1:04:44,  3.52s/it]\u001b[A\n",
            "loss G: adv 20.487293 con 3.773831 gram 0.023125 color 9.652111 / loss D: 44.424491:   1%|          | 6/1110 [00:24<1:04:44,  3.52s/it] \u001b[A\n",
            "loss G: adv 20.487293 con 3.773831 gram 0.023125 color 9.652111 / loss D: 44.424491:   1%|          | 7/1110 [00:24<1:04:34,  3.51s/it]\u001b[A\n",
            "loss G: adv 18.858300 con 3.806672 gram 0.022607 color 9.423698 / loss D: 41.310869:   1%|          | 7/1110 [00:28<1:04:34,  3.51s/it]\u001b[A\n",
            "loss G: adv 18.858300 con 3.806672 gram 0.022607 color 9.423698 / loss D: 41.310869:   1%|          | 8/1110 [00:28<1:04:28,  3.51s/it]\u001b[A\n",
            "loss G: adv 17.573058 con 3.822543 gram 0.022267 color 9.291109 / loss D: 38.470072:   1%|          | 8/1110 [00:31<1:04:28,  3.51s/it]\u001b[A\n",
            "loss G: adv 17.573058 con 3.822543 gram 0.022267 color 9.291109 / loss D: 38.470072:   1%|          | 9/1110 [00:31<1:04:22,  3.51s/it]\u001b[A\n",
            "loss G: adv 16.506643 con 3.793477 gram 0.021775 color 9.043639 / loss D: 36.063480:   1%|          | 9/1110 [00:35<1:04:22,  3.51s/it]\u001b[A\n",
            "loss G: adv 16.506643 con 3.793477 gram 0.021775 color 9.043639 / loss D: 36.063480:   1%|          | 10/1110 [00:35<1:04:17,  3.51s/it]\u001b[A\n",
            "loss G: adv 15.628958 con 3.785565 gram 0.021974 color 9.044242 / loss D: 34.083971:   1%|          | 10/1110 [00:38<1:04:17,  3.51s/it]\u001b[A\n",
            "loss G: adv 15.628958 con 3.785565 gram 0.021974 color 9.044242 / loss D: 34.083971:   1%|          | 11/1110 [00:38<1:04:13,  3.51s/it]\u001b[A\n",
            "loss G: adv 14.901984 con 3.788171 gram 0.021921 color 9.289367 / loss D: 32.397628:   1%|          | 11/1110 [00:42<1:04:13,  3.51s/it]\u001b[A\n",
            "loss G: adv 14.901984 con 3.788171 gram 0.021921 color 9.289367 / loss D: 32.397628:   1%|          | 12/1110 [00:42<1:04:05,  3.50s/it]\u001b[A\n",
            "loss G: adv 14.258088 con 3.777616 gram 0.021770 color 9.673708 / loss D: 30.958180:   1%|          | 12/1110 [00:45<1:04:05,  3.50s/it]\u001b[A\n",
            "loss G: adv 14.258088 con 3.777616 gram 0.021770 color 9.673708 / loss D: 30.958180:   1%|          | 13/1110 [00:45<1:04:01,  3.50s/it]\u001b[A\n",
            "loss G: adv 13.714998 con 3.806633 gram 0.022066 color 9.695202 / loss D: 29.690206:   1%|          | 13/1110 [00:49<1:04:01,  3.50s/it]\u001b[A\n",
            "loss G: adv 13.714998 con 3.806633 gram 0.022066 color 9.695202 / loss D: 29.690206:   1%|▏         | 14/1110 [00:49<1:03:57,  3.50s/it]\u001b[A\n",
            "loss G: adv 13.239239 con 3.801361 gram 0.022173 color 9.742156 / loss D: 28.590360:   1%|▏         | 14/1110 [00:52<1:03:57,  3.50s/it]\u001b[A\n",
            "loss G: adv 13.239239 con 3.801361 gram 0.022173 color 9.742156 / loss D: 28.590360:   1%|▏         | 15/1110 [00:52<1:03:53,  3.50s/it]\u001b[A\n",
            "loss G: adv 12.819251 con 3.780714 gram 0.021722 color 10.023709 / loss D: 27.594070:   1%|▏         | 15/1110 [00:56<1:03:53,  3.50s/it]\u001b[A\n",
            "loss G: adv 12.819251 con 3.780714 gram 0.021722 color 10.023709 / loss D: 27.594070:   1%|▏         | 16/1110 [00:56<1:03:49,  3.50s/it]\u001b[A\n",
            "loss G: adv 12.448564 con 3.765185 gram 0.021755 color 10.054897 / loss D: 26.692048:   1%|▏         | 16/1110 [00:59<1:03:49,  3.50s/it]\u001b[A\n",
            "loss G: adv 12.448564 con 3.765185 gram 0.021755 color 10.054897 / loss D: 26.692048:   2%|▏         | 17/1110 [00:59<1:03:47,  3.50s/it]\u001b[A\n",
            "loss G: adv 12.132136 con 3.759936 gram 0.021513 color 10.087888 / loss D: 25.928177:   2%|▏         | 17/1110 [01:03<1:03:47,  3.50s/it]\u001b[A\n",
            "loss G: adv 12.132136 con 3.759936 gram 0.021513 color 10.087888 / loss D: 25.928177:   2%|▏         | 18/1110 [01:03<1:03:42,  3.50s/it]\u001b[A\n",
            "loss G: adv 11.837419 con 3.737340 gram 0.021409 color 9.912129 / loss D: 25.244928:   2%|▏         | 18/1110 [01:06<1:03:42,  3.50s/it] \u001b[A\n",
            "loss G: adv 11.837419 con 3.737340 gram 0.021409 color 9.912129 / loss D: 25.244928:   2%|▏         | 19/1110 [01:06<1:03:37,  3.50s/it]\u001b[A\n",
            "loss G: adv 11.563909 con 3.692313 gram 0.021024 color 9.768319 / loss D: 24.591390:   2%|▏         | 19/1110 [01:10<1:03:37,  3.50s/it]\u001b[A\n",
            "loss G: adv 11.563909 con 3.692313 gram 0.021024 color 9.768319 / loss D: 24.591390:   2%|▏         | 20/1110 [01:10<1:03:33,  3.50s/it]\u001b[A\n",
            "loss G: adv 11.315627 con 3.671854 gram 0.020784 color 9.705453 / loss D: 23.992236:   2%|▏         | 20/1110 [01:13<1:03:33,  3.50s/it]\u001b[A\n",
            "loss G: adv 11.315627 con 3.671854 gram 0.020784 color 9.705453 / loss D: 23.992236:   2%|▏         | 21/1110 [01:13<1:03:30,  3.50s/it]\u001b[A\n",
            "loss G: adv 11.092782 con 3.663090 gram 0.020541 color 9.605645 / loss D: 23.460815:   2%|▏         | 21/1110 [01:17<1:03:30,  3.50s/it]\u001b[A\n",
            "loss G: adv 11.092782 con 3.663090 gram 0.020541 color 9.605645 / loss D: 23.460815:   2%|▏         | 22/1110 [01:17<1:03:26,  3.50s/it]\u001b[A\n",
            "loss G: adv 10.882623 con 3.631239 gram 0.020607 color 9.518086 / loss D: 22.945658:   2%|▏         | 22/1110 [01:20<1:03:26,  3.50s/it]\u001b[A\n",
            "loss G: adv 10.882623 con 3.631239 gram 0.020607 color 9.518086 / loss D: 22.945658:   2%|▏         | 23/1110 [01:20<1:03:22,  3.50s/it]\u001b[A\n",
            "loss G: adv 10.695318 con 3.624402 gram 0.020671 color 9.448280 / loss D: 22.483973:   2%|▏         | 23/1110 [01:24<1:03:22,  3.50s/it]\u001b[A\n",
            "loss G: adv 10.695318 con 3.624402 gram 0.020671 color 9.448280 / loss D: 22.483973:   2%|▏         | 24/1110 [01:24<1:03:19,  3.50s/it]\u001b[A\n",
            "loss G: adv 10.523366 con 3.609043 gram 0.021275 color 9.489380 / loss D: 22.044004:   2%|▏         | 24/1110 [01:27<1:03:19,  3.50s/it]\u001b[A\n",
            "loss G: adv 10.523366 con 3.609043 gram 0.021275 color 9.489380 / loss D: 22.044004:   2%|▏         | 25/1110 [01:27<1:03:16,  3.50s/it]\u001b[A\n",
            "loss G: adv 10.374974 con 3.614006 gram 0.021107 color 9.659953 / loss D: 21.646388:   2%|▏         | 25/1110 [01:31<1:03:16,  3.50s/it]\u001b[A\n",
            "loss G: adv 10.374974 con 3.614006 gram 0.021107 color 9.659953 / loss D: 21.646388:   2%|▏         | 26/1110 [01:31<1:03:12,  3.50s/it]\u001b[A\n",
            "loss G: adv 10.244457 con 3.603343 gram 0.021063 color 9.525970 / loss D: 21.287073:   2%|▏         | 26/1110 [01:34<1:03:12,  3.50s/it]\u001b[A\n",
            "loss G: adv 10.244457 con 3.603343 gram 0.021063 color 9.525970 / loss D: 21.287073:   2%|▏         | 27/1110 [01:34<1:03:12,  3.50s/it]\u001b[A\n",
            "loss G: adv 10.216914 con 3.586677 gram 0.020673 color 9.505857 / loss D: 20.984907:   2%|▏         | 27/1110 [01:38<1:03:12,  3.50s/it]\u001b[A\n",
            "loss G: adv 10.216914 con 3.586677 gram 0.020673 color 9.505857 / loss D: 20.984907:   3%|▎         | 28/1110 [01:38<1:03:08,  3.50s/it]\u001b[A\n",
            "loss G: adv 10.195509 con 3.569715 gram 0.020579 color 9.422462 / loss D: 20.857343:   3%|▎         | 28/1110 [01:41<1:03:08,  3.50s/it]\u001b[A\n",
            "loss G: adv 10.195509 con 3.569715 gram 0.020579 color 9.422462 / loss D: 20.857343:   3%|▎         | 29/1110 [01:41<1:03:06,  3.50s/it]\u001b[A\n",
            "loss G: adv 10.342589 con 3.539795 gram 0.020521 color 9.406425 / loss D: 20.829375:   3%|▎         | 29/1110 [01:45<1:03:06,  3.50s/it]\u001b[A\n",
            "loss G: adv 10.342589 con 3.539795 gram 0.020521 color 9.406425 / loss D: 20.829375:   3%|▎         | 30/1110 [01:45<1:02:59,  3.50s/it]\u001b[A\n",
            "loss G: adv 10.295586 con 3.528576 gram 0.020620 color 9.441863 / loss D: 21.011813:   3%|▎         | 30/1110 [01:48<1:02:59,  3.50s/it]\u001b[A\n",
            "loss G: adv 10.295586 con 3.528576 gram 0.020620 color 9.441863 / loss D: 21.011813:   3%|▎         | 31/1110 [01:48<1:02:51,  3.50s/it]\u001b[A\n",
            "loss G: adv 10.176733 con 3.524747 gram 0.020646 color 9.477817 / loss D: 20.923729:   3%|▎         | 31/1110 [01:52<1:02:51,  3.50s/it]\u001b[A\n",
            "loss G: adv 10.176733 con 3.524747 gram 0.020646 color 9.477817 / loss D: 20.923729:   3%|▎         | 32/1110 [01:52<1:02:51,  3.50s/it]\u001b[A\n",
            "loss G: adv 10.085311 con 3.515478 gram 0.020716 color 9.552111 / loss D: 20.693835:   3%|▎         | 32/1110 [01:55<1:02:51,  3.50s/it]\u001b[A\n",
            "loss G: adv 10.085311 con 3.515478 gram 0.020716 color 9.552111 / loss D: 20.693835:   3%|▎         | 33/1110 [01:55<1:02:45,  3.50s/it]\u001b[A\n",
            "loss G: adv 9.997171 con 3.507078 gram 0.020811 color 9.591582 / loss D: 20.472007:   3%|▎         | 33/1110 [01:59<1:02:45,  3.50s/it] \u001b[A\n",
            "loss G: adv 9.997171 con 3.507078 gram 0.020811 color 9.591582 / loss D: 20.472007:   3%|▎         | 34/1110 [01:59<1:02:44,  3.50s/it]\u001b[A\n",
            "loss G: adv 9.890756 con 3.501384 gram 0.020739 color 9.659542 / loss D: 20.270313:   3%|▎         | 34/1110 [02:02<1:02:44,  3.50s/it]\u001b[A\n",
            "loss G: adv 9.890756 con 3.501384 gram 0.020739 color 9.659542 / loss D: 20.270313:   3%|▎         | 35/1110 [02:02<1:02:39,  3.50s/it]\u001b[A\n",
            "loss G: adv 9.789596 con 3.499447 gram 0.020660 color 9.684217 / loss D: 20.041028:   3%|▎         | 35/1110 [02:06<1:02:39,  3.50s/it]\u001b[A\n",
            "loss G: adv 9.789596 con 3.499447 gram 0.020660 color 9.684217 / loss D: 20.041028:   3%|▎         | 36/1110 [02:06<1:02:31,  3.49s/it]\u001b[A\n",
            "loss G: adv 9.706651 con 3.485786 gram 0.020545 color 9.705800 / loss D: 19.828150:   3%|▎         | 36/1110 [02:09<1:02:31,  3.49s/it]\u001b[A\n",
            "loss G: adv 9.706651 con 3.485786 gram 0.020545 color 9.705800 / loss D: 19.828150:   3%|▎         | 37/1110 [02:09<1:02:26,  3.49s/it]\u001b[A\n",
            "loss G: adv 9.624340 con 3.484844 gram 0.020558 color 9.624076 / loss D: 19.613215:   3%|▎         | 37/1110 [02:13<1:02:26,  3.49s/it]\u001b[A\n",
            "loss G: adv 9.624340 con 3.484844 gram 0.020558 color 9.624076 / loss D: 19.613215:   3%|▎         | 38/1110 [02:13<1:02:21,  3.49s/it]\u001b[A\n",
            "loss G: adv 9.540237 con 3.479312 gram 0.020520 color 9.605152 / loss D: 19.401469:   3%|▎         | 38/1110 [02:16<1:02:21,  3.49s/it]\u001b[A\n",
            "loss G: adv 9.540237 con 3.479312 gram 0.020520 color 9.605152 / loss D: 19.401469:   4%|▎         | 39/1110 [02:16<1:02:18,  3.49s/it]\u001b[A\n",
            "loss G: adv 9.466535 con 3.473594 gram 0.020522 color 9.639970 / loss D: 19.209665:   4%|▎         | 39/1110 [02:20<1:02:18,  3.49s/it]\u001b[A\n",
            "loss G: adv 9.466535 con 3.473594 gram 0.020522 color 9.639970 / loss D: 19.209665:   4%|▎         | 40/1110 [02:20<1:02:14,  3.49s/it]\u001b[A\n",
            "loss G: adv 9.389835 con 3.465894 gram 0.020450 color 9.583821 / loss D: 19.010955:   4%|▎         | 40/1110 [02:23<1:02:14,  3.49s/it]\u001b[A\n",
            "loss G: adv 9.389835 con 3.465894 gram 0.020450 color 9.583821 / loss D: 19.010955:   4%|▎         | 41/1110 [02:23<1:02:09,  3.49s/it]\u001b[A\n",
            "loss G: adv 9.313821 con 3.453937 gram 0.020574 color 9.557536 / loss D: 18.817851:   4%|▎         | 41/1110 [02:27<1:02:09,  3.49s/it]\u001b[A\n",
            "loss G: adv 9.313821 con 3.453937 gram 0.020574 color 9.557536 / loss D: 18.817851:   4%|▍         | 42/1110 [02:27<1:02:07,  3.49s/it]\u001b[A\n",
            "loss G: adv 9.241608 con 3.450912 gram 0.020755 color 9.492179 / loss D: 18.624583:   4%|▍         | 42/1110 [02:30<1:02:07,  3.49s/it]\u001b[A\n",
            "loss G: adv 9.241608 con 3.450912 gram 0.020755 color 9.492179 / loss D: 18.624583:   4%|▍         | 43/1110 [02:30<1:02:01,  3.49s/it]\u001b[A\n",
            "loss G: adv 9.170248 con 3.443316 gram 0.020831 color 9.468554 / loss D: 18.440860:   4%|▍         | 43/1110 [02:34<1:02:01,  3.49s/it]\u001b[A\n",
            "loss G: adv 9.170248 con 3.443316 gram 0.020831 color 9.468554 / loss D: 18.440860:   4%|▍         | 44/1110 [02:34<1:01:58,  3.49s/it]\u001b[A\n",
            "loss G: adv 9.106291 con 3.431155 gram 0.020737 color 9.414055 / loss D: 18.264538:   4%|▍         | 44/1110 [02:37<1:01:58,  3.49s/it]\u001b[A\n",
            "loss G: adv 9.106291 con 3.431155 gram 0.020737 color 9.414055 / loss D: 18.264538:   4%|▍         | 45/1110 [02:37<1:01:53,  3.49s/it]\u001b[A\n",
            "loss G: adv 9.046014 con 3.425131 gram 0.021000 color 9.400595 / loss D: 18.094562:   4%|▍         | 45/1110 [02:41<1:01:53,  3.49s/it]\u001b[A\n",
            "loss G: adv 9.046014 con 3.425131 gram 0.021000 color 9.400595 / loss D: 18.094562:   4%|▍         | 46/1110 [02:41<1:01:49,  3.49s/it]\u001b[A\n",
            "loss G: adv 8.988143 con 3.423348 gram 0.021167 color 9.369291 / loss D: 17.932584:   4%|▍         | 46/1110 [02:44<1:01:49,  3.49s/it]\u001b[A\n",
            "loss G: adv 8.988143 con 3.423348 gram 0.021167 color 9.369291 / loss D: 17.932584:   4%|▍         | 47/1110 [02:44<1:01:48,  3.49s/it]\u001b[A\n",
            "loss G: adv 8.937931 con 3.411559 gram 0.020981 color 9.385074 / loss D: 17.769410:   4%|▍         | 47/1110 [02:48<1:01:48,  3.49s/it]\u001b[A\n",
            "loss G: adv 8.937931 con 3.411559 gram 0.020981 color 9.385074 / loss D: 17.769410:   4%|▍         | 48/1110 [02:48<1:01:48,  3.49s/it]\u001b[A\n",
            "loss G: adv 8.887076 con 3.403501 gram 0.021034 color 9.426571 / loss D: 17.616249:   4%|▍         | 48/1110 [02:51<1:01:48,  3.49s/it]\u001b[A\n",
            "loss G: adv 8.887076 con 3.403501 gram 0.021034 color 9.426571 / loss D: 17.616249:   4%|▍         | 49/1110 [02:51<1:01:46,  3.49s/it]\u001b[A\n",
            "loss G: adv 8.837634 con 3.391697 gram 0.021055 color 9.377252 / loss D: 17.480426:   4%|▍         | 49/1110 [02:55<1:01:46,  3.49s/it]\u001b[A\n",
            "loss G: adv 8.837634 con 3.391697 gram 0.021055 color 9.377252 / loss D: 17.480426:   5%|▍         | 50/1110 [02:55<1:01:42,  3.49s/it]\u001b[A\n",
            "loss G: adv 8.793829 con 3.380031 gram 0.021040 color 9.368121 / loss D: 17.353756:   5%|▍         | 50/1110 [02:58<1:01:42,  3.49s/it]\u001b[A\n",
            "loss G: adv 8.793829 con 3.380031 gram 0.021040 color 9.368121 / loss D: 17.353756:   5%|▍         | 51/1110 [02:58<1:01:39,  3.49s/it]\u001b[A\n",
            "loss G: adv 8.771796 con 3.379013 gram 0.021069 color 9.313910 / loss D: 17.237071:   5%|▍         | 51/1110 [03:02<1:01:39,  3.49s/it]\u001b[A\n",
            "loss G: adv 8.771796 con 3.379013 gram 0.021069 color 9.313910 / loss D: 17.237071:   5%|▍         | 52/1110 [03:02<1:01:38,  3.50s/it]\u001b[A\n",
            "loss G: adv 8.736458 con 3.365500 gram 0.021192 color 9.271062 / loss D: 17.140555:   5%|▍         | 52/1110 [03:05<1:01:38,  3.50s/it]\u001b[A\n",
            "loss G: adv 8.736458 con 3.365500 gram 0.021192 color 9.271062 / loss D: 17.140555:   5%|▍         | 53/1110 [03:05<1:01:37,  3.50s/it]\u001b[A\n",
            "loss G: adv 8.693936 con 3.367175 gram 0.021265 color 9.259085 / loss D: 17.029784:   5%|▍         | 53/1110 [03:09<1:01:37,  3.50s/it]\u001b[A\n",
            "loss G: adv 8.693936 con 3.367175 gram 0.021265 color 9.259085 / loss D: 17.029784:   5%|▍         | 54/1110 [03:09<1:01:34,  3.50s/it]\u001b[A\n",
            "loss G: adv 8.646819 con 3.359719 gram 0.021340 color 9.211392 / loss D: 16.912110:   5%|▍         | 54/1110 [03:12<1:01:34,  3.50s/it]\u001b[A\n",
            "loss G: adv 8.646819 con 3.359719 gram 0.021340 color 9.211392 / loss D: 16.912110:   5%|▍         | 55/1110 [03:12<1:01:32,  3.50s/it]\u001b[A\n",
            "loss G: adv 8.611097 con 3.357434 gram 0.021341 color 9.223107 / loss D: 16.799343:   5%|▍         | 55/1110 [03:16<1:01:32,  3.50s/it]\u001b[A\n",
            "loss G: adv 8.611097 con 3.357434 gram 0.021341 color 9.223107 / loss D: 16.799343:   5%|▌         | 56/1110 [03:16<1:01:27,  3.50s/it]\u001b[A\n",
            "loss G: adv 8.567034 con 3.352886 gram 0.021321 color 9.182555 / loss D: 16.703572:   5%|▌         | 56/1110 [03:19<1:01:27,  3.50s/it]\u001b[A\n",
            "loss G: adv 8.567034 con 3.352886 gram 0.021321 color 9.182555 / loss D: 16.703572:   5%|▌         | 57/1110 [03:19<1:01:25,  3.50s/it]\u001b[A\n",
            "loss G: adv 8.525102 con 3.354180 gram 0.021425 color 9.191530 / loss D: 16.595134:   5%|▌         | 57/1110 [03:23<1:01:25,  3.50s/it]\u001b[A\n",
            "loss G: adv 8.525102 con 3.354180 gram 0.021425 color 9.191530 / loss D: 16.595134:   5%|▌         | 58/1110 [03:23<1:01:22,  3.50s/it]\u001b[A\n",
            "loss G: adv 8.500846 con 3.346604 gram 0.021509 color 9.195023 / loss D: 16.499543:   5%|▌         | 58/1110 [03:26<1:01:22,  3.50s/it]\u001b[A\n",
            "loss G: adv 8.500846 con 3.346604 gram 0.021509 color 9.195023 / loss D: 16.499543:   5%|▌         | 59/1110 [03:26<1:01:18,  3.50s/it]\u001b[A\n",
            "loss G: adv 8.469946 con 3.338711 gram 0.021465 color 9.152884 / loss D: 16.408811:   5%|▌         | 59/1110 [03:30<1:01:18,  3.50s/it]\u001b[A\n",
            "loss G: adv 8.469946 con 3.338711 gram 0.021465 color 9.152884 / loss D: 16.408811:   5%|▌         | 60/1110 [03:30<1:01:14,  3.50s/it]\u001b[A\n",
            "loss G: adv 8.444899 con 3.332421 gram 0.021419 color 9.117323 / loss D: 16.322815:   5%|▌         | 60/1110 [03:33<1:01:14,  3.50s/it]\u001b[A\n",
            "loss G: adv 8.444899 con 3.332421 gram 0.021419 color 9.117323 / loss D: 16.322815:   5%|▌         | 61/1110 [03:33<1:01:11,  3.50s/it]\u001b[A\n",
            "loss G: adv 8.408708 con 3.329537 gram 0.021496 color 9.134468 / loss D: 16.241904:   5%|▌         | 61/1110 [03:37<1:01:11,  3.50s/it]\u001b[A\n",
            "loss G: adv 8.408708 con 3.329537 gram 0.021496 color 9.134468 / loss D: 16.241904:   6%|▌         | 62/1110 [03:37<1:01:06,  3.50s/it]\u001b[A\n",
            "loss G: adv 8.374941 con 3.322707 gram 0.021714 color 9.103237 / loss D: 16.145162:   6%|▌         | 62/1110 [03:40<1:01:06,  3.50s/it]\u001b[A\n",
            "loss G: adv 8.374941 con 3.322707 gram 0.021714 color 9.103237 / loss D: 16.145162:   6%|▌         | 63/1110 [03:40<1:01:03,  3.50s/it]\u001b[A\n",
            "loss G: adv 8.339793 con 3.320736 gram 0.021666 color 9.090145 / loss D: 16.046347:   6%|▌         | 63/1110 [03:44<1:01:03,  3.50s/it]\u001b[A\n",
            "loss G: adv 8.339793 con 3.320736 gram 0.021666 color 9.090145 / loss D: 16.046347:   6%|▌         | 64/1110 [03:44<1:01:01,  3.50s/it]\u001b[A\n",
            "loss G: adv 8.306509 con 3.328905 gram 0.021570 color 9.044256 / loss D: 15.944846:   6%|▌         | 64/1110 [03:47<1:01:01,  3.50s/it]\u001b[A\n",
            "loss G: adv 8.306509 con 3.328905 gram 0.021570 color 9.044256 / loss D: 15.944846:   6%|▌         | 65/1110 [03:47<1:00:58,  3.50s/it]\u001b[A\n",
            "loss G: adv 8.275182 con 3.329601 gram 0.021507 color 9.018603 / loss D: 15.848216:   6%|▌         | 65/1110 [03:51<1:00:58,  3.50s/it]\u001b[A\n",
            "loss G: adv 8.275182 con 3.329601 gram 0.021507 color 9.018603 / loss D: 15.848216:   6%|▌         | 66/1110 [03:51<1:00:55,  3.50s/it]\u001b[A\n",
            "loss G: adv 8.246795 con 3.326318 gram 0.021500 color 9.010975 / loss D: 15.748534:   6%|▌         | 66/1110 [03:54<1:00:55,  3.50s/it]\u001b[A\n",
            "loss G: adv 8.246795 con 3.326318 gram 0.021500 color 9.010975 / loss D: 15.748534:   6%|▌         | 67/1110 [03:54<1:00:53,  3.50s/it]\u001b[A\n",
            "loss G: adv 8.215159 con 3.320946 gram 0.021462 color 9.016464 / loss D: 15.660052:   6%|▌         | 67/1110 [03:58<1:00:53,  3.50s/it]\u001b[A\n",
            "loss G: adv 8.215159 con 3.320946 gram 0.021462 color 9.016464 / loss D: 15.660052:   6%|▌         | 68/1110 [03:58<1:00:50,  3.50s/it]\u001b[A\n",
            "loss G: adv 8.184927 con 3.320057 gram 0.021339 color 8.995460 / loss D: 15.569631:   6%|▌         | 68/1110 [04:01<1:00:50,  3.50s/it]\u001b[A\n",
            "loss G: adv 8.184927 con 3.320057 gram 0.021339 color 8.995460 / loss D: 15.569631:   6%|▌         | 69/1110 [04:01<1:00:45,  3.50s/it]\u001b[A\n",
            "loss G: adv 8.156905 con 3.319453 gram 0.021322 color 9.024199 / loss D: 15.488006:   6%|▌         | 69/1110 [04:05<1:00:45,  3.50s/it]\u001b[A\n",
            "loss G: adv 8.156905 con 3.319453 gram 0.021322 color 9.024199 / loss D: 15.488006:   6%|▋         | 70/1110 [04:05<1:00:41,  3.50s/it]\u001b[A\n",
            "loss G: adv 8.127900 con 3.314876 gram 0.021365 color 8.997185 / loss D: 15.402504:   6%|▋         | 70/1110 [04:08<1:00:41,  3.50s/it]\u001b[A\n",
            "loss G: adv 8.127900 con 3.314876 gram 0.021365 color 8.997185 / loss D: 15.402504:   6%|▋         | 71/1110 [04:08<1:00:37,  3.50s/it]\u001b[A\n",
            "loss G: adv 8.098169 con 3.311931 gram 0.021368 color 9.006195 / loss D: 15.322361:   6%|▋         | 71/1110 [04:12<1:00:37,  3.50s/it]\u001b[A\n",
            "loss G: adv 8.098169 con 3.311931 gram 0.021368 color 9.006195 / loss D: 15.322361:   6%|▋         | 72/1110 [04:12<1:00:34,  3.50s/it]\u001b[A\n",
            "loss G: adv 8.069312 con 3.312272 gram 0.021344 color 9.031811 / loss D: 15.245257:   6%|▋         | 72/1110 [04:15<1:00:34,  3.50s/it]\u001b[A\n",
            "loss G: adv 8.069312 con 3.312272 gram 0.021344 color 9.031811 / loss D: 15.245257:   7%|▋         | 73/1110 [04:15<1:00:29,  3.50s/it]\u001b[A\n",
            "loss G: adv 8.041507 con 3.309366 gram 0.021301 color 9.055745 / loss D: 15.157346:   7%|▋         | 73/1110 [04:19<1:00:29,  3.50s/it]\u001b[A\n",
            "loss G: adv 8.041507 con 3.309366 gram 0.021301 color 9.055745 / loss D: 15.157346:   7%|▋         | 74/1110 [04:19<1:00:25,  3.50s/it]\u001b[A\n",
            "loss G: adv 8.015086 con 3.308893 gram 0.021283 color 9.049858 / loss D: 15.084509:   7%|▋         | 74/1110 [04:22<1:00:25,  3.50s/it]\u001b[A\n",
            "loss G: adv 8.015086 con 3.308893 gram 0.021283 color 9.049858 / loss D: 15.084509:   7%|▋         | 75/1110 [04:22<1:00:22,  3.50s/it]\u001b[A\n",
            "loss G: adv 7.988514 con 3.304869 gram 0.021278 color 9.026559 / loss D: 15.016775:   7%|▋         | 75/1110 [04:26<1:00:22,  3.50s/it]\u001b[A\n",
            "loss G: adv 7.988514 con 3.304869 gram 0.021278 color 9.026559 / loss D: 15.016775:   7%|▋         | 76/1110 [04:26<1:00:17,  3.50s/it]\u001b[A\n",
            "loss G: adv 7.962534 con 3.300175 gram 0.021262 color 8.993264 / loss D: 14.941429:   7%|▋         | 76/1110 [04:29<1:00:17,  3.50s/it]\u001b[A\n",
            "loss G: adv 7.962534 con 3.300175 gram 0.021262 color 8.993264 / loss D: 14.941429:   7%|▋         | 77/1110 [04:29<1:00:15,  3.50s/it]\u001b[A\n",
            "loss G: adv 7.950900 con 3.296979 gram 0.021215 color 8.994515 / loss D: 14.867393:   7%|▋         | 77/1110 [04:33<1:00:15,  3.50s/it]\u001b[A\n",
            "loss G: adv 7.950900 con 3.296979 gram 0.021215 color 8.994515 / loss D: 14.867393:   7%|▋         | 78/1110 [04:33<1:00:11,  3.50s/it]\u001b[A\n",
            "loss G: adv 7.956105 con 3.294381 gram 0.021149 color 8.954178 / loss D: 14.808090:   7%|▋         | 78/1110 [04:36<1:00:11,  3.50s/it]\u001b[A\n",
            "loss G: adv 7.956105 con 3.294381 gram 0.021149 color 8.954178 / loss D: 14.808090:   7%|▋         | 79/1110 [04:36<1:00:06,  3.50s/it]\u001b[A\n",
            "loss G: adv 8.014699 con 3.297975 gram 0.021131 color 8.970357 / loss D: 14.826462:   7%|▋         | 79/1110 [04:40<1:00:06,  3.50s/it]\u001b[A\n",
            "loss G: adv 8.014699 con 3.297975 gram 0.021131 color 8.970357 / loss D: 14.826462:   7%|▋         | 80/1110 [04:40<59:59,  3.49s/it]  \u001b[A\n",
            "loss G: adv 8.087742 con 3.294151 gram 0.021209 color 8.995959 / loss D: 14.998786:   7%|▋         | 80/1110 [04:43<59:59,  3.49s/it]\u001b[A\n",
            "loss G: adv 8.087742 con 3.294151 gram 0.021209 color 8.995959 / loss D: 14.998786:   7%|▋         | 81/1110 [04:43<59:55,  3.49s/it]\u001b[A\n",
            "loss G: adv 8.124862 con 3.295253 gram 0.021260 color 9.020122 / loss D: 15.105454:   7%|▋         | 81/1110 [04:47<59:55,  3.49s/it]\u001b[A\n",
            "loss G: adv 8.124862 con 3.295253 gram 0.021260 color 9.020122 / loss D: 15.105454:   7%|▋         | 82/1110 [04:47<59:49,  3.49s/it]\u001b[A\n",
            "loss G: adv 8.171345 con 3.302518 gram 0.021207 color 9.014775 / loss D: 15.160573:   7%|▋         | 82/1110 [04:50<59:49,  3.49s/it]\u001b[A\n",
            "loss G: adv 8.171345 con 3.302518 gram 0.021207 color 9.014775 / loss D: 15.160573:   7%|▋         | 83/1110 [04:50<59:43,  3.49s/it]\u001b[A\n",
            "loss G: adv 8.183830 con 3.305276 gram 0.021174 color 9.055631 / loss D: 15.274376:   7%|▋         | 83/1110 [04:54<59:43,  3.49s/it]\u001b[A\n",
            "loss G: adv 8.183830 con 3.305276 gram 0.021174 color 9.055631 / loss D: 15.274376:   8%|▊         | 84/1110 [04:54<59:40,  3.49s/it]\u001b[A\n",
            "loss G: adv 8.256128 con 3.314436 gram 0.021121 color 9.044415 / loss D: 15.338060:   8%|▊         | 84/1110 [04:57<59:40,  3.49s/it]\u001b[A\n",
            "loss G: adv 8.256128 con 3.314436 gram 0.021121 color 9.044415 / loss D: 15.338060:   8%|▊         | 85/1110 [04:57<59:36,  3.49s/it]\u001b[A\n",
            "loss G: adv 8.260822 con 3.315905 gram 0.021124 color 9.013322 / loss D: 15.527527:   8%|▊         | 85/1110 [05:01<59:36,  3.49s/it]\u001b[A\n",
            "loss G: adv 8.260822 con 3.315905 gram 0.021124 color 9.013322 / loss D: 15.527527:   8%|▊         | 86/1110 [05:01<59:32,  3.49s/it]\u001b[A\n",
            "loss G: adv 8.243266 con 3.316457 gram 0.021149 color 9.008876 / loss D: 15.509978:   8%|▊         | 86/1110 [05:04<59:32,  3.49s/it]\u001b[A\n",
            "loss G: adv 8.243266 con 3.316457 gram 0.021149 color 9.008876 / loss D: 15.509978:   8%|▊         | 87/1110 [05:04<59:33,  3.49s/it]\u001b[A\n",
            "loss G: adv 8.227944 con 3.319593 gram 0.021166 color 8.992687 / loss D: 15.476887:   8%|▊         | 87/1110 [05:08<59:33,  3.49s/it]\u001b[A\n",
            "loss G: adv 8.227944 con 3.319593 gram 0.021166 color 8.992687 / loss D: 15.476887:   8%|▊         | 88/1110 [05:08<59:32,  3.50s/it]\u001b[A\n",
            "loss G: adv 8.218278 con 3.320188 gram 0.021152 color 8.967148 / loss D: 15.454290:   8%|▊         | 88/1110 [05:11<59:32,  3.50s/it]\u001b[A\n",
            "loss G: adv 8.218278 con 3.320188 gram 0.021152 color 8.967148 / loss D: 15.454290:   8%|▊         | 89/1110 [05:11<59:30,  3.50s/it]\u001b[A\n",
            "loss G: adv 8.199042 con 3.325539 gram 0.021127 color 9.013053 / loss D: 15.424793:   8%|▊         | 89/1110 [05:15<59:30,  3.50s/it]\u001b[A\n",
            "loss G: adv 8.199042 con 3.325539 gram 0.021127 color 9.013053 / loss D: 15.424793:   8%|▊         | 90/1110 [05:15<59:28,  3.50s/it]\u001b[A\n",
            "loss G: adv 8.179423 con 3.325241 gram 0.021087 color 9.001852 / loss D: 15.358661:   8%|▊         | 90/1110 [05:18<59:28,  3.50s/it]\u001b[A\n",
            "loss G: adv 8.179423 con 3.325241 gram 0.021087 color 9.001852 / loss D: 15.358661:   8%|▊         | 91/1110 [05:18<59:24,  3.50s/it]\u001b[A\n",
            "loss G: adv 8.160471 con 3.323681 gram 0.021106 color 8.987890 / loss D: 15.298286:   8%|▊         | 91/1110 [05:22<59:24,  3.50s/it]\u001b[A\n",
            "loss G: adv 8.160471 con 3.323681 gram 0.021106 color 8.987890 / loss D: 15.298286:   8%|▊         | 92/1110 [05:22<59:16,  3.49s/it]\u001b[A\n",
            "loss G: adv 8.137454 con 3.323713 gram 0.021054 color 8.974495 / loss D: 15.236832:   8%|▊         | 92/1110 [05:25<59:16,  3.49s/it]\u001b[A\n",
            "loss G: adv 8.137454 con 3.323713 gram 0.021054 color 8.974495 / loss D: 15.236832:   8%|▊         | 93/1110 [05:25<59:13,  3.49s/it]\u001b[A\n",
            "loss G: adv 8.117870 con 3.322681 gram 0.021006 color 8.959414 / loss D: 15.176211:   8%|▊         | 93/1110 [05:29<59:13,  3.49s/it]\u001b[A\n",
            "loss G: adv 8.117870 con 3.322681 gram 0.021006 color 8.959414 / loss D: 15.176211:   8%|▊         | 94/1110 [05:29<59:12,  3.50s/it]\u001b[A\n",
            "loss G: adv 8.098432 con 3.319797 gram 0.020974 color 9.021462 / loss D: 15.109801:   8%|▊         | 94/1110 [05:32<59:12,  3.50s/it]\u001b[A\n",
            "loss G: adv 8.098432 con 3.319797 gram 0.020974 color 9.021462 / loss D: 15.109801:   9%|▊         | 95/1110 [05:32<59:10,  3.50s/it]\u001b[A\n",
            "loss G: adv 8.076907 con 3.319077 gram 0.021053 color 9.005705 / loss D: 15.055210:   9%|▊         | 95/1110 [05:36<59:10,  3.50s/it]\u001b[A\n",
            "loss G: adv 8.076907 con 3.319077 gram 0.021053 color 9.005705 / loss D: 15.055210:   9%|▊         | 96/1110 [05:36<59:07,  3.50s/it]\u001b[A\n",
            "loss G: adv 8.055409 con 3.323375 gram 0.021066 color 9.022104 / loss D: 14.995451:   9%|▊         | 96/1110 [05:39<59:07,  3.50s/it]\u001b[A\n",
            "loss G: adv 8.055409 con 3.323375 gram 0.021066 color 9.022104 / loss D: 14.995451:   9%|▊         | 97/1110 [05:39<59:04,  3.50s/it]\u001b[A\n",
            "loss G: adv 8.039094 con 3.322002 gram 0.021080 color 9.005488 / loss D: 14.931217:   9%|▊         | 97/1110 [05:43<59:04,  3.50s/it]\u001b[A\n",
            "loss G: adv 8.039094 con 3.322002 gram 0.021080 color 9.005488 / loss D: 14.931217:   9%|▉         | 98/1110 [05:43<59:00,  3.50s/it]\u001b[A\n",
            "loss G: adv 8.019501 con 3.320214 gram 0.021040 color 9.000413 / loss D: 14.877650:   9%|▉         | 98/1110 [05:46<59:00,  3.50s/it]\u001b[A\n",
            "loss G: adv 8.019501 con 3.320214 gram 0.021040 color 9.000413 / loss D: 14.877650:   9%|▉         | 99/1110 [05:46<58:57,  3.50s/it]\u001b[A\n",
            "loss G: adv 8.000836 con 3.320823 gram 0.021053 color 8.982844 / loss D: 14.820850:   9%|▉         | 99/1110 [05:50<58:57,  3.50s/it]\u001b[A\n",
            "loss G: adv 8.000836 con 3.320823 gram 0.021053 color 8.982844 / loss D: 14.820850:   9%|▉         | 100/1110 [05:50<58:53,  3.50s/it]\u001b[A\n",
            "loss G: adv 7.983761 con 3.318725 gram 0.021071 color 8.981111 / loss D: 14.766366:   9%|▉         | 100/1110 [05:53<58:53,  3.50s/it]\u001b[A\n",
            "loss G: adv 7.983761 con 3.318725 gram 0.021071 color 8.981111 / loss D: 14.766366:   9%|▉         | 101/1110 [05:53<58:50,  3.50s/it]\u001b[A\n",
            "loss G: adv 7.964956 con 3.319488 gram 0.021048 color 8.997023 / loss D: 14.706907:   9%|▉         | 101/1110 [05:57<58:50,  3.50s/it]\u001b[A\n",
            "loss G: adv 7.964956 con 3.319488 gram 0.021048 color 8.997023 / loss D: 14.706907:   9%|▉         | 102/1110 [05:57<58:47,  3.50s/it]\u001b[A\n",
            "loss G: adv 7.947174 con 3.318134 gram 0.021030 color 8.995852 / loss D: 14.645612:   9%|▉         | 102/1110 [06:00<58:47,  3.50s/it]\u001b[A\n",
            "loss G: adv 7.947174 con 3.318134 gram 0.021030 color 8.995852 / loss D: 14.645612:   9%|▉         | 103/1110 [06:00<58:42,  3.50s/it]\u001b[A\n",
            "loss G: adv 7.927840 con 3.316682 gram 0.021017 color 8.998316 / loss D: 14.588899:   9%|▉         | 103/1110 [06:04<58:42,  3.50s/it]\u001b[A\n",
            "loss G: adv 7.927840 con 3.316682 gram 0.021017 color 8.998316 / loss D: 14.588899:   9%|▉         | 104/1110 [06:04<58:37,  3.50s/it]\u001b[A\n",
            "loss G: adv 7.912461 con 3.316818 gram 0.021049 color 8.969350 / loss D: 14.533508:   9%|▉         | 104/1110 [06:07<58:37,  3.50s/it]\u001b[A\n",
            "loss G: adv 7.912461 con 3.316818 gram 0.021049 color 8.969350 / loss D: 14.533508:   9%|▉         | 105/1110 [06:07<58:35,  3.50s/it]\u001b[A\n",
            "loss G: adv 7.894459 con 3.312828 gram 0.021082 color 8.937893 / loss D: 14.478011:   9%|▉         | 105/1110 [06:11<58:35,  3.50s/it]\u001b[A\n",
            "loss G: adv 7.894459 con 3.312828 gram 0.021082 color 8.937893 / loss D: 14.478011:  10%|▉         | 106/1110 [06:11<58:33,  3.50s/it]\u001b[A\n",
            "loss G: adv 7.878088 con 3.311101 gram 0.021089 color 8.934712 / loss D: 14.424538:  10%|▉         | 106/1110 [06:14<58:33,  3.50s/it]\u001b[A\n",
            "loss G: adv 7.878088 con 3.311101 gram 0.021089 color 8.934712 / loss D: 14.424538:  10%|▉         | 107/1110 [06:14<58:27,  3.50s/it]\u001b[A\n",
            "loss G: adv 7.859139 con 3.310582 gram 0.021094 color 8.954622 / loss D: 14.372356:  10%|▉         | 107/1110 [06:18<58:27,  3.50s/it]\u001b[A\n",
            "loss G: adv 7.859139 con 3.310582 gram 0.021094 color 8.954622 / loss D: 14.372356:  10%|▉         | 108/1110 [06:18<58:24,  3.50s/it]\u001b[A\n",
            "loss G: adv 7.842031 con 3.307844 gram 0.021077 color 8.969017 / loss D: 14.320265:  10%|▉         | 108/1110 [06:21<58:24,  3.50s/it]\u001b[A\n",
            "loss G: adv 7.842031 con 3.307844 gram 0.021077 color 8.969017 / loss D: 14.320265:  10%|▉         | 109/1110 [06:21<58:20,  3.50s/it]\u001b[A\n",
            "loss G: adv 7.826920 con 3.303071 gram 0.021120 color 8.972263 / loss D: 14.266710:  10%|▉         | 109/1110 [06:25<58:20,  3.50s/it]\u001b[A\n",
            "loss G: adv 7.826920 con 3.303071 gram 0.021120 color 8.972263 / loss D: 14.266710:  10%|▉         | 110/1110 [06:25<58:18,  3.50s/it]\u001b[A\n",
            "loss G: adv 7.808695 con 3.302146 gram 0.021181 color 8.966520 / loss D: 14.218101:  10%|▉         | 110/1110 [06:28<58:18,  3.50s/it]\u001b[A\n",
            "loss G: adv 7.808695 con 3.302146 gram 0.021181 color 8.966520 / loss D: 14.218101:  10%|█         | 111/1110 [06:28<58:14,  3.50s/it]\u001b[A\n",
            "loss G: adv 7.792314 con 3.301356 gram 0.021158 color 8.973006 / loss D: 14.164787:  10%|█         | 111/1110 [06:32<58:14,  3.50s/it]\u001b[A\n",
            "loss G: adv 7.792314 con 3.301356 gram 0.021158 color 8.973006 / loss D: 14.164787:  10%|█         | 112/1110 [06:32<58:11,  3.50s/it]\u001b[A\n",
            "loss G: adv 7.781489 con 3.298778 gram 0.021188 color 8.987216 / loss D: 14.110356:  10%|█         | 112/1110 [06:35<58:11,  3.50s/it]\u001b[A\n",
            "loss G: adv 7.781489 con 3.298778 gram 0.021188 color 8.987216 / loss D: 14.110356:  10%|█         | 113/1110 [06:35<58:08,  3.50s/it]\u001b[A\n",
            "loss G: adv 7.766382 con 3.303478 gram 0.021147 color 8.973484 / loss D: 14.059326:  10%|█         | 113/1110 [06:39<58:08,  3.50s/it]\u001b[A\n",
            "loss G: adv 7.766382 con 3.303478 gram 0.021147 color 8.973484 / loss D: 14.059326:  10%|█         | 114/1110 [06:39<58:05,  3.50s/it]\u001b[A\n",
            "loss G: adv 7.750846 con 3.301828 gram 0.021207 color 8.966042 / loss D: 14.016219:  10%|█         | 114/1110 [06:42<58:05,  3.50s/it]\u001b[A\n",
            "loss G: adv 7.750846 con 3.301828 gram 0.021207 color 8.966042 / loss D: 14.016219:  10%|█         | 115/1110 [06:42<58:01,  3.50s/it]\u001b[A\n",
            "loss G: adv 7.734284 con 3.300868 gram 0.021186 color 8.950427 / loss D: 13.963192:  10%|█         | 115/1110 [06:46<58:01,  3.50s/it]\u001b[A\n",
            "loss G: adv 7.734284 con 3.300868 gram 0.021186 color 8.950427 / loss D: 13.963192:  10%|█         | 116/1110 [06:46<57:58,  3.50s/it]\u001b[A\n",
            "loss G: adv 7.716999 con 3.295729 gram 0.021192 color 8.943059 / loss D: 13.917004:  10%|█         | 116/1110 [06:49<57:58,  3.50s/it]\u001b[A\n",
            "loss G: adv 7.716999 con 3.295729 gram 0.021192 color 8.943059 / loss D: 13.917004:  11%|█         | 117/1110 [06:49<57:55,  3.50s/it]\u001b[A\n",
            "loss G: adv 7.699016 con 3.295528 gram 0.021203 color 8.938854 / loss D: 13.868044:  11%|█         | 117/1110 [06:53<57:55,  3.50s/it]\u001b[A\n",
            "loss G: adv 7.699016 con 3.295528 gram 0.021203 color 8.938854 / loss D: 13.868044:  11%|█         | 118/1110 [06:53<57:52,  3.50s/it]\u001b[A\n",
            "loss G: adv 7.684629 con 3.293857 gram 0.021165 color 8.967952 / loss D: 13.824624:  11%|█         | 118/1110 [06:56<57:52,  3.50s/it]\u001b[A\n",
            "loss G: adv 7.684629 con 3.293857 gram 0.021165 color 8.967952 / loss D: 13.824624:  11%|█         | 119/1110 [06:56<57:48,  3.50s/it]\u001b[A\n",
            "loss G: adv 7.668399 con 3.294775 gram 0.021149 color 8.951344 / loss D: 13.786179:  11%|█         | 119/1110 [07:00<57:48,  3.50s/it]\u001b[A\n",
            "loss G: adv 7.668399 con 3.294775 gram 0.021149 color 8.951344 / loss D: 13.786179:  11%|█         | 120/1110 [07:00<57:44,  3.50s/it]\u001b[A\n",
            "loss G: adv 7.653371 con 3.294681 gram 0.021154 color 8.972498 / loss D: 13.741497:  11%|█         | 120/1110 [07:03<57:44,  3.50s/it]\u001b[A\n",
            "loss G: adv 7.653371 con 3.294681 gram 0.021154 color 8.972498 / loss D: 13.741497:  11%|█         | 121/1110 [07:03<57:40,  3.50s/it]\u001b[A\n",
            "loss G: adv 7.637262 con 3.293892 gram 0.021122 color 8.976884 / loss D: 13.695713:  11%|█         | 121/1110 [07:07<57:40,  3.50s/it]\u001b[A\n",
            "loss G: adv 7.637262 con 3.293892 gram 0.021122 color 8.976884 / loss D: 13.695713:  11%|█         | 122/1110 [07:07<57:37,  3.50s/it]\u001b[A\n",
            "loss G: adv 7.624774 con 3.296206 gram 0.021080 color 8.979992 / loss D: 13.651201:  11%|█         | 122/1110 [07:10<57:37,  3.50s/it]\u001b[A\n",
            "loss G: adv 7.624774 con 3.296206 gram 0.021080 color 8.979992 / loss D: 13.651201:  11%|█         | 123/1110 [07:10<57:31,  3.50s/it]\u001b[A\n",
            "loss G: adv 7.615260 con 3.296902 gram 0.021080 color 8.989916 / loss D: 13.608202:  11%|█         | 123/1110 [07:14<57:31,  3.50s/it]\u001b[A\n",
            "loss G: adv 7.615260 con 3.296902 gram 0.021080 color 8.989916 / loss D: 13.608202:  11%|█         | 124/1110 [07:14<57:29,  3.50s/it]\u001b[A\n",
            "loss G: adv 7.605256 con 3.302402 gram 0.021054 color 9.002533 / loss D: 13.569793:  11%|█         | 124/1110 [07:17<57:29,  3.50s/it]\u001b[A\n",
            "loss G: adv 7.605256 con 3.302402 gram 0.021054 color 9.002533 / loss D: 13.569793:  11%|█▏        | 125/1110 [07:17<57:26,  3.50s/it]\u001b[A\n",
            "loss G: adv 7.592091 con 3.304649 gram 0.021002 color 8.990974 / loss D: 13.531638:  11%|█▏        | 125/1110 [07:21<57:26,  3.50s/it]\u001b[A\n",
            "loss G: adv 7.592091 con 3.304649 gram 0.021002 color 8.990974 / loss D: 13.531638:  11%|█▏        | 126/1110 [07:21<57:23,  3.50s/it]\u001b[A\n",
            "loss G: adv 7.577339 con 3.307362 gram 0.020960 color 8.978081 / loss D: 13.493228:  11%|█▏        | 126/1110 [07:24<57:23,  3.50s/it]\u001b[A\n",
            "loss G: adv 7.577339 con 3.307362 gram 0.020960 color 8.978081 / loss D: 13.493228:  11%|█▏        | 127/1110 [07:24<57:20,  3.50s/it]\u001b[A\n",
            "loss G: adv 7.560369 con 3.309200 gram 0.020955 color 8.959061 / loss D: 13.448618:  11%|█▏        | 127/1110 [07:28<57:20,  3.50s/it]\u001b[A\n",
            "loss G: adv 7.560369 con 3.309200 gram 0.020955 color 8.959061 / loss D: 13.448618:  12%|█▏        | 128/1110 [07:28<57:16,  3.50s/it]\u001b[A\n",
            "loss G: adv 7.546261 con 3.313889 gram 0.020987 color 8.952104 / loss D: 13.414765:  12%|█▏        | 128/1110 [07:31<57:16,  3.50s/it]\u001b[A\n",
            "loss G: adv 7.546261 con 3.313889 gram 0.020987 color 8.952104 / loss D: 13.414765:  12%|█▏        | 129/1110 [07:31<57:14,  3.50s/it]\u001b[A\n",
            "loss G: adv 7.531373 con 3.320514 gram 0.021020 color 8.930528 / loss D: 13.380934:  12%|█▏        | 129/1110 [07:35<57:14,  3.50s/it]\u001b[A\n",
            "loss G: adv 7.531373 con 3.320514 gram 0.021020 color 8.930528 / loss D: 13.380934:  12%|█▏        | 130/1110 [07:35<57:10,  3.50s/it]\u001b[A\n",
            "loss G: adv 7.519003 con 3.321421 gram 0.021011 color 8.920379 / loss D: 13.348007:  12%|█▏        | 130/1110 [07:38<57:10,  3.50s/it]\u001b[A\n",
            "loss G: adv 7.519003 con 3.321421 gram 0.021011 color 8.920379 / loss D: 13.348007:  12%|█▏        | 131/1110 [07:38<57:07,  3.50s/it]\u001b[A\n",
            "loss G: adv 7.507903 con 3.327966 gram 0.020996 color 8.911069 / loss D: 13.320789:  12%|█▏        | 131/1110 [07:42<57:07,  3.50s/it]\u001b[A\n",
            "loss G: adv 7.507903 con 3.327966 gram 0.020996 color 8.911069 / loss D: 13.320789:  12%|█▏        | 132/1110 [07:42<57:03,  3.50s/it]\u001b[A\n",
            "loss G: adv 7.499942 con 3.329410 gram 0.021023 color 8.906439 / loss D: 13.294671:  12%|█▏        | 132/1110 [07:45<57:03,  3.50s/it]\u001b[A\n",
            "loss G: adv 7.499942 con 3.329410 gram 0.021023 color 8.906439 / loss D: 13.294671:  12%|█▏        | 133/1110 [07:45<56:59,  3.50s/it]\u001b[A\n",
            "loss G: adv 7.486494 con 3.330965 gram 0.021021 color 8.904772 / loss D: 13.270574:  12%|█▏        | 133/1110 [07:49<56:59,  3.50s/it]\u001b[A\n",
            "loss G: adv 7.486494 con 3.330965 gram 0.021021 color 8.904772 / loss D: 13.270574:  12%|█▏        | 134/1110 [07:49<56:56,  3.50s/it]\u001b[A\n",
            "loss G: adv 7.473173 con 3.332080 gram 0.020982 color 8.887706 / loss D: 13.237005:  12%|█▏        | 134/1110 [07:52<56:56,  3.50s/it]\u001b[A\n",
            "loss G: adv 7.473173 con 3.332080 gram 0.020982 color 8.887706 / loss D: 13.237005:  12%|█▏        | 135/1110 [07:52<56:52,  3.50s/it]\u001b[A\n",
            "loss G: adv 7.461454 con 3.331412 gram 0.021046 color 8.877615 / loss D: 13.201865:  12%|█▏        | 135/1110 [07:56<56:52,  3.50s/it]\u001b[A\n",
            "loss G: adv 7.461454 con 3.331412 gram 0.021046 color 8.877615 / loss D: 13.201865:  12%|█▏        | 136/1110 [07:56<56:48,  3.50s/it]\u001b[A\n",
            "loss G: adv 7.449762 con 3.331688 gram 0.021028 color 8.860000 / loss D: 13.163471:  12%|█▏        | 136/1110 [07:59<56:48,  3.50s/it]\u001b[A\n",
            "loss G: adv 7.449762 con 3.331688 gram 0.021028 color 8.860000 / loss D: 13.163471:  12%|█▏        | 137/1110 [07:59<56:44,  3.50s/it]\u001b[A\n",
            "loss G: adv 7.437348 con 3.330337 gram 0.021033 color 8.834807 / loss D: 13.122375:  12%|█▏        | 137/1110 [08:03<56:44,  3.50s/it]\u001b[A\n",
            "loss G: adv 7.437348 con 3.330337 gram 0.021033 color 8.834807 / loss D: 13.122375:  12%|█▏        | 138/1110 [08:03<56:41,  3.50s/it]\u001b[A\n",
            "loss G: adv 7.422305 con 3.332407 gram 0.021001 color 8.814568 / loss D: 13.086776:  12%|█▏        | 138/1110 [08:06<56:41,  3.50s/it]\u001b[A\n",
            "loss G: adv 7.422305 con 3.332407 gram 0.021001 color 8.814568 / loss D: 13.086776:  13%|█▎        | 139/1110 [08:06<56:38,  3.50s/it]\u001b[A\n",
            "loss G: adv 7.412393 con 3.332264 gram 0.020997 color 8.809922 / loss D: 13.045361:  13%|█▎        | 139/1110 [08:10<56:38,  3.50s/it]\u001b[A\n",
            "loss G: adv 7.412393 con 3.332264 gram 0.020997 color 8.809922 / loss D: 13.045361:  13%|█▎        | 140/1110 [08:10<56:33,  3.50s/it]\u001b[A\n",
            "loss G: adv 7.400680 con 3.332507 gram 0.020985 color 8.790603 / loss D: 13.010660:  13%|█▎        | 140/1110 [08:13<56:33,  3.50s/it]\u001b[A\n",
            "loss G: adv 7.400680 con 3.332507 gram 0.020985 color 8.790603 / loss D: 13.010660:  13%|█▎        | 141/1110 [08:13<56:31,  3.50s/it]\u001b[A\n",
            "loss G: adv 7.385387 con 3.333780 gram 0.020986 color 8.796614 / loss D: 12.977472:  13%|█▎        | 141/1110 [08:17<56:31,  3.50s/it]\u001b[A\n",
            "loss G: adv 7.385387 con 3.333780 gram 0.020986 color 8.796614 / loss D: 12.977472:  13%|█▎        | 142/1110 [08:17<56:29,  3.50s/it]\u001b[A\n",
            "loss G: adv 7.373541 con 3.332527 gram 0.020967 color 8.816551 / loss D: 12.941751:  13%|█▎        | 142/1110 [08:20<56:29,  3.50s/it]\u001b[A\n",
            "loss G: adv 7.373541 con 3.332527 gram 0.020967 color 8.816551 / loss D: 12.941751:  13%|█▎        | 143/1110 [08:20<56:26,  3.50s/it]\u001b[A\n",
            "loss G: adv 7.363047 con 3.333339 gram 0.020940 color 8.813175 / loss D: 12.909486:  13%|█▎        | 143/1110 [08:24<56:26,  3.50s/it]\u001b[A\n",
            "loss G: adv 7.363047 con 3.333339 gram 0.020940 color 8.813175 / loss D: 12.909486:  13%|█▎        | 144/1110 [08:24<56:23,  3.50s/it]\u001b[A\n",
            "loss G: adv 7.351725 con 3.335401 gram 0.020951 color 8.833527 / loss D: 12.884455:  13%|█▎        | 144/1110 [08:27<56:23,  3.50s/it]\u001b[A\n",
            "loss G: adv 7.351725 con 3.335401 gram 0.020951 color 8.833527 / loss D: 12.884455:  13%|█▎        | 145/1110 [08:27<56:20,  3.50s/it]\u001b[A\n",
            "loss G: adv 7.342159 con 3.337251 gram 0.020927 color 8.812417 / loss D: 12.859261:  13%|█▎        | 145/1110 [08:31<56:20,  3.50s/it]\u001b[A\n",
            "loss G: adv 7.342159 con 3.337251 gram 0.020927 color 8.812417 / loss D: 12.859261:  13%|█▎        | 146/1110 [08:31<56:17,  3.50s/it]\u001b[A\n",
            "loss G: adv 7.334773 con 3.338001 gram 0.020982 color 8.801935 / loss D: 12.835446:  13%|█▎        | 146/1110 [08:34<56:17,  3.50s/it]\u001b[A\n",
            "loss G: adv 7.334773 con 3.338001 gram 0.020982 color 8.801935 / loss D: 12.835446:  13%|█▎        | 147/1110 [08:34<56:14,  3.50s/it]\u001b[A\n",
            "loss G: adv 7.322737 con 3.338891 gram 0.021009 color 8.836531 / loss D: 12.805236:  13%|█▎        | 147/1110 [08:38<56:14,  3.50s/it]\u001b[A\n",
            "loss G: adv 7.322737 con 3.338891 gram 0.021009 color 8.836531 / loss D: 12.805236:  13%|█▎        | 148/1110 [08:38<56:07,  3.50s/it]\u001b[A\n",
            "loss G: adv 7.312663 con 3.339830 gram 0.021038 color 8.838112 / loss D: 12.776021:  13%|█▎        | 148/1110 [08:41<56:07,  3.50s/it]\u001b[A\n",
            "loss G: adv 7.312663 con 3.339830 gram 0.021038 color 8.838112 / loss D: 12.776021:  13%|█▎        | 149/1110 [08:41<56:03,  3.50s/it]\u001b[A\n",
            "loss G: adv 7.303089 con 3.339748 gram 0.021067 color 8.839123 / loss D: 12.745219:  13%|█▎        | 149/1110 [08:45<56:03,  3.50s/it]\u001b[A\n",
            "loss G: adv 7.303089 con 3.339748 gram 0.021067 color 8.839123 / loss D: 12.745219:  14%|█▎        | 150/1110 [08:45<55:59,  3.50s/it]\u001b[A\n",
            "loss G: adv 7.291713 con 3.340844 gram 0.021060 color 8.843148 / loss D: 12.711665:  14%|█▎        | 150/1110 [08:48<55:59,  3.50s/it]\u001b[A\n",
            "loss G: adv 7.291713 con 3.340844 gram 0.021060 color 8.843148 / loss D: 12.711665:  14%|█▎        | 151/1110 [08:48<55:55,  3.50s/it]\u001b[A\n",
            "loss G: adv 7.283415 con 3.341845 gram 0.021110 color 8.846352 / loss D: 12.681185:  14%|█▎        | 151/1110 [08:52<55:55,  3.50s/it]\u001b[A\n",
            "loss G: adv 7.283415 con 3.341845 gram 0.021110 color 8.846352 / loss D: 12.681185:  14%|█▎        | 152/1110 [08:52<55:52,  3.50s/it]\u001b[A\n",
            "loss G: adv 7.273339 con 3.339671 gram 0.021092 color 8.866092 / loss D: 12.650444:  14%|█▎        | 152/1110 [08:55<55:52,  3.50s/it]\u001b[A\n",
            "loss G: adv 7.273339 con 3.339671 gram 0.021092 color 8.866092 / loss D: 12.650444:  14%|█▍        | 153/1110 [08:55<55:49,  3.50s/it]\u001b[A\n",
            "loss G: adv 7.263080 con 3.340560 gram 0.021145 color 8.859450 / loss D: 12.621254:  14%|█▍        | 153/1110 [08:59<55:49,  3.50s/it]\u001b[A\n",
            "loss G: adv 7.263080 con 3.340560 gram 0.021145 color 8.859450 / loss D: 12.621254:  14%|█▍        | 154/1110 [08:59<55:45,  3.50s/it]\u001b[A\n",
            "loss G: adv 7.252489 con 3.339576 gram 0.021187 color 8.854925 / loss D: 12.591606:  14%|█▍        | 154/1110 [09:02<55:45,  3.50s/it]\u001b[A\n",
            "loss G: adv 7.252489 con 3.339576 gram 0.021187 color 8.854925 / loss D: 12.591606:  14%|█▍        | 155/1110 [09:02<55:43,  3.50s/it]\u001b[A\n",
            "loss G: adv 7.241603 con 3.340726 gram 0.021221 color 8.860191 / loss D: 12.558282:  14%|█▍        | 155/1110 [09:06<55:43,  3.50s/it]\u001b[A\n",
            "loss G: adv 7.241603 con 3.340726 gram 0.021221 color 8.860191 / loss D: 12.558282:  14%|█▍        | 156/1110 [09:06<55:39,  3.50s/it]\u001b[A\n",
            "loss G: adv 7.232087 con 3.345819 gram 0.021246 color 8.862220 / loss D: 12.529182:  14%|█▍        | 156/1110 [09:09<55:39,  3.50s/it]\u001b[A\n",
            "loss G: adv 7.232087 con 3.345819 gram 0.021246 color 8.862220 / loss D: 12.529182:  14%|█▍        | 157/1110 [09:09<55:35,  3.50s/it]\u001b[A\n",
            "loss G: adv 7.220391 con 3.351206 gram 0.021248 color 8.859960 / loss D: 12.497241:  14%|█▍        | 157/1110 [09:13<55:35,  3.50s/it]\u001b[A\n",
            "loss G: adv 7.220391 con 3.351206 gram 0.021248 color 8.859960 / loss D: 12.497241:  14%|█▍        | 158/1110 [09:13<55:32,  3.50s/it]\u001b[A\n",
            "loss G: adv 7.209154 con 3.353132 gram 0.021234 color 8.869944 / loss D: 12.464360:  14%|█▍        | 158/1110 [09:16<55:32,  3.50s/it]\u001b[A\n",
            "loss G: adv 7.209154 con 3.353132 gram 0.021234 color 8.869944 / loss D: 12.464360:  14%|█▍        | 159/1110 [09:16<55:28,  3.50s/it]\u001b[A\n",
            "loss G: adv 7.202032 con 3.353297 gram 0.021263 color 8.862535 / loss D: 12.434128:  14%|█▍        | 159/1110 [09:20<55:28,  3.50s/it]\u001b[A\n",
            "loss G: adv 7.202032 con 3.353297 gram 0.021263 color 8.862535 / loss D: 12.434128:  14%|█▍        | 160/1110 [09:20<55:24,  3.50s/it]\u001b[A\n",
            "loss G: adv 7.191945 con 3.354060 gram 0.021292 color 8.860036 / loss D: 12.404270:  14%|█▍        | 160/1110 [09:23<55:24,  3.50s/it]\u001b[A\n",
            "loss G: adv 7.191945 con 3.354060 gram 0.021292 color 8.860036 / loss D: 12.404270:  15%|█▍        | 161/1110 [09:23<55:22,  3.50s/it]\u001b[A\n",
            "loss G: adv 7.179421 con 3.356718 gram 0.021267 color 8.855452 / loss D: 12.376513:  15%|█▍        | 161/1110 [09:27<55:22,  3.50s/it]\u001b[A\n",
            "loss G: adv 7.179421 con 3.356718 gram 0.021267 color 8.855452 / loss D: 12.376513:  15%|█▍        | 162/1110 [09:27<55:19,  3.50s/it]\u001b[A\n",
            "loss G: adv 7.168342 con 3.356697 gram 0.021241 color 8.873698 / loss D: 12.342670:  15%|█▍        | 162/1110 [09:30<55:19,  3.50s/it]\u001b[A\n",
            "loss G: adv 7.168342 con 3.356697 gram 0.021241 color 8.873698 / loss D: 12.342670:  15%|█▍        | 163/1110 [09:30<55:16,  3.50s/it]\u001b[A\n",
            "loss G: adv 7.159490 con 3.357051 gram 0.021196 color 8.872367 / loss D: 12.310987:  15%|█▍        | 163/1110 [09:34<55:16,  3.50s/it]\u001b[A\n",
            "loss G: adv 7.159490 con 3.357051 gram 0.021196 color 8.872367 / loss D: 12.310987:  15%|█▍        | 164/1110 [09:34<55:12,  3.50s/it]\u001b[A\n",
            "loss G: adv 7.151469 con 3.361208 gram 0.021225 color 8.867410 / loss D: 12.290318:  15%|█▍        | 164/1110 [09:37<55:12,  3.50s/it]\u001b[A\n",
            "loss G: adv 7.151469 con 3.361208 gram 0.021225 color 8.867410 / loss D: 12.290318:  15%|█▍        | 165/1110 [09:37<55:08,  3.50s/it]\u001b[A\n",
            "loss G: adv 7.151731 con 3.361648 gram 0.021220 color 8.863298 / loss D: 12.272009:  15%|█▍        | 165/1110 [09:41<55:08,  3.50s/it]\u001b[A\n",
            "loss G: adv 7.151731 con 3.361648 gram 0.021220 color 8.863298 / loss D: 12.272009:  15%|█▍        | 166/1110 [09:41<55:05,  3.50s/it]\u001b[A\n",
            "loss G: adv 7.171700 con 3.362752 gram 0.021237 color 8.864697 / loss D: 12.276034:  15%|█▍        | 166/1110 [09:44<55:05,  3.50s/it]\u001b[A\n",
            "loss G: adv 7.171700 con 3.362752 gram 0.021237 color 8.864697 / loss D: 12.276034:  15%|█▌        | 167/1110 [09:44<55:01,  3.50s/it]\u001b[A\n",
            "loss G: adv 7.215074 con 3.362753 gram 0.021279 color 8.870946 / loss D: 12.332071:  15%|█▌        | 167/1110 [09:48<55:01,  3.50s/it]\u001b[A\n",
            "loss G: adv 7.215074 con 3.362753 gram 0.021279 color 8.870946 / loss D: 12.332071:  15%|█▌        | 168/1110 [09:48<54:57,  3.50s/it]\u001b[A\n",
            "loss G: adv 7.217956 con 3.363132 gram 0.021266 color 8.869320 / loss D: 12.410963:  15%|█▌        | 168/1110 [09:51<54:57,  3.50s/it]\u001b[A\n",
            "loss G: adv 7.217956 con 3.363132 gram 0.021266 color 8.869320 / loss D: 12.410963:  15%|█▌        | 169/1110 [09:51<54:53,  3.50s/it]\u001b[A\n",
            "loss G: adv 7.208283 con 3.365585 gram 0.021269 color 8.871024 / loss D: 12.449061:  15%|█▌        | 169/1110 [09:55<54:53,  3.50s/it]\u001b[A\n",
            "loss G: adv 7.208283 con 3.365585 gram 0.021269 color 8.871024 / loss D: 12.449061:  15%|█▌        | 170/1110 [09:55<54:50,  3.50s/it]\u001b[A\n",
            "loss G: adv 7.207759 con 3.367466 gram 0.021316 color 8.859305 / loss D: 12.439418:  15%|█▌        | 170/1110 [09:58<54:50,  3.50s/it]\u001b[A\n",
            "loss G: adv 7.207759 con 3.367466 gram 0.021316 color 8.859305 / loss D: 12.439418:  15%|█▌        | 171/1110 [09:58<54:46,  3.50s/it]\u001b[A\n",
            "loss G: adv 7.202118 con 3.369091 gram 0.021314 color 8.849143 / loss D: 12.426868:  15%|█▌        | 171/1110 [10:02<54:46,  3.50s/it]\u001b[A\n",
            "loss G: adv 7.202118 con 3.369091 gram 0.021314 color 8.849143 / loss D: 12.426868:  15%|█▌        | 172/1110 [10:02<54:43,  3.50s/it]\u001b[A\n",
            "loss G: adv 7.193596 con 3.369363 gram 0.021305 color 8.840288 / loss D: 12.408369:  15%|█▌        | 172/1110 [10:05<54:43,  3.50s/it]\u001b[A\n",
            "loss G: adv 7.193596 con 3.369363 gram 0.021305 color 8.840288 / loss D: 12.408369:  16%|█▌        | 173/1110 [10:05<54:40,  3.50s/it]\u001b[A\n",
            "loss G: adv 7.185244 con 3.370382 gram 0.021295 color 8.845175 / loss D: 12.389501:  16%|█▌        | 173/1110 [10:09<54:40,  3.50s/it]\u001b[A\n",
            "loss G: adv 7.185244 con 3.370382 gram 0.021295 color 8.845175 / loss D: 12.389501:  16%|█▌        | 174/1110 [10:09<54:36,  3.50s/it]\u001b[A\n",
            "loss G: adv 7.179023 con 3.370760 gram 0.021273 color 8.827686 / loss D: 12.367122:  16%|█▌        | 174/1110 [10:12<54:36,  3.50s/it]\u001b[A\n",
            "loss G: adv 7.179023 con 3.370760 gram 0.021273 color 8.827686 / loss D: 12.367122:  16%|█▌        | 175/1110 [10:12<54:32,  3.50s/it]\u001b[A\n",
            "loss G: adv 7.171977 con 3.369593 gram 0.021357 color 8.813728 / loss D: 12.350470:  16%|█▌        | 175/1110 [10:16<54:32,  3.50s/it]\u001b[A\n",
            "loss G: adv 7.171977 con 3.369593 gram 0.021357 color 8.813728 / loss D: 12.350470:  16%|█▌        | 176/1110 [10:16<54:28,  3.50s/it]\u001b[A\n",
            "loss G: adv 7.162164 con 3.371389 gram 0.021366 color 8.806731 / loss D: 12.329054:  16%|█▌        | 176/1110 [10:19<54:28,  3.50s/it]\u001b[A\n",
            "loss G: adv 7.162164 con 3.371389 gram 0.021366 color 8.806731 / loss D: 12.329054:  16%|█▌        | 177/1110 [10:19<54:24,  3.50s/it]\u001b[A\n",
            "loss G: adv 7.153037 con 3.370303 gram 0.021359 color 8.813145 / loss D: 12.306488:  16%|█▌        | 177/1110 [10:23<54:24,  3.50s/it]\u001b[A\n",
            "loss G: adv 7.153037 con 3.370303 gram 0.021359 color 8.813145 / loss D: 12.306488:  16%|█▌        | 178/1110 [10:23<54:21,  3.50s/it]\u001b[A\n",
            "loss G: adv 7.144502 con 3.370601 gram 0.021341 color 8.797843 / loss D: 12.282791:  16%|█▌        | 178/1110 [10:26<54:21,  3.50s/it]\u001b[A\n",
            "loss G: adv 7.144502 con 3.370601 gram 0.021341 color 8.797843 / loss D: 12.282791:  16%|█▌        | 179/1110 [10:26<54:17,  3.50s/it]\u001b[A\n",
            "loss G: adv 7.134965 con 3.369615 gram 0.021337 color 8.785822 / loss D: 12.259786:  16%|█▌        | 179/1110 [10:30<54:17,  3.50s/it]\u001b[A\n",
            "loss G: adv 7.134965 con 3.369615 gram 0.021337 color 8.785822 / loss D: 12.259786:  16%|█▌        | 180/1110 [10:30<54:15,  3.50s/it]\u001b[A\n",
            "loss G: adv 7.126757 con 3.368214 gram 0.021348 color 8.781560 / loss D: 12.231919:  16%|█▌        | 180/1110 [10:33<54:15,  3.50s/it]\u001b[A\n",
            "loss G: adv 7.126757 con 3.368214 gram 0.021348 color 8.781560 / loss D: 12.231919:  16%|█▋        | 181/1110 [10:33<54:12,  3.50s/it]\u001b[A\n",
            "loss G: adv 7.115696 con 3.368028 gram 0.021380 color 8.765431 / loss D: 12.208099:  16%|█▋        | 181/1110 [10:37<54:12,  3.50s/it]\u001b[A\n",
            "loss G: adv 7.115696 con 3.368028 gram 0.021380 color 8.765431 / loss D: 12.208099:  16%|█▋        | 182/1110 [10:37<54:10,  3.50s/it]\u001b[A\n",
            "loss G: adv 7.107309 con 3.367031 gram 0.021361 color 8.749381 / loss D: 12.179831:  16%|█▋        | 182/1110 [10:40<54:10,  3.50s/it]\u001b[A\n",
            "loss G: adv 7.107309 con 3.367031 gram 0.021361 color 8.749381 / loss D: 12.179831:  16%|█▋        | 183/1110 [10:40<54:07,  3.50s/it]\u001b[A\n",
            "loss G: adv 7.100229 con 3.367048 gram 0.021376 color 8.750051 / loss D: 12.154776:  16%|█▋        | 183/1110 [10:44<54:07,  3.50s/it]\u001b[A\n",
            "loss G: adv 7.100229 con 3.367048 gram 0.021376 color 8.750051 / loss D: 12.154776:  17%|█▋        | 184/1110 [10:44<54:04,  3.50s/it]\u001b[A\n",
            "loss G: adv 7.092112 con 3.369864 gram 0.021358 color 8.738504 / loss D: 12.128416:  17%|█▋        | 184/1110 [10:47<54:04,  3.50s/it]\u001b[A\n",
            "loss G: adv 7.092112 con 3.369864 gram 0.021358 color 8.738504 / loss D: 12.128416:  17%|█▋        | 185/1110 [10:47<53:59,  3.50s/it]\u001b[A\n",
            "loss G: adv 7.081714 con 3.372130 gram 0.021353 color 8.733942 / loss D: 12.108356:  17%|█▋        | 185/1110 [10:51<53:59,  3.50s/it]\u001b[A\n",
            "loss G: adv 7.081714 con 3.372130 gram 0.021353 color 8.733942 / loss D: 12.108356:  17%|█▋        | 186/1110 [10:51<53:55,  3.50s/it]\u001b[A\n",
            "loss G: adv 7.073767 con 3.372057 gram 0.021374 color 8.733835 / loss D: 12.083997:  17%|█▋        | 186/1110 [10:54<53:55,  3.50s/it]\u001b[A\n",
            "loss G: adv 7.073767 con 3.372057 gram 0.021374 color 8.733835 / loss D: 12.083997:  17%|█▋        | 187/1110 [10:54<53:50,  3.50s/it]\u001b[A\n",
            "loss G: adv 7.065768 con 3.371917 gram 0.021355 color 8.720250 / loss D: 12.054175:  17%|█▋        | 187/1110 [10:58<53:50,  3.50s/it]\u001b[A\n",
            "loss G: adv 7.065768 con 3.371917 gram 0.021355 color 8.720250 / loss D: 12.054175:  17%|█▋        | 188/1110 [10:58<53:47,  3.50s/it]\u001b[A\n",
            "loss G: adv 7.055399 con 3.375284 gram 0.021344 color 8.723763 / loss D: 12.032323:  17%|█▋        | 188/1110 [11:01<53:47,  3.50s/it]\u001b[A\n",
            "loss G: adv 7.055399 con 3.375284 gram 0.021344 color 8.723763 / loss D: 12.032323:  17%|█▋        | 189/1110 [11:01<53:43,  3.50s/it]\u001b[A\n",
            "loss G: adv 7.045199 con 3.377444 gram 0.021348 color 8.744633 / loss D: 12.009310:  17%|█▋        | 189/1110 [11:05<53:43,  3.50s/it]\u001b[A\n",
            "loss G: adv 7.045199 con 3.377444 gram 0.021348 color 8.744633 / loss D: 12.009310:  17%|█▋        | 190/1110 [11:05<53:39,  3.50s/it]\u001b[A\n",
            "loss G: adv 7.037812 con 3.377147 gram 0.021350 color 8.743483 / loss D: 11.980550:  17%|█▋        | 190/1110 [11:08<53:39,  3.50s/it]\u001b[A\n",
            "loss G: adv 7.037812 con 3.377147 gram 0.021350 color 8.743483 / loss D: 11.980550:  17%|█▋        | 191/1110 [11:08<53:35,  3.50s/it]\u001b[A\n",
            "loss G: adv 7.030379 con 3.376821 gram 0.021341 color 8.733703 / loss D: 11.959350:  17%|█▋        | 191/1110 [11:12<53:35,  3.50s/it]\u001b[A\n",
            "loss G: adv 7.030379 con 3.376821 gram 0.021341 color 8.733703 / loss D: 11.959350:  17%|█▋        | 192/1110 [11:12<53:31,  3.50s/it]\u001b[A\n",
            "loss G: adv 7.020439 con 3.378243 gram 0.021344 color 8.738999 / loss D: 11.935397:  17%|█▋        | 192/1110 [11:15<53:31,  3.50s/it]\u001b[A\n",
            "loss G: adv 7.020439 con 3.378243 gram 0.021344 color 8.738999 / loss D: 11.935397:  17%|█▋        | 193/1110 [11:15<53:29,  3.50s/it]\u001b[A\n",
            "loss G: adv 7.011448 con 3.380053 gram 0.021327 color 8.731670 / loss D: 11.913069:  17%|█▋        | 193/1110 [11:19<53:29,  3.50s/it]\u001b[A\n",
            "loss G: adv 7.011448 con 3.380053 gram 0.021327 color 8.731670 / loss D: 11.913069:  17%|█▋        | 194/1110 [11:19<53:25,  3.50s/it]\u001b[A\n",
            "loss G: adv 7.003583 con 3.380279 gram 0.021351 color 8.731711 / loss D: 11.887823:  17%|█▋        | 194/1110 [11:22<53:25,  3.50s/it]\u001b[A\n",
            "loss G: adv 7.003583 con 3.380279 gram 0.021351 color 8.731711 / loss D: 11.887823:  18%|█▊        | 195/1110 [11:22<53:21,  3.50s/it]\u001b[A\n",
            "loss G: adv 6.994667 con 3.380768 gram 0.021416 color 8.725816 / loss D: 11.869727:  18%|█▊        | 195/1110 [11:26<53:21,  3.50s/it]\u001b[A\n",
            "loss G: adv 6.994667 con 3.380768 gram 0.021416 color 8.725816 / loss D: 11.869727:  18%|█▊        | 196/1110 [11:26<53:18,  3.50s/it]\u001b[A\n",
            "loss G: adv 6.987563 con 3.380104 gram 0.021380 color 8.721291 / loss D: 11.845188:  18%|█▊        | 196/1110 [11:29<53:18,  3.50s/it]\u001b[A\n",
            "loss G: adv 6.987563 con 3.380104 gram 0.021380 color 8.721291 / loss D: 11.845188:  18%|█▊        | 197/1110 [11:29<53:14,  3.50s/it]\u001b[A\n",
            "loss G: adv 6.977826 con 3.382101 gram 0.021375 color 8.727510 / loss D: 11.821695:  18%|█▊        | 197/1110 [11:33<53:14,  3.50s/it]\u001b[A\n",
            "loss G: adv 6.977826 con 3.382101 gram 0.021375 color 8.727510 / loss D: 11.821695:  18%|█▊        | 198/1110 [11:33<53:11,  3.50s/it]\u001b[A\n",
            "loss G: adv 6.970128 con 3.382016 gram 0.021392 color 8.722209 / loss D: 11.797739:  18%|█▊        | 198/1110 [11:36<53:11,  3.50s/it]\u001b[A\n",
            "loss G: adv 6.970128 con 3.382016 gram 0.021392 color 8.722209 / loss D: 11.797739:  18%|█▊        | 199/1110 [11:36<53:08,  3.50s/it]\u001b[A\n",
            "loss G: adv 6.963047 con 3.382661 gram 0.021384 color 8.730599 / loss D: 11.771491:  18%|█▊        | 199/1110 [11:40<53:08,  3.50s/it]\u001b[A\n",
            "loss G: adv 6.963047 con 3.382661 gram 0.021384 color 8.730599 / loss D: 11.771491:  18%|█▊        | 200/1110 [11:40<53:05,  3.50s/it]\u001b[A\n",
            "loss G: adv 6.954500 con 3.382764 gram 0.021376 color 8.745775 / loss D: 11.749040:  18%|█▊        | 200/1110 [11:43<53:05,  3.50s/it]\u001b[A\n",
            "loss G: adv 6.954500 con 3.382764 gram 0.021376 color 8.745775 / loss D: 11.749040:  18%|█▊        | 201/1110 [11:43<53:03,  3.50s/it]\u001b[A\n",
            "loss G: adv 6.947018 con 3.384369 gram 0.021401 color 8.743385 / loss D: 11.726920:  18%|█▊        | 201/1110 [11:47<53:03,  3.50s/it]\u001b[A\n",
            "loss G: adv 6.947018 con 3.384369 gram 0.021401 color 8.743385 / loss D: 11.726920:  18%|█▊        | 202/1110 [11:47<52:58,  3.50s/it]\u001b[A\n",
            "loss G: adv 6.941289 con 3.383791 gram 0.021391 color 8.729355 / loss D: 11.704240:  18%|█▊        | 202/1110 [11:50<52:58,  3.50s/it]\u001b[A\n",
            "loss G: adv 6.941289 con 3.383791 gram 0.021391 color 8.729355 / loss D: 11.704240:  18%|█▊        | 203/1110 [11:50<52:56,  3.50s/it]\u001b[A\n",
            "loss G: adv 6.932594 con 3.383776 gram 0.021366 color 8.733840 / loss D: 11.682571:  18%|█▊        | 203/1110 [11:54<52:56,  3.50s/it]\u001b[A\n",
            "loss G: adv 6.932594 con 3.383776 gram 0.021366 color 8.733840 / loss D: 11.682571:  18%|█▊        | 204/1110 [11:54<52:52,  3.50s/it]\u001b[A\n",
            "loss G: adv 6.924932 con 3.386255 gram 0.021348 color 8.736615 / loss D: 11.662231:  18%|█▊        | 204/1110 [11:57<52:52,  3.50s/it]\u001b[A\n",
            "loss G: adv 6.924932 con 3.386255 gram 0.021348 color 8.736615 / loss D: 11.662231:  18%|█▊        | 205/1110 [11:57<52:49,  3.50s/it]\u001b[A\n",
            "loss G: adv 6.916862 con 3.386286 gram 0.021335 color 8.731647 / loss D: 11.641869:  18%|█▊        | 205/1110 [12:01<52:49,  3.50s/it]\u001b[A\n",
            "loss G: adv 6.916862 con 3.386286 gram 0.021335 color 8.731647 / loss D: 11.641869:  19%|█▊        | 206/1110 [12:01<52:44,  3.50s/it]\u001b[A\n",
            "loss G: adv 6.909006 con 3.385863 gram 0.021309 color 8.737976 / loss D: 11.618037:  19%|█▊        | 206/1110 [12:04<52:44,  3.50s/it]\u001b[A\n",
            "loss G: adv 6.909006 con 3.385863 gram 0.021309 color 8.737976 / loss D: 11.618037:  19%|█▊        | 207/1110 [12:04<52:40,  3.50s/it]\u001b[A\n",
            "loss G: adv 6.900633 con 3.386533 gram 0.021301 color 8.741874 / loss D: 11.596912:  19%|█▊        | 207/1110 [12:08<52:40,  3.50s/it]\u001b[A\n",
            "loss G: adv 6.900633 con 3.386533 gram 0.021301 color 8.741874 / loss D: 11.596912:  19%|█▊        | 208/1110 [12:08<52:37,  3.50s/it]\u001b[A\n",
            "loss G: adv 6.893036 con 3.385564 gram 0.021303 color 8.747618 / loss D: 11.574451:  19%|█▊        | 208/1110 [12:11<52:37,  3.50s/it]\u001b[A\n",
            "loss G: adv 6.893036 con 3.385564 gram 0.021303 color 8.747618 / loss D: 11.574451:  19%|█▉        | 209/1110 [12:11<52:33,  3.50s/it]\u001b[A\n",
            "loss G: adv 6.888432 con 3.385835 gram 0.021321 color 8.743935 / loss D: 11.550662:  19%|█▉        | 209/1110 [12:15<52:33,  3.50s/it]\u001b[A\n",
            "loss G: adv 6.888432 con 3.385835 gram 0.021321 color 8.743935 / loss D: 11.550662:  19%|█▉        | 210/1110 [12:15<52:30,  3.50s/it]\u001b[A\n",
            "loss G: adv 6.881527 con 3.386296 gram 0.021314 color 8.740592 / loss D: 11.536023:  19%|█▉        | 210/1110 [12:18<52:30,  3.50s/it]\u001b[A\n",
            "loss G: adv 6.881527 con 3.386296 gram 0.021314 color 8.740592 / loss D: 11.536023:  19%|█▉        | 211/1110 [12:18<52:26,  3.50s/it]\u001b[A\n",
            "loss G: adv 6.875183 con 3.387324 gram 0.021308 color 8.734349 / loss D: 11.512983:  19%|█▉        | 211/1110 [12:22<52:26,  3.50s/it]\u001b[A\n",
            "loss G: adv 6.875183 con 3.387324 gram 0.021308 color 8.734349 / loss D: 11.512983:  19%|█▉        | 212/1110 [12:22<52:22,  3.50s/it]\u001b[A\n",
            "loss G: adv 6.867305 con 3.390081 gram 0.021285 color 8.727047 / loss D: 11.491496:  19%|█▉        | 212/1110 [12:25<52:22,  3.50s/it]\u001b[A\n",
            "loss G: adv 6.867305 con 3.390081 gram 0.021285 color 8.727047 / loss D: 11.491496:  19%|█▉        | 213/1110 [12:25<52:17,  3.50s/it]\u001b[A\n",
            "loss G: adv 6.859272 con 3.391289 gram 0.021269 color 8.718772 / loss D: 11.467298:  19%|█▉        | 213/1110 [12:29<52:17,  3.50s/it]\u001b[A\n",
            "loss G: adv 6.859272 con 3.391289 gram 0.021269 color 8.718772 / loss D: 11.467298:  19%|█▉        | 214/1110 [12:29<52:14,  3.50s/it]\u001b[A\n",
            "loss G: adv 6.853741 con 3.390323 gram 0.021275 color 8.708713 / loss D: 11.445493:  19%|█▉        | 214/1110 [12:32<52:14,  3.50s/it]\u001b[A\n",
            "loss G: adv 6.853741 con 3.390323 gram 0.021275 color 8.708713 / loss D: 11.445493:  19%|█▉        | 215/1110 [12:32<52:11,  3.50s/it]\u001b[A\n",
            "loss G: adv 6.844933 con 3.390033 gram 0.021254 color 8.709310 / loss D: 11.424645:  19%|█▉        | 215/1110 [12:36<52:11,  3.50s/it]\u001b[A\n",
            "loss G: adv 6.844933 con 3.390033 gram 0.021254 color 8.709310 / loss D: 11.424645:  19%|█▉        | 216/1110 [12:36<52:07,  3.50s/it]\u001b[A\n",
            "loss G: adv 6.839741 con 3.389432 gram 0.021268 color 8.708343 / loss D: 11.405030:  19%|█▉        | 216/1110 [12:39<52:07,  3.50s/it]\u001b[A\n",
            "loss G: adv 6.839741 con 3.389432 gram 0.021268 color 8.708343 / loss D: 11.405030:  20%|█▉        | 217/1110 [12:39<52:04,  3.50s/it]\u001b[A\n",
            "loss G: adv 6.834831 con 3.391164 gram 0.021270 color 8.705651 / loss D: 11.384008:  20%|█▉        | 217/1110 [12:43<52:04,  3.50s/it]\u001b[A\n",
            "loss G: adv 6.834831 con 3.391164 gram 0.021270 color 8.705651 / loss D: 11.384008:  20%|█▉        | 218/1110 [12:43<52:01,  3.50s/it]\u001b[A\n",
            "loss G: adv 6.828852 con 3.390036 gram 0.021271 color 8.701843 / loss D: 11.359795:  20%|█▉        | 218/1110 [12:46<52:01,  3.50s/it]\u001b[A\n",
            "loss G: adv 6.828852 con 3.390036 gram 0.021271 color 8.701843 / loss D: 11.359795:  20%|█▉        | 219/1110 [12:46<51:58,  3.50s/it]\u001b[A\n",
            "loss G: adv 6.822328 con 3.390288 gram 0.021280 color 8.710301 / loss D: 11.337240:  20%|█▉        | 219/1110 [12:50<51:58,  3.50s/it]\u001b[A\n",
            "loss G: adv 6.822328 con 3.390288 gram 0.021280 color 8.710301 / loss D: 11.337240:  20%|█▉        | 220/1110 [12:50<51:56,  3.50s/it]\u001b[A\n",
            "loss G: adv 6.816630 con 3.390300 gram 0.021285 color 8.701314 / loss D: 11.324468:  20%|█▉        | 220/1110 [12:53<51:56,  3.50s/it]\u001b[A\n",
            "loss G: adv 6.816630 con 3.390300 gram 0.021285 color 8.701314 / loss D: 11.324468:  20%|█▉        | 221/1110 [12:53<51:53,  3.50s/it]\u001b[A\n",
            "loss G: adv 6.809589 con 3.390296 gram 0.021291 color 8.697298 / loss D: 11.309086:  20%|█▉        | 221/1110 [12:57<51:53,  3.50s/it]\u001b[A\n",
            "loss G: adv 6.809589 con 3.390296 gram 0.021291 color 8.697298 / loss D: 11.309086:  20%|██        | 222/1110 [12:57<51:50,  3.50s/it]\u001b[A\n",
            "loss G: adv 6.805198 con 3.391104 gram 0.021259 color 8.692613 / loss D: 11.289756:  20%|██        | 222/1110 [13:00<51:50,  3.50s/it]\u001b[A\n",
            "loss G: adv 6.805198 con 3.391104 gram 0.021259 color 8.692613 / loss D: 11.289756:  20%|██        | 223/1110 [13:00<51:47,  3.50s/it]\u001b[A\n",
            "loss G: adv 6.797464 con 3.390345 gram 0.021240 color 8.699328 / loss D: 11.274974:  20%|██        | 223/1110 [13:04<51:47,  3.50s/it]\u001b[A\n",
            "loss G: adv 6.797464 con 3.390345 gram 0.021240 color 8.699328 / loss D: 11.274974:  20%|██        | 224/1110 [13:04<51:42,  3.50s/it]\u001b[A\n",
            "loss G: adv 6.791556 con 3.390043 gram 0.021257 color 8.690629 / loss D: 11.255111:  20%|██        | 224/1110 [13:07<51:42,  3.50s/it]\u001b[A\n",
            "loss G: adv 6.791556 con 3.390043 gram 0.021257 color 8.690629 / loss D: 11.255111:  20%|██        | 225/1110 [13:07<51:38,  3.50s/it]\u001b[A\n",
            "loss G: adv 6.782813 con 3.392840 gram 0.021260 color 8.696490 / loss D: 11.238074:  20%|██        | 225/1110 [13:11<51:38,  3.50s/it]\u001b[A\n",
            "loss G: adv 6.782813 con 3.392840 gram 0.021260 color 8.696490 / loss D: 11.238074:  20%|██        | 226/1110 [13:11<51:34,  3.50s/it]\u001b[A\n",
            "loss G: adv 6.776189 con 3.393377 gram 0.021242 color 8.692611 / loss D: 11.219252:  20%|██        | 226/1110 [13:14<51:34,  3.50s/it]\u001b[A\n",
            "loss G: adv 6.776189 con 3.393377 gram 0.021242 color 8.692611 / loss D: 11.219252:  20%|██        | 227/1110 [13:14<51:30,  3.50s/it]\u001b[A\n",
            "loss G: adv 6.770736 con 3.393356 gram 0.021248 color 8.712202 / loss D: 11.195730:  20%|██        | 227/1110 [13:18<51:30,  3.50s/it]\u001b[A\n",
            "loss G: adv 6.770736 con 3.393356 gram 0.021248 color 8.712202 / loss D: 11.195730:  21%|██        | 228/1110 [13:18<51:27,  3.50s/it]\u001b[A\n",
            "loss G: adv 6.763302 con 3.395201 gram 0.021240 color 8.717049 / loss D: 11.177200:  21%|██        | 228/1110 [13:21<51:27,  3.50s/it]\u001b[A\n",
            "loss G: adv 6.763302 con 3.395201 gram 0.021240 color 8.717049 / loss D: 11.177200:  21%|██        | 229/1110 [13:21<51:23,  3.50s/it]\u001b[A\n",
            "loss G: adv 6.758105 con 3.396342 gram 0.021232 color 8.709090 / loss D: 11.155509:  21%|██        | 229/1110 [13:25<51:23,  3.50s/it]\u001b[A\n",
            "loss G: adv 6.758105 con 3.396342 gram 0.021232 color 8.709090 / loss D: 11.155509:  21%|██        | 230/1110 [13:25<51:20,  3.50s/it]\u001b[A\n",
            "loss G: adv 6.752147 con 3.396811 gram 0.021218 color 8.712909 / loss D: 11.136520:  21%|██        | 230/1110 [13:28<51:20,  3.50s/it]\u001b[A\n",
            "loss G: adv 6.752147 con 3.396811 gram 0.021218 color 8.712909 / loss D: 11.136520:  21%|██        | 231/1110 [13:28<51:16,  3.50s/it]\u001b[A\n",
            "loss G: adv 6.746234 con 3.396840 gram 0.021203 color 8.721664 / loss D: 11.116844:  21%|██        | 231/1110 [13:32<51:16,  3.50s/it]\u001b[A\n",
            "loss G: adv 6.746234 con 3.396840 gram 0.021203 color 8.721664 / loss D: 11.116844:  21%|██        | 232/1110 [13:32<51:12,  3.50s/it]\u001b[A\n",
            "loss G: adv 6.737700 con 3.399212 gram 0.021201 color 8.712395 / loss D: 11.097905:  21%|██        | 232/1110 [13:35<51:12,  3.50s/it]\u001b[A\n",
            "loss G: adv 6.737700 con 3.399212 gram 0.021201 color 8.712395 / loss D: 11.097905:  21%|██        | 233/1110 [13:35<51:09,  3.50s/it]\u001b[A\n",
            "loss G: adv 6.730845 con 3.401299 gram 0.021213 color 8.711419 / loss D: 11.074025:  21%|██        | 233/1110 [13:39<51:09,  3.50s/it]\u001b[A\n",
            "loss G: adv 6.730845 con 3.401299 gram 0.021213 color 8.711419 / loss D: 11.074025:  21%|██        | 234/1110 [13:39<51:06,  3.50s/it]\u001b[A\n",
            "loss G: adv 6.723088 con 3.404542 gram 0.021205 color 8.706261 / loss D: 11.056738:  21%|██        | 234/1110 [13:42<51:06,  3.50s/it]\u001b[A\n",
            "loss G: adv 6.723088 con 3.404542 gram 0.021205 color 8.706261 / loss D: 11.056738:  21%|██        | 235/1110 [13:42<51:03,  3.50s/it]\u001b[A\n",
            "loss G: adv 6.715348 con 3.405605 gram 0.021215 color 8.696135 / loss D: 11.040044:  21%|██        | 235/1110 [13:46<51:03,  3.50s/it]\u001b[A\n",
            "loss G: adv 6.715348 con 3.405605 gram 0.021215 color 8.696135 / loss D: 11.040044:  21%|██▏       | 236/1110 [13:46<50:59,  3.50s/it]\u001b[A\n",
            "loss G: adv 6.708590 con 3.405844 gram 0.021190 color 8.689470 / loss D: 11.021804:  21%|██▏       | 236/1110 [13:49<50:59,  3.50s/it]\u001b[A\n",
            "loss G: adv 6.708590 con 3.405844 gram 0.021190 color 8.689470 / loss D: 11.021804:  21%|██▏       | 237/1110 [13:49<50:56,  3.50s/it]\u001b[A\n",
            "loss G: adv 6.700802 con 3.407759 gram 0.021190 color 8.678474 / loss D: 11.003293:  21%|██▏       | 237/1110 [13:53<50:56,  3.50s/it]\u001b[A\n",
            "loss G: adv 6.700802 con 3.407759 gram 0.021190 color 8.678474 / loss D: 11.003293:  21%|██▏       | 238/1110 [13:53<50:50,  3.50s/it]\u001b[A\n",
            "loss G: adv 6.695797 con 3.409001 gram 0.021197 color 8.679014 / loss D: 10.989395:  21%|██▏       | 238/1110 [13:56<50:50,  3.50s/it]\u001b[A\n",
            "loss G: adv 6.695797 con 3.409001 gram 0.021197 color 8.679014 / loss D: 10.989395:  22%|██▏       | 239/1110 [13:56<50:46,  3.50s/it]\u001b[A\n",
            "loss G: adv 6.689337 con 3.409602 gram 0.021168 color 8.685434 / loss D: 10.973645:  22%|██▏       | 239/1110 [14:00<50:46,  3.50s/it]\u001b[A\n",
            "loss G: adv 6.689337 con 3.409602 gram 0.021168 color 8.685434 / loss D: 10.973645:  22%|██▏       | 240/1110 [14:00<50:43,  3.50s/it]\u001b[A\n",
            "loss G: adv 6.687736 con 3.411025 gram 0.021149 color 8.673692 / loss D: 10.956992:  22%|██▏       | 240/1110 [14:03<50:43,  3.50s/it]\u001b[A\n",
            "loss G: adv 6.687736 con 3.411025 gram 0.021149 color 8.673692 / loss D: 10.956992:  22%|██▏       | 241/1110 [14:03<50:40,  3.50s/it]\u001b[A\n",
            "loss G: adv 6.688772 con 3.411614 gram 0.021147 color 8.671341 / loss D: 10.951629:  22%|██▏       | 241/1110 [14:07<50:40,  3.50s/it]\u001b[A\n",
            "loss G: adv 6.688772 con 3.411614 gram 0.021147 color 8.671341 / loss D: 10.951629:  22%|██▏       | 242/1110 [14:07<50:38,  3.50s/it]\u001b[A\n",
            "loss G: adv 6.691942 con 3.412190 gram 0.021126 color 8.659388 / loss D: 10.949233:  22%|██▏       | 242/1110 [14:10<50:38,  3.50s/it]\u001b[A\n",
            "loss G: adv 6.691942 con 3.412190 gram 0.021126 color 8.659388 / loss D: 10.949233:  22%|██▏       | 243/1110 [14:10<50:34,  3.50s/it]\u001b[A\n",
            "loss G: adv 6.691259 con 3.412166 gram 0.021103 color 8.651878 / loss D: 10.945780:  22%|██▏       | 243/1110 [14:14<50:34,  3.50s/it]\u001b[A\n",
            "loss G: adv 6.691259 con 3.412166 gram 0.021103 color 8.651878 / loss D: 10.945780:  22%|██▏       | 244/1110 [14:14<50:31,  3.50s/it]\u001b[A\n",
            "loss G: adv 6.690780 con 3.412016 gram 0.021072 color 8.654132 / loss D: 10.942300:  22%|██▏       | 244/1110 [14:17<50:31,  3.50s/it]\u001b[A\n",
            "loss G: adv 6.690780 con 3.412016 gram 0.021072 color 8.654132 / loss D: 10.942300:  22%|██▏       | 245/1110 [14:17<50:26,  3.50s/it]\u001b[A\n",
            "loss G: adv 6.688562 con 3.412934 gram 0.021081 color 8.644927 / loss D: 10.935461:  22%|██▏       | 245/1110 [14:21<50:26,  3.50s/it]\u001b[A\n",
            "loss G: adv 6.688562 con 3.412934 gram 0.021081 color 8.644927 / loss D: 10.935461:  22%|██▏       | 246/1110 [14:21<50:24,  3.50s/it]\u001b[A\n",
            "loss G: adv 6.688484 con 3.411579 gram 0.021101 color 8.632612 / loss D: 10.922395:  22%|██▏       | 246/1110 [14:24<50:24,  3.50s/it]\u001b[A\n",
            "loss G: adv 6.688484 con 3.411579 gram 0.021101 color 8.632612 / loss D: 10.922395:  22%|██▏       | 247/1110 [14:24<50:20,  3.50s/it]\u001b[A\n",
            "loss G: adv 6.686660 con 3.412311 gram 0.021085 color 8.632454 / loss D: 10.913960:  22%|██▏       | 247/1110 [14:28<50:20,  3.50s/it]\u001b[A\n",
            "loss G: adv 6.686660 con 3.412311 gram 0.021085 color 8.632454 / loss D: 10.913960:  22%|██▏       | 248/1110 [14:28<50:16,  3.50s/it]\u001b[A\n",
            "loss G: adv 6.684794 con 3.413679 gram 0.021080 color 8.630659 / loss D: 10.903407:  22%|██▏       | 248/1110 [14:31<50:16,  3.50s/it]\u001b[A\n",
            "loss G: adv 6.684794 con 3.413679 gram 0.021080 color 8.630659 / loss D: 10.903407:  22%|██▏       | 249/1110 [14:31<50:13,  3.50s/it]\u001b[A\n",
            "loss G: adv 6.686473 con 3.414197 gram 0.021086 color 8.624860 / loss D: 10.903131:  22%|██▏       | 249/1110 [14:35<50:13,  3.50s/it]\u001b[A\n",
            "loss G: adv 6.686473 con 3.414197 gram 0.021086 color 8.624860 / loss D: 10.903131:  23%|██▎       | 250/1110 [14:35<50:10,  3.50s/it]\u001b[A\n",
            "loss G: adv 6.687679 con 3.414365 gram 0.021075 color 8.618508 / loss D: 10.905455:  23%|██▎       | 250/1110 [14:38<50:10,  3.50s/it]\u001b[A\n",
            "loss G: adv 6.687679 con 3.414365 gram 0.021075 color 8.618508 / loss D: 10.905455:  23%|██▎       | 251/1110 [14:38<50:06,  3.50s/it]\u001b[A\n",
            "loss G: adv 6.683159 con 3.415777 gram 0.021083 color 8.608463 / loss D: 10.909636:  23%|██▎       | 251/1110 [14:42<50:06,  3.50s/it]\u001b[A\n",
            "loss G: adv 6.683159 con 3.415777 gram 0.021083 color 8.608463 / loss D: 10.909636:  23%|██▎       | 252/1110 [14:42<50:01,  3.50s/it]\u001b[A\n",
            "loss G: adv 6.676431 con 3.416662 gram 0.021085 color 8.610265 / loss D: 10.901712:  23%|██▎       | 252/1110 [14:45<50:01,  3.50s/it]\u001b[A\n",
            "loss G: adv 6.676431 con 3.416662 gram 0.021085 color 8.610265 / loss D: 10.901712:  23%|██▎       | 253/1110 [14:45<49:59,  3.50s/it]\u001b[A\n",
            "loss G: adv 6.672718 con 3.417364 gram 0.021078 color 8.596793 / loss D: 10.887211:  23%|██▎       | 253/1110 [14:49<49:59,  3.50s/it]\u001b[A\n",
            "loss G: adv 6.672718 con 3.417364 gram 0.021078 color 8.596793 / loss D: 10.887211:  23%|██▎       | 254/1110 [14:49<49:53,  3.50s/it]\u001b[A\n",
            "loss G: adv 6.667727 con 3.418672 gram 0.021090 color 8.590338 / loss D: 10.872076:  23%|██▎       | 254/1110 [14:52<49:53,  3.50s/it]\u001b[A\n",
            "loss G: adv 6.667727 con 3.418672 gram 0.021090 color 8.590338 / loss D: 10.872076:  23%|██▎       | 255/1110 [14:52<49:52,  3.50s/it]\u001b[A\n",
            "loss G: adv 6.661950 con 3.419768 gram 0.021077 color 8.590331 / loss D: 10.855834:  23%|██▎       | 255/1110 [14:56<49:52,  3.50s/it]\u001b[A\n",
            "loss G: adv 6.661950 con 3.419768 gram 0.021077 color 8.590331 / loss D: 10.855834:  23%|██▎       | 256/1110 [14:56<49:48,  3.50s/it]\u001b[A\n",
            "loss G: adv 6.655779 con 3.419910 gram 0.021079 color 8.588317 / loss D: 10.840912:  23%|██▎       | 256/1110 [14:59<49:48,  3.50s/it]\u001b[A\n",
            "loss G: adv 6.655779 con 3.419910 gram 0.021079 color 8.588317 / loss D: 10.840912:  23%|██▎       | 257/1110 [14:59<49:45,  3.50s/it]\u001b[A\n",
            "loss G: adv 6.651420 con 3.420876 gram 0.021066 color 8.579993 / loss D: 10.823852:  23%|██▎       | 257/1110 [15:03<49:45,  3.50s/it]\u001b[A\n",
            "loss G: adv 6.651420 con 3.420876 gram 0.021066 color 8.579993 / loss D: 10.823852:  23%|██▎       | 258/1110 [15:03<49:39,  3.50s/it]\u001b[A\n",
            "loss G: adv 6.646693 con 3.420564 gram 0.021053 color 8.575974 / loss D: 10.807963:  23%|██▎       | 258/1110 [15:06<49:39,  3.50s/it]\u001b[A\n",
            "loss G: adv 6.646693 con 3.420564 gram 0.021053 color 8.575974 / loss D: 10.807963:  23%|██▎       | 259/1110 [15:06<49:36,  3.50s/it]\u001b[A\n",
            "loss G: adv 6.641375 con 3.422867 gram 0.021077 color 8.578804 / loss D: 10.793742:  23%|██▎       | 259/1110 [15:10<49:36,  3.50s/it]\u001b[A\n",
            "loss G: adv 6.641375 con 3.422867 gram 0.021077 color 8.578804 / loss D: 10.793742:  23%|██▎       | 260/1110 [15:10<49:32,  3.50s/it]\u001b[A\n",
            "loss G: adv 6.636708 con 3.423739 gram 0.021084 color 8.577204 / loss D: 10.778834:  23%|██▎       | 260/1110 [15:13<49:32,  3.50s/it]\u001b[A\n",
            "loss G: adv 6.636708 con 3.423739 gram 0.021084 color 8.577204 / loss D: 10.778834:  24%|██▎       | 261/1110 [15:13<49:27,  3.49s/it]\u001b[A\n",
            "loss G: adv 6.632778 con 3.423609 gram 0.021075 color 8.570330 / loss D: 10.758387:  24%|██▎       | 261/1110 [15:17<49:27,  3.49s/it]\u001b[A\n",
            "loss G: adv 6.632778 con 3.423609 gram 0.021075 color 8.570330 / loss D: 10.758387:  24%|██▎       | 262/1110 [15:17<49:26,  3.50s/it]\u001b[A\n",
            "loss G: adv 6.627712 con 3.423881 gram 0.021048 color 8.575453 / loss D: 10.739608:  24%|██▎       | 262/1110 [15:20<49:26,  3.50s/it]\u001b[A\n",
            "loss G: adv 6.627712 con 3.423881 gram 0.021048 color 8.575453 / loss D: 10.739608:  24%|██▎       | 263/1110 [15:20<49:22,  3.50s/it]\u001b[A\n",
            "loss G: adv 6.621759 con 3.423495 gram 0.021052 color 8.578495 / loss D: 10.722263:  24%|██▎       | 263/1110 [15:24<49:22,  3.50s/it]\u001b[A\n",
            "loss G: adv 6.621759 con 3.423495 gram 0.021052 color 8.578495 / loss D: 10.722263:  24%|██▍       | 264/1110 [15:24<49:18,  3.50s/it]\u001b[A\n",
            "loss G: adv 6.618400 con 3.423058 gram 0.021073 color 8.578132 / loss D: 10.708236:  24%|██▍       | 264/1110 [15:27<49:18,  3.50s/it]\u001b[A\n",
            "loss G: adv 6.618400 con 3.423058 gram 0.021073 color 8.578132 / loss D: 10.708236:  24%|██▍       | 265/1110 [15:27<49:13,  3.50s/it]\u001b[A\n",
            "loss G: adv 6.614455 con 3.424234 gram 0.021088 color 8.579877 / loss D: 10.695210:  24%|██▍       | 265/1110 [15:31<49:13,  3.50s/it]\u001b[A\n",
            "loss G: adv 6.614455 con 3.424234 gram 0.021088 color 8.579877 / loss D: 10.695210:  24%|██▍       | 266/1110 [15:31<49:09,  3.49s/it]\u001b[A\n",
            "loss G: adv 6.607902 con 3.424413 gram 0.021086 color 8.579079 / loss D: 10.682866:  24%|██▍       | 266/1110 [15:34<49:09,  3.49s/it]\u001b[A\n",
            "loss G: adv 6.607902 con 3.424413 gram 0.021086 color 8.579079 / loss D: 10.682866:  24%|██▍       | 267/1110 [15:34<49:06,  3.50s/it]\u001b[A\n",
            "loss G: adv 6.600152 con 3.425953 gram 0.021073 color 8.573802 / loss D: 10.669643:  24%|██▍       | 267/1110 [15:38<49:06,  3.50s/it]\u001b[A\n",
            "loss G: adv 6.600152 con 3.425953 gram 0.021073 color 8.573802 / loss D: 10.669643:  24%|██▍       | 268/1110 [15:38<49:01,  3.49s/it]\u001b[A\n",
            "loss G: adv 6.595647 con 3.426090 gram 0.021067 color 8.566580 / loss D: 10.652923:  24%|██▍       | 268/1110 [15:41<49:01,  3.49s/it]\u001b[A\n",
            "loss G: adv 6.595647 con 3.426090 gram 0.021067 color 8.566580 / loss D: 10.652923:  24%|██▍       | 269/1110 [15:41<48:56,  3.49s/it]\u001b[A\n",
            "loss G: adv 6.590219 con 3.425973 gram 0.021075 color 8.582540 / loss D: 10.640057:  24%|██▍       | 269/1110 [15:44<48:56,  3.49s/it]\u001b[A\n",
            "loss G: adv 6.590219 con 3.425973 gram 0.021075 color 8.582540 / loss D: 10.640057:  24%|██▍       | 270/1110 [15:44<48:54,  3.49s/it]\u001b[A\n",
            "loss G: adv 6.584898 con 3.426273 gram 0.021060 color 8.578387 / loss D: 10.623875:  24%|██▍       | 270/1110 [15:48<48:54,  3.49s/it]\u001b[A\n",
            "loss G: adv 6.584898 con 3.426273 gram 0.021060 color 8.578387 / loss D: 10.623875:  24%|██▍       | 271/1110 [15:48<48:48,  3.49s/it]\u001b[A\n",
            "loss G: adv 6.579919 con 3.426006 gram 0.021079 color 8.569564 / loss D: 10.606381:  24%|██▍       | 271/1110 [15:51<48:48,  3.49s/it]\u001b[A\n",
            "loss G: adv 6.579919 con 3.426006 gram 0.021079 color 8.569564 / loss D: 10.606381:  25%|██▍       | 272/1110 [15:51<48:46,  3.49s/it]\u001b[A\n",
            "loss G: adv 6.577062 con 3.426170 gram 0.021075 color 8.561643 / loss D: 10.588914:  25%|██▍       | 272/1110 [15:55<48:46,  3.49s/it]\u001b[A\n",
            "loss G: adv 6.577062 con 3.426170 gram 0.021075 color 8.561643 / loss D: 10.588914:  25%|██▍       | 273/1110 [15:55<48:42,  3.49s/it]\u001b[A\n",
            "loss G: adv 6.573423 con 3.428491 gram 0.021066 color 8.556534 / loss D: 10.575472:  25%|██▍       | 273/1110 [15:58<48:42,  3.49s/it]\u001b[A\n",
            "loss G: adv 6.573423 con 3.428491 gram 0.021066 color 8.556534 / loss D: 10.575472:  25%|██▍       | 274/1110 [15:58<48:39,  3.49s/it]\u001b[A\n",
            "loss G: adv 6.569643 con 3.428061 gram 0.021066 color 8.550403 / loss D: 10.561264:  25%|██▍       | 274/1110 [16:02<48:39,  3.49s/it]\u001b[A\n",
            "loss G: adv 6.569643 con 3.428061 gram 0.021066 color 8.550403 / loss D: 10.561264:  25%|██▍       | 275/1110 [16:02<48:34,  3.49s/it]\u001b[A\n",
            "loss G: adv 6.564456 con 3.429882 gram 0.021060 color 8.547032 / loss D: 10.549863:  25%|██▍       | 275/1110 [16:05<48:34,  3.49s/it]\u001b[A\n",
            "loss G: adv 6.564456 con 3.429882 gram 0.021060 color 8.547032 / loss D: 10.549863:  25%|██▍       | 276/1110 [16:05<48:33,  3.49s/it]\u001b[A\n",
            "loss G: adv 6.557691 con 3.430793 gram 0.021057 color 8.555522 / loss D: 10.536657:  25%|██▍       | 276/1110 [16:09<48:33,  3.49s/it]\u001b[A\n",
            "loss G: adv 6.557691 con 3.430793 gram 0.021057 color 8.555522 / loss D: 10.536657:  25%|██▍       | 277/1110 [16:09<48:27,  3.49s/it]\u001b[A\n",
            "loss G: adv 6.551990 con 3.430816 gram 0.021060 color 8.550511 / loss D: 10.523442:  25%|██▍       | 277/1110 [16:12<48:27,  3.49s/it]\u001b[A\n",
            "loss G: adv 6.551990 con 3.430816 gram 0.021060 color 8.550511 / loss D: 10.523442:  25%|██▌       | 278/1110 [16:12<48:23,  3.49s/it]\u001b[A\n",
            "loss G: adv 6.548525 con 3.430101 gram 0.021061 color 8.549114 / loss D: 10.507872:  25%|██▌       | 278/1110 [16:16<48:23,  3.49s/it]\u001b[A\n",
            "loss G: adv 6.548525 con 3.430101 gram 0.021061 color 8.549114 / loss D: 10.507872:  25%|██▌       | 279/1110 [16:16<48:17,  3.49s/it]\u001b[A\n",
            "loss G: adv 6.545195 con 3.428430 gram 0.021045 color 8.557801 / loss D: 10.492704:  25%|██▌       | 279/1110 [16:19<48:17,  3.49s/it]\u001b[A\n",
            "loss G: adv 6.545195 con 3.428430 gram 0.021045 color 8.557801 / loss D: 10.492704:  25%|██▌       | 280/1110 [16:19<48:13,  3.49s/it]\u001b[A\n",
            "loss G: adv 6.541454 con 3.428473 gram 0.021033 color 8.545500 / loss D: 10.482614:  25%|██▌       | 280/1110 [16:23<48:13,  3.49s/it]\u001b[A\n",
            "loss G: adv 6.541454 con 3.428473 gram 0.021033 color 8.545500 / loss D: 10.482614:  25%|██▌       | 281/1110 [16:23<48:11,  3.49s/it]\u001b[A\n",
            "loss G: adv 6.539097 con 3.427420 gram 0.021026 color 8.544231 / loss D: 10.468380:  25%|██▌       | 281/1110 [16:26<48:11,  3.49s/it]\u001b[A\n",
            "loss G: adv 6.539097 con 3.427420 gram 0.021026 color 8.544231 / loss D: 10.468380:  25%|██▌       | 282/1110 [16:26<48:07,  3.49s/it]\u001b[A\n",
            "loss G: adv 6.534127 con 3.426891 gram 0.021039 color 8.561562 / loss D: 10.457286:  25%|██▌       | 282/1110 [16:30<48:07,  3.49s/it]\u001b[A\n",
            "loss G: adv 6.534127 con 3.426891 gram 0.021039 color 8.561562 / loss D: 10.457286:  25%|██▌       | 283/1110 [16:30<48:04,  3.49s/it]\u001b[A\n",
            "loss G: adv 6.529444 con 3.426450 gram 0.021023 color 8.563152 / loss D: 10.444109:  25%|██▌       | 283/1110 [16:33<48:04,  3.49s/it]\u001b[A\n",
            "loss G: adv 6.529444 con 3.426450 gram 0.021023 color 8.563152 / loss D: 10.444109:  26%|██▌       | 284/1110 [16:33<48:04,  3.49s/it]\u001b[A\n",
            "loss G: adv 6.523838 con 3.426110 gram 0.021015 color 8.564628 / loss D: 10.431193:  26%|██▌       | 284/1110 [16:37<48:04,  3.49s/it]\u001b[A\n",
            "loss G: adv 6.523838 con 3.426110 gram 0.021015 color 8.564628 / loss D: 10.431193:  26%|██▌       | 285/1110 [16:37<48:03,  3.50s/it]\u001b[A\n",
            "loss G: adv 6.521066 con 3.424809 gram 0.021016 color 8.557153 / loss D: 10.416161:  26%|██▌       | 285/1110 [16:40<48:03,  3.50s/it]\u001b[A\n",
            "loss G: adv 6.521066 con 3.424809 gram 0.021016 color 8.557153 / loss D: 10.416161:  26%|██▌       | 286/1110 [16:40<48:01,  3.50s/it]\u001b[A\n",
            "loss G: adv 6.517946 con 3.424922 gram 0.021006 color 8.553050 / loss D: 10.405451:  26%|██▌       | 286/1110 [16:44<48:01,  3.50s/it]\u001b[A\n",
            "loss G: adv 6.517946 con 3.424922 gram 0.021006 color 8.553050 / loss D: 10.405451:  26%|██▌       | 287/1110 [16:44<47:58,  3.50s/it]\u001b[A\n",
            "loss G: adv 6.516012 con 3.424277 gram 0.020981 color 8.548536 / loss D: 10.397315:  26%|██▌       | 287/1110 [16:47<47:58,  3.50s/it]\u001b[A\n",
            "loss G: adv 6.516012 con 3.424277 gram 0.020981 color 8.548536 / loss D: 10.397315:  26%|██▌       | 288/1110 [16:47<47:54,  3.50s/it]\u001b[A\n",
            "loss G: adv 6.510884 con 3.424699 gram 0.020979 color 8.546654 / loss D: 10.387224:  26%|██▌       | 288/1110 [16:51<47:54,  3.50s/it]\u001b[A\n",
            "loss G: adv 6.510884 con 3.424699 gram 0.020979 color 8.546654 / loss D: 10.387224:  26%|██▌       | 289/1110 [16:51<47:53,  3.50s/it]\u001b[A\n",
            "loss G: adv 6.505225 con 3.425567 gram 0.020964 color 8.563422 / loss D: 10.372887:  26%|██▌       | 289/1110 [16:54<47:53,  3.50s/it]\u001b[A\n",
            "loss G: adv 6.505225 con 3.425567 gram 0.020964 color 8.563422 / loss D: 10.372887:  26%|██▌       | 290/1110 [16:54<47:50,  3.50s/it]\u001b[A\n",
            "loss G: adv 6.500857 con 3.425069 gram 0.020944 color 8.562522 / loss D: 10.357660:  26%|██▌       | 290/1110 [16:58<47:50,  3.50s/it]\u001b[A\n",
            "loss G: adv 6.500857 con 3.425069 gram 0.020944 color 8.562522 / loss D: 10.357660:  26%|██▌       | 291/1110 [16:58<47:45,  3.50s/it]\u001b[A\n",
            "loss G: adv 6.495776 con 3.425371 gram 0.020973 color 8.556513 / loss D: 10.348379:  26%|██▌       | 291/1110 [17:01<47:45,  3.50s/it]\u001b[A\n",
            "loss G: adv 6.495776 con 3.425371 gram 0.020973 color 8.556513 / loss D: 10.348379:  26%|██▋       | 292/1110 [17:01<47:42,  3.50s/it]\u001b[A\n",
            "loss G: adv 6.494711 con 3.424962 gram 0.020976 color 8.557882 / loss D: 10.336853:  26%|██▋       | 292/1110 [17:05<47:42,  3.50s/it]\u001b[A\n",
            "loss G: adv 6.494711 con 3.424962 gram 0.020976 color 8.557882 / loss D: 10.336853:  26%|██▋       | 293/1110 [17:05<47:38,  3.50s/it]\u001b[A\n",
            "loss G: adv 6.491444 con 3.423786 gram 0.020977 color 8.548549 / loss D: 10.320779:  26%|██▋       | 293/1110 [17:08<47:38,  3.50s/it]\u001b[A\n",
            "loss G: adv 6.491444 con 3.423786 gram 0.020977 color 8.548549 / loss D: 10.320779:  26%|██▋       | 294/1110 [17:08<47:34,  3.50s/it]\u001b[A\n",
            "loss G: adv 6.490163 con 3.423775 gram 0.020968 color 8.543344 / loss D: 10.304635:  26%|██▋       | 294/1110 [17:12<47:34,  3.50s/it]\u001b[A\n",
            "loss G: adv 6.490163 con 3.423775 gram 0.020968 color 8.543344 / loss D: 10.304635:  27%|██▋       | 295/1110 [17:12<47:31,  3.50s/it]\u001b[A\n",
            "loss G: adv 6.486131 con 3.422815 gram 0.020959 color 8.540092 / loss D: 10.294854:  27%|██▋       | 295/1110 [17:15<47:31,  3.50s/it]\u001b[A\n",
            "loss G: adv 6.486131 con 3.422815 gram 0.020959 color 8.540092 / loss D: 10.294854:  27%|██▋       | 296/1110 [17:15<47:29,  3.50s/it]\u001b[A\n",
            "loss G: adv 6.484916 con 3.422864 gram 0.020948 color 8.531967 / loss D: 10.282175:  27%|██▋       | 296/1110 [17:19<47:29,  3.50s/it]\u001b[A\n",
            "loss G: adv 6.484916 con 3.422864 gram 0.020948 color 8.531967 / loss D: 10.282175:  27%|██▋       | 297/1110 [17:19<47:27,  3.50s/it]\u001b[A\n",
            "loss G: adv 6.482655 con 3.422721 gram 0.020964 color 8.545004 / loss D: 10.267020:  27%|██▋       | 297/1110 [17:22<47:27,  3.50s/it]\u001b[A\n",
            "loss G: adv 6.482655 con 3.422721 gram 0.020964 color 8.545004 / loss D: 10.267020:  27%|██▋       | 298/1110 [17:22<47:24,  3.50s/it]\u001b[A\n",
            "loss G: adv 6.477781 con 3.423719 gram 0.020967 color 8.539789 / loss D: 10.254471:  27%|██▋       | 298/1110 [17:26<47:24,  3.50s/it]\u001b[A\n",
            "loss G: adv 6.477781 con 3.423719 gram 0.020967 color 8.539789 / loss D: 10.254471:  27%|██▋       | 299/1110 [17:26<47:19,  3.50s/it]\u001b[A\n",
            "loss G: adv 6.473370 con 3.423260 gram 0.020974 color 8.530503 / loss D: 10.242065:  27%|██▋       | 299/1110 [17:29<47:19,  3.50s/it]\u001b[A\n",
            "loss G: adv 6.473370 con 3.423260 gram 0.020974 color 8.530503 / loss D: 10.242065:  27%|██▋       | 300/1110 [17:29<47:17,  3.50s/it]\u001b[A\n",
            "loss G: adv 6.465875 con 3.422539 gram 0.020985 color 8.521676 / loss D: 10.231082:  27%|██▋       | 300/1110 [17:33<47:17,  3.50s/it]\u001b[A\n",
            "loss G: adv 6.465875 con 3.422539 gram 0.020985 color 8.521676 / loss D: 10.231082:  27%|██▋       | 301/1110 [17:33<47:13,  3.50s/it]\u001b[A\n",
            "loss G: adv 6.459428 con 3.424815 gram 0.020991 color 8.513436 / loss D: 10.219921:  27%|██▋       | 301/1110 [17:36<47:13,  3.50s/it]\u001b[A\n",
            "loss G: adv 6.459428 con 3.424815 gram 0.020991 color 8.513436 / loss D: 10.219921:  27%|██▋       | 302/1110 [17:36<47:08,  3.50s/it]\u001b[A\n",
            "loss G: adv 6.454645 con 3.424693 gram 0.020997 color 8.507609 / loss D: 10.206346:  27%|██▋       | 302/1110 [17:40<47:08,  3.50s/it]\u001b[A\n",
            "loss G: adv 6.454645 con 3.424693 gram 0.020997 color 8.507609 / loss D: 10.206346:  27%|██▋       | 303/1110 [17:40<47:05,  3.50s/it]\u001b[A\n",
            "loss G: adv 6.450352 con 3.424769 gram 0.020989 color 8.506793 / loss D: 10.191774:  27%|██▋       | 303/1110 [17:43<47:05,  3.50s/it]\u001b[A\n",
            "loss G: adv 6.450352 con 3.424769 gram 0.020989 color 8.506793 / loss D: 10.191774:  27%|██▋       | 304/1110 [17:43<47:01,  3.50s/it]\u001b[A\n",
            "loss G: adv 6.446314 con 3.425080 gram 0.020983 color 8.499923 / loss D: 10.180131:  27%|██▋       | 304/1110 [17:47<47:01,  3.50s/it]\u001b[A\n",
            "loss G: adv 6.446314 con 3.425080 gram 0.020983 color 8.499923 / loss D: 10.180131:  27%|██▋       | 305/1110 [17:47<46:57,  3.50s/it]\u001b[A\n",
            "loss G: adv 6.443183 con 3.425057 gram 0.020999 color 8.497207 / loss D: 10.166697:  27%|██▋       | 305/1110 [17:50<46:57,  3.50s/it]\u001b[A\n",
            "loss G: adv 6.443183 con 3.425057 gram 0.020999 color 8.497207 / loss D: 10.166697:  28%|██▊       | 306/1110 [17:50<46:53,  3.50s/it]\u001b[A\n",
            "loss G: adv 6.441234 con 3.425682 gram 0.020995 color 8.497022 / loss D: 10.154244:  28%|██▊       | 306/1110 [17:54<46:53,  3.50s/it]\u001b[A\n",
            "loss G: adv 6.441234 con 3.425682 gram 0.020995 color 8.497022 / loss D: 10.154244:  28%|██▊       | 307/1110 [17:54<46:50,  3.50s/it]\u001b[A\n",
            "loss G: adv 6.437168 con 3.425084 gram 0.020987 color 8.491334 / loss D: 10.140579:  28%|██▊       | 307/1110 [17:57<46:50,  3.50s/it]\u001b[A\n",
            "loss G: adv 6.437168 con 3.425084 gram 0.020987 color 8.491334 / loss D: 10.140579:  28%|██▊       | 308/1110 [17:57<46:47,  3.50s/it]\u001b[A\n",
            "loss G: adv 6.433178 con 3.424164 gram 0.020978 color 8.486399 / loss D: 10.124388:  28%|██▊       | 308/1110 [18:01<46:47,  3.50s/it]\u001b[A\n",
            "loss G: adv 6.433178 con 3.424164 gram 0.020978 color 8.486399 / loss D: 10.124388:  28%|██▊       | 309/1110 [18:01<46:43,  3.50s/it]\u001b[A\n",
            "loss G: adv 6.431642 con 3.423260 gram 0.020996 color 8.487276 / loss D: 10.113704:  28%|██▊       | 309/1110 [18:04<46:43,  3.50s/it]\u001b[A\n",
            "loss G: adv 6.431642 con 3.423260 gram 0.020996 color 8.487276 / loss D: 10.113704:  28%|██▊       | 310/1110 [18:04<46:40,  3.50s/it]\u001b[A\n",
            "loss G: adv 6.428408 con 3.423751 gram 0.021006 color 8.485229 / loss D: 10.101967:  28%|██▊       | 310/1110 [18:08<46:40,  3.50s/it]\u001b[A\n",
            "loss G: adv 6.428408 con 3.423751 gram 0.021006 color 8.485229 / loss D: 10.101967:  28%|██▊       | 311/1110 [18:08<46:36,  3.50s/it]\u001b[A\n",
            "loss G: adv 6.426342 con 3.423353 gram 0.020994 color 8.484924 / loss D: 10.092680:  28%|██▊       | 311/1110 [18:11<46:36,  3.50s/it]\u001b[A\n",
            "loss G: adv 6.426342 con 3.423353 gram 0.020994 color 8.484924 / loss D: 10.092680:  28%|██▊       | 312/1110 [18:11<46:33,  3.50s/it]\u001b[A\n",
            "loss G: adv 6.426859 con 3.422209 gram 0.020988 color 8.472328 / loss D: 10.084999:  28%|██▊       | 312/1110 [18:15<46:33,  3.50s/it]\u001b[A\n",
            "loss G: adv 6.426859 con 3.422209 gram 0.020988 color 8.472328 / loss D: 10.084999:  28%|██▊       | 313/1110 [18:15<46:29,  3.50s/it]\u001b[A\n",
            "loss G: adv 6.431048 con 3.421995 gram 0.020986 color 8.468375 / loss D: 10.081008:  28%|██▊       | 313/1110 [18:18<46:29,  3.50s/it]\u001b[A\n",
            "loss G: adv 6.431048 con 3.421995 gram 0.020986 color 8.468375 / loss D: 10.081008:  28%|██▊       | 314/1110 [18:18<46:25,  3.50s/it]\u001b[A\n",
            "loss G: adv 6.437136 con 3.421583 gram 0.020984 color 8.466270 / loss D: 10.091026:  28%|██▊       | 314/1110 [18:22<46:25,  3.50s/it]\u001b[A\n",
            "loss G: adv 6.437136 con 3.421583 gram 0.020984 color 8.466270 / loss D: 10.091026:  28%|██▊       | 315/1110 [18:22<46:22,  3.50s/it]\u001b[A\n",
            "loss G: adv 6.442281 con 3.421265 gram 0.020983 color 8.461991 / loss D: 10.109616:  28%|██▊       | 315/1110 [18:25<46:22,  3.50s/it]\u001b[A\n",
            "loss G: adv 6.442281 con 3.421265 gram 0.020983 color 8.461991 / loss D: 10.109616:  28%|██▊       | 316/1110 [18:25<46:19,  3.50s/it]\u001b[A\n",
            "loss G: adv 6.445543 con 3.421921 gram 0.020983 color 8.461411 / loss D: 10.119989:  28%|██▊       | 316/1110 [18:29<46:19,  3.50s/it]\u001b[A\n",
            "loss G: adv 6.445543 con 3.421921 gram 0.020983 color 8.461411 / loss D: 10.119989:  29%|██▊       | 317/1110 [18:29<46:16,  3.50s/it]\u001b[A\n",
            "loss G: adv 6.458538 con 3.422431 gram 0.020999 color 8.461482 / loss D: 10.131209:  29%|██▊       | 317/1110 [18:32<46:16,  3.50s/it]\u001b[A\n",
            "loss G: adv 6.458538 con 3.422431 gram 0.020999 color 8.461482 / loss D: 10.131209:  29%|██▊       | 318/1110 [18:32<46:13,  3.50s/it]\u001b[A\n",
            "loss G: adv 6.467844 con 3.422522 gram 0.020987 color 8.450820 / loss D: 10.142593:  29%|██▊       | 318/1110 [18:36<46:13,  3.50s/it]\u001b[A\n",
            "loss G: adv 6.467844 con 3.422522 gram 0.020987 color 8.450820 / loss D: 10.142593:  29%|██▊       | 319/1110 [18:36<46:09,  3.50s/it]\u001b[A\n",
            "loss G: adv 6.469396 con 3.421468 gram 0.020971 color 8.447106 / loss D: 10.149702:  29%|██▊       | 319/1110 [18:39<46:09,  3.50s/it]\u001b[A\n",
            "loss G: adv 6.469396 con 3.421468 gram 0.020971 color 8.447106 / loss D: 10.149702:  29%|██▉       | 320/1110 [18:39<46:05,  3.50s/it]\u001b[A\n",
            "loss G: adv 6.469822 con 3.422652 gram 0.020958 color 8.441022 / loss D: 10.149365:  29%|██▉       | 320/1110 [18:43<46:05,  3.50s/it]\u001b[A\n",
            "loss G: adv 6.469822 con 3.422652 gram 0.020958 color 8.441022 / loss D: 10.149365:  29%|██▉       | 321/1110 [18:43<46:01,  3.50s/it]\u001b[A\n",
            "loss G: adv 6.482879 con 3.421345 gram 0.020946 color 8.435788 / loss D: 10.151755:  29%|██▉       | 321/1110 [18:46<46:01,  3.50s/it]\u001b[A\n",
            "loss G: adv 6.482879 con 3.421345 gram 0.020946 color 8.435788 / loss D: 10.151755:  29%|██▉       | 322/1110 [18:46<45:58,  3.50s/it]\u001b[A\n",
            "loss G: adv 6.480503 con 3.421328 gram 0.020937 color 8.429063 / loss D: 10.160348:  29%|██▉       | 322/1110 [18:50<45:58,  3.50s/it]\u001b[A\n",
            "loss G: adv 6.480503 con 3.421328 gram 0.020937 color 8.429063 / loss D: 10.160348:  29%|██▉       | 323/1110 [18:50<45:54,  3.50s/it]\u001b[A\n",
            "loss G: adv 6.477687 con 3.421497 gram 0.020936 color 8.432708 / loss D: 10.149326:  29%|██▉       | 323/1110 [18:53<45:54,  3.50s/it]\u001b[A\n",
            "loss G: adv 6.477687 con 3.421497 gram 0.020936 color 8.432708 / loss D: 10.149326:  29%|██▉       | 324/1110 [18:53<45:50,  3.50s/it]\u001b[A\n",
            "loss G: adv 6.472046 con 3.422470 gram 0.020930 color 8.430631 / loss D: 10.142446:  29%|██▉       | 324/1110 [18:57<45:50,  3.50s/it]\u001b[A\n",
            "loss G: adv 6.472046 con 3.422470 gram 0.020930 color 8.430631 / loss D: 10.142446:  29%|██▉       | 325/1110 [18:57<45:47,  3.50s/it]\u001b[A\n",
            "loss G: adv 6.469012 con 3.423553 gram 0.020925 color 8.424622 / loss D: 10.135087:  29%|██▉       | 325/1110 [19:00<45:47,  3.50s/it]\u001b[A\n",
            "loss G: adv 6.469012 con 3.423553 gram 0.020925 color 8.424622 / loss D: 10.135087:  29%|██▉       | 326/1110 [19:00<45:43,  3.50s/it]\u001b[A\n",
            "loss G: adv 6.465425 con 3.424720 gram 0.020947 color 8.415801 / loss D: 10.124928:  29%|██▉       | 326/1110 [19:04<45:43,  3.50s/it]\u001b[A\n",
            "loss G: adv 6.465425 con 3.424720 gram 0.020947 color 8.415801 / loss D: 10.124928:  29%|██▉       | 327/1110 [19:04<45:40,  3.50s/it]\u001b[A\n",
            "loss G: adv 6.464226 con 3.425275 gram 0.020921 color 8.409552 / loss D: 10.110704:  29%|██▉       | 327/1110 [19:07<45:40,  3.50s/it]\u001b[A\n",
            "loss G: adv 6.464226 con 3.425275 gram 0.020921 color 8.409552 / loss D: 10.110704:  30%|██▉       | 328/1110 [19:07<45:37,  3.50s/it]\u001b[A\n",
            "loss G: adv 6.460620 con 3.424903 gram 0.020923 color 8.406621 / loss D: 10.097461:  30%|██▉       | 328/1110 [19:11<45:37,  3.50s/it]\u001b[A\n",
            "loss G: adv 6.460620 con 3.424903 gram 0.020923 color 8.406621 / loss D: 10.097461:  30%|██▉       | 329/1110 [19:11<45:33,  3.50s/it]\u001b[A\n",
            "loss G: adv 6.456605 con 3.425277 gram 0.020924 color 8.401805 / loss D: 10.085190:  30%|██▉       | 329/1110 [19:14<45:33,  3.50s/it]\u001b[A\n",
            "loss G: adv 6.456605 con 3.425277 gram 0.020924 color 8.401805 / loss D: 10.085190:  30%|██▉       | 330/1110 [19:14<45:29,  3.50s/it]\u001b[A\n",
            "loss G: adv 6.453195 con 3.424194 gram 0.020915 color 8.401630 / loss D: 10.073911:  30%|██▉       | 330/1110 [19:18<45:29,  3.50s/it]\u001b[A\n",
            "loss G: adv 6.453195 con 3.424194 gram 0.020915 color 8.401630 / loss D: 10.073911:  30%|██▉       | 331/1110 [19:18<45:26,  3.50s/it]\u001b[A\n",
            "loss G: adv 6.448496 con 3.424129 gram 0.020925 color 8.402150 / loss D: 10.061088:  30%|██▉       | 331/1110 [19:21<45:26,  3.50s/it]\u001b[A\n",
            "loss G: adv 6.448496 con 3.424129 gram 0.020925 color 8.402150 / loss D: 10.061088:  30%|██▉       | 332/1110 [19:21<45:22,  3.50s/it]\u001b[A\n",
            "loss G: adv 6.443875 con 3.423194 gram 0.020939 color 8.400393 / loss D: 10.049749:  30%|██▉       | 332/1110 [19:25<45:22,  3.50s/it]\u001b[A\n",
            "loss G: adv 6.443875 con 3.423194 gram 0.020939 color 8.400393 / loss D: 10.049749:  30%|███       | 333/1110 [19:25<45:17,  3.50s/it]\u001b[A\n",
            "loss G: adv 6.441323 con 3.422880 gram 0.020955 color 8.396691 / loss D: 10.038139:  30%|███       | 333/1110 [19:28<45:17,  3.50s/it]\u001b[A\n",
            "loss G: adv 6.441323 con 3.422880 gram 0.020955 color 8.396691 / loss D: 10.038139:  30%|███       | 334/1110 [19:28<45:11,  3.49s/it]\u001b[A\n",
            "loss G: adv 6.435923 con 3.422844 gram 0.020964 color 8.401335 / loss D: 10.025076:  30%|███       | 334/1110 [19:32<45:11,  3.49s/it]\u001b[A\n",
            "loss G: adv 6.435923 con 3.422844 gram 0.020964 color 8.401335 / loss D: 10.025076:  30%|███       | 335/1110 [19:32<45:10,  3.50s/it]\u001b[A\n",
            "loss G: adv 6.430823 con 3.424511 gram 0.020954 color 8.400453 / loss D: 10.010440:  30%|███       | 335/1110 [19:35<45:10,  3.50s/it]\u001b[A\n",
            "loss G: adv 6.430823 con 3.424511 gram 0.020954 color 8.400453 / loss D: 10.010440:  30%|███       | 336/1110 [19:35<45:08,  3.50s/it]\u001b[A\n",
            "loss G: adv 6.427682 con 3.424972 gram 0.020975 color 8.399080 / loss D: 9.997427:  30%|███       | 336/1110 [19:39<45:08,  3.50s/it] \u001b[A\n",
            "loss G: adv 6.427682 con 3.424972 gram 0.020975 color 8.399080 / loss D: 9.997427:  30%|███       | 337/1110 [19:39<45:06,  3.50s/it]\u001b[A\n",
            "loss G: adv 6.424199 con 3.424516 gram 0.020969 color 8.396798 / loss D: 9.983618:  30%|███       | 337/1110 [19:42<45:06,  3.50s/it]\u001b[A\n",
            "loss G: adv 6.424199 con 3.424516 gram 0.020969 color 8.396798 / loss D: 9.983618:  30%|███       | 338/1110 [19:42<44:58,  3.50s/it]\u001b[A\n",
            "loss G: adv 6.419622 con 3.424984 gram 0.020963 color 8.392087 / loss D: 9.970462:  30%|███       | 338/1110 [19:46<44:58,  3.50s/it]\u001b[A\n",
            "loss G: adv 6.419622 con 3.424984 gram 0.020963 color 8.392087 / loss D: 9.970462:  31%|███       | 339/1110 [19:46<44:56,  3.50s/it]\u001b[A\n",
            "loss G: adv 6.414124 con 3.426168 gram 0.020965 color 8.394682 / loss D: 9.959155:  31%|███       | 339/1110 [19:49<44:56,  3.50s/it]\u001b[A\n",
            "loss G: adv 6.414124 con 3.426168 gram 0.020965 color 8.394682 / loss D: 9.959155:  31%|███       | 340/1110 [19:49<44:53,  3.50s/it]\u001b[A\n",
            "loss G: adv 6.409811 con 3.426322 gram 0.020956 color 8.387163 / loss D: 9.945994:  31%|███       | 340/1110 [19:53<44:53,  3.50s/it]\u001b[A\n",
            "loss G: adv 6.409811 con 3.426322 gram 0.020956 color 8.387163 / loss D: 9.945994:  31%|███       | 341/1110 [19:53<44:49,  3.50s/it]\u001b[A\n",
            "loss G: adv 6.405045 con 3.427155 gram 0.020950 color 8.386256 / loss D: 9.933300:  31%|███       | 341/1110 [19:56<44:49,  3.50s/it]\u001b[A\n",
            "loss G: adv 6.405045 con 3.427155 gram 0.020950 color 8.386256 / loss D: 9.933300:  31%|███       | 342/1110 [19:56<44:43,  3.49s/it]\u001b[A\n",
            "loss G: adv 6.399486 con 3.428860 gram 0.020960 color 8.385122 / loss D: 9.924186:  31%|███       | 342/1110 [20:00<44:43,  3.49s/it]\u001b[A\n",
            "loss G: adv 6.399486 con 3.428860 gram 0.020960 color 8.385122 / loss D: 9.924186:  31%|███       | 343/1110 [20:00<44:39,  3.49s/it]\u001b[A\n",
            "loss G: adv 6.394889 con 3.429271 gram 0.020980 color 8.378984 / loss D: 9.914409:  31%|███       | 343/1110 [20:03<44:39,  3.49s/it]\u001b[A\n",
            "loss G: adv 6.394889 con 3.429271 gram 0.020980 color 8.378984 / loss D: 9.914409:  31%|███       | 344/1110 [20:03<44:36,  3.49s/it]\u001b[A\n",
            "loss G: adv 6.390452 con 3.428268 gram 0.020975 color 8.371772 / loss D: 9.903661:  31%|███       | 344/1110 [20:07<44:36,  3.49s/it]\u001b[A\n",
            "loss G: adv 6.390452 con 3.428268 gram 0.020975 color 8.371772 / loss D: 9.903661:  31%|███       | 345/1110 [20:07<44:34,  3.50s/it]\u001b[A\n",
            "loss G: adv 6.386097 con 3.428091 gram 0.020980 color 8.365844 / loss D: 9.893196:  31%|███       | 345/1110 [20:10<44:34,  3.50s/it]\u001b[A\n",
            "loss G: adv 6.386097 con 3.428091 gram 0.020980 color 8.365844 / loss D: 9.893196:  31%|███       | 346/1110 [20:10<44:29,  3.49s/it]\u001b[A\n",
            "loss G: adv 6.379918 con 3.429936 gram 0.020981 color 8.366446 / loss D: 9.881588:  31%|███       | 346/1110 [20:14<44:29,  3.49s/it]\u001b[A\n",
            "loss G: adv 6.379918 con 3.429936 gram 0.020981 color 8.366446 / loss D: 9.881588:  31%|███▏      | 347/1110 [20:14<44:22,  3.49s/it]\u001b[A\n",
            "loss G: adv 6.375102 con 3.430520 gram 0.020975 color 8.359260 / loss D: 9.868119:  31%|███▏      | 347/1110 [20:17<44:22,  3.49s/it]\u001b[A\n",
            "loss G: adv 6.375102 con 3.430520 gram 0.020975 color 8.359260 / loss D: 9.868119:  31%|███▏      | 348/1110 [20:17<44:20,  3.49s/it]\u001b[A\n",
            "loss G: adv 6.372282 con 3.430253 gram 0.020980 color 8.366921 / loss D: 9.856047:  31%|███▏      | 348/1110 [20:21<44:20,  3.49s/it]\u001b[A\n",
            "loss G: adv 6.372282 con 3.430253 gram 0.020980 color 8.366921 / loss D: 9.856047:  31%|███▏      | 349/1110 [20:21<44:13,  3.49s/it]\u001b[A\n",
            "loss G: adv 6.369578 con 3.430116 gram 0.020970 color 8.364609 / loss D: 9.842036:  31%|███▏      | 349/1110 [20:24<44:13,  3.49s/it]\u001b[A\n",
            "loss G: adv 6.369578 con 3.430116 gram 0.020970 color 8.364609 / loss D: 9.842036:  32%|███▏      | 350/1110 [20:24<44:11,  3.49s/it]\u001b[A\n",
            "loss G: adv 6.366228 con 3.431240 gram 0.020967 color 8.366153 / loss D: 9.831307:  32%|███▏      | 350/1110 [20:28<44:11,  3.49s/it]\u001b[A\n",
            "loss G: adv 6.366228 con 3.431240 gram 0.020967 color 8.366153 / loss D: 9.831307:  32%|███▏      | 351/1110 [20:28<44:07,  3.49s/it]\u001b[A\n",
            "loss G: adv 6.363282 con 3.433497 gram 0.020976 color 8.363577 / loss D: 9.818164:  32%|███▏      | 351/1110 [20:31<44:07,  3.49s/it]\u001b[A\n",
            "loss G: adv 6.363282 con 3.433497 gram 0.020976 color 8.363577 / loss D: 9.818164:  32%|███▏      | 352/1110 [20:31<44:06,  3.49s/it]\u001b[A\n",
            "loss G: adv 6.361202 con 3.433252 gram 0.020985 color 8.362541 / loss D: 9.804551:  32%|███▏      | 352/1110 [20:35<44:06,  3.49s/it]\u001b[A\n",
            "loss G: adv 6.361202 con 3.433252 gram 0.020985 color 8.362541 / loss D: 9.804551:  32%|███▏      | 353/1110 [20:35<44:03,  3.49s/it]\u001b[A\n",
            "loss G: adv 6.355204 con 3.434414 gram 0.020979 color 8.362179 / loss D: 9.791004:  32%|███▏      | 353/1110 [20:38<44:03,  3.49s/it]\u001b[A\n",
            "loss G: adv 6.355204 con 3.434414 gram 0.020979 color 8.362179 / loss D: 9.791004:  32%|███▏      | 354/1110 [20:38<44:00,  3.49s/it]\u001b[A\n",
            "loss G: adv 6.353243 con 3.433909 gram 0.020970 color 8.353741 / loss D: 9.775455:  32%|███▏      | 354/1110 [20:42<44:00,  3.49s/it]\u001b[A\n",
            "loss G: adv 6.353243 con 3.433909 gram 0.020970 color 8.353741 / loss D: 9.775455:  32%|███▏      | 355/1110 [20:42<43:54,  3.49s/it]\u001b[A\n",
            "loss G: adv 6.350662 con 3.433477 gram 0.020973 color 8.346968 / loss D: 9.765866:  32%|███▏      | 355/1110 [20:45<43:54,  3.49s/it]\u001b[A\n",
            "loss G: adv 6.350662 con 3.433477 gram 0.020973 color 8.346968 / loss D: 9.765866:  32%|███▏      | 356/1110 [20:45<43:52,  3.49s/it]\u001b[A\n",
            "loss G: adv 6.349063 con 3.432831 gram 0.020975 color 8.342350 / loss D: 9.751549:  32%|███▏      | 356/1110 [20:49<43:52,  3.49s/it]\u001b[A\n",
            "loss G: adv 6.349063 con 3.432831 gram 0.020975 color 8.342350 / loss D: 9.751549:  32%|███▏      | 357/1110 [20:49<43:48,  3.49s/it]\u001b[A\n",
            "loss G: adv 6.345323 con 3.432978 gram 0.020980 color 8.345222 / loss D: 9.739564:  32%|███▏      | 357/1110 [20:52<43:48,  3.49s/it]\u001b[A\n",
            "loss G: adv 6.345323 con 3.432978 gram 0.020980 color 8.345222 / loss D: 9.739564:  32%|███▏      | 358/1110 [20:52<43:46,  3.49s/it]\u001b[A\n",
            "loss G: adv 6.340589 con 3.433667 gram 0.020970 color 8.343808 / loss D: 9.728391:  32%|███▏      | 358/1110 [20:56<43:46,  3.49s/it]\u001b[A\n",
            "loss G: adv 6.340589 con 3.433667 gram 0.020970 color 8.343808 / loss D: 9.728391:  32%|███▏      | 359/1110 [20:56<43:45,  3.50s/it]\u001b[A\n",
            "loss G: adv 6.336524 con 3.434502 gram 0.020956 color 8.341838 / loss D: 9.716867:  32%|███▏      | 359/1110 [20:59<43:45,  3.50s/it]\u001b[A\n",
            "loss G: adv 6.336524 con 3.434502 gram 0.020956 color 8.341838 / loss D: 9.716867:  32%|███▏      | 360/1110 [20:59<43:41,  3.50s/it]\u001b[A\n",
            "loss G: adv 6.334996 con 3.434228 gram 0.020969 color 8.341345 / loss D: 9.706293:  32%|███▏      | 360/1110 [21:03<43:41,  3.50s/it]\u001b[A\n",
            "loss G: adv 6.334996 con 3.434228 gram 0.020969 color 8.341345 / loss D: 9.706293:  33%|███▎      | 361/1110 [21:03<43:40,  3.50s/it]\u001b[A\n",
            "loss G: adv 6.330814 con 3.435423 gram 0.020960 color 8.334422 / loss D: 9.691931:  33%|███▎      | 361/1110 [21:06<43:40,  3.50s/it]\u001b[A\n",
            "loss G: adv 6.330814 con 3.435423 gram 0.020960 color 8.334422 / loss D: 9.691931:  33%|███▎      | 362/1110 [21:06<43:37,  3.50s/it]\u001b[A\n",
            "loss G: adv 6.327886 con 3.434616 gram 0.020966 color 8.330805 / loss D: 9.680668:  33%|███▎      | 362/1110 [21:10<43:37,  3.50s/it]\u001b[A\n",
            "loss G: adv 6.327886 con 3.434616 gram 0.020966 color 8.330805 / loss D: 9.680668:  33%|███▎      | 363/1110 [21:10<43:34,  3.50s/it]\u001b[A\n",
            "loss G: adv 6.324532 con 3.435455 gram 0.020972 color 8.328235 / loss D: 9.668364:  33%|███▎      | 363/1110 [21:13<43:34,  3.50s/it]\u001b[A\n",
            "loss G: adv 6.324532 con 3.435455 gram 0.020972 color 8.328235 / loss D: 9.668364:  33%|███▎      | 364/1110 [21:13<43:32,  3.50s/it]\u001b[A\n",
            "loss G: adv 6.321210 con 3.435362 gram 0.020965 color 8.330365 / loss D: 9.655507:  33%|███▎      | 364/1110 [21:17<43:32,  3.50s/it]\u001b[A\n",
            "loss G: adv 6.321210 con 3.435362 gram 0.020965 color 8.330365 / loss D: 9.655507:  33%|███▎      | 365/1110 [21:17<43:27,  3.50s/it]\u001b[A\n",
            "loss G: adv 6.317296 con 3.435235 gram 0.020963 color 8.336169 / loss D: 9.643288:  33%|███▎      | 365/1110 [21:20<43:27,  3.50s/it]\u001b[A\n",
            "loss G: adv 6.317296 con 3.435235 gram 0.020963 color 8.336169 / loss D: 9.643288:  33%|███▎      | 366/1110 [21:20<43:23,  3.50s/it]\u001b[A\n",
            "loss G: adv 6.312448 con 3.435336 gram 0.020946 color 8.337664 / loss D: 9.628885:  33%|███▎      | 366/1110 [21:24<43:23,  3.50s/it]\u001b[A\n",
            "loss G: adv 6.312448 con 3.435336 gram 0.020946 color 8.337664 / loss D: 9.628885:  33%|███▎      | 367/1110 [21:24<43:20,  3.50s/it]\u001b[A\n",
            "loss G: adv 6.309068 con 3.434955 gram 0.020939 color 8.331005 / loss D: 9.620639:  33%|███▎      | 367/1110 [21:27<43:20,  3.50s/it]\u001b[A\n",
            "loss G: adv 6.309068 con 3.434955 gram 0.020939 color 8.331005 / loss D: 9.620639:  33%|███▎      | 368/1110 [21:27<43:17,  3.50s/it]\u001b[A\n",
            "loss G: adv 6.305614 con 3.435437 gram 0.020944 color 8.342958 / loss D: 9.610051:  33%|███▎      | 368/1110 [21:31<43:17,  3.50s/it]\u001b[A\n",
            "loss G: adv 6.305614 con 3.435437 gram 0.020944 color 8.342958 / loss D: 9.610051:  33%|███▎      | 369/1110 [21:31<43:12,  3.50s/it]\u001b[A\n",
            "loss G: adv 6.301092 con 3.435673 gram 0.020954 color 8.339402 / loss D: 9.599780:  33%|███▎      | 369/1110 [21:34<43:12,  3.50s/it]\u001b[A\n",
            "loss G: adv 6.301092 con 3.435673 gram 0.020954 color 8.339402 / loss D: 9.599780:  33%|███▎      | 370/1110 [21:34<43:09,  3.50s/it]\u001b[A\n",
            "loss G: adv 6.297915 con 3.435172 gram 0.020946 color 8.335213 / loss D: 9.589517:  33%|███▎      | 370/1110 [21:38<43:09,  3.50s/it]\u001b[A\n",
            "loss G: adv 6.297915 con 3.435172 gram 0.020946 color 8.335213 / loss D: 9.589517:  33%|███▎      | 371/1110 [21:38<43:06,  3.50s/it]\u001b[A\n",
            "loss G: adv 6.295421 con 3.434944 gram 0.020937 color 8.333123 / loss D: 9.582983:  33%|███▎      | 371/1110 [21:41<43:06,  3.50s/it]\u001b[A\n",
            "loss G: adv 6.295421 con 3.434944 gram 0.020937 color 8.333123 / loss D: 9.582983:  34%|███▎      | 372/1110 [21:41<43:02,  3.50s/it]\u001b[A\n",
            "loss G: adv 6.291340 con 3.434685 gram 0.020930 color 8.328004 / loss D: 9.571814:  34%|███▎      | 372/1110 [21:45<43:02,  3.50s/it]\u001b[A\n",
            "loss G: adv 6.291340 con 3.434685 gram 0.020930 color 8.328004 / loss D: 9.571814:  34%|███▎      | 373/1110 [21:45<42:59,  3.50s/it]\u001b[A\n",
            "loss G: adv 6.287773 con 3.433840 gram 0.020941 color 8.327307 / loss D: 9.559093:  34%|███▎      | 373/1110 [21:48<42:59,  3.50s/it]\u001b[A\n",
            "loss G: adv 6.287773 con 3.433840 gram 0.020941 color 8.327307 / loss D: 9.559093:  34%|███▎      | 374/1110 [21:48<42:57,  3.50s/it]\u001b[A\n",
            "loss G: adv 6.283595 con 3.433717 gram 0.020935 color 8.327920 / loss D: 9.549902:  34%|███▎      | 374/1110 [21:52<42:57,  3.50s/it]\u001b[A\n",
            "loss G: adv 6.283595 con 3.433717 gram 0.020935 color 8.327920 / loss D: 9.549902:  34%|███▍      | 375/1110 [21:52<42:55,  3.50s/it]\u001b[A\n",
            "loss G: adv 6.280122 con 3.434310 gram 0.020948 color 8.319719 / loss D: 9.540217:  34%|███▍      | 375/1110 [21:55<42:55,  3.50s/it]\u001b[A\n",
            "loss G: adv 6.280122 con 3.434310 gram 0.020948 color 8.319719 / loss D: 9.540217:  34%|███▍      | 376/1110 [21:55<42:51,  3.50s/it]\u001b[A\n",
            "loss G: adv 6.276396 con 3.434784 gram 0.020951 color 8.313820 / loss D: 9.530982:  34%|███▍      | 376/1110 [21:59<42:51,  3.50s/it]\u001b[A\n",
            "loss G: adv 6.276396 con 3.434784 gram 0.020951 color 8.313820 / loss D: 9.530982:  34%|███▍      | 377/1110 [21:59<42:48,  3.50s/it]\u001b[A\n",
            "loss G: adv 6.273161 con 3.435452 gram 0.020965 color 8.315258 / loss D: 9.519901:  34%|███▍      | 377/1110 [22:02<42:48,  3.50s/it]\u001b[A\n",
            "loss G: adv 6.273161 con 3.435452 gram 0.020965 color 8.315258 / loss D: 9.519901:  34%|███▍      | 378/1110 [22:02<42:43,  3.50s/it]\u001b[A\n",
            "loss G: adv 6.269141 con 3.434788 gram 0.020964 color 8.315304 / loss D: 9.510079:  34%|███▍      | 378/1110 [22:06<42:43,  3.50s/it]\u001b[A\n",
            "loss G: adv 6.269141 con 3.434788 gram 0.020964 color 8.315304 / loss D: 9.510079:  34%|███▍      | 379/1110 [22:06<42:40,  3.50s/it]\u001b[A\n",
            "loss G: adv 6.264721 con 3.435222 gram 0.020968 color 8.309893 / loss D: 9.501285:  34%|███▍      | 379/1110 [22:09<42:40,  3.50s/it]\u001b[A\n",
            "loss G: adv 6.264721 con 3.435222 gram 0.020968 color 8.309893 / loss D: 9.501285:  34%|███▍      | 380/1110 [22:09<42:35,  3.50s/it]\u001b[A\n",
            "loss G: adv 6.263259 con 3.435180 gram 0.020962 color 8.306153 / loss D: 9.487485:  34%|███▍      | 380/1110 [22:13<42:35,  3.50s/it]\u001b[A\n",
            "loss G: adv 6.263259 con 3.435180 gram 0.020962 color 8.306153 / loss D: 9.487485:  34%|███▍      | 381/1110 [22:13<42:31,  3.50s/it]\u001b[A\n",
            "loss G: adv 6.260886 con 3.434646 gram 0.020962 color 8.303006 / loss D: 9.475239:  34%|███▍      | 381/1110 [22:16<42:31,  3.50s/it]\u001b[A\n",
            "loss G: adv 6.260886 con 3.434646 gram 0.020962 color 8.303006 / loss D: 9.475239:  34%|███▍      | 382/1110 [22:16<42:28,  3.50s/it]\u001b[A\n",
            "loss G: adv 6.257863 con 3.434589 gram 0.020957 color 8.297702 / loss D: 9.463472:  34%|███▍      | 382/1110 [22:20<42:28,  3.50s/it]\u001b[A\n",
            "loss G: adv 6.257863 con 3.434589 gram 0.020957 color 8.297702 / loss D: 9.463472:  35%|███▍      | 383/1110 [22:20<42:24,  3.50s/it]\u001b[A\n",
            "loss G: adv 6.252970 con 3.434546 gram 0.020956 color 8.296784 / loss D: 9.453108:  35%|███▍      | 383/1110 [22:23<42:24,  3.50s/it]\u001b[A\n",
            "loss G: adv 6.252970 con 3.434546 gram 0.020956 color 8.296784 / loss D: 9.453108:  35%|███▍      | 384/1110 [22:23<42:20,  3.50s/it]\u001b[A\n",
            "loss G: adv 6.248576 con 3.434121 gram 0.020956 color 8.291329 / loss D: 9.445294:  35%|███▍      | 384/1110 [22:27<42:20,  3.50s/it]\u001b[A\n",
            "loss G: adv 6.248576 con 3.434121 gram 0.020956 color 8.291329 / loss D: 9.445294:  35%|███▍      | 385/1110 [22:27<42:17,  3.50s/it]\u001b[A\n",
            "loss G: adv 6.245370 con 3.433653 gram 0.020939 color 8.282031 / loss D: 9.433469:  35%|███▍      | 385/1110 [22:30<42:17,  3.50s/it]\u001b[A\n",
            "loss G: adv 6.245370 con 3.433653 gram 0.020939 color 8.282031 / loss D: 9.433469:  35%|███▍      | 386/1110 [22:30<42:13,  3.50s/it]\u001b[A\n",
            "loss G: adv 6.241479 con 3.434300 gram 0.020930 color 8.282767 / loss D: 9.422050:  35%|███▍      | 386/1110 [22:34<42:13,  3.50s/it]\u001b[A\n",
            "loss G: adv 6.241479 con 3.434300 gram 0.020930 color 8.282767 / loss D: 9.422050:  35%|███▍      | 387/1110 [22:34<42:10,  3.50s/it]\u001b[A\n",
            "loss G: adv 6.237369 con 3.434949 gram 0.020921 color 8.281218 / loss D: 9.413206:  35%|███▍      | 387/1110 [22:37<42:10,  3.50s/it]\u001b[A\n",
            "loss G: adv 6.237369 con 3.434949 gram 0.020921 color 8.281218 / loss D: 9.413206:  35%|███▍      | 388/1110 [22:37<42:07,  3.50s/it]\u001b[A\n",
            "loss G: adv 6.233586 con 3.435059 gram 0.020936 color 8.280221 / loss D: 9.406576:  35%|███▍      | 388/1110 [22:41<42:07,  3.50s/it]\u001b[A\n",
            "loss G: adv 6.233586 con 3.435059 gram 0.020936 color 8.280221 / loss D: 9.406576:  35%|███▌      | 389/1110 [22:41<42:03,  3.50s/it]\u001b[A\n",
            "loss G: adv 6.230566 con 3.435698 gram 0.020940 color 8.273719 / loss D: 9.394946:  35%|███▌      | 389/1110 [22:44<42:03,  3.50s/it]\u001b[A\n",
            "loss G: adv 6.230566 con 3.435698 gram 0.020940 color 8.273719 / loss D: 9.394946:  35%|███▌      | 390/1110 [22:44<41:59,  3.50s/it]\u001b[A\n",
            "loss G: adv 6.228411 con 3.435463 gram 0.020949 color 8.268761 / loss D: 9.382946:  35%|███▌      | 390/1110 [22:48<41:59,  3.50s/it]\u001b[A\n",
            "loss G: adv 6.228411 con 3.435463 gram 0.020949 color 8.268761 / loss D: 9.382946:  35%|███▌      | 391/1110 [22:48<41:55,  3.50s/it]\u001b[A\n",
            "loss G: adv 6.224152 con 3.435326 gram 0.020961 color 8.268256 / loss D: 9.374594:  35%|███▌      | 391/1110 [22:51<41:55,  3.50s/it]\u001b[A\n",
            "loss G: adv 6.224152 con 3.435326 gram 0.020961 color 8.268256 / loss D: 9.374594:  35%|███▌      | 392/1110 [22:51<41:53,  3.50s/it]\u001b[A\n",
            "loss G: adv 6.221317 con 3.434944 gram 0.020976 color 8.263054 / loss D: 9.364304:  35%|███▌      | 392/1110 [22:55<41:53,  3.50s/it]\u001b[A\n",
            "loss G: adv 6.221317 con 3.434944 gram 0.020976 color 8.263054 / loss D: 9.364304:  35%|███▌      | 393/1110 [22:55<41:49,  3.50s/it]\u001b[A\n",
            "loss G: adv 6.217445 con 3.434719 gram 0.020959 color 8.256641 / loss D: 9.354133:  35%|███▌      | 393/1110 [22:58<41:49,  3.50s/it]\u001b[A\n",
            "loss G: adv 6.217445 con 3.434719 gram 0.020959 color 8.256641 / loss D: 9.354133:  35%|███▌      | 394/1110 [22:58<41:46,  3.50s/it]\u001b[A\n",
            "loss G: adv 6.214428 con 3.435393 gram 0.020952 color 8.254126 / loss D: 9.341023:  35%|███▌      | 394/1110 [23:02<41:46,  3.50s/it]\u001b[A\n",
            "loss G: adv 6.214428 con 3.435393 gram 0.020952 color 8.254126 / loss D: 9.341023:  36%|███▌      | 395/1110 [23:02<41:43,  3.50s/it]\u001b[A\n",
            "loss G: adv 6.211806 con 3.435073 gram 0.020971 color 8.244624 / loss D: 9.328726:  36%|███▌      | 395/1110 [23:05<41:43,  3.50s/it]\u001b[A\n",
            "loss G: adv 6.211806 con 3.435073 gram 0.020971 color 8.244624 / loss D: 9.328726:  36%|███▌      | 396/1110 [23:05<41:40,  3.50s/it]\u001b[A\n",
            "loss G: adv 6.208864 con 3.434741 gram 0.020973 color 8.240906 / loss D: 9.320652:  36%|███▌      | 396/1110 [23:09<41:40,  3.50s/it]\u001b[A\n",
            "loss G: adv 6.208864 con 3.434741 gram 0.020973 color 8.240906 / loss D: 9.320652:  36%|███▌      | 397/1110 [23:09<41:36,  3.50s/it]\u001b[A\n",
            "loss G: adv 6.204993 con 3.435681 gram 0.020959 color 8.232995 / loss D: 9.312018:  36%|███▌      | 397/1110 [23:12<41:36,  3.50s/it]\u001b[A\n",
            "loss G: adv 6.204993 con 3.435681 gram 0.020959 color 8.232995 / loss D: 9.312018:  36%|███▌      | 398/1110 [23:12<41:32,  3.50s/it]\u001b[A\n",
            "loss G: adv 6.200489 con 3.437005 gram 0.020952 color 8.226148 / loss D: 9.302958:  36%|███▌      | 398/1110 [23:16<41:32,  3.50s/it]\u001b[A\n",
            "loss G: adv 6.200489 con 3.437005 gram 0.020952 color 8.226148 / loss D: 9.302958:  36%|███▌      | 399/1110 [23:16<41:29,  3.50s/it]\u001b[A\n",
            "loss G: adv 6.197297 con 3.436650 gram 0.020943 color 8.220414 / loss D: 9.288449:  36%|███▌      | 399/1110 [23:19<41:29,  3.50s/it]\u001b[A\n",
            "loss G: adv 6.197297 con 3.436650 gram 0.020943 color 8.220414 / loss D: 9.288449:  36%|███▌      | 400/1110 [23:19<41:25,  3.50s/it]\u001b[A\n",
            "loss G: adv 6.194099 con 3.436146 gram 0.020939 color 8.224558 / loss D: 9.280230:  36%|███▌      | 400/1110 [23:23<41:25,  3.50s/it]\u001b[A\n",
            "loss G: adv 6.194099 con 3.436146 gram 0.020939 color 8.224558 / loss D: 9.280230:  36%|███▌      | 401/1110 [23:23<41:21,  3.50s/it]\u001b[A\n",
            "loss G: adv 6.192175 con 3.436589 gram 0.020949 color 8.228453 / loss D: 9.270286:  36%|███▌      | 401/1110 [23:26<41:21,  3.50s/it]\u001b[A\n",
            "loss G: adv 6.192175 con 3.436589 gram 0.020949 color 8.228453 / loss D: 9.270286:  36%|███▌      | 402/1110 [23:26<41:18,  3.50s/it]\u001b[A\n",
            "loss G: adv 6.188137 con 3.436826 gram 0.020939 color 8.227827 / loss D: 9.260353:  36%|███▌      | 402/1110 [23:30<41:18,  3.50s/it]\u001b[A\n",
            "loss G: adv 6.188137 con 3.436826 gram 0.020939 color 8.227827 / loss D: 9.260353:  36%|███▋      | 403/1110 [23:30<41:14,  3.50s/it]\u001b[A\n",
            "loss G: adv 6.183311 con 3.437257 gram 0.020936 color 8.220438 / loss D: 9.251347:  36%|███▋      | 403/1110 [23:33<41:14,  3.50s/it]\u001b[A\n",
            "loss G: adv 6.183311 con 3.437257 gram 0.020936 color 8.220438 / loss D: 9.251347:  36%|███▋      | 404/1110 [23:33<41:10,  3.50s/it]\u001b[A\n",
            "loss G: adv 6.178461 con 3.437968 gram 0.020933 color 8.214449 / loss D: 9.241546:  36%|███▋      | 404/1110 [23:37<41:10,  3.50s/it]\u001b[A\n",
            "loss G: adv 6.178461 con 3.437968 gram 0.020933 color 8.214449 / loss D: 9.241546:  36%|███▋      | 405/1110 [23:37<41:07,  3.50s/it]\u001b[A\n",
            "loss G: adv 6.174945 con 3.439222 gram 0.020930 color 8.210213 / loss D: 9.229564:  36%|███▋      | 405/1110 [23:40<41:07,  3.50s/it]\u001b[A\n",
            "loss G: adv 6.174945 con 3.439222 gram 0.020930 color 8.210213 / loss D: 9.229564:  37%|███▋      | 406/1110 [23:40<41:03,  3.50s/it]\u001b[A\n",
            "loss G: adv 6.172313 con 3.439881 gram 0.020931 color 8.207249 / loss D: 9.220069:  37%|███▋      | 406/1110 [23:44<41:03,  3.50s/it]\u001b[A\n",
            "loss G: adv 6.172313 con 3.439881 gram 0.020931 color 8.207249 / loss D: 9.220069:  37%|███▋      | 407/1110 [23:44<40:59,  3.50s/it]\u001b[A\n",
            "loss G: adv 6.168506 con 3.440523 gram 0.020936 color 8.200907 / loss D: 9.211823:  37%|███▋      | 407/1110 [23:47<40:59,  3.50s/it]\u001b[A\n",
            "loss G: adv 6.168506 con 3.440523 gram 0.020936 color 8.200907 / loss D: 9.211823:  37%|███▋      | 408/1110 [23:47<40:56,  3.50s/it]\u001b[A\n",
            "loss G: adv 6.164779 con 3.441019 gram 0.020945 color 8.197278 / loss D: 9.202932:  37%|███▋      | 408/1110 [23:51<40:56,  3.50s/it]\u001b[A\n",
            "loss G: adv 6.164779 con 3.441019 gram 0.020945 color 8.197278 / loss D: 9.202932:  37%|███▋      | 409/1110 [23:51<40:52,  3.50s/it]\u001b[A\n",
            "loss G: adv 6.161983 con 3.441103 gram 0.020937 color 8.197091 / loss D: 9.194010:  37%|███▋      | 409/1110 [23:54<40:52,  3.50s/it]\u001b[A\n",
            "loss G: adv 6.161983 con 3.441103 gram 0.020937 color 8.197091 / loss D: 9.194010:  37%|███▋      | 410/1110 [23:54<40:49,  3.50s/it]\u001b[A\n",
            "loss G: adv 6.160177 con 3.442141 gram 0.020925 color 8.194011 / loss D: 9.184710:  37%|███▋      | 410/1110 [23:58<40:49,  3.50s/it]\u001b[A\n",
            "loss G: adv 6.160177 con 3.442141 gram 0.020925 color 8.194011 / loss D: 9.184710:  37%|███▋      | 411/1110 [23:58<40:46,  3.50s/it]\u001b[A\n",
            "loss G: adv 6.157292 con 3.443750 gram 0.020917 color 8.196560 / loss D: 9.176226:  37%|███▋      | 411/1110 [24:01<40:46,  3.50s/it]\u001b[A\n",
            "loss G: adv 6.157292 con 3.443750 gram 0.020917 color 8.196560 / loss D: 9.176226:  37%|███▋      | 412/1110 [24:01<40:42,  3.50s/it]\u001b[A\n",
            "loss G: adv 6.153610 con 3.443356 gram 0.020927 color 8.192203 / loss D: 9.166788:  37%|███▋      | 412/1110 [24:05<40:42,  3.50s/it]\u001b[A\n",
            "loss G: adv 6.153610 con 3.443356 gram 0.020927 color 8.192203 / loss D: 9.166788:  37%|███▋      | 413/1110 [24:05<40:39,  3.50s/it]\u001b[A\n",
            "loss G: adv 6.150092 con 3.443354 gram 0.020929 color 8.190083 / loss D: 9.157165:  37%|███▋      | 413/1110 [24:08<40:39,  3.50s/it]\u001b[A\n",
            "loss G: adv 6.150092 con 3.443354 gram 0.020929 color 8.190083 / loss D: 9.157165:  37%|███▋      | 414/1110 [24:08<40:35,  3.50s/it]\u001b[A\n",
            "loss G: adv 6.146934 con 3.444259 gram 0.020922 color 8.194928 / loss D: 9.148508:  37%|███▋      | 414/1110 [24:12<40:35,  3.50s/it]\u001b[A\n",
            "loss G: adv 6.146934 con 3.444259 gram 0.020922 color 8.194928 / loss D: 9.148508:  37%|███▋      | 415/1110 [24:12<40:32,  3.50s/it]\u001b[A\n",
            "loss G: adv 6.143383 con 3.444642 gram 0.020925 color 8.194091 / loss D: 9.139666:  37%|███▋      | 415/1110 [24:15<40:32,  3.50s/it]\u001b[A\n",
            "loss G: adv 6.143383 con 3.444642 gram 0.020925 color 8.194091 / loss D: 9.139666:  37%|███▋      | 416/1110 [24:15<40:29,  3.50s/it]\u001b[A\n",
            "loss G: adv 6.140785 con 3.444363 gram 0.020932 color 8.188477 / loss D: 9.129762:  37%|███▋      | 416/1110 [24:19<40:29,  3.50s/it]\u001b[A\n",
            "loss G: adv 6.140785 con 3.444363 gram 0.020932 color 8.188477 / loss D: 9.129762:  38%|███▊      | 417/1110 [24:19<40:25,  3.50s/it]\u001b[A\n",
            "loss G: adv 6.138093 con 3.445094 gram 0.020923 color 8.183346 / loss D: 9.119692:  38%|███▊      | 417/1110 [24:22<40:25,  3.50s/it]\u001b[A\n",
            "loss G: adv 6.138093 con 3.445094 gram 0.020923 color 8.183346 / loss D: 9.119692:  38%|███▊      | 418/1110 [24:22<40:21,  3.50s/it]\u001b[A\n",
            "loss G: adv 6.135637 con 3.444650 gram 0.020918 color 8.184844 / loss D: 9.108577:  38%|███▊      | 418/1110 [24:26<40:21,  3.50s/it]\u001b[A\n",
            "loss G: adv 6.135637 con 3.444650 gram 0.020918 color 8.184844 / loss D: 9.108577:  38%|███▊      | 419/1110 [24:26<40:14,  3.49s/it]\u001b[A\n",
            "loss G: adv 6.131948 con 3.445568 gram 0.020920 color 8.186613 / loss D: 9.099054:  38%|███▊      | 419/1110 [24:29<40:14,  3.49s/it]\u001b[A\n",
            "loss G: adv 6.131948 con 3.445568 gram 0.020920 color 8.186613 / loss D: 9.099054:  38%|███▊      | 420/1110 [24:29<40:10,  3.49s/it]\u001b[A\n",
            "loss G: adv 6.129734 con 3.447366 gram 0.020916 color 8.187656 / loss D: 9.090472:  38%|███▊      | 420/1110 [24:33<40:10,  3.49s/it]\u001b[A\n",
            "loss G: adv 6.129734 con 3.447366 gram 0.020916 color 8.187656 / loss D: 9.090472:  38%|███▊      | 421/1110 [24:33<40:04,  3.49s/it]\u001b[A\n",
            "loss G: adv 6.126740 con 3.447791 gram 0.020926 color 8.187068 / loss D: 9.080635:  38%|███▊      | 421/1110 [24:36<40:04,  3.49s/it]\u001b[A\n",
            "loss G: adv 6.126740 con 3.447791 gram 0.020926 color 8.187068 / loss D: 9.080635:  38%|███▊      | 422/1110 [24:36<40:00,  3.49s/it]\u001b[A\n",
            "loss G: adv 6.122213 con 3.448213 gram 0.020924 color 8.187500 / loss D: 9.073391:  38%|███▊      | 422/1110 [24:40<40:00,  3.49s/it]\u001b[A\n",
            "loss G: adv 6.122213 con 3.448213 gram 0.020924 color 8.187500 / loss D: 9.073391:  38%|███▊      | 423/1110 [24:40<39:57,  3.49s/it]\u001b[A\n",
            "loss G: adv 6.119232 con 3.447999 gram 0.020937 color 8.187360 / loss D: 9.063768:  38%|███▊      | 423/1110 [24:43<39:57,  3.49s/it]\u001b[A\n",
            "loss G: adv 6.119232 con 3.447999 gram 0.020937 color 8.187360 / loss D: 9.063768:  38%|███▊      | 424/1110 [24:43<39:52,  3.49s/it]\u001b[A\n",
            "loss G: adv 6.116192 con 3.449886 gram 0.020938 color 8.184424 / loss D: 9.055669:  38%|███▊      | 424/1110 [24:47<39:52,  3.49s/it]\u001b[A\n",
            "loss G: adv 6.116192 con 3.449886 gram 0.020938 color 8.184424 / loss D: 9.055669:  38%|███▊      | 425/1110 [24:47<39:49,  3.49s/it]\u001b[A\n",
            "loss G: adv 6.114839 con 3.450399 gram 0.020932 color 8.185068 / loss D: 9.047075:  38%|███▊      | 425/1110 [24:50<39:49,  3.49s/it]\u001b[A\n",
            "loss G: adv 6.114839 con 3.450399 gram 0.020932 color 8.185068 / loss D: 9.047075:  38%|███▊      | 426/1110 [24:50<39:48,  3.49s/it]\u001b[A\n",
            "loss G: adv 6.112142 con 3.451154 gram 0.020947 color 8.180460 / loss D: 9.039439:  38%|███▊      | 426/1110 [24:54<39:48,  3.49s/it]\u001b[A\n",
            "loss G: adv 6.112142 con 3.451154 gram 0.020947 color 8.180460 / loss D: 9.039439:  38%|███▊      | 427/1110 [24:54<39:45,  3.49s/it]\u001b[A\n",
            "loss G: adv 6.110892 con 3.450956 gram 0.020961 color 8.185431 / loss D: 9.028099:  38%|███▊      | 427/1110 [24:57<39:45,  3.49s/it]\u001b[A\n",
            "loss G: adv 6.110892 con 3.450956 gram 0.020961 color 8.185431 / loss D: 9.028099:  39%|███▊      | 428/1110 [24:57<39:41,  3.49s/it]\u001b[A\n",
            "loss G: adv 6.107687 con 3.450441 gram 0.020956 color 8.184131 / loss D: 9.020716:  39%|███▊      | 428/1110 [25:01<39:41,  3.49s/it]\u001b[A\n",
            "loss G: adv 6.107687 con 3.450441 gram 0.020956 color 8.184131 / loss D: 9.020716:  39%|███▊      | 429/1110 [25:01<39:38,  3.49s/it]\u001b[A\n",
            "loss G: adv 6.105176 con 3.451442 gram 0.020971 color 8.187515 / loss D: 9.013513:  39%|███▊      | 429/1110 [25:04<39:38,  3.49s/it]\u001b[A\n",
            "loss G: adv 6.105176 con 3.451442 gram 0.020971 color 8.187515 / loss D: 9.013513:  39%|███▊      | 430/1110 [25:04<39:34,  3.49s/it]\u001b[A\n",
            "loss G: adv 6.102475 con 3.451563 gram 0.020985 color 8.189079 / loss D: 9.006854:  39%|███▊      | 430/1110 [25:08<39:34,  3.49s/it]\u001b[A\n",
            "loss G: adv 6.102475 con 3.451563 gram 0.020985 color 8.189079 / loss D: 9.006854:  39%|███▉      | 431/1110 [25:08<39:32,  3.49s/it]\u001b[A\n",
            "loss G: adv 6.100841 con 3.451628 gram 0.020986 color 8.190896 / loss D: 9.001954:  39%|███▉      | 431/1110 [25:11<39:32,  3.49s/it]\u001b[A\n",
            "loss G: adv 6.100841 con 3.451628 gram 0.020986 color 8.190896 / loss D: 9.001954:  39%|███▉      | 432/1110 [25:11<39:30,  3.50s/it]\u001b[A\n",
            "loss G: adv 6.100237 con 3.451747 gram 0.020989 color 8.189137 / loss D: 8.998501:  39%|███▉      | 432/1110 [25:15<39:30,  3.50s/it]\u001b[A\n",
            "loss G: adv 6.100237 con 3.451747 gram 0.020989 color 8.189137 / loss D: 8.998501:  39%|███▉      | 433/1110 [25:15<39:24,  3.49s/it]\u001b[A\n",
            "loss G: adv 6.097745 con 3.452572 gram 0.020992 color 8.182043 / loss D: 8.994337:  39%|███▉      | 433/1110 [25:18<39:24,  3.49s/it]\u001b[A\n",
            "loss G: adv 6.097745 con 3.452572 gram 0.020992 color 8.182043 / loss D: 8.994337:  39%|███▉      | 434/1110 [25:18<39:19,  3.49s/it]\u001b[A\n",
            "loss G: adv 6.097252 con 3.453050 gram 0.021004 color 8.184755 / loss D: 8.991010:  39%|███▉      | 434/1110 [25:22<39:19,  3.49s/it]\u001b[A\n",
            "loss G: adv 6.097252 con 3.453050 gram 0.021004 color 8.184755 / loss D: 8.991010:  39%|███▉      | 435/1110 [25:22<39:18,  3.49s/it]\u001b[A\n",
            "loss G: adv 6.094625 con 3.452954 gram 0.021014 color 8.191044 / loss D: 8.987541:  39%|███▉      | 435/1110 [25:25<39:18,  3.49s/it]\u001b[A\n",
            "loss G: adv 6.094625 con 3.452954 gram 0.021014 color 8.191044 / loss D: 8.987541:  39%|███▉      | 436/1110 [25:25<39:15,  3.49s/it]\u001b[A\n",
            "loss G: adv 6.090897 con 3.454048 gram 0.021011 color 8.192540 / loss D: 8.983899:  39%|███▉      | 436/1110 [25:29<39:15,  3.49s/it]\u001b[A\n",
            "loss G: adv 6.090897 con 3.454048 gram 0.021011 color 8.192540 / loss D: 8.983899:  39%|███▉      | 437/1110 [25:29<39:12,  3.50s/it]\u001b[A\n",
            "loss G: adv 6.089220 con 3.453646 gram 0.021006 color 8.190980 / loss D: 8.974793:  39%|███▉      | 437/1110 [25:32<39:12,  3.50s/it]\u001b[A\n",
            "loss G: adv 6.089220 con 3.453646 gram 0.021006 color 8.190980 / loss D: 8.974793:  39%|███▉      | 438/1110 [25:32<39:10,  3.50s/it]\u001b[A\n",
            "loss G: adv 6.087550 con 3.453582 gram 0.021020 color 8.202308 / loss D: 8.965790:  39%|███▉      | 438/1110 [25:36<39:10,  3.50s/it]\u001b[A\n",
            "loss G: adv 6.087550 con 3.453582 gram 0.021020 color 8.202308 / loss D: 8.965790:  40%|███▉      | 439/1110 [25:36<39:07,  3.50s/it]\u001b[A\n",
            "loss G: adv 6.087755 con 3.453560 gram 0.021035 color 8.201822 / loss D: 8.960105:  40%|███▉      | 439/1110 [25:39<39:07,  3.50s/it]\u001b[A\n",
            "loss G: adv 6.087755 con 3.453560 gram 0.021035 color 8.201822 / loss D: 8.960105:  40%|███▉      | 440/1110 [25:39<39:03,  3.50s/it]\u001b[A\n",
            "loss G: adv 6.085263 con 3.454951 gram 0.021031 color 8.201800 / loss D: 8.953924:  40%|███▉      | 440/1110 [25:43<39:03,  3.50s/it]\u001b[A\n",
            "loss G: adv 6.085263 con 3.454951 gram 0.021031 color 8.201800 / loss D: 8.953924:  40%|███▉      | 441/1110 [25:43<39:00,  3.50s/it]\u001b[A\n",
            "loss G: adv 6.083792 con 3.454832 gram 0.021028 color 8.197680 / loss D: 8.945890:  40%|███▉      | 441/1110 [25:46<39:00,  3.50s/it]\u001b[A\n",
            "loss G: adv 6.083792 con 3.454832 gram 0.021028 color 8.197680 / loss D: 8.945890:  40%|███▉      | 442/1110 [25:46<38:57,  3.50s/it]\u001b[A\n",
            "loss G: adv 6.080066 con 3.454407 gram 0.021037 color 8.196974 / loss D: 8.938923:  40%|███▉      | 442/1110 [25:50<38:57,  3.50s/it]\u001b[A\n",
            "loss G: adv 6.080066 con 3.454407 gram 0.021037 color 8.196974 / loss D: 8.938923:  40%|███▉      | 443/1110 [25:50<38:53,  3.50s/it]\u001b[A\n",
            "loss G: adv 6.076199 con 3.454218 gram 0.021029 color 8.200643 / loss D: 8.929433:  40%|███▉      | 443/1110 [25:53<38:53,  3.50s/it]\u001b[A\n",
            "loss G: adv 6.076199 con 3.454218 gram 0.021029 color 8.200643 / loss D: 8.929433:  40%|████      | 444/1110 [25:53<38:50,  3.50s/it]\u001b[A\n",
            "loss G: adv 6.073255 con 3.454254 gram 0.021012 color 8.203368 / loss D: 8.920713:  40%|████      | 444/1110 [25:57<38:50,  3.50s/it]\u001b[A\n",
            "loss G: adv 6.073255 con 3.454254 gram 0.021012 color 8.203368 / loss D: 8.920713:  40%|████      | 445/1110 [25:57<38:46,  3.50s/it]\u001b[A\n",
            "loss G: adv 6.071686 con 3.453507 gram 0.021014 color 8.197975 / loss D: 8.910936:  40%|████      | 445/1110 [26:00<38:46,  3.50s/it]\u001b[A\n",
            "loss G: adv 6.071686 con 3.453507 gram 0.021014 color 8.197975 / loss D: 8.910936:  40%|████      | 446/1110 [26:00<38:43,  3.50s/it]\u001b[A\n",
            "loss G: adv 6.069827 con 3.454743 gram 0.021015 color 8.200444 / loss D: 8.900442:  40%|████      | 446/1110 [26:04<38:43,  3.50s/it]\u001b[A\n",
            "loss G: adv 6.069827 con 3.454743 gram 0.021015 color 8.200444 / loss D: 8.900442:  40%|████      | 447/1110 [26:04<38:39,  3.50s/it]\u001b[A\n",
            "loss G: adv 6.067965 con 3.454264 gram 0.021008 color 8.199934 / loss D: 8.891851:  40%|████      | 447/1110 [26:07<38:39,  3.50s/it]\u001b[A\n",
            "loss G: adv 6.067965 con 3.454264 gram 0.021008 color 8.199934 / loss D: 8.891851:  40%|████      | 448/1110 [26:07<38:35,  3.50s/it]\u001b[A\n",
            "loss G: adv 6.064876 con 3.454872 gram 0.021007 color 8.198348 / loss D: 8.882044:  40%|████      | 448/1110 [26:11<38:35,  3.50s/it]\u001b[A\n",
            "loss G: adv 6.064876 con 3.454872 gram 0.021007 color 8.198348 / loss D: 8.882044:  40%|████      | 449/1110 [26:11<38:32,  3.50s/it]\u001b[A\n",
            "loss G: adv 6.064916 con 3.454288 gram 0.021012 color 8.194015 / loss D: 8.872688:  40%|████      | 449/1110 [26:14<38:32,  3.50s/it]\u001b[A\n",
            "loss G: adv 6.064916 con 3.454288 gram 0.021012 color 8.194015 / loss D: 8.872688:  41%|████      | 450/1110 [26:14<38:29,  3.50s/it]\u001b[A\n",
            "loss G: adv 6.064628 con 3.454808 gram 0.021012 color 8.187399 / loss D: 8.863060:  41%|████      | 450/1110 [26:18<38:29,  3.50s/it]\u001b[A\n",
            "loss G: adv 6.064628 con 3.454808 gram 0.021012 color 8.187399 / loss D: 8.863060:  41%|████      | 451/1110 [26:18<38:27,  3.50s/it]\u001b[A\n",
            "loss G: adv 6.062165 con 3.456402 gram 0.021012 color 8.187046 / loss D: 8.853668:  41%|████      | 451/1110 [26:21<38:27,  3.50s/it]\u001b[A\n",
            "loss G: adv 6.062165 con 3.456402 gram 0.021012 color 8.187046 / loss D: 8.853668:  41%|████      | 452/1110 [26:21<38:24,  3.50s/it]\u001b[A\n",
            "loss G: adv 6.057438 con 3.457424 gram 0.021014 color 8.183548 / loss D: 8.847042:  41%|████      | 452/1110 [26:25<38:24,  3.50s/it]\u001b[A\n",
            "loss G: adv 6.057438 con 3.457424 gram 0.021014 color 8.183548 / loss D: 8.847042:  41%|████      | 453/1110 [26:25<38:20,  3.50s/it]\u001b[A\n",
            "loss G: adv 6.053520 con 3.458206 gram 0.021016 color 8.179309 / loss D: 8.839253:  41%|████      | 453/1110 [26:28<38:20,  3.50s/it]\u001b[A\n",
            "loss G: adv 6.053520 con 3.458206 gram 0.021016 color 8.179309 / loss D: 8.839253:  41%|████      | 454/1110 [26:28<38:18,  3.50s/it]\u001b[A\n",
            "loss G: adv 6.050388 con 3.458545 gram 0.021009 color 8.181468 / loss D: 8.830869:  41%|████      | 454/1110 [26:32<38:18,  3.50s/it]\u001b[A\n",
            "loss G: adv 6.050388 con 3.458545 gram 0.021009 color 8.181468 / loss D: 8.830869:  41%|████      | 455/1110 [26:32<38:14,  3.50s/it]\u001b[A\n",
            "loss G: adv 6.048368 con 3.458793 gram 0.021015 color 8.179063 / loss D: 8.823782:  41%|████      | 455/1110 [26:35<38:14,  3.50s/it]\u001b[A\n",
            "loss G: adv 6.048368 con 3.458793 gram 0.021015 color 8.179063 / loss D: 8.823782:  41%|████      | 456/1110 [26:35<38:10,  3.50s/it]\u001b[A\n",
            "loss G: adv 6.046534 con 3.458734 gram 0.020999 color 8.176487 / loss D: 8.816105:  41%|████      | 456/1110 [26:39<38:10,  3.50s/it]\u001b[A\n",
            "loss G: adv 6.046534 con 3.458734 gram 0.020999 color 8.176487 / loss D: 8.816105:  41%|████      | 457/1110 [26:39<38:05,  3.50s/it]\u001b[A\n",
            "loss G: adv 6.045035 con 3.458617 gram 0.021017 color 8.173467 / loss D: 8.807647:  41%|████      | 457/1110 [26:42<38:05,  3.50s/it]\u001b[A\n",
            "loss G: adv 6.045035 con 3.458617 gram 0.021017 color 8.173467 / loss D: 8.807647:  41%|████▏     | 458/1110 [26:42<38:01,  3.50s/it]\u001b[A\n",
            "loss G: adv 6.041891 con 3.459372 gram 0.021016 color 8.182234 / loss D: 8.799902:  41%|████▏     | 458/1110 [26:46<38:01,  3.50s/it]\u001b[A\n",
            "loss G: adv 6.041891 con 3.459372 gram 0.021016 color 8.182234 / loss D: 8.799902:  41%|████▏     | 459/1110 [26:46<37:58,  3.50s/it]\u001b[A\n",
            "loss G: adv 6.039400 con 3.460026 gram 0.021021 color 8.180383 / loss D: 8.791087:  41%|████▏     | 459/1110 [26:49<37:58,  3.50s/it]\u001b[A\n",
            "loss G: adv 6.039400 con 3.460026 gram 0.021021 color 8.180383 / loss D: 8.791087:  41%|████▏     | 460/1110 [26:49<37:55,  3.50s/it]\u001b[A\n",
            "loss G: adv 6.037849 con 3.459854 gram 0.021018 color 8.174207 / loss D: 8.784689:  41%|████▏     | 460/1110 [26:53<37:55,  3.50s/it]\u001b[A\n",
            "loss G: adv 6.037849 con 3.459854 gram 0.021018 color 8.174207 / loss D: 8.784689:  42%|████▏     | 461/1110 [26:53<37:50,  3.50s/it]\u001b[A\n",
            "loss G: adv 6.034883 con 3.459993 gram 0.021008 color 8.170391 / loss D: 8.773633:  42%|████▏     | 461/1110 [26:56<37:50,  3.50s/it]\u001b[A\n",
            "loss G: adv 6.034883 con 3.459993 gram 0.021008 color 8.170391 / loss D: 8.773633:  42%|████▏     | 462/1110 [26:56<37:47,  3.50s/it]\u001b[A\n",
            "loss G: adv 6.030996 con 3.461240 gram 0.021001 color 8.169275 / loss D: 8.765116:  42%|████▏     | 462/1110 [27:00<37:47,  3.50s/it]\u001b[A\n",
            "loss G: adv 6.030996 con 3.461240 gram 0.021001 color 8.169275 / loss D: 8.765116:  42%|████▏     | 463/1110 [27:00<37:44,  3.50s/it]\u001b[A\n",
            "loss G: adv 6.030245 con 3.460766 gram 0.020999 color 8.166243 / loss D: 8.755869:  42%|████▏     | 463/1110 [27:03<37:44,  3.50s/it]\u001b[A\n",
            "loss G: adv 6.030245 con 3.460766 gram 0.020999 color 8.166243 / loss D: 8.755869:  42%|████▏     | 464/1110 [27:03<37:40,  3.50s/it]\u001b[A\n",
            "loss G: adv 6.029332 con 3.460151 gram 0.021003 color 8.164957 / loss D: 8.744710:  42%|████▏     | 464/1110 [27:07<37:40,  3.50s/it]\u001b[A\n",
            "loss G: adv 6.029332 con 3.460151 gram 0.021003 color 8.164957 / loss D: 8.744710:  42%|████▏     | 465/1110 [27:07<37:37,  3.50s/it]\u001b[A\n",
            "loss G: adv 6.027360 con 3.460329 gram 0.021006 color 8.160455 / loss D: 8.737030:  42%|████▏     | 465/1110 [27:10<37:37,  3.50s/it]\u001b[A\n",
            "loss G: adv 6.027360 con 3.460329 gram 0.021006 color 8.160455 / loss D: 8.737030:  42%|████▏     | 466/1110 [27:10<37:34,  3.50s/it]\u001b[A\n",
            "loss G: adv 6.025240 con 3.460034 gram 0.021021 color 8.157997 / loss D: 8.728675:  42%|████▏     | 466/1110 [27:14<37:34,  3.50s/it]\u001b[A\n",
            "loss G: adv 6.025240 con 3.460034 gram 0.021021 color 8.157997 / loss D: 8.728675:  42%|████▏     | 467/1110 [27:14<37:30,  3.50s/it]\u001b[A\n",
            "loss G: adv 6.023914 con 3.460381 gram 0.021012 color 8.156231 / loss D: 8.719507:  42%|████▏     | 467/1110 [27:17<37:30,  3.50s/it]\u001b[A\n",
            "loss G: adv 6.023914 con 3.460381 gram 0.021012 color 8.156231 / loss D: 8.719507:  42%|████▏     | 468/1110 [27:17<37:27,  3.50s/it]\u001b[A\n",
            "loss G: adv 6.023214 con 3.460485 gram 0.021008 color 8.155956 / loss D: 8.709351:  42%|████▏     | 468/1110 [27:21<37:27,  3.50s/it]\u001b[A\n",
            "loss G: adv 6.023214 con 3.460485 gram 0.021008 color 8.155956 / loss D: 8.709351:  42%|████▏     | 469/1110 [27:21<37:23,  3.50s/it]\u001b[A\n",
            "loss G: adv 6.022317 con 3.460129 gram 0.021004 color 8.155631 / loss D: 8.702713:  42%|████▏     | 469/1110 [27:24<37:23,  3.50s/it]\u001b[A\n",
            "loss G: adv 6.022317 con 3.460129 gram 0.021004 color 8.155631 / loss D: 8.702713:  42%|████▏     | 470/1110 [27:24<37:21,  3.50s/it]\u001b[A\n",
            "loss G: adv 6.019179 con 3.460547 gram 0.021013 color 8.162199 / loss D: 8.699639:  42%|████▏     | 470/1110 [27:28<37:21,  3.50s/it]\u001b[A\n",
            "loss G: adv 6.019179 con 3.460547 gram 0.021013 color 8.162199 / loss D: 8.699639:  42%|████▏     | 471/1110 [27:28<37:17,  3.50s/it]\u001b[A\n",
            "loss G: adv 6.017444 con 3.461097 gram 0.021003 color 8.163100 / loss D: 8.690678:  42%|████▏     | 471/1110 [27:31<37:17,  3.50s/it]\u001b[A\n",
            "loss G: adv 6.017444 con 3.461097 gram 0.021003 color 8.163100 / loss D: 8.690678:  43%|████▎     | 472/1110 [27:31<37:14,  3.50s/it]\u001b[A\n",
            "loss G: adv 6.015974 con 3.462337 gram 0.021001 color 8.159330 / loss D: 8.682423:  43%|████▎     | 472/1110 [27:35<37:14,  3.50s/it]\u001b[A\n",
            "loss G: adv 6.015974 con 3.462337 gram 0.021001 color 8.159330 / loss D: 8.682423:  43%|████▎     | 473/1110 [27:35<37:09,  3.50s/it]\u001b[A\n",
            "loss G: adv 6.013693 con 3.463616 gram 0.021007 color 8.153078 / loss D: 8.672770:  43%|████▎     | 473/1110 [27:38<37:09,  3.50s/it]\u001b[A\n",
            "loss G: adv 6.013693 con 3.463616 gram 0.021007 color 8.153078 / loss D: 8.672770:  43%|████▎     | 474/1110 [27:38<37:06,  3.50s/it]\u001b[A\n",
            "loss G: adv 6.011948 con 3.463403 gram 0.021000 color 8.149178 / loss D: 8.667334:  43%|████▎     | 474/1110 [27:42<37:06,  3.50s/it]\u001b[A\n",
            "loss G: adv 6.011948 con 3.463403 gram 0.021000 color 8.149178 / loss D: 8.667334:  43%|████▎     | 475/1110 [27:42<37:02,  3.50s/it]\u001b[A\n",
            "loss G: adv 6.011589 con 3.463032 gram 0.021002 color 8.145936 / loss D: 8.658529:  43%|████▎     | 475/1110 [27:45<37:02,  3.50s/it]\u001b[A\n",
            "loss G: adv 6.011589 con 3.463032 gram 0.021002 color 8.145936 / loss D: 8.658529:  43%|████▎     | 476/1110 [27:45<36:56,  3.50s/it]\u001b[A\n",
            "loss G: adv 6.010970 con 3.463038 gram 0.020993 color 8.147129 / loss D: 8.651509:  43%|████▎     | 476/1110 [27:49<36:56,  3.50s/it]\u001b[A\n",
            "loss G: adv 6.010970 con 3.463038 gram 0.020993 color 8.147129 / loss D: 8.651509:  43%|████▎     | 477/1110 [27:49<36:48,  3.49s/it]\u001b[A\n",
            "loss G: adv 6.008149 con 3.464390 gram 0.020998 color 8.147683 / loss D: 8.650496:  43%|████▎     | 477/1110 [27:52<36:48,  3.49s/it]\u001b[A\n",
            "loss G: adv 6.008149 con 3.464390 gram 0.020998 color 8.147683 / loss D: 8.650496:  43%|████▎     | 478/1110 [27:52<36:44,  3.49s/it]\u001b[A\n",
            "loss G: adv 6.006100 con 3.465879 gram 0.020998 color 8.147281 / loss D: 8.646542:  43%|████▎     | 478/1110 [27:55<36:44,  3.49s/it]\u001b[A\n",
            "loss G: adv 6.006100 con 3.465879 gram 0.020998 color 8.147281 / loss D: 8.646542:  43%|████▎     | 479/1110 [27:55<36:38,  3.48s/it]\u001b[A\n",
            "loss G: adv 6.003893 con 3.466141 gram 0.020989 color 8.145604 / loss D: 8.642470:  43%|████▎     | 479/1110 [27:59<36:38,  3.48s/it]\u001b[A\n",
            "loss G: adv 6.003893 con 3.466141 gram 0.020989 color 8.145604 / loss D: 8.642470:  43%|████▎     | 480/1110 [27:59<36:34,  3.48s/it]\u001b[A\n",
            "loss G: adv 6.001879 con 3.465870 gram 0.021005 color 8.146219 / loss D: 8.639916:  43%|████▎     | 480/1110 [28:02<36:34,  3.48s/it]\u001b[A\n",
            "loss G: adv 6.001879 con 3.465870 gram 0.021005 color 8.146219 / loss D: 8.639916:  43%|████▎     | 481/1110 [28:02<36:30,  3.48s/it]\u001b[A\n",
            "loss G: adv 5.998690 con 3.465372 gram 0.021002 color 8.146853 / loss D: 8.636903:  43%|████▎     | 481/1110 [28:06<36:30,  3.48s/it]\u001b[A\n",
            "loss G: adv 5.998690 con 3.465372 gram 0.021002 color 8.146853 / loss D: 8.636903:  43%|████▎     | 482/1110 [28:06<36:26,  3.48s/it]\u001b[A\n",
            "loss G: adv 5.997265 con 3.465596 gram 0.021000 color 8.139498 / loss D: 8.630130:  43%|████▎     | 482/1110 [28:09<36:26,  3.48s/it]\u001b[A\n",
            "loss G: adv 5.997265 con 3.465596 gram 0.021000 color 8.139498 / loss D: 8.630130:  44%|████▎     | 483/1110 [28:09<36:22,  3.48s/it]\u001b[A\n",
            "loss G: adv 5.995149 con 3.466686 gram 0.021008 color 8.141546 / loss D: 8.623025:  44%|████▎     | 483/1110 [28:13<36:22,  3.48s/it]\u001b[A\n",
            "loss G: adv 5.995149 con 3.466686 gram 0.021008 color 8.141546 / loss D: 8.623025:  44%|████▎     | 484/1110 [28:13<36:18,  3.48s/it]\u001b[A\n",
            "loss G: adv 5.992830 con 3.467055 gram 0.021005 color 8.143720 / loss D: 8.614487:  44%|████▎     | 484/1110 [28:16<36:18,  3.48s/it]\u001b[A\n",
            "loss G: adv 5.992830 con 3.467055 gram 0.021005 color 8.143720 / loss D: 8.614487:  44%|████▎     | 485/1110 [28:16<36:15,  3.48s/it]\u001b[A\n",
            "loss G: adv 5.990070 con 3.467497 gram 0.021014 color 8.144536 / loss D: 8.607533:  44%|████▎     | 485/1110 [28:20<36:15,  3.48s/it]\u001b[A\n",
            "loss G: adv 5.990070 con 3.467497 gram 0.021014 color 8.144536 / loss D: 8.607533:  44%|████▍     | 486/1110 [28:20<36:12,  3.48s/it]\u001b[A\n",
            "loss G: adv 5.988189 con 3.467602 gram 0.021013 color 8.142163 / loss D: 8.599072:  44%|████▍     | 486/1110 [28:23<36:12,  3.48s/it]\u001b[A\n",
            "loss G: adv 5.988189 con 3.467602 gram 0.021013 color 8.142163 / loss D: 8.599072:  44%|████▍     | 487/1110 [28:23<36:10,  3.48s/it]\u001b[A\n",
            "loss G: adv 5.985427 con 3.467612 gram 0.021017 color 8.137469 / loss D: 8.589927:  44%|████▍     | 487/1110 [28:27<36:10,  3.48s/it]\u001b[A\n",
            "loss G: adv 5.985427 con 3.467612 gram 0.021017 color 8.137469 / loss D: 8.589927:  44%|████▍     | 488/1110 [28:27<36:07,  3.48s/it]\u001b[A\n",
            "loss G: adv 5.984250 con 3.467974 gram 0.021011 color 8.135277 / loss D: 8.581853:  44%|████▍     | 488/1110 [28:30<36:07,  3.48s/it]\u001b[A\n",
            "loss G: adv 5.984250 con 3.467974 gram 0.021011 color 8.135277 / loss D: 8.581853:  44%|████▍     | 489/1110 [28:30<36:03,  3.48s/it]\u001b[A\n",
            "loss G: adv 5.979789 con 3.468807 gram 0.021006 color 8.130043 / loss D: 8.576858:  44%|████▍     | 489/1110 [28:34<36:03,  3.48s/it]\u001b[A\n",
            "loss G: adv 5.979789 con 3.468807 gram 0.021006 color 8.130043 / loss D: 8.576858:  44%|████▍     | 490/1110 [28:34<36:00,  3.48s/it]\u001b[A\n",
            "loss G: adv 5.978579 con 3.468944 gram 0.021012 color 8.124997 / loss D: 8.568753:  44%|████▍     | 490/1110 [28:37<36:00,  3.48s/it]\u001b[A\n",
            "loss G: adv 5.978579 con 3.468944 gram 0.021012 color 8.124997 / loss D: 8.568753:  44%|████▍     | 491/1110 [28:37<35:57,  3.48s/it]\u001b[A\n",
            "loss G: adv 5.976507 con 3.469449 gram 0.021010 color 8.123760 / loss D: 8.558667:  44%|████▍     | 491/1110 [28:41<35:57,  3.48s/it]\u001b[A\n",
            "loss G: adv 5.976507 con 3.469449 gram 0.021010 color 8.123760 / loss D: 8.558667:  44%|████▍     | 492/1110 [28:41<35:54,  3.49s/it]\u001b[A\n",
            "loss G: adv 5.975217 con 3.469071 gram 0.021007 color 8.118647 / loss D: 8.548858:  44%|████▍     | 492/1110 [28:44<35:54,  3.49s/it]\u001b[A\n",
            "loss G: adv 5.975217 con 3.469071 gram 0.021007 color 8.118647 / loss D: 8.548858:  44%|████▍     | 493/1110 [28:44<35:49,  3.48s/it]\u001b[A\n",
            "loss G: adv 5.972429 con 3.468876 gram 0.021002 color 8.115559 / loss D: 8.541524:  44%|████▍     | 493/1110 [28:48<35:49,  3.48s/it]\u001b[A\n",
            "loss G: adv 5.972429 con 3.468876 gram 0.021002 color 8.115559 / loss D: 8.541524:  45%|████▍     | 494/1110 [28:48<35:46,  3.48s/it]\u001b[A\n",
            "loss G: adv 5.970380 con 3.469229 gram 0.021018 color 8.112635 / loss D: 8.532858:  45%|████▍     | 494/1110 [28:51<35:46,  3.48s/it]\u001b[A\n",
            "loss G: adv 5.970380 con 3.469229 gram 0.021018 color 8.112635 / loss D: 8.532858:  45%|████▍     | 495/1110 [28:51<35:43,  3.49s/it]\u001b[A\n",
            "loss G: adv 5.967650 con 3.469773 gram 0.021020 color 8.109941 / loss D: 8.524020:  45%|████▍     | 495/1110 [28:55<35:43,  3.49s/it]\u001b[A\n",
            "loss G: adv 5.967650 con 3.469773 gram 0.021020 color 8.109941 / loss D: 8.524020:  45%|████▍     | 496/1110 [28:55<35:40,  3.49s/it]\u001b[A\n",
            "loss G: adv 5.965043 con 3.470024 gram 0.021016 color 8.108461 / loss D: 8.517518:  45%|████▍     | 496/1110 [28:58<35:40,  3.49s/it]\u001b[A\n",
            "loss G: adv 5.965043 con 3.470024 gram 0.021016 color 8.108461 / loss D: 8.517518:  45%|████▍     | 497/1110 [28:58<35:38,  3.49s/it]\u001b[A\n",
            "loss G: adv 5.961086 con 3.470472 gram 0.021022 color 8.106192 / loss D: 8.510937:  45%|████▍     | 497/1110 [29:02<35:38,  3.49s/it]\u001b[A\n",
            "loss G: adv 5.961086 con 3.470472 gram 0.021022 color 8.106192 / loss D: 8.510937:  45%|████▍     | 498/1110 [29:02<35:34,  3.49s/it]\u001b[A\n",
            "loss G: adv 5.957382 con 3.470625 gram 0.021013 color 8.102960 / loss D: 8.502985:  45%|████▍     | 498/1110 [29:05<35:34,  3.49s/it]\u001b[A\n",
            "loss G: adv 5.957382 con 3.470625 gram 0.021013 color 8.102960 / loss D: 8.502985:  45%|████▍     | 499/1110 [29:05<35:32,  3.49s/it]\u001b[A\n",
            "loss G: adv 5.953546 con 3.470554 gram 0.021016 color 8.101284 / loss D: 8.496789:  45%|████▍     | 499/1110 [29:09<35:32,  3.49s/it]\u001b[A\n",
            "loss G: adv 5.953546 con 3.470554 gram 0.021016 color 8.101284 / loss D: 8.496789:  45%|████▌     | 500/1110 [29:09<35:30,  3.49s/it]\u001b[A\n",
            "loss G: adv 5.951995 con 3.470434 gram 0.021025 color 8.096781 / loss D: 8.488465:  45%|████▌     | 500/1110 [29:12<35:30,  3.49s/it]\u001b[A\n",
            "loss G: adv 5.951995 con 3.470434 gram 0.021025 color 8.096781 / loss D: 8.488465:  45%|████▌     | 501/1110 [29:12<35:25,  3.49s/it]\u001b[A\n",
            "loss G: adv 5.948590 con 3.471340 gram 0.021017 color 8.104922 / loss D: 8.482672:  45%|████▌     | 501/1110 [29:16<35:25,  3.49s/it]\u001b[A\n",
            "loss G: adv 5.948590 con 3.471340 gram 0.021017 color 8.104922 / loss D: 8.482672:  45%|████▌     | 502/1110 [29:16<35:22,  3.49s/it]\u001b[A\n",
            "loss G: adv 5.945167 con 3.472018 gram 0.021009 color 8.106451 / loss D: 8.476735:  45%|████▌     | 502/1110 [29:19<35:22,  3.49s/it]\u001b[A\n",
            "loss G: adv 5.945167 con 3.472018 gram 0.021009 color 8.106451 / loss D: 8.476735:  45%|████▌     | 503/1110 [29:19<35:18,  3.49s/it]\u001b[A\n",
            "loss G: adv 5.944229 con 3.471708 gram 0.021011 color 8.105063 / loss D: 8.468032:  45%|████▌     | 503/1110 [29:23<35:18,  3.49s/it]\u001b[A\n",
            "loss G: adv 5.944229 con 3.471708 gram 0.021011 color 8.105063 / loss D: 8.468032:  45%|████▌     | 504/1110 [29:23<35:15,  3.49s/it]\u001b[A\n",
            "loss G: adv 5.942142 con 3.471899 gram 0.021005 color 8.107079 / loss D: 8.459590:  45%|████▌     | 504/1110 [29:26<35:15,  3.49s/it]\u001b[A\n",
            "loss G: adv 5.942142 con 3.471899 gram 0.021005 color 8.107079 / loss D: 8.459590:  45%|████▌     | 505/1110 [29:26<35:11,  3.49s/it]\u001b[A\n",
            "loss G: adv 5.939464 con 3.472044 gram 0.021014 color 8.108659 / loss D: 8.452312:  45%|████▌     | 505/1110 [29:30<35:11,  3.49s/it]\u001b[A\n",
            "loss G: adv 5.939464 con 3.472044 gram 0.021014 color 8.108659 / loss D: 8.452312:  46%|████▌     | 506/1110 [29:30<35:08,  3.49s/it]\u001b[A\n",
            "loss G: adv 5.936591 con 3.472571 gram 0.021013 color 8.102554 / loss D: 8.445097:  46%|████▌     | 506/1110 [29:33<35:08,  3.49s/it]\u001b[A\n",
            "loss G: adv 5.936591 con 3.472571 gram 0.021013 color 8.102554 / loss D: 8.445097:  46%|████▌     | 507/1110 [29:33<35:02,  3.49s/it]\u001b[A\n",
            "loss G: adv 5.934181 con 3.473129 gram 0.021010 color 8.097077 / loss D: 8.435603:  46%|████▌     | 507/1110 [29:37<35:02,  3.49s/it]\u001b[A\n",
            "loss G: adv 5.934181 con 3.473129 gram 0.021010 color 8.097077 / loss D: 8.435603:  46%|████▌     | 508/1110 [29:37<34:59,  3.49s/it]\u001b[A\n",
            "loss G: adv 5.932300 con 3.473494 gram 0.021011 color 8.098612 / loss D: 8.426776:  46%|████▌     | 508/1110 [29:40<34:59,  3.49s/it]\u001b[A\n",
            "loss G: adv 5.932300 con 3.473494 gram 0.021011 color 8.098612 / loss D: 8.426776:  46%|████▌     | 509/1110 [29:40<34:55,  3.49s/it]\u001b[A\n",
            "loss G: adv 5.931142 con 3.473357 gram 0.021008 color 8.095306 / loss D: 8.420470:  46%|████▌     | 509/1110 [29:44<34:55,  3.49s/it]\u001b[A\n",
            "loss G: adv 5.931142 con 3.473357 gram 0.021008 color 8.095306 / loss D: 8.420470:  46%|████▌     | 510/1110 [29:44<34:51,  3.49s/it]\u001b[A\n",
            "loss G: adv 5.929990 con 3.472571 gram 0.020999 color 8.094826 / loss D: 8.413773:  46%|████▌     | 510/1110 [29:47<34:51,  3.49s/it]\u001b[A\n",
            "loss G: adv 5.929990 con 3.472571 gram 0.020999 color 8.094826 / loss D: 8.413773:  46%|████▌     | 511/1110 [29:47<34:47,  3.48s/it]\u001b[A\n",
            "loss G: adv 5.927031 con 3.473486 gram 0.021010 color 8.094332 / loss D: 8.407736:  46%|████▌     | 511/1110 [29:51<34:47,  3.48s/it]\u001b[A\n",
            "loss G: adv 5.927031 con 3.473486 gram 0.021010 color 8.094332 / loss D: 8.407736:  46%|████▌     | 512/1110 [29:51<34:43,  3.48s/it]\u001b[A\n",
            "loss G: adv 5.924179 con 3.473937 gram 0.021026 color 8.091209 / loss D: 8.401597:  46%|████▌     | 512/1110 [29:54<34:43,  3.48s/it]\u001b[A\n",
            "loss G: adv 5.924179 con 3.473937 gram 0.021026 color 8.091209 / loss D: 8.401597:  46%|████▌     | 513/1110 [29:54<34:39,  3.48s/it]\u001b[A\n",
            "loss G: adv 5.923766 con 3.473739 gram 0.021020 color 8.090025 / loss D: 8.392905:  46%|████▌     | 513/1110 [29:57<34:39,  3.48s/it]\u001b[A\n",
            "loss G: adv 5.923766 con 3.473739 gram 0.021020 color 8.090025 / loss D: 8.392905:  46%|████▋     | 514/1110 [29:57<34:34,  3.48s/it]\u001b[A\n",
            "loss G: adv 5.922453 con 3.474180 gram 0.021026 color 8.084755 / loss D: 8.385602:  46%|████▋     | 514/1110 [30:01<34:34,  3.48s/it]\u001b[A\n",
            "loss G: adv 5.922453 con 3.474180 gram 0.021026 color 8.084755 / loss D: 8.385602:  46%|████▋     | 515/1110 [30:01<34:32,  3.48s/it]\u001b[A\n",
            "loss G: adv 5.919850 con 3.474372 gram 0.021043 color 8.091277 / loss D: 8.379036:  46%|████▋     | 515/1110 [30:04<34:32,  3.48s/it]\u001b[A\n",
            "loss G: adv 5.919850 con 3.474372 gram 0.021043 color 8.091277 / loss D: 8.379036:  46%|████▋     | 516/1110 [30:04<34:26,  3.48s/it]\u001b[A\n",
            "loss G: adv 5.916226 con 3.475191 gram 0.021054 color 8.094044 / loss D: 8.372646:  46%|████▋     | 516/1110 [30:08<34:26,  3.48s/it]\u001b[A\n",
            "loss G: adv 5.916226 con 3.475191 gram 0.021054 color 8.094044 / loss D: 8.372646:  47%|████▋     | 517/1110 [30:08<34:26,  3.48s/it]\u001b[A\n",
            "loss G: adv 5.913084 con 3.474965 gram 0.021055 color 8.088871 / loss D: 8.366335:  47%|████▋     | 517/1110 [30:11<34:26,  3.48s/it]\u001b[A\n",
            "loss G: adv 5.913084 con 3.474965 gram 0.021055 color 8.088871 / loss D: 8.366335:  47%|████▋     | 518/1110 [30:11<34:22,  3.48s/it]\u001b[A\n",
            "loss G: adv 5.910587 con 3.475770 gram 0.021056 color 8.086808 / loss D: 8.359141:  47%|████▋     | 518/1110 [30:15<34:22,  3.48s/it]\u001b[A\n",
            "loss G: adv 5.910587 con 3.475770 gram 0.021056 color 8.086808 / loss D: 8.359141:  47%|████▋     | 519/1110 [30:15<34:18,  3.48s/it]\u001b[A\n",
            "loss G: adv 5.908687 con 3.475729 gram 0.021060 color 8.081434 / loss D: 8.353259:  47%|████▋     | 519/1110 [30:18<34:18,  3.48s/it]\u001b[A\n",
            "loss G: adv 5.908687 con 3.475729 gram 0.021060 color 8.081434 / loss D: 8.353259:  47%|████▋     | 520/1110 [30:18<34:16,  3.49s/it]\u001b[A\n",
            "loss G: adv 5.905348 con 3.476301 gram 0.021067 color 8.076435 / loss D: 8.347829:  47%|████▋     | 520/1110 [30:22<34:16,  3.49s/it]\u001b[A\n",
            "loss G: adv 5.905348 con 3.476301 gram 0.021067 color 8.076435 / loss D: 8.347829:  47%|████▋     | 521/1110 [30:22<34:13,  3.49s/it]\u001b[A\n",
            "loss G: adv 5.902202 con 3.475895 gram 0.021065 color 8.073125 / loss D: 8.342462:  47%|████▋     | 521/1110 [30:25<34:13,  3.49s/it]\u001b[A\n",
            "loss G: adv 5.902202 con 3.475895 gram 0.021065 color 8.073125 / loss D: 8.342462:  47%|████▋     | 522/1110 [30:25<34:09,  3.48s/it]\u001b[A\n",
            "loss G: adv 5.899160 con 3.475530 gram 0.021060 color 8.072785 / loss D: 8.335116:  47%|████▋     | 522/1110 [30:29<34:09,  3.48s/it]\u001b[A\n",
            "loss G: adv 5.899160 con 3.475530 gram 0.021060 color 8.072785 / loss D: 8.335116:  47%|████▋     | 523/1110 [30:29<34:06,  3.49s/it]\u001b[A\n",
            "loss G: adv 5.895819 con 3.475112 gram 0.021048 color 8.067032 / loss D: 8.328006:  47%|████▋     | 523/1110 [30:32<34:06,  3.49s/it]\u001b[A\n",
            "loss G: adv 5.895819 con 3.475112 gram 0.021048 color 8.067032 / loss D: 8.328006:  47%|████▋     | 524/1110 [30:32<34:02,  3.49s/it]\u001b[A\n",
            "loss G: adv 5.893299 con 3.476119 gram 0.021054 color 8.070141 / loss D: 8.322721:  47%|████▋     | 524/1110 [30:36<34:02,  3.49s/it]\u001b[A\n",
            "loss G: adv 5.893299 con 3.476119 gram 0.021054 color 8.070141 / loss D: 8.322721:  47%|████▋     | 525/1110 [30:36<34:01,  3.49s/it]\u001b[A\n",
            "loss G: adv 5.892102 con 3.477463 gram 0.021057 color 8.069719 / loss D: 8.315341:  47%|████▋     | 525/1110 [30:39<34:01,  3.49s/it]\u001b[A\n",
            "loss G: adv 5.892102 con 3.477463 gram 0.021057 color 8.069719 / loss D: 8.315341:  47%|████▋     | 526/1110 [30:39<33:59,  3.49s/it]\u001b[A\n",
            "loss G: adv 5.890977 con 3.477913 gram 0.021044 color 8.062096 / loss D: 8.309335:  47%|████▋     | 526/1110 [30:43<33:59,  3.49s/it]\u001b[A\n",
            "loss G: adv 5.890977 con 3.477913 gram 0.021044 color 8.062096 / loss D: 8.309335:  47%|████▋     | 527/1110 [30:43<33:57,  3.49s/it]\u001b[A\n",
            "loss G: adv 5.889278 con 3.478553 gram 0.021044 color 8.067237 / loss D: 8.304292:  47%|████▋     | 527/1110 [30:46<33:57,  3.49s/it]\u001b[A\n",
            "loss G: adv 5.889278 con 3.478553 gram 0.021044 color 8.067237 / loss D: 8.304292:  48%|████▊     | 528/1110 [30:46<33:54,  3.50s/it]\u001b[A\n",
            "loss G: adv 5.887246 con 3.478779 gram 0.021041 color 8.063705 / loss D: 8.296052:  48%|████▊     | 528/1110 [30:50<33:54,  3.50s/it]\u001b[A\n",
            "loss G: adv 5.887246 con 3.478779 gram 0.021041 color 8.063705 / loss D: 8.296052:  48%|████▊     | 529/1110 [30:50<33:48,  3.49s/it]\u001b[A\n",
            "loss G: adv 5.886956 con 3.478470 gram 0.021032 color 8.063021 / loss D: 8.290853:  48%|████▊     | 529/1110 [30:53<33:48,  3.49s/it]\u001b[A\n",
            "loss G: adv 5.886956 con 3.478470 gram 0.021032 color 8.063021 / loss D: 8.290853:  48%|████▊     | 530/1110 [30:53<33:44,  3.49s/it]\u001b[A\n",
            "loss G: adv 5.886245 con 3.478406 gram 0.021028 color 8.061697 / loss D: 8.283918:  48%|████▊     | 530/1110 [30:57<33:44,  3.49s/it]\u001b[A\n",
            "loss G: adv 5.886245 con 3.478406 gram 0.021028 color 8.061697 / loss D: 8.283918:  48%|████▊     | 531/1110 [30:57<33:41,  3.49s/it]\u001b[A\n",
            "loss G: adv 5.883395 con 3.478851 gram 0.021032 color 8.062483 / loss D: 8.277167:  48%|████▊     | 531/1110 [31:00<33:41,  3.49s/it]\u001b[A\n",
            "loss G: adv 5.883395 con 3.478851 gram 0.021032 color 8.062483 / loss D: 8.277167:  48%|████▊     | 532/1110 [31:00<33:39,  3.49s/it]\u001b[A\n",
            "loss G: adv 5.882445 con 3.478717 gram 0.021045 color 8.057159 / loss D: 8.269801:  48%|████▊     | 532/1110 [31:04<33:39,  3.49s/it]\u001b[A\n",
            "loss G: adv 5.882445 con 3.478717 gram 0.021045 color 8.057159 / loss D: 8.269801:  48%|████▊     | 533/1110 [31:04<33:36,  3.49s/it]\u001b[A\n",
            "loss G: adv 5.880894 con 3.478670 gram 0.021045 color 8.054289 / loss D: 8.262840:  48%|████▊     | 533/1110 [31:07<33:36,  3.49s/it]\u001b[A\n",
            "loss G: adv 5.880894 con 3.478670 gram 0.021045 color 8.054289 / loss D: 8.262840:  48%|████▊     | 534/1110 [31:07<33:32,  3.49s/it]\u001b[A\n",
            "loss G: adv 5.878940 con 3.479053 gram 0.021040 color 8.050263 / loss D: 8.257404:  48%|████▊     | 534/1110 [31:11<33:32,  3.49s/it]\u001b[A\n",
            "loss G: adv 5.878940 con 3.479053 gram 0.021040 color 8.050263 / loss D: 8.257404:  48%|████▊     | 535/1110 [31:11<33:28,  3.49s/it]\u001b[A\n",
            "loss G: adv 5.879322 con 3.478706 gram 0.021035 color 8.046490 / loss D: 8.252576:  48%|████▊     | 535/1110 [31:14<33:28,  3.49s/it]\u001b[A\n",
            "loss G: adv 5.879322 con 3.478706 gram 0.021035 color 8.046490 / loss D: 8.252576:  48%|████▊     | 536/1110 [31:14<33:25,  3.49s/it]\u001b[A\n",
            "loss G: adv 5.878340 con 3.478013 gram 0.021030 color 8.043025 / loss D: 8.246493:  48%|████▊     | 536/1110 [31:18<33:25,  3.49s/it]\u001b[A\n",
            "loss G: adv 5.878340 con 3.478013 gram 0.021030 color 8.043025 / loss D: 8.246493:  48%|████▊     | 537/1110 [31:18<33:21,  3.49s/it]\u001b[A\n",
            "loss G: adv 5.875053 con 3.478690 gram 0.021032 color 8.042303 / loss D: 8.243296:  48%|████▊     | 537/1110 [31:21<33:21,  3.49s/it]\u001b[A\n",
            "loss G: adv 5.875053 con 3.478690 gram 0.021032 color 8.042303 / loss D: 8.243296:  48%|████▊     | 538/1110 [31:21<33:20,  3.50s/it]\u001b[A\n",
            "loss G: adv 5.875008 con 3.479177 gram 0.021030 color 8.038564 / loss D: 8.238744:  48%|████▊     | 538/1110 [31:25<33:20,  3.50s/it]\u001b[A\n",
            "loss G: adv 5.875008 con 3.479177 gram 0.021030 color 8.038564 / loss D: 8.238744:  49%|████▊     | 539/1110 [31:25<33:16,  3.50s/it]\u001b[A\n",
            "loss G: adv 5.874762 con 3.479123 gram 0.021019 color 8.035514 / loss D: 8.232094:  49%|████▊     | 539/1110 [31:28<33:16,  3.50s/it]\u001b[A\n",
            "loss G: adv 5.874762 con 3.479123 gram 0.021019 color 8.035514 / loss D: 8.232094:  49%|████▊     | 540/1110 [31:28<33:12,  3.50s/it]\u001b[A\n",
            "loss G: adv 5.878194 con 3.478335 gram 0.021015 color 8.038809 / loss D: 8.230451:  49%|████▊     | 540/1110 [31:32<33:12,  3.50s/it]\u001b[A\n",
            "loss G: adv 5.878194 con 3.478335 gram 0.021015 color 8.038809 / loss D: 8.230451:  49%|████▊     | 541/1110 [31:32<33:08,  3.49s/it]\u001b[A\n",
            "loss G: adv 5.882071 con 3.477475 gram 0.021015 color 8.041435 / loss D: 8.229341:  49%|████▊     | 541/1110 [31:35<33:08,  3.49s/it]\u001b[A\n",
            "loss G: adv 5.882071 con 3.477475 gram 0.021015 color 8.041435 / loss D: 8.229341:  49%|████▉     | 542/1110 [31:35<33:05,  3.50s/it]\u001b[A\n",
            "loss G: adv 5.883695 con 3.476686 gram 0.021017 color 8.038239 / loss D: 8.227649:  49%|████▉     | 542/1110 [31:39<33:05,  3.50s/it]\u001b[A\n",
            "loss G: adv 5.883695 con 3.476686 gram 0.021017 color 8.038239 / loss D: 8.227649:  49%|████▉     | 543/1110 [31:39<33:01,  3.50s/it]\u001b[A\n",
            "loss G: adv 5.882797 con 3.476763 gram 0.021024 color 8.030840 / loss D: 8.222476:  49%|████▉     | 543/1110 [31:42<33:01,  3.50s/it]\u001b[A\n",
            "loss G: adv 5.882797 con 3.476763 gram 0.021024 color 8.030840 / loss D: 8.222476:  49%|████▉     | 544/1110 [31:42<33:00,  3.50s/it]\u001b[A\n",
            "loss G: adv 5.882080 con 3.477131 gram 0.021027 color 8.025919 / loss D: 8.215846:  49%|████▉     | 544/1110 [31:46<33:00,  3.50s/it]\u001b[A\n",
            "loss G: adv 5.882080 con 3.477131 gram 0.021027 color 8.025919 / loss D: 8.215846:  49%|████▉     | 545/1110 [31:46<32:56,  3.50s/it]\u001b[A\n",
            "loss G: adv 5.881303 con 3.478308 gram 0.021032 color 8.031678 / loss D: 8.210142:  49%|████▉     | 545/1110 [31:49<32:56,  3.50s/it]\u001b[A\n",
            "loss G: adv 5.881303 con 3.478308 gram 0.021032 color 8.031678 / loss D: 8.210142:  49%|████▉     | 546/1110 [31:49<32:52,  3.50s/it]\u001b[A\n",
            "loss G: adv 5.880302 con 3.478047 gram 0.021027 color 8.033399 / loss D: 8.203707:  49%|████▉     | 546/1110 [31:53<32:52,  3.50s/it]\u001b[A\n",
            "loss G: adv 5.880302 con 3.478047 gram 0.021027 color 8.033399 / loss D: 8.203707:  49%|████▉     | 547/1110 [31:53<32:48,  3.50s/it]\u001b[A\n",
            "loss G: adv 5.878778 con 3.478670 gram 0.021027 color 8.030648 / loss D: 8.197188:  49%|████▉     | 547/1110 [31:56<32:48,  3.50s/it]\u001b[A\n",
            "loss G: adv 5.878778 con 3.478670 gram 0.021027 color 8.030648 / loss D: 8.197188:  49%|████▉     | 548/1110 [31:56<32:44,  3.50s/it]\u001b[A\n",
            "loss G: adv 5.876065 con 3.479178 gram 0.021021 color 8.033331 / loss D: 8.190702:  49%|████▉     | 548/1110 [32:00<32:44,  3.50s/it]\u001b[A\n",
            "loss G: adv 5.876065 con 3.479178 gram 0.021021 color 8.033331 / loss D: 8.190702:  49%|████▉     | 549/1110 [32:00<32:41,  3.50s/it]\u001b[A\n",
            "loss G: adv 5.876180 con 3.479056 gram 0.021031 color 8.028179 / loss D: 8.183485:  49%|████▉     | 549/1110 [32:03<32:41,  3.50s/it]\u001b[A\n",
            "loss G: adv 5.876180 con 3.479056 gram 0.021031 color 8.028179 / loss D: 8.183485:  50%|████▉     | 550/1110 [32:03<32:36,  3.49s/it]\u001b[A\n",
            "loss G: adv 5.874701 con 3.479765 gram 0.021026 color 8.028764 / loss D: 8.175806:  50%|████▉     | 550/1110 [32:07<32:36,  3.49s/it]\u001b[A\n",
            "loss G: adv 5.874701 con 3.479765 gram 0.021026 color 8.028764 / loss D: 8.175806:  50%|████▉     | 551/1110 [32:07<32:34,  3.50s/it]\u001b[A\n",
            "loss G: adv 5.873793 con 3.479838 gram 0.021032 color 8.025893 / loss D: 8.169387:  50%|████▉     | 551/1110 [32:10<32:34,  3.50s/it]\u001b[A\n",
            "loss G: adv 5.873793 con 3.479838 gram 0.021032 color 8.025893 / loss D: 8.169387:  50%|████▉     | 552/1110 [32:10<32:31,  3.50s/it]\u001b[A\n",
            "loss G: adv 5.871312 con 3.479351 gram 0.021043 color 8.026634 / loss D: 8.164229:  50%|████▉     | 552/1110 [32:14<32:31,  3.50s/it]\u001b[A\n",
            "loss G: adv 5.871312 con 3.479351 gram 0.021043 color 8.026634 / loss D: 8.164229:  50%|████▉     | 553/1110 [32:14<32:29,  3.50s/it]\u001b[A\n",
            "loss G: adv 5.870215 con 3.479390 gram 0.021033 color 8.023735 / loss D: 8.155859:  50%|████▉     | 553/1110 [32:17<32:29,  3.50s/it]\u001b[A\n",
            "loss G: adv 5.870215 con 3.479390 gram 0.021033 color 8.023735 / loss D: 8.155859:  50%|████▉     | 554/1110 [32:17<32:25,  3.50s/it]\u001b[A\n",
            "loss G: adv 5.867699 con 3.479797 gram 0.021037 color 8.024050 / loss D: 8.150473:  50%|████▉     | 554/1110 [32:21<32:25,  3.50s/it]\u001b[A\n",
            "loss G: adv 5.867699 con 3.479797 gram 0.021037 color 8.024050 / loss D: 8.150473:  50%|█████     | 555/1110 [32:21<32:22,  3.50s/it]\u001b[A\n",
            "loss G: adv 5.866798 con 3.480114 gram 0.021034 color 8.021670 / loss D: 8.144109:  50%|█████     | 555/1110 [32:24<32:22,  3.50s/it]\u001b[A\n",
            "loss G: adv 5.866798 con 3.480114 gram 0.021034 color 8.021670 / loss D: 8.144109:  50%|█████     | 556/1110 [32:24<32:18,  3.50s/it]\u001b[A\n",
            "loss G: adv 5.864528 con 3.480393 gram 0.021025 color 8.017485 / loss D: 8.138603:  50%|█████     | 556/1110 [32:28<32:18,  3.50s/it]\u001b[A\n",
            "loss G: adv 5.864528 con 3.480393 gram 0.021025 color 8.017485 / loss D: 8.138603:  50%|█████     | 557/1110 [32:28<32:15,  3.50s/it]\u001b[A\n",
            "loss G: adv 5.861740 con 3.479928 gram 0.021034 color 8.014578 / loss D: 8.133275:  50%|█████     | 557/1110 [32:31<32:15,  3.50s/it]\u001b[A\n",
            "loss G: adv 5.861740 con 3.479928 gram 0.021034 color 8.014578 / loss D: 8.133275:  50%|█████     | 558/1110 [32:31<32:12,  3.50s/it]\u001b[A\n",
            "loss G: adv 5.861620 con 3.479654 gram 0.021028 color 8.010700 / loss D: 8.125071:  50%|█████     | 558/1110 [32:35<32:12,  3.50s/it]\u001b[A\n",
            "loss G: adv 5.861620 con 3.479654 gram 0.021028 color 8.010700 / loss D: 8.125071:  50%|█████     | 559/1110 [32:35<32:08,  3.50s/it]\u001b[A\n",
            "loss G: adv 5.859917 con 3.480153 gram 0.021015 color 8.011944 / loss D: 8.117088:  50%|█████     | 559/1110 [32:38<32:08,  3.50s/it]\u001b[A\n",
            "loss G: adv 5.859917 con 3.480153 gram 0.021015 color 8.011944 / loss D: 8.117088:  50%|█████     | 560/1110 [32:38<32:04,  3.50s/it]\u001b[A\n",
            "loss G: adv 5.858680 con 3.480528 gram 0.021013 color 8.013303 / loss D: 8.112716:  50%|█████     | 560/1110 [32:42<32:04,  3.50s/it]\u001b[A\n",
            "loss G: adv 5.858680 con 3.480528 gram 0.021013 color 8.013303 / loss D: 8.112716:  51%|█████     | 561/1110 [32:42<32:01,  3.50s/it]\u001b[A\n",
            "loss G: adv 5.857533 con 3.481360 gram 0.021009 color 8.011509 / loss D: 8.104792:  51%|█████     | 561/1110 [32:45<32:01,  3.50s/it]\u001b[A\n",
            "loss G: adv 5.857533 con 3.481360 gram 0.021009 color 8.011509 / loss D: 8.104792:  51%|█████     | 562/1110 [32:45<31:57,  3.50s/it]\u001b[A\n",
            "loss G: adv 5.855416 con 3.481242 gram 0.021013 color 8.013090 / loss D: 8.098098:  51%|█████     | 562/1110 [32:49<31:57,  3.50s/it]\u001b[A\n",
            "loss G: adv 5.855416 con 3.481242 gram 0.021013 color 8.013090 / loss D: 8.098098:  51%|█████     | 563/1110 [32:49<31:54,  3.50s/it]\u001b[A\n",
            "loss G: adv 5.853695 con 3.482295 gram 0.021004 color 8.008931 / loss D: 8.090407:  51%|█████     | 563/1110 [32:52<31:54,  3.50s/it]\u001b[A\n",
            "loss G: adv 5.853695 con 3.482295 gram 0.021004 color 8.008931 / loss D: 8.090407:  51%|█████     | 564/1110 [32:52<31:50,  3.50s/it]\u001b[A\n",
            "loss G: adv 5.853615 con 3.482362 gram 0.021008 color 8.006271 / loss D: 8.083642:  51%|█████     | 564/1110 [32:56<31:50,  3.50s/it]\u001b[A\n",
            "loss G: adv 5.853615 con 3.482362 gram 0.021008 color 8.006271 / loss D: 8.083642:  51%|█████     | 565/1110 [32:56<31:46,  3.50s/it]\u001b[A\n",
            "loss G: adv 5.851830 con 3.482876 gram 0.021002 color 8.009944 / loss D: 8.077048:  51%|█████     | 565/1110 [32:59<31:46,  3.50s/it]\u001b[A\n",
            "loss G: adv 5.851830 con 3.482876 gram 0.021002 color 8.009944 / loss D: 8.077048:  51%|█████     | 566/1110 [32:59<31:42,  3.50s/it]\u001b[A\n",
            "loss G: adv 5.851735 con 3.482929 gram 0.021012 color 8.004711 / loss D: 8.069082:  51%|█████     | 566/1110 [33:03<31:42,  3.50s/it]\u001b[A\n",
            "loss G: adv 5.851735 con 3.482929 gram 0.021012 color 8.004711 / loss D: 8.069082:  51%|█████     | 567/1110 [33:03<31:38,  3.50s/it]\u001b[A\n",
            "loss G: adv 5.850219 con 3.483068 gram 0.021008 color 8.002728 / loss D: 8.061627:  51%|█████     | 567/1110 [33:06<31:38,  3.50s/it]\u001b[A\n",
            "loss G: adv 5.850219 con 3.483068 gram 0.021008 color 8.002728 / loss D: 8.061627:  51%|█████     | 568/1110 [33:06<31:36,  3.50s/it]\u001b[A\n",
            "loss G: adv 5.847251 con 3.483467 gram 0.021002 color 8.001002 / loss D: 8.056700:  51%|█████     | 568/1110 [33:10<31:36,  3.50s/it]\u001b[A\n",
            "loss G: adv 5.847251 con 3.483467 gram 0.021002 color 8.001002 / loss D: 8.056700:  51%|█████▏    | 569/1110 [33:10<31:33,  3.50s/it]\u001b[A\n",
            "loss G: adv 5.844497 con 3.483980 gram 0.021009 color 7.999543 / loss D: 8.050233:  51%|█████▏    | 569/1110 [33:13<31:33,  3.50s/it]\u001b[A\n",
            "loss G: adv 5.844497 con 3.483980 gram 0.021009 color 7.999543 / loss D: 8.050233:  51%|█████▏    | 570/1110 [33:13<31:30,  3.50s/it]\u001b[A\n",
            "loss G: adv 5.841788 con 3.484215 gram 0.021010 color 7.999362 / loss D: 8.044826:  51%|█████▏    | 570/1110 [33:17<31:30,  3.50s/it]\u001b[A\n",
            "loss G: adv 5.841788 con 3.484215 gram 0.021010 color 7.999362 / loss D: 8.044826:  51%|█████▏    | 571/1110 [33:17<31:26,  3.50s/it]\u001b[A\n",
            "loss G: adv 5.839115 con 3.484793 gram 0.021006 color 7.998643 / loss D: 8.038676:  51%|█████▏    | 571/1110 [33:20<31:26,  3.50s/it]\u001b[A\n",
            "loss G: adv 5.839115 con 3.484793 gram 0.021006 color 7.998643 / loss D: 8.038676:  52%|█████▏    | 572/1110 [33:20<31:23,  3.50s/it]\u001b[A\n",
            "loss G: adv 5.836755 con 3.485112 gram 0.020999 color 7.999306 / loss D: 8.033703:  52%|█████▏    | 572/1110 [33:24<31:23,  3.50s/it]\u001b[A\n",
            "loss G: adv 5.836755 con 3.485112 gram 0.020999 color 7.999306 / loss D: 8.033703:  52%|█████▏    | 573/1110 [33:24<31:19,  3.50s/it]\u001b[A\n",
            "loss G: adv 5.835217 con 3.484705 gram 0.021000 color 7.994089 / loss D: 8.027631:  52%|█████▏    | 573/1110 [33:27<31:19,  3.50s/it]\u001b[A\n",
            "loss G: adv 5.835217 con 3.484705 gram 0.021000 color 7.994089 / loss D: 8.027631:  52%|█████▏    | 574/1110 [33:27<31:16,  3.50s/it]\u001b[A\n",
            "loss G: adv 5.834137 con 3.485390 gram 0.020997 color 7.992370 / loss D: 8.020299:  52%|█████▏    | 574/1110 [33:31<31:16,  3.50s/it]\u001b[A\n",
            "loss G: adv 5.834137 con 3.485390 gram 0.020997 color 7.992370 / loss D: 8.020299:  52%|█████▏    | 575/1110 [33:31<31:12,  3.50s/it]\u001b[A\n",
            "loss G: adv 5.832968 con 3.485268 gram 0.021010 color 7.989601 / loss D: 8.013990:  52%|█████▏    | 575/1110 [33:34<31:12,  3.50s/it]\u001b[A\n",
            "loss G: adv 5.832968 con 3.485268 gram 0.021010 color 7.989601 / loss D: 8.013990:  52%|█████▏    | 576/1110 [33:34<31:09,  3.50s/it]\u001b[A\n",
            "loss G: adv 5.831169 con 3.485950 gram 0.021021 color 7.987266 / loss D: 8.008072:  52%|█████▏    | 576/1110 [33:38<31:09,  3.50s/it]\u001b[A\n",
            "loss G: adv 5.831169 con 3.485950 gram 0.021021 color 7.987266 / loss D: 8.008072:  52%|█████▏    | 577/1110 [33:38<31:05,  3.50s/it]\u001b[A\n",
            "loss G: adv 5.829457 con 3.486175 gram 0.021030 color 7.985314 / loss D: 8.003862:  52%|█████▏    | 577/1110 [33:41<31:05,  3.50s/it]\u001b[A\n",
            "loss G: adv 5.829457 con 3.486175 gram 0.021030 color 7.985314 / loss D: 8.003862:  52%|█████▏    | 578/1110 [33:41<31:01,  3.50s/it]\u001b[A\n",
            "loss G: adv 5.829809 con 3.486488 gram 0.021019 color 7.984960 / loss D: 7.996053:  52%|█████▏    | 578/1110 [33:45<31:01,  3.50s/it]\u001b[A\n",
            "loss G: adv 5.829809 con 3.486488 gram 0.021019 color 7.984960 / loss D: 7.996053:  52%|█████▏    | 579/1110 [33:45<30:57,  3.50s/it]\u001b[A\n",
            "loss G: adv 5.828778 con 3.487385 gram 0.021011 color 7.987612 / loss D: 7.989276:  52%|█████▏    | 579/1110 [33:48<30:57,  3.50s/it]\u001b[A\n",
            "loss G: adv 5.828778 con 3.487385 gram 0.021011 color 7.987612 / loss D: 7.989276:  52%|█████▏    | 580/1110 [33:48<30:55,  3.50s/it]\u001b[A\n",
            "loss G: adv 5.827655 con 3.487409 gram 0.021007 color 7.984423 / loss D: 7.983069:  52%|█████▏    | 580/1110 [33:52<30:55,  3.50s/it]\u001b[A\n",
            "loss G: adv 5.827655 con 3.487409 gram 0.021007 color 7.984423 / loss D: 7.983069:  52%|█████▏    | 581/1110 [33:52<30:51,  3.50s/it]\u001b[A\n",
            "loss G: adv 5.824525 con 3.487746 gram 0.021007 color 7.983989 / loss D: 7.977208:  52%|█████▏    | 581/1110 [33:55<30:51,  3.50s/it]\u001b[A\n",
            "loss G: adv 5.824525 con 3.487746 gram 0.021007 color 7.983989 / loss D: 7.977208:  52%|█████▏    | 582/1110 [33:55<30:48,  3.50s/it]\u001b[A\n",
            "loss G: adv 5.821924 con 3.487483 gram 0.021006 color 7.979318 / loss D: 7.970638:  52%|█████▏    | 582/1110 [33:59<30:48,  3.50s/it]\u001b[A\n",
            "loss G: adv 5.821924 con 3.487483 gram 0.021006 color 7.979318 / loss D: 7.970638:  53%|█████▎    | 583/1110 [33:59<30:44,  3.50s/it]\u001b[A\n",
            "loss G: adv 5.820032 con 3.488042 gram 0.021003 color 7.972887 / loss D: 7.964492:  53%|█████▎    | 583/1110 [34:02<30:44,  3.50s/it]\u001b[A\n",
            "loss G: adv 5.820032 con 3.488042 gram 0.021003 color 7.972887 / loss D: 7.964492:  53%|█████▎    | 584/1110 [34:02<30:40,  3.50s/it]\u001b[A\n",
            "loss G: adv 5.818892 con 3.487909 gram 0.021008 color 7.972584 / loss D: 7.958241:  53%|█████▎    | 584/1110 [34:06<30:40,  3.50s/it]\u001b[A\n",
            "loss G: adv 5.818892 con 3.487909 gram 0.021008 color 7.972584 / loss D: 7.958241:  53%|█████▎    | 585/1110 [34:06<30:37,  3.50s/it]\u001b[A\n",
            "loss G: adv 5.818704 con 3.488311 gram 0.021023 color 7.973326 / loss D: 7.951707:  53%|█████▎    | 585/1110 [34:09<30:37,  3.50s/it]\u001b[A\n",
            "loss G: adv 5.818704 con 3.488311 gram 0.021023 color 7.973326 / loss D: 7.951707:  53%|█████▎    | 586/1110 [34:09<30:34,  3.50s/it]\u001b[A\n",
            "loss G: adv 5.818963 con 3.488545 gram 0.021023 color 7.968481 / loss D: 7.945519:  53%|█████▎    | 586/1110 [34:13<30:34,  3.50s/it]\u001b[A\n",
            "loss G: adv 5.818963 con 3.488545 gram 0.021023 color 7.968481 / loss D: 7.945519:  53%|█████▎    | 587/1110 [34:13<30:31,  3.50s/it]\u001b[A\n",
            "loss G: adv 5.818186 con 3.489164 gram 0.021029 color 7.966609 / loss D: 7.941530:  53%|█████▎    | 587/1110 [34:16<30:31,  3.50s/it]\u001b[A\n",
            "loss G: adv 5.818186 con 3.489164 gram 0.021029 color 7.966609 / loss D: 7.941530:  53%|█████▎    | 588/1110 [34:16<30:27,  3.50s/it]\u001b[A\n",
            "loss G: adv 5.817017 con 3.489215 gram 0.021029 color 7.970218 / loss D: 7.935744:  53%|█████▎    | 588/1110 [34:20<30:27,  3.50s/it]\u001b[A\n",
            "loss G: adv 5.817017 con 3.489215 gram 0.021029 color 7.970218 / loss D: 7.935744:  53%|█████▎    | 589/1110 [34:20<30:24,  3.50s/it]\u001b[A\n",
            "loss G: adv 5.814764 con 3.489369 gram 0.021029 color 7.971221 / loss D: 7.929440:  53%|█████▎    | 589/1110 [34:23<30:24,  3.50s/it]\u001b[A\n",
            "loss G: adv 5.814764 con 3.489369 gram 0.021029 color 7.971221 / loss D: 7.929440:  53%|█████▎    | 590/1110 [34:23<30:21,  3.50s/it]\u001b[A\n",
            "loss G: adv 5.813133 con 3.489897 gram 0.021028 color 7.967772 / loss D: 7.924260:  53%|█████▎    | 590/1110 [34:27<30:21,  3.50s/it]\u001b[A\n",
            "loss G: adv 5.813133 con 3.489897 gram 0.021028 color 7.967772 / loss D: 7.924260:  53%|█████▎    | 591/1110 [34:27<30:17,  3.50s/it]\u001b[A\n",
            "loss G: adv 5.811570 con 3.490442 gram 0.021027 color 7.965951 / loss D: 7.919538:  53%|█████▎    | 591/1110 [34:30<30:17,  3.50s/it]\u001b[A\n",
            "loss G: adv 5.811570 con 3.490442 gram 0.021027 color 7.965951 / loss D: 7.919538:  53%|█████▎    | 592/1110 [34:30<30:13,  3.50s/it]\u001b[A\n",
            "loss G: adv 5.809446 con 3.490997 gram 0.021036 color 7.971433 / loss D: 7.913698:  53%|█████▎    | 592/1110 [34:34<30:13,  3.50s/it]\u001b[A\n",
            "loss G: adv 5.809446 con 3.490997 gram 0.021036 color 7.971433 / loss D: 7.913698:  53%|█████▎    | 593/1110 [34:34<30:09,  3.50s/it]\u001b[A\n",
            "loss G: adv 5.806357 con 3.492388 gram 0.021034 color 7.968740 / loss D: 7.909905:  53%|█████▎    | 593/1110 [34:37<30:09,  3.50s/it]\u001b[A\n",
            "loss G: adv 5.806357 con 3.492388 gram 0.021034 color 7.968740 / loss D: 7.909905:  54%|█████▎    | 594/1110 [34:37<30:06,  3.50s/it]\u001b[A\n",
            "loss G: adv 5.804777 con 3.491984 gram 0.021041 color 7.965953 / loss D: 7.905006:  54%|█████▎    | 594/1110 [34:41<30:06,  3.50s/it]\u001b[A\n",
            "loss G: adv 5.804777 con 3.491984 gram 0.021041 color 7.965953 / loss D: 7.905006:  54%|█████▎    | 595/1110 [34:41<30:02,  3.50s/it]\u001b[A\n",
            "loss G: adv 5.802194 con 3.493222 gram 0.021043 color 7.969912 / loss D: 7.901476:  54%|█████▎    | 595/1110 [34:44<30:02,  3.50s/it]\u001b[A\n",
            "loss G: adv 5.802194 con 3.493222 gram 0.021043 color 7.969912 / loss D: 7.901476:  54%|█████▎    | 596/1110 [34:44<29:59,  3.50s/it]\u001b[A\n",
            "loss G: adv 5.800215 con 3.494734 gram 0.021041 color 7.970601 / loss D: 7.896992:  54%|█████▎    | 596/1110 [34:48<29:59,  3.50s/it]\u001b[A\n",
            "loss G: adv 5.800215 con 3.494734 gram 0.021041 color 7.970601 / loss D: 7.896992:  54%|█████▍    | 597/1110 [34:48<29:55,  3.50s/it]\u001b[A\n",
            "loss G: adv 5.799601 con 3.494636 gram 0.021051 color 7.967537 / loss D: 7.891071:  54%|█████▍    | 597/1110 [34:51<29:55,  3.50s/it]\u001b[A\n",
            "loss G: adv 5.799601 con 3.494636 gram 0.021051 color 7.967537 / loss D: 7.891071:  54%|█████▍    | 598/1110 [34:51<29:51,  3.50s/it]\u001b[A\n",
            "loss G: adv 5.798402 con 3.495552 gram 0.021058 color 7.966179 / loss D: 7.886781:  54%|█████▍    | 598/1110 [34:55<29:51,  3.50s/it]\u001b[A\n",
            "loss G: adv 5.798402 con 3.495552 gram 0.021058 color 7.966179 / loss D: 7.886781:  54%|█████▍    | 599/1110 [34:55<29:48,  3.50s/it]\u001b[A\n",
            "loss G: adv 5.797788 con 3.495552 gram 0.021056 color 7.966527 / loss D: 7.881184:  54%|█████▍    | 599/1110 [34:58<29:48,  3.50s/it]\u001b[A\n",
            "loss G: adv 5.797788 con 3.495552 gram 0.021056 color 7.966527 / loss D: 7.881184:  54%|█████▍    | 600/1110 [34:58<29:44,  3.50s/it]\u001b[A\n",
            "loss G: adv 5.795313 con 3.495483 gram 0.021056 color 7.964824 / loss D: 7.875478:  54%|█████▍    | 600/1110 [35:02<29:44,  3.50s/it]\u001b[A\n",
            "loss G: adv 5.795313 con 3.495483 gram 0.021056 color 7.964824 / loss D: 7.875478:  54%|█████▍    | 601/1110 [35:02<29:40,  3.50s/it]\u001b[A\n",
            "loss G: adv 5.794093 con 3.495536 gram 0.021056 color 7.962525 / loss D: 7.869469:  54%|█████▍    | 601/1110 [35:05<29:40,  3.50s/it]\u001b[A\n",
            "loss G: adv 5.794093 con 3.495536 gram 0.021056 color 7.962525 / loss D: 7.869469:  54%|█████▍    | 602/1110 [35:05<29:37,  3.50s/it]\u001b[A\n",
            "loss G: adv 5.792730 con 3.495897 gram 0.021049 color 7.960171 / loss D: 7.862724:  54%|█████▍    | 602/1110 [35:09<29:37,  3.50s/it]\u001b[A\n",
            "loss G: adv 5.792730 con 3.495897 gram 0.021049 color 7.960171 / loss D: 7.862724:  54%|█████▍    | 603/1110 [35:09<29:34,  3.50s/it]\u001b[A\n",
            "loss G: adv 5.791981 con 3.496228 gram 0.021054 color 7.955945 / loss D: 7.857429:  54%|█████▍    | 603/1110 [35:12<29:34,  3.50s/it]\u001b[A\n",
            "loss G: adv 5.791981 con 3.496228 gram 0.021054 color 7.955945 / loss D: 7.857429:  54%|█████▍    | 604/1110 [35:12<29:28,  3.49s/it]\u001b[A\n",
            "loss G: adv 5.789595 con 3.496253 gram 0.021048 color 7.960463 / loss D: 7.852141:  54%|█████▍    | 604/1110 [35:16<29:28,  3.49s/it]\u001b[A\n",
            "loss G: adv 5.789595 con 3.496253 gram 0.021048 color 7.960463 / loss D: 7.852141:  55%|█████▍    | 605/1110 [35:16<29:23,  3.49s/it]\u001b[A\n",
            "loss G: adv 5.787934 con 3.496586 gram 0.021042 color 7.958902 / loss D: 7.845547:  55%|█████▍    | 605/1110 [35:19<29:23,  3.49s/it]\u001b[A\n",
            "loss G: adv 5.787934 con 3.496586 gram 0.021042 color 7.958902 / loss D: 7.845547:  55%|█████▍    | 606/1110 [35:19<29:18,  3.49s/it]\u001b[A\n",
            "loss G: adv 5.786181 con 3.497630 gram 0.021037 color 7.956811 / loss D: 7.839646:  55%|█████▍    | 606/1110 [35:23<29:18,  3.49s/it]\u001b[A\n",
            "loss G: adv 5.786181 con 3.497630 gram 0.021037 color 7.956811 / loss D: 7.839646:  55%|█████▍    | 607/1110 [35:23<29:15,  3.49s/it]\u001b[A\n",
            "loss G: adv 5.785588 con 3.497764 gram 0.021048 color 7.950883 / loss D: 7.832576:  55%|█████▍    | 607/1110 [35:26<29:15,  3.49s/it]\u001b[A\n",
            "loss G: adv 5.785588 con 3.497764 gram 0.021048 color 7.950883 / loss D: 7.832576:  55%|█████▍    | 608/1110 [35:26<29:12,  3.49s/it]\u001b[A\n",
            "loss G: adv 5.786107 con 3.497625 gram 0.021041 color 7.947890 / loss D: 7.825594:  55%|█████▍    | 608/1110 [35:30<29:12,  3.49s/it]\u001b[A\n",
            "loss G: adv 5.786107 con 3.497625 gram 0.021041 color 7.947890 / loss D: 7.825594:  55%|█████▍    | 609/1110 [35:30<29:07,  3.49s/it]\u001b[A\n",
            "loss G: adv 5.786249 con 3.498361 gram 0.021048 color 7.943403 / loss D: 7.818877:  55%|█████▍    | 609/1110 [35:33<29:07,  3.49s/it]\u001b[A\n",
            "loss G: adv 5.786249 con 3.498361 gram 0.021048 color 7.943403 / loss D: 7.818877:  55%|█████▍    | 610/1110 [35:33<29:03,  3.49s/it]\u001b[A\n",
            "loss G: adv 5.786208 con 3.498874 gram 0.021047 color 7.939794 / loss D: 7.812188:  55%|█████▍    | 610/1110 [35:37<29:03,  3.49s/it]\u001b[A\n",
            "loss G: adv 5.786208 con 3.498874 gram 0.021047 color 7.939794 / loss D: 7.812188:  55%|█████▌    | 611/1110 [35:37<29:00,  3.49s/it]\u001b[A\n",
            "loss G: adv 5.784661 con 3.499446 gram 0.021048 color 7.943027 / loss D: 7.805708:  55%|█████▌    | 611/1110 [35:40<29:00,  3.49s/it]\u001b[A\n",
            "loss G: adv 5.784661 con 3.499446 gram 0.021048 color 7.943027 / loss D: 7.805708:  55%|█████▌    | 612/1110 [35:40<28:57,  3.49s/it]\u001b[A\n",
            "loss G: adv 5.783362 con 3.499257 gram 0.021038 color 7.941729 / loss D: 7.799630:  55%|█████▌    | 612/1110 [35:44<28:57,  3.49s/it]\u001b[A\n",
            "loss G: adv 5.783362 con 3.499257 gram 0.021038 color 7.941729 / loss D: 7.799630:  55%|█████▌    | 613/1110 [35:44<28:54,  3.49s/it]\u001b[A\n",
            "loss G: adv 5.781338 con 3.499346 gram 0.021040 color 7.941775 / loss D: 7.793704:  55%|█████▌    | 613/1110 [35:47<28:54,  3.49s/it]\u001b[A\n",
            "loss G: adv 5.781338 con 3.499346 gram 0.021040 color 7.941775 / loss D: 7.793704:  55%|█████▌    | 614/1110 [35:47<28:51,  3.49s/it]\u001b[A\n",
            "loss G: adv 5.778965 con 3.500794 gram 0.021042 color 7.942199 / loss D: 7.790171:  55%|█████▌    | 614/1110 [35:51<28:51,  3.49s/it]\u001b[A\n",
            "loss G: adv 5.778965 con 3.500794 gram 0.021042 color 7.942199 / loss D: 7.790171:  55%|█████▌    | 615/1110 [35:51<28:48,  3.49s/it]\u001b[A\n",
            "loss G: adv 5.778343 con 3.500737 gram 0.021050 color 7.941222 / loss D: 7.784967:  55%|█████▌    | 615/1110 [35:54<28:48,  3.49s/it]\u001b[A\n",
            "loss G: adv 5.778343 con 3.500737 gram 0.021050 color 7.941222 / loss D: 7.784967:  55%|█████▌    | 616/1110 [35:54<28:46,  3.49s/it]\u001b[A\n",
            "loss G: adv 5.776950 con 3.501537 gram 0.021051 color 7.943162 / loss D: 7.780542:  55%|█████▌    | 616/1110 [35:58<28:46,  3.49s/it]\u001b[A\n",
            "loss G: adv 5.776950 con 3.501537 gram 0.021051 color 7.943162 / loss D: 7.780542:  56%|█████▌    | 617/1110 [35:58<28:43,  3.50s/it]\u001b[A\n",
            "loss G: adv 5.775458 con 3.502128 gram 0.021051 color 7.942949 / loss D: 7.775571:  56%|█████▌    | 617/1110 [36:01<28:43,  3.50s/it]\u001b[A\n",
            "loss G: adv 5.775458 con 3.502128 gram 0.021051 color 7.942949 / loss D: 7.775571:  56%|█████▌    | 618/1110 [36:01<28:40,  3.50s/it]\u001b[A\n",
            "loss G: adv 5.774481 con 3.502555 gram 0.021064 color 7.942287 / loss D: 7.770155:  56%|█████▌    | 618/1110 [36:05<28:40,  3.50s/it]\u001b[A\n",
            "loss G: adv 5.774481 con 3.502555 gram 0.021064 color 7.942287 / loss D: 7.770155:  56%|█████▌    | 619/1110 [36:05<28:36,  3.50s/it]\u001b[A\n",
            "loss G: adv 5.773083 con 3.504588 gram 0.021064 color 7.942233 / loss D: 7.764225:  56%|█████▌    | 619/1110 [36:08<28:36,  3.50s/it]\u001b[A\n",
            "loss G: adv 5.773083 con 3.504588 gram 0.021064 color 7.942233 / loss D: 7.764225:  56%|█████▌    | 620/1110 [36:08<28:31,  3.49s/it]\u001b[A\n",
            "loss G: adv 5.772832 con 3.504887 gram 0.021057 color 7.943437 / loss D: 7.757549:  56%|█████▌    | 620/1110 [36:12<28:31,  3.49s/it]\u001b[A\n",
            "loss G: adv 5.772832 con 3.504887 gram 0.021057 color 7.943437 / loss D: 7.757549:  56%|█████▌    | 621/1110 [36:12<28:29,  3.50s/it]\u001b[A\n",
            "loss G: adv 5.773509 con 3.504991 gram 0.021058 color 7.940485 / loss D: 7.751858:  56%|█████▌    | 621/1110 [36:15<28:29,  3.50s/it]\u001b[A\n",
            "loss G: adv 5.773509 con 3.504991 gram 0.021058 color 7.940485 / loss D: 7.751858:  56%|█████▌    | 622/1110 [36:15<28:24,  3.49s/it]\u001b[A\n",
            "loss G: adv 5.774180 con 3.505257 gram 0.021055 color 7.937652 / loss D: 7.746561:  56%|█████▌    | 622/1110 [36:19<28:24,  3.49s/it]\u001b[A\n",
            "loss G: adv 5.774180 con 3.505257 gram 0.021055 color 7.937652 / loss D: 7.746561:  56%|█████▌    | 623/1110 [36:19<28:20,  3.49s/it]\u001b[A\n",
            "loss G: adv 5.774733 con 3.505676 gram 0.021060 color 7.937109 / loss D: 7.742897:  56%|█████▌    | 623/1110 [36:22<28:20,  3.49s/it]\u001b[A\n",
            "loss G: adv 5.774733 con 3.505676 gram 0.021060 color 7.937109 / loss D: 7.742897:  56%|█████▌    | 624/1110 [36:22<28:17,  3.49s/it]\u001b[A\n",
            "loss G: adv 5.774143 con 3.506080 gram 0.021053 color 7.933003 / loss D: 7.739610:  56%|█████▌    | 624/1110 [36:26<28:17,  3.49s/it]\u001b[A\n",
            "loss G: adv 5.774143 con 3.506080 gram 0.021053 color 7.933003 / loss D: 7.739610:  56%|█████▋    | 625/1110 [36:26<28:14,  3.49s/it]\u001b[A\n",
            "loss G: adv 5.773322 con 3.506607 gram 0.021062 color 7.937493 / loss D: 7.739268:  56%|█████▋    | 625/1110 [36:29<28:14,  3.49s/it]\u001b[A\n",
            "loss G: adv 5.773322 con 3.506607 gram 0.021062 color 7.937493 / loss D: 7.739268:  56%|█████▋    | 626/1110 [36:29<28:11,  3.50s/it]\u001b[A\n",
            "loss G: adv 5.771946 con 3.507269 gram 0.021052 color 7.933117 / loss D: 7.736850:  56%|█████▋    | 626/1110 [36:33<28:11,  3.50s/it]\u001b[A\n",
            "loss G: adv 5.771946 con 3.507269 gram 0.021052 color 7.933117 / loss D: 7.736850:  56%|█████▋    | 627/1110 [36:33<28:09,  3.50s/it]\u001b[A\n",
            "loss G: adv 5.771431 con 3.507358 gram 0.021060 color 7.932445 / loss D: 7.732596:  56%|█████▋    | 627/1110 [36:36<28:09,  3.50s/it]\u001b[A\n",
            "loss G: adv 5.771431 con 3.507358 gram 0.021060 color 7.932445 / loss D: 7.732596:  57%|█████▋    | 628/1110 [36:36<28:04,  3.50s/it]\u001b[A\n",
            "loss G: adv 5.771740 con 3.507430 gram 0.021056 color 7.930107 / loss D: 7.729397:  57%|█████▋    | 628/1110 [36:40<28:04,  3.50s/it]\u001b[A\n",
            "loss G: adv 5.771740 con 3.507430 gram 0.021056 color 7.930107 / loss D: 7.729397:  57%|█████▋    | 629/1110 [36:40<28:01,  3.50s/it]\u001b[A\n",
            "loss G: adv 5.772662 con 3.507464 gram 0.021063 color 7.930406 / loss D: 7.725189:  57%|█████▋    | 629/1110 [36:43<28:01,  3.50s/it]\u001b[A\n",
            "loss G: adv 5.772662 con 3.507464 gram 0.021063 color 7.930406 / loss D: 7.725189:  57%|█████▋    | 630/1110 [36:43<27:58,  3.50s/it]\u001b[A\n",
            "loss G: adv 5.772125 con 3.507741 gram 0.021065 color 7.927080 / loss D: 7.721925:  57%|█████▋    | 630/1110 [36:47<27:58,  3.50s/it]\u001b[A\n",
            "loss G: adv 5.772125 con 3.507741 gram 0.021065 color 7.927080 / loss D: 7.721925:  57%|█████▋    | 631/1110 [36:47<27:55,  3.50s/it]\u001b[A\n",
            "loss G: adv 5.770081 con 3.507993 gram 0.021059 color 7.923024 / loss D: 7.716652:  57%|█████▋    | 631/1110 [36:50<27:55,  3.50s/it]\u001b[A\n",
            "loss G: adv 5.770081 con 3.507993 gram 0.021059 color 7.923024 / loss D: 7.716652:  57%|█████▋    | 632/1110 [36:50<27:52,  3.50s/it]\u001b[A\n",
            "loss G: adv 5.768691 con 3.507898 gram 0.021064 color 7.919388 / loss D: 7.710419:  57%|█████▋    | 632/1110 [36:54<27:52,  3.50s/it]\u001b[A\n",
            "loss G: adv 5.768691 con 3.507898 gram 0.021064 color 7.919388 / loss D: 7.710419:  57%|█████▋    | 633/1110 [36:54<27:49,  3.50s/it]\u001b[A\n",
            "loss G: adv 5.766919 con 3.508473 gram 0.021066 color 7.916148 / loss D: 7.707663:  57%|█████▋    | 633/1110 [36:57<27:49,  3.50s/it]\u001b[A\n",
            "loss G: adv 5.766919 con 3.508473 gram 0.021066 color 7.916148 / loss D: 7.707663:  57%|█████▋    | 634/1110 [36:57<27:45,  3.50s/it]\u001b[A\n",
            "loss G: adv 5.765742 con 3.508618 gram 0.021070 color 7.917667 / loss D: 7.701738:  57%|█████▋    | 634/1110 [37:01<27:45,  3.50s/it]\u001b[A\n",
            "loss G: adv 5.765742 con 3.508618 gram 0.021070 color 7.917667 / loss D: 7.701738:  57%|█████▋    | 635/1110 [37:01<27:42,  3.50s/it]\u001b[A\n",
            "loss G: adv 5.764716 con 3.509040 gram 0.021085 color 7.918239 / loss D: 7.697021:  57%|█████▋    | 635/1110 [37:04<27:42,  3.50s/it]\u001b[A\n",
            "loss G: adv 5.764716 con 3.509040 gram 0.021085 color 7.918239 / loss D: 7.697021:  57%|█████▋    | 636/1110 [37:04<27:39,  3.50s/it]\u001b[A\n",
            "loss G: adv 5.764649 con 3.509770 gram 0.021081 color 7.915641 / loss D: 7.691124:  57%|█████▋    | 636/1110 [37:08<27:39,  3.50s/it]\u001b[A\n",
            "loss G: adv 5.764649 con 3.509770 gram 0.021081 color 7.915641 / loss D: 7.691124:  57%|█████▋    | 637/1110 [37:08<27:35,  3.50s/it]\u001b[A\n",
            "loss G: adv 5.763840 con 3.509348 gram 0.021084 color 7.914427 / loss D: 7.685299:  57%|█████▋    | 637/1110 [37:11<27:35,  3.50s/it]\u001b[A\n",
            "loss G: adv 5.763840 con 3.509348 gram 0.021084 color 7.914427 / loss D: 7.685299:  57%|█████▋    | 638/1110 [37:11<27:31,  3.50s/it]\u001b[A\n",
            "loss G: adv 5.762190 con 3.509804 gram 0.021082 color 7.916503 / loss D: 7.679958:  57%|█████▋    | 638/1110 [37:15<27:31,  3.50s/it]\u001b[A\n",
            "loss G: adv 5.762190 con 3.509804 gram 0.021082 color 7.916503 / loss D: 7.679958:  58%|█████▊    | 639/1110 [37:15<27:27,  3.50s/it]\u001b[A\n",
            "loss G: adv 5.760935 con 3.510071 gram 0.021073 color 7.915237 / loss D: 7.673453:  58%|█████▊    | 639/1110 [37:18<27:27,  3.50s/it]\u001b[A\n",
            "loss G: adv 5.760935 con 3.510071 gram 0.021073 color 7.915237 / loss D: 7.673453:  58%|█████▊    | 640/1110 [37:18<27:24,  3.50s/it]\u001b[A\n",
            "loss G: adv 5.759394 con 3.509762 gram 0.021080 color 7.913838 / loss D: 7.667938:  58%|█████▊    | 640/1110 [37:22<27:24,  3.50s/it]\u001b[A\n",
            "loss G: adv 5.759394 con 3.509762 gram 0.021080 color 7.913838 / loss D: 7.667938:  58%|█████▊    | 641/1110 [37:22<27:20,  3.50s/it]\u001b[A\n",
            "loss G: adv 5.759686 con 3.509175 gram 0.021084 color 7.910946 / loss D: 7.661078:  58%|█████▊    | 641/1110 [37:25<27:20,  3.50s/it]\u001b[A\n",
            "loss G: adv 5.759686 con 3.509175 gram 0.021084 color 7.910946 / loss D: 7.661078:  58%|█████▊    | 642/1110 [37:25<27:17,  3.50s/it]\u001b[A\n",
            "loss G: adv 5.758484 con 3.509929 gram 0.021086 color 7.911974 / loss D: 7.656349:  58%|█████▊    | 642/1110 [37:29<27:17,  3.50s/it]\u001b[A\n",
            "loss G: adv 5.758484 con 3.509929 gram 0.021086 color 7.911974 / loss D: 7.656349:  58%|█████▊    | 643/1110 [37:29<27:14,  3.50s/it]\u001b[A\n",
            "loss G: adv 5.757111 con 3.510195 gram 0.021091 color 7.907406 / loss D: 7.651200:  58%|█████▊    | 643/1110 [37:32<27:14,  3.50s/it]\u001b[A\n",
            "loss G: adv 5.757111 con 3.510195 gram 0.021091 color 7.907406 / loss D: 7.651200:  58%|█████▊    | 644/1110 [37:32<27:10,  3.50s/it]\u001b[A\n",
            "loss G: adv 5.757461 con 3.510428 gram 0.021097 color 7.905636 / loss D: 7.645974:  58%|█████▊    | 644/1110 [37:36<27:10,  3.50s/it]\u001b[A\n",
            "loss G: adv 5.757461 con 3.510428 gram 0.021097 color 7.905636 / loss D: 7.645974:  58%|█████▊    | 645/1110 [37:36<27:08,  3.50s/it]\u001b[A\n",
            "loss G: adv 5.756062 con 3.512549 gram 0.021099 color 7.904135 / loss D: 7.641669:  58%|█████▊    | 645/1110 [37:39<27:08,  3.50s/it]\u001b[A\n",
            "loss G: adv 5.756062 con 3.512549 gram 0.021099 color 7.904135 / loss D: 7.641669:  58%|█████▊    | 646/1110 [37:39<27:05,  3.50s/it]\u001b[A\n",
            "loss G: adv 5.756984 con 3.512494 gram 0.021105 color 7.897712 / loss D: 7.637437:  58%|█████▊    | 646/1110 [37:43<27:05,  3.50s/it]\u001b[A\n",
            "loss G: adv 5.756984 con 3.512494 gram 0.021105 color 7.897712 / loss D: 7.637437:  58%|█████▊    | 647/1110 [37:43<27:02,  3.50s/it]\u001b[A\n",
            "loss G: adv 5.757518 con 3.512523 gram 0.021107 color 7.894833 / loss D: 7.633397:  58%|█████▊    | 647/1110 [37:46<27:02,  3.50s/it]\u001b[A\n",
            "loss G: adv 5.757518 con 3.512523 gram 0.021107 color 7.894833 / loss D: 7.633397:  58%|█████▊    | 648/1110 [37:46<26:57,  3.50s/it]\u001b[A\n",
            "loss G: adv 5.758177 con 3.513202 gram 0.021101 color 7.894114 / loss D: 7.628549:  58%|█████▊    | 648/1110 [37:50<26:57,  3.50s/it]\u001b[A\n",
            "loss G: adv 5.758177 con 3.513202 gram 0.021101 color 7.894114 / loss D: 7.628549:  58%|█████▊    | 649/1110 [37:50<26:53,  3.50s/it]\u001b[A\n",
            "loss G: adv 5.757398 con 3.514344 gram 0.021098 color 7.891732 / loss D: 7.626384:  58%|█████▊    | 649/1110 [37:53<26:53,  3.50s/it]\u001b[A\n",
            "loss G: adv 5.757398 con 3.514344 gram 0.021098 color 7.891732 / loss D: 7.626384:  59%|█████▊    | 650/1110 [37:53<26:50,  3.50s/it]\u001b[A\n",
            "loss G: adv 5.757829 con 3.514346 gram 0.021104 color 7.894573 / loss D: 7.624306:  59%|█████▊    | 650/1110 [37:57<26:50,  3.50s/it]\u001b[A\n",
            "loss G: adv 5.757829 con 3.514346 gram 0.021104 color 7.894573 / loss D: 7.624306:  59%|█████▊    | 651/1110 [37:57<26:46,  3.50s/it]\u001b[A\n",
            "loss G: adv 5.758109 con 3.514632 gram 0.021103 color 7.891081 / loss D: 7.621326:  59%|█████▊    | 651/1110 [38:00<26:46,  3.50s/it]\u001b[A\n",
            "loss G: adv 5.758109 con 3.514632 gram 0.021103 color 7.891081 / loss D: 7.621326:  59%|█████▊    | 652/1110 [38:00<26:42,  3.50s/it]\u001b[A\n",
            "loss G: adv 5.758108 con 3.514141 gram 0.021105 color 7.885405 / loss D: 7.617391:  59%|█████▊    | 652/1110 [38:03<26:42,  3.50s/it]\u001b[A\n",
            "loss G: adv 5.758108 con 3.514141 gram 0.021105 color 7.885405 / loss D: 7.617391:  59%|█████▉    | 653/1110 [38:04<26:36,  3.49s/it]\u001b[A\n",
            "loss G: adv 5.759050 con 3.513974 gram 0.021102 color 7.882367 / loss D: 7.612541:  59%|█████▉    | 653/1110 [38:07<26:36,  3.49s/it]\u001b[A\n",
            "loss G: adv 5.759050 con 3.513974 gram 0.021102 color 7.882367 / loss D: 7.612541:  59%|█████▉    | 654/1110 [38:07<26:32,  3.49s/it]\u001b[A\n",
            "loss G: adv 5.759410 con 3.514058 gram 0.021106 color 7.882138 / loss D: 7.607611:  59%|█████▉    | 654/1110 [38:10<26:32,  3.49s/it]\u001b[A\n",
            "loss G: adv 5.759410 con 3.514058 gram 0.021106 color 7.882138 / loss D: 7.607611:  59%|█████▉    | 655/1110 [38:10<26:28,  3.49s/it]\u001b[A\n",
            "loss G: adv 5.758807 con 3.515094 gram 0.021099 color 7.881937 / loss D: 7.604218:  59%|█████▉    | 655/1110 [38:14<26:28,  3.49s/it]\u001b[A\n",
            "loss G: adv 5.758807 con 3.515094 gram 0.021099 color 7.881937 / loss D: 7.604218:  59%|█████▉    | 656/1110 [38:14<26:24,  3.49s/it]\u001b[A\n",
            "loss G: adv 5.758230 con 3.515181 gram 0.021104 color 7.881197 / loss D: 7.599356:  59%|█████▉    | 656/1110 [38:17<26:24,  3.49s/it]\u001b[A\n",
            "loss G: adv 5.758230 con 3.515181 gram 0.021104 color 7.881197 / loss D: 7.599356:  59%|█████▉    | 657/1110 [38:17<26:19,  3.49s/it]\u001b[A\n",
            "loss G: adv 5.757924 con 3.515159 gram 0.021104 color 7.877368 / loss D: 7.593009:  59%|█████▉    | 657/1110 [38:21<26:19,  3.49s/it]\u001b[A\n",
            "loss G: adv 5.757924 con 3.515159 gram 0.021104 color 7.877368 / loss D: 7.593009:  59%|█████▉    | 658/1110 [38:21<26:16,  3.49s/it]\u001b[A\n",
            "loss G: adv 5.757310 con 3.515669 gram 0.021106 color 7.875119 / loss D: 7.588877:  59%|█████▉    | 658/1110 [38:24<26:16,  3.49s/it]\u001b[A\n",
            "loss G: adv 5.757310 con 3.515669 gram 0.021106 color 7.875119 / loss D: 7.588877:  59%|█████▉    | 659/1110 [38:24<26:12,  3.49s/it]\u001b[A\n",
            "loss G: adv 5.756666 con 3.515990 gram 0.021101 color 7.875734 / loss D: 7.581662:  59%|█████▉    | 659/1110 [38:28<26:12,  3.49s/it]\u001b[A\n",
            "loss G: adv 5.756666 con 3.515990 gram 0.021101 color 7.875734 / loss D: 7.581662:  59%|█████▉    | 660/1110 [38:28<26:08,  3.49s/it]\u001b[A\n",
            "loss G: adv 5.754869 con 3.515914 gram 0.021099 color 7.870463 / loss D: 7.576433:  59%|█████▉    | 660/1110 [38:31<26:08,  3.49s/it]\u001b[A\n",
            "loss G: adv 5.754869 con 3.515914 gram 0.021099 color 7.870463 / loss D: 7.576433:  60%|█████▉    | 661/1110 [38:31<26:07,  3.49s/it]\u001b[A\n",
            "loss G: adv 5.753818 con 3.516190 gram 0.021088 color 7.867992 / loss D: 7.571410:  60%|█████▉    | 661/1110 [38:35<26:07,  3.49s/it]\u001b[A\n",
            "loss G: adv 5.753818 con 3.516190 gram 0.021088 color 7.867992 / loss D: 7.571410:  60%|█████▉    | 662/1110 [38:35<26:04,  3.49s/it]\u001b[A\n",
            "loss G: adv 5.752854 con 3.517278 gram 0.021088 color 7.867102 / loss D: 7.566404:  60%|█████▉    | 662/1110 [38:38<26:04,  3.49s/it]\u001b[A\n",
            "loss G: adv 5.752854 con 3.517278 gram 0.021088 color 7.867102 / loss D: 7.566404:  60%|█████▉    | 663/1110 [38:38<26:00,  3.49s/it]\u001b[A\n",
            "loss G: adv 5.752370 con 3.517198 gram 0.021089 color 7.864938 / loss D: 7.562579:  60%|█████▉    | 663/1110 [38:42<26:00,  3.49s/it]\u001b[A\n",
            "loss G: adv 5.752370 con 3.517198 gram 0.021089 color 7.864938 / loss D: 7.562579:  60%|█████▉    | 664/1110 [38:42<25:57,  3.49s/it]\u001b[A\n",
            "loss G: adv 5.752650 con 3.517357 gram 0.021088 color 7.862660 / loss D: 7.557888:  60%|█████▉    | 664/1110 [38:45<25:57,  3.49s/it]\u001b[A\n",
            "loss G: adv 5.752650 con 3.517357 gram 0.021088 color 7.862660 / loss D: 7.557888:  60%|█████▉    | 665/1110 [38:45<25:54,  3.49s/it]\u001b[A\n",
            "loss G: adv 5.751295 con 3.517627 gram 0.021085 color 7.857370 / loss D: 7.552874:  60%|█████▉    | 665/1110 [38:49<25:54,  3.49s/it]\u001b[A\n",
            "loss G: adv 5.751295 con 3.517627 gram 0.021085 color 7.857370 / loss D: 7.552874:  60%|██████    | 666/1110 [38:49<25:50,  3.49s/it]\u001b[A\n",
            "loss G: adv 5.749227 con 3.518449 gram 0.021081 color 7.858766 / loss D: 7.548409:  60%|██████    | 666/1110 [38:52<25:50,  3.49s/it]\u001b[A\n",
            "loss G: adv 5.749227 con 3.518449 gram 0.021081 color 7.858766 / loss D: 7.548409:  60%|██████    | 667/1110 [38:52<25:47,  3.49s/it]\u001b[A\n",
            "loss G: adv 5.748541 con 3.518821 gram 0.021079 color 7.860258 / loss D: 7.542714:  60%|██████    | 667/1110 [38:56<25:47,  3.49s/it]\u001b[A\n",
            "loss G: adv 5.748541 con 3.518821 gram 0.021079 color 7.860258 / loss D: 7.542714:  60%|██████    | 668/1110 [38:56<25:43,  3.49s/it]\u001b[A\n",
            "loss G: adv 5.747738 con 3.518954 gram 0.021080 color 7.857313 / loss D: 7.539210:  60%|██████    | 668/1110 [38:59<25:43,  3.49s/it]\u001b[A\n",
            "loss G: adv 5.747738 con 3.518954 gram 0.021080 color 7.857313 / loss D: 7.539210:  60%|██████    | 669/1110 [38:59<25:40,  3.49s/it]\u001b[A\n",
            "loss G: adv 5.747338 con 3.519747 gram 0.021086 color 7.855998 / loss D: 7.535341:  60%|██████    | 669/1110 [39:03<25:40,  3.49s/it]\u001b[A\n",
            "loss G: adv 5.747338 con 3.519747 gram 0.021086 color 7.855998 / loss D: 7.535341:  60%|██████    | 670/1110 [39:03<25:38,  3.50s/it]\u001b[A\n",
            "loss G: adv 5.746726 con 3.520434 gram 0.021082 color 7.854014 / loss D: 7.530917:  60%|██████    | 670/1110 [39:06<25:38,  3.50s/it]\u001b[A\n",
            "loss G: adv 5.746726 con 3.520434 gram 0.021082 color 7.854014 / loss D: 7.530917:  60%|██████    | 671/1110 [39:06<25:34,  3.50s/it]\u001b[A\n",
            "loss G: adv 5.745441 con 3.520867 gram 0.021083 color 7.853980 / loss D: 7.526084:  60%|██████    | 671/1110 [39:10<25:34,  3.50s/it]\u001b[A\n",
            "loss G: adv 5.745441 con 3.520867 gram 0.021083 color 7.853980 / loss D: 7.526084:  61%|██████    | 672/1110 [39:10<25:31,  3.50s/it]\u001b[A\n",
            "loss G: adv 5.743815 con 3.521567 gram 0.021074 color 7.852870 / loss D: 7.522322:  61%|██████    | 672/1110 [39:13<25:31,  3.50s/it]\u001b[A\n",
            "loss G: adv 5.743815 con 3.521567 gram 0.021074 color 7.852870 / loss D: 7.522322:  61%|██████    | 673/1110 [39:13<25:28,  3.50s/it]\u001b[A\n",
            "loss G: adv 5.742356 con 3.522332 gram 0.021071 color 7.850902 / loss D: 7.519138:  61%|██████    | 673/1110 [39:17<25:28,  3.50s/it]\u001b[A\n",
            "loss G: adv 5.742356 con 3.522332 gram 0.021071 color 7.850902 / loss D: 7.519138:  61%|██████    | 674/1110 [39:17<25:25,  3.50s/it]\u001b[A\n",
            "loss G: adv 5.741541 con 3.522086 gram 0.021064 color 7.847735 / loss D: 7.514936:  61%|██████    | 674/1110 [39:20<25:25,  3.50s/it]\u001b[A\n",
            "loss G: adv 5.741541 con 3.522086 gram 0.021064 color 7.847735 / loss D: 7.514936:  61%|██████    | 675/1110 [39:20<25:22,  3.50s/it]\u001b[A\n",
            "loss G: adv 5.740578 con 3.522274 gram 0.021062 color 7.846896 / loss D: 7.512500:  61%|██████    | 675/1110 [39:24<25:22,  3.50s/it]\u001b[A\n",
            "loss G: adv 5.740578 con 3.522274 gram 0.021062 color 7.846896 / loss D: 7.512500:  61%|██████    | 676/1110 [39:24<25:18,  3.50s/it]\u001b[A\n",
            "loss G: adv 5.739974 con 3.522968 gram 0.021069 color 7.847585 / loss D: 7.508978:  61%|██████    | 676/1110 [39:27<25:18,  3.50s/it]\u001b[A\n",
            "loss G: adv 5.739974 con 3.522968 gram 0.021069 color 7.847585 / loss D: 7.508978:  61%|██████    | 677/1110 [39:27<25:15,  3.50s/it]\u001b[A\n",
            "loss G: adv 5.740480 con 3.523314 gram 0.021072 color 7.843217 / loss D: 7.504254:  61%|██████    | 677/1110 [39:31<25:15,  3.50s/it]\u001b[A\n",
            "loss G: adv 5.740480 con 3.523314 gram 0.021072 color 7.843217 / loss D: 7.504254:  61%|██████    | 678/1110 [39:31<25:11,  3.50s/it]\u001b[A\n",
            "loss G: adv 5.739655 con 3.523444 gram 0.021077 color 7.838911 / loss D: 7.499354:  61%|██████    | 678/1110 [39:34<25:11,  3.50s/it]\u001b[A\n",
            "loss G: adv 5.739655 con 3.523444 gram 0.021077 color 7.838911 / loss D: 7.499354:  61%|██████    | 679/1110 [39:34<25:08,  3.50s/it]\u001b[A\n",
            "loss G: adv 5.737513 con 3.524094 gram 0.021088 color 7.837209 / loss D: 7.495526:  61%|██████    | 679/1110 [39:38<25:08,  3.50s/it]\u001b[A\n",
            "loss G: adv 5.737513 con 3.524094 gram 0.021088 color 7.837209 / loss D: 7.495526:  61%|██████▏   | 680/1110 [39:38<25:04,  3.50s/it]\u001b[A\n",
            "loss G: adv 5.735508 con 3.524354 gram 0.021088 color 7.832191 / loss D: 7.490465:  61%|██████▏   | 680/1110 [39:41<25:04,  3.50s/it]\u001b[A\n",
            "loss G: adv 5.735508 con 3.524354 gram 0.021088 color 7.832191 / loss D: 7.490465:  61%|██████▏   | 681/1110 [39:41<25:01,  3.50s/it]\u001b[A\n",
            "loss G: adv 5.733496 con 3.524843 gram 0.021091 color 7.829097 / loss D: 7.486305:  61%|██████▏   | 681/1110 [39:45<25:01,  3.50s/it]\u001b[A\n",
            "loss G: adv 5.733496 con 3.524843 gram 0.021091 color 7.829097 / loss D: 7.486305:  61%|██████▏   | 682/1110 [39:45<24:58,  3.50s/it]\u001b[A\n",
            "loss G: adv 5.733752 con 3.524961 gram 0.021098 color 7.826164 / loss D: 7.479599:  61%|██████▏   | 682/1110 [39:48<24:58,  3.50s/it]\u001b[A\n",
            "loss G: adv 5.733752 con 3.524961 gram 0.021098 color 7.826164 / loss D: 7.479599:  62%|██████▏   | 683/1110 [39:48<24:54,  3.50s/it]\u001b[A\n",
            "loss G: adv 5.733519 con 3.525536 gram 0.021095 color 7.826788 / loss D: 7.474664:  62%|██████▏   | 683/1110 [39:52<24:54,  3.50s/it]\u001b[A\n",
            "loss G: adv 5.733519 con 3.525536 gram 0.021095 color 7.826788 / loss D: 7.474664:  62%|██████▏   | 684/1110 [39:52<24:51,  3.50s/it]\u001b[A\n",
            "loss G: adv 5.731842 con 3.526261 gram 0.021097 color 7.824767 / loss D: 7.469039:  62%|██████▏   | 684/1110 [39:55<24:51,  3.50s/it]\u001b[A\n",
            "loss G: adv 5.731842 con 3.526261 gram 0.021097 color 7.824767 / loss D: 7.469039:  62%|██████▏   | 685/1110 [39:55<24:48,  3.50s/it]\u001b[A\n",
            "loss G: adv 5.731290 con 3.526428 gram 0.021091 color 7.821993 / loss D: 7.463503:  62%|██████▏   | 685/1110 [39:59<24:48,  3.50s/it]\u001b[A\n",
            "loss G: adv 5.731290 con 3.526428 gram 0.021091 color 7.821993 / loss D: 7.463503:  62%|██████▏   | 686/1110 [39:59<24:44,  3.50s/it]\u001b[A\n",
            "loss G: adv 5.730378 con 3.525974 gram 0.021089 color 7.819351 / loss D: 7.457248:  62%|██████▏   | 686/1110 [40:02<24:44,  3.50s/it]\u001b[A\n",
            "loss G: adv 5.730378 con 3.525974 gram 0.021089 color 7.819351 / loss D: 7.457248:  62%|██████▏   | 687/1110 [40:02<24:40,  3.50s/it]\u001b[A\n",
            "loss G: adv 5.731023 con 3.525825 gram 0.021095 color 7.819067 / loss D: 7.452083:  62%|██████▏   | 687/1110 [40:06<24:40,  3.50s/it]\u001b[A\n",
            "loss G: adv 5.731023 con 3.525825 gram 0.021095 color 7.819067 / loss D: 7.452083:  62%|██████▏   | 688/1110 [40:06<24:36,  3.50s/it]\u001b[A\n",
            "loss G: adv 5.731922 con 3.525945 gram 0.021092 color 7.817949 / loss D: 7.447258:  62%|██████▏   | 688/1110 [40:09<24:36,  3.50s/it]\u001b[A\n",
            "loss G: adv 5.731922 con 3.525945 gram 0.021092 color 7.817949 / loss D: 7.447258:  62%|██████▏   | 689/1110 [40:09<24:33,  3.50s/it]\u001b[A\n",
            "loss G: adv 5.730954 con 3.526999 gram 0.021092 color 7.820330 / loss D: 7.442831:  62%|██████▏   | 689/1110 [40:13<24:33,  3.50s/it]\u001b[A\n",
            "loss G: adv 5.730954 con 3.526999 gram 0.021092 color 7.820330 / loss D: 7.442831:  62%|██████▏   | 690/1110 [40:13<24:30,  3.50s/it]\u001b[A\n",
            "loss G: adv 5.728660 con 3.527710 gram 0.021085 color 7.821448 / loss D: 7.440528:  62%|██████▏   | 690/1110 [40:16<24:30,  3.50s/it]\u001b[A\n",
            "loss G: adv 5.728660 con 3.527710 gram 0.021085 color 7.821448 / loss D: 7.440528:  62%|██████▏   | 691/1110 [40:16<24:26,  3.50s/it]\u001b[A\n",
            "loss G: adv 5.727338 con 3.528199 gram 0.021083 color 7.822663 / loss D: 7.435356:  62%|██████▏   | 691/1110 [40:20<24:26,  3.50s/it]\u001b[A\n",
            "loss G: adv 5.727338 con 3.528199 gram 0.021083 color 7.822663 / loss D: 7.435356:  62%|██████▏   | 692/1110 [40:20<24:22,  3.50s/it]\u001b[A\n",
            "loss G: adv 5.726477 con 3.528098 gram 0.021097 color 7.821024 / loss D: 7.430056:  62%|██████▏   | 692/1110 [40:23<24:22,  3.50s/it]\u001b[A\n",
            "loss G: adv 5.726477 con 3.528098 gram 0.021097 color 7.821024 / loss D: 7.430056:  62%|██████▏   | 693/1110 [40:23<24:19,  3.50s/it]\u001b[A\n",
            "loss G: adv 5.726063 con 3.527976 gram 0.021095 color 7.820504 / loss D: 7.424620:  62%|██████▏   | 693/1110 [40:27<24:19,  3.50s/it]\u001b[A\n",
            "loss G: adv 5.726063 con 3.527976 gram 0.021095 color 7.820504 / loss D: 7.424620:  63%|██████▎   | 694/1110 [40:27<24:15,  3.50s/it]\u001b[A\n",
            "loss G: adv 5.725282 con 3.528649 gram 0.021097 color 7.819823 / loss D: 7.419693:  63%|██████▎   | 694/1110 [40:30<24:15,  3.50s/it]\u001b[A\n",
            "loss G: adv 5.725282 con 3.528649 gram 0.021097 color 7.819823 / loss D: 7.419693:  63%|██████▎   | 695/1110 [40:30<24:12,  3.50s/it]\u001b[A\n",
            "loss G: adv 5.724171 con 3.528975 gram 0.021097 color 7.819173 / loss D: 7.416140:  63%|██████▎   | 695/1110 [40:34<24:12,  3.50s/it]\u001b[A\n",
            "loss G: adv 5.724171 con 3.528975 gram 0.021097 color 7.819173 / loss D: 7.416140:  63%|██████▎   | 696/1110 [40:34<24:09,  3.50s/it]\u001b[A\n",
            "loss G: adv 5.722802 con 3.529627 gram 0.021102 color 7.821117 / loss D: 7.411865:  63%|██████▎   | 696/1110 [40:37<24:09,  3.50s/it]\u001b[A\n",
            "loss G: adv 5.722802 con 3.529627 gram 0.021102 color 7.821117 / loss D: 7.411865:  63%|██████▎   | 697/1110 [40:37<24:05,  3.50s/it]\u001b[A\n",
            "loss G: adv 5.721426 con 3.530111 gram 0.021101 color 7.823908 / loss D: 7.407476:  63%|██████▎   | 697/1110 [40:41<24:05,  3.50s/it]\u001b[A\n",
            "loss G: adv 5.721426 con 3.530111 gram 0.021101 color 7.823908 / loss D: 7.407476:  63%|██████▎   | 698/1110 [40:41<24:01,  3.50s/it]\u001b[A\n",
            "loss G: adv 5.721442 con 3.530207 gram 0.021099 color 7.823363 / loss D: 7.402376:  63%|██████▎   | 698/1110 [40:44<24:01,  3.50s/it]\u001b[A\n",
            "loss G: adv 5.721442 con 3.530207 gram 0.021099 color 7.823363 / loss D: 7.402376:  63%|██████▎   | 699/1110 [40:44<23:58,  3.50s/it]\u001b[A\n",
            "loss G: adv 5.719838 con 3.531100 gram 0.021091 color 7.826773 / loss D: 7.398060:  63%|██████▎   | 699/1110 [40:48<23:58,  3.50s/it]\u001b[A\n",
            "loss G: adv 5.719838 con 3.531100 gram 0.021091 color 7.826773 / loss D: 7.398060:  63%|██████▎   | 700/1110 [40:48<23:55,  3.50s/it]\u001b[A\n",
            "loss G: adv 5.719458 con 3.531692 gram 0.021094 color 7.824450 / loss D: 7.392925:  63%|██████▎   | 700/1110 [40:51<23:55,  3.50s/it]\u001b[A\n",
            "loss G: adv 5.719458 con 3.531692 gram 0.021094 color 7.824450 / loss D: 7.392925:  63%|██████▎   | 701/1110 [40:51<23:51,  3.50s/it]\u001b[A\n",
            "loss G: adv 5.720064 con 3.532190 gram 0.021083 color 7.820843 / loss D: 7.386801:  63%|██████▎   | 701/1110 [40:55<23:51,  3.50s/it]\u001b[A\n",
            "loss G: adv 5.720064 con 3.532190 gram 0.021083 color 7.820843 / loss D: 7.386801:  63%|██████▎   | 702/1110 [40:55<23:46,  3.50s/it]\u001b[A\n",
            "loss G: adv 5.719798 con 3.532554 gram 0.021076 color 7.822245 / loss D: 7.380253:  63%|██████▎   | 702/1110 [40:58<23:46,  3.50s/it]\u001b[A\n",
            "loss G: adv 5.719798 con 3.532554 gram 0.021076 color 7.822245 / loss D: 7.380253:  63%|██████▎   | 703/1110 [40:58<23:43,  3.50s/it]\u001b[A\n",
            "loss G: adv 5.718182 con 3.532761 gram 0.021069 color 7.822357 / loss D: 7.375662:  63%|██████▎   | 703/1110 [41:02<23:43,  3.50s/it]\u001b[A\n",
            "loss G: adv 5.718182 con 3.532761 gram 0.021069 color 7.822357 / loss D: 7.375662:  63%|██████▎   | 704/1110 [41:02<23:39,  3.50s/it]\u001b[A\n",
            "loss G: adv 5.716704 con 3.532970 gram 0.021075 color 7.819694 / loss D: 7.371031:  63%|██████▎   | 704/1110 [41:05<23:39,  3.50s/it]\u001b[A\n",
            "loss G: adv 5.716704 con 3.532970 gram 0.021075 color 7.819694 / loss D: 7.371031:  64%|██████▎   | 705/1110 [41:05<23:34,  3.49s/it]\u001b[A\n",
            "loss G: adv 5.715022 con 3.534250 gram 0.021070 color 7.816551 / loss D: 7.365965:  64%|██████▎   | 705/1110 [41:09<23:34,  3.49s/it]\u001b[A\n",
            "loss G: adv 5.715022 con 3.534250 gram 0.021070 color 7.816551 / loss D: 7.365965:  64%|██████▎   | 706/1110 [41:09<23:32,  3.50s/it]\u001b[A\n",
            "loss G: adv 5.715044 con 3.535147 gram 0.021065 color 7.815622 / loss D: 7.362380:  64%|██████▎   | 706/1110 [41:12<23:32,  3.50s/it]\u001b[A\n",
            "loss G: adv 5.715044 con 3.535147 gram 0.021065 color 7.815622 / loss D: 7.362380:  64%|██████▎   | 707/1110 [41:12<23:29,  3.50s/it]\u001b[A\n",
            "loss G: adv 5.715080 con 3.535539 gram 0.021060 color 7.813980 / loss D: 7.357441:  64%|██████▎   | 707/1110 [41:16<23:29,  3.50s/it]\u001b[A\n",
            "loss G: adv 5.715080 con 3.535539 gram 0.021060 color 7.813980 / loss D: 7.357441:  64%|██████▍   | 708/1110 [41:16<23:26,  3.50s/it]\u001b[A\n",
            "loss G: adv 5.716139 con 3.535864 gram 0.021059 color 7.813092 / loss D: 7.351470:  64%|██████▍   | 708/1110 [41:19<23:26,  3.50s/it]\u001b[A\n",
            "loss G: adv 5.716139 con 3.535864 gram 0.021059 color 7.813092 / loss D: 7.351470:  64%|██████▍   | 709/1110 [41:19<23:23,  3.50s/it]\u001b[A\n",
            "loss G: adv 5.714870 con 3.536103 gram 0.021057 color 7.810928 / loss D: 7.346573:  64%|██████▍   | 709/1110 [41:23<23:23,  3.50s/it]\u001b[A\n",
            "loss G: adv 5.714870 con 3.536103 gram 0.021057 color 7.810928 / loss D: 7.346573:  64%|██████▍   | 710/1110 [41:23<23:20,  3.50s/it]\u001b[A\n",
            "loss G: adv 5.713538 con 3.536945 gram 0.021056 color 7.809968 / loss D: 7.342824:  64%|██████▍   | 710/1110 [41:26<23:20,  3.50s/it]\u001b[A\n",
            "loss G: adv 5.713538 con 3.536945 gram 0.021056 color 7.809968 / loss D: 7.342824:  64%|██████▍   | 711/1110 [41:26<23:16,  3.50s/it]\u001b[A\n",
            "loss G: adv 5.712136 con 3.537064 gram 0.021051 color 7.809186 / loss D: 7.338105:  64%|██████▍   | 711/1110 [41:30<23:16,  3.50s/it]\u001b[A\n",
            "loss G: adv 5.712136 con 3.537064 gram 0.021051 color 7.809186 / loss D: 7.338105:  64%|██████▍   | 712/1110 [41:30<23:13,  3.50s/it]\u001b[A\n",
            "loss G: adv 5.711790 con 3.537160 gram 0.021051 color 7.810437 / loss D: 7.332915:  64%|██████▍   | 712/1110 [41:33<23:13,  3.50s/it]\u001b[A\n",
            "loss G: adv 5.711790 con 3.537160 gram 0.021051 color 7.810437 / loss D: 7.332915:  64%|██████▍   | 713/1110 [41:33<23:09,  3.50s/it]\u001b[A\n",
            "loss G: adv 5.709409 con 3.537808 gram 0.021050 color 7.811489 / loss D: 7.328069:  64%|██████▍   | 713/1110 [41:37<23:09,  3.50s/it]\u001b[A\n",
            "loss G: adv 5.709409 con 3.537808 gram 0.021050 color 7.811489 / loss D: 7.328069:  64%|██████▍   | 714/1110 [41:37<23:05,  3.50s/it]\u001b[A\n",
            "loss G: adv 5.709299 con 3.537830 gram 0.021044 color 7.811574 / loss D: 7.321754:  64%|██████▍   | 714/1110 [41:40<23:05,  3.50s/it]\u001b[A\n",
            "loss G: adv 5.709299 con 3.537830 gram 0.021044 color 7.811574 / loss D: 7.321754:  64%|██████▍   | 715/1110 [41:40<23:02,  3.50s/it]\u001b[A\n",
            "loss G: adv 5.709532 con 3.538071 gram 0.021042 color 7.807600 / loss D: 7.315661:  64%|██████▍   | 715/1110 [41:44<23:02,  3.50s/it]\u001b[A\n",
            "loss G: adv 5.709532 con 3.538071 gram 0.021042 color 7.807600 / loss D: 7.315661:  65%|██████▍   | 716/1110 [41:44<22:58,  3.50s/it]\u001b[A\n",
            "loss G: adv 5.709765 con 3.538853 gram 0.021037 color 7.807695 / loss D: 7.309556:  65%|██████▍   | 716/1110 [41:47<22:58,  3.50s/it]\u001b[A\n",
            "loss G: adv 5.709765 con 3.538853 gram 0.021037 color 7.807695 / loss D: 7.309556:  65%|██████▍   | 717/1110 [41:47<22:55,  3.50s/it]\u001b[A\n",
            "loss G: adv 5.707716 con 3.539320 gram 0.021035 color 7.805202 / loss D: 7.306854:  65%|██████▍   | 717/1110 [41:51<22:55,  3.50s/it]\u001b[A\n",
            "loss G: adv 5.707716 con 3.539320 gram 0.021035 color 7.805202 / loss D: 7.306854:  65%|██████▍   | 718/1110 [41:51<22:51,  3.50s/it]\u001b[A\n",
            "loss G: adv 5.705356 con 3.540076 gram 0.021047 color 7.806329 / loss D: 7.302391:  65%|██████▍   | 718/1110 [41:54<22:51,  3.50s/it]\u001b[A\n",
            "loss G: adv 5.705356 con 3.540076 gram 0.021047 color 7.806329 / loss D: 7.302391:  65%|██████▍   | 719/1110 [41:54<22:48,  3.50s/it]\u001b[A\n",
            "loss G: adv 5.703861 con 3.540811 gram 0.021044 color 7.807818 / loss D: 7.297392:  65%|██████▍   | 719/1110 [41:58<22:48,  3.50s/it]\u001b[A\n",
            "loss G: adv 5.703861 con 3.540811 gram 0.021044 color 7.807818 / loss D: 7.297392:  65%|██████▍   | 720/1110 [41:58<22:44,  3.50s/it]\u001b[A\n",
            "loss G: adv 5.700827 con 3.541411 gram 0.021046 color 7.808672 / loss D: 7.293545:  65%|██████▍   | 720/1110 [42:01<22:44,  3.50s/it]\u001b[A\n",
            "loss G: adv 5.700827 con 3.541411 gram 0.021046 color 7.808672 / loss D: 7.293545:  65%|██████▍   | 721/1110 [42:01<22:41,  3.50s/it]\u001b[A\n",
            "loss G: adv 5.700643 con 3.541425 gram 0.021039 color 7.806622 / loss D: 7.289913:  65%|██████▍   | 721/1110 [42:05<22:41,  3.50s/it]\u001b[A\n",
            "loss G: adv 5.700643 con 3.541425 gram 0.021039 color 7.806622 / loss D: 7.289913:  65%|██████▌   | 722/1110 [42:05<22:36,  3.50s/it]\u001b[A\n",
            "loss G: adv 5.700942 con 3.541693 gram 0.021047 color 7.803558 / loss D: 7.285990:  65%|██████▌   | 722/1110 [42:08<22:36,  3.50s/it]\u001b[A\n",
            "loss G: adv 5.700942 con 3.541693 gram 0.021047 color 7.803558 / loss D: 7.285990:  65%|██████▌   | 723/1110 [42:08<22:33,  3.50s/it]\u001b[A\n",
            "loss G: adv 5.702263 con 3.543236 gram 0.021048 color 7.803413 / loss D: 7.284348:  65%|██████▌   | 723/1110 [42:12<22:33,  3.50s/it]\u001b[A\n",
            "loss G: adv 5.702263 con 3.543236 gram 0.021048 color 7.803413 / loss D: 7.284348:  65%|██████▌   | 724/1110 [42:12<22:30,  3.50s/it]\u001b[A\n",
            "loss G: adv 5.703030 con 3.543359 gram 0.021046 color 7.805781 / loss D: 7.280547:  65%|██████▌   | 724/1110 [42:15<22:30,  3.50s/it]\u001b[A\n",
            "loss G: adv 5.703030 con 3.543359 gram 0.021046 color 7.805781 / loss D: 7.280547:  65%|██████▌   | 725/1110 [42:15<22:25,  3.50s/it]\u001b[A\n",
            "loss G: adv 5.701149 con 3.543991 gram 0.021050 color 7.803755 / loss D: 7.276332:  65%|██████▌   | 725/1110 [42:19<22:25,  3.50s/it]\u001b[A\n",
            "loss G: adv 5.701149 con 3.543991 gram 0.021050 color 7.803755 / loss D: 7.276332:  65%|██████▌   | 726/1110 [42:19<22:22,  3.50s/it]\u001b[A\n",
            "loss G: adv 5.700380 con 3.544849 gram 0.021050 color 7.801212 / loss D: 7.272276:  65%|██████▌   | 726/1110 [42:22<22:22,  3.50s/it]\u001b[A\n",
            "loss G: adv 5.700380 con 3.544849 gram 0.021050 color 7.801212 / loss D: 7.272276:  65%|██████▌   | 727/1110 [42:22<22:19,  3.50s/it]\u001b[A\n",
            "loss G: adv 5.700823 con 3.545032 gram 0.021051 color 7.798068 / loss D: 7.267225:  65%|██████▌   | 727/1110 [42:26<22:19,  3.50s/it]\u001b[A\n",
            "loss G: adv 5.700823 con 3.545032 gram 0.021051 color 7.798068 / loss D: 7.267225:  66%|██████▌   | 728/1110 [42:26<22:16,  3.50s/it]\u001b[A\n",
            "loss G: adv 5.700353 con 3.545702 gram 0.021057 color 7.796703 / loss D: 7.263484:  66%|██████▌   | 728/1110 [42:29<22:16,  3.50s/it]\u001b[A\n",
            "loss G: adv 5.700353 con 3.545702 gram 0.021057 color 7.796703 / loss D: 7.263484:  66%|██████▌   | 729/1110 [42:29<22:12,  3.50s/it]\u001b[A\n",
            "loss G: adv 5.701352 con 3.545480 gram 0.021055 color 7.797773 / loss D: 7.258363:  66%|██████▌   | 729/1110 [42:33<22:12,  3.50s/it]\u001b[A\n",
            "loss G: adv 5.701352 con 3.545480 gram 0.021055 color 7.797773 / loss D: 7.258363:  66%|██████▌   | 730/1110 [42:33<22:09,  3.50s/it]\u001b[A\n",
            "loss G: adv 5.699713 con 3.545550 gram 0.021063 color 7.798460 / loss D: 7.254105:  66%|██████▌   | 730/1110 [42:36<22:09,  3.50s/it]\u001b[A\n",
            "loss G: adv 5.699713 con 3.545550 gram 0.021063 color 7.798460 / loss D: 7.254105:  66%|██████▌   | 731/1110 [42:36<22:06,  3.50s/it]\u001b[A\n",
            "loss G: adv 5.698991 con 3.545689 gram 0.021068 color 7.795269 / loss D: 7.249474:  66%|██████▌   | 731/1110 [42:40<22:06,  3.50s/it]\u001b[A\n",
            "loss G: adv 5.698991 con 3.545689 gram 0.021068 color 7.795269 / loss D: 7.249474:  66%|██████▌   | 732/1110 [42:40<22:02,  3.50s/it]\u001b[A\n",
            "loss G: adv 5.700032 con 3.545295 gram 0.021062 color 7.795332 / loss D: 7.244190:  66%|██████▌   | 732/1110 [42:43<22:02,  3.50s/it]\u001b[A\n",
            "loss G: adv 5.700032 con 3.545295 gram 0.021062 color 7.795332 / loss D: 7.244190:  66%|██████▌   | 733/1110 [42:43<21:59,  3.50s/it]\u001b[A\n",
            "loss G: adv 5.700834 con 3.545186 gram 0.021072 color 7.797409 / loss D: 7.240597:  66%|██████▌   | 733/1110 [42:47<21:59,  3.50s/it]\u001b[A\n",
            "loss G: adv 5.700834 con 3.545186 gram 0.021072 color 7.797409 / loss D: 7.240597:  66%|██████▌   | 734/1110 [42:47<21:55,  3.50s/it]\u001b[A\n",
            "loss G: adv 5.701053 con 3.545032 gram 0.021070 color 7.797161 / loss D: 7.236870:  66%|██████▌   | 734/1110 [42:50<21:55,  3.50s/it]\u001b[A\n",
            "loss G: adv 5.701053 con 3.545032 gram 0.021070 color 7.797161 / loss D: 7.236870:  66%|██████▌   | 735/1110 [42:50<21:52,  3.50s/it]\u001b[A\n",
            "loss G: adv 5.701303 con 3.545339 gram 0.021074 color 7.794550 / loss D: 7.232849:  66%|██████▌   | 735/1110 [42:54<21:52,  3.50s/it]\u001b[A\n",
            "loss G: adv 5.701303 con 3.545339 gram 0.021074 color 7.794550 / loss D: 7.232849:  66%|██████▋   | 736/1110 [42:54<21:49,  3.50s/it]\u001b[A\n",
            "loss G: adv 5.699856 con 3.545707 gram 0.021074 color 7.791546 / loss D: 7.229431:  66%|██████▋   | 736/1110 [42:57<21:49,  3.50s/it]\u001b[A\n",
            "loss G: adv 5.699856 con 3.545707 gram 0.021074 color 7.791546 / loss D: 7.229431:  66%|██████▋   | 737/1110 [42:57<21:45,  3.50s/it]\u001b[A\n",
            "loss G: adv 5.700006 con 3.546224 gram 0.021072 color 7.789444 / loss D: 7.226442:  66%|██████▋   | 737/1110 [43:01<21:45,  3.50s/it]\u001b[A\n",
            "loss G: adv 5.700006 con 3.546224 gram 0.021072 color 7.789444 / loss D: 7.226442:  66%|██████▋   | 738/1110 [43:01<21:41,  3.50s/it]\u001b[A\n",
            "loss G: adv 5.698721 con 3.547127 gram 0.021064 color 7.788424 / loss D: 7.224202:  66%|██████▋   | 738/1110 [43:04<21:41,  3.50s/it]\u001b[A\n",
            "loss G: adv 5.698721 con 3.547127 gram 0.021064 color 7.788424 / loss D: 7.224202:  67%|██████▋   | 739/1110 [43:04<21:38,  3.50s/it]\u001b[A\n",
            "loss G: adv 5.698333 con 3.547807 gram 0.021069 color 7.787569 / loss D: 7.222522:  67%|██████▋   | 739/1110 [43:08<21:38,  3.50s/it]\u001b[A\n",
            "loss G: adv 5.698333 con 3.547807 gram 0.021069 color 7.787569 / loss D: 7.222522:  67%|██████▋   | 740/1110 [43:08<21:35,  3.50s/it]\u001b[A\n",
            "loss G: adv 5.697547 con 3.548311 gram 0.021066 color 7.788404 / loss D: 7.220795:  67%|██████▋   | 740/1110 [43:11<21:35,  3.50s/it]\u001b[A\n",
            "loss G: adv 5.697547 con 3.548311 gram 0.021066 color 7.788404 / loss D: 7.220795:  67%|██████▋   | 741/1110 [43:11<21:32,  3.50s/it]\u001b[A\n",
            "loss G: adv 5.697134 con 3.548824 gram 0.021060 color 7.789344 / loss D: 7.220623:  67%|██████▋   | 741/1110 [43:15<21:32,  3.50s/it]\u001b[A\n",
            "loss G: adv 5.697134 con 3.548824 gram 0.021060 color 7.789344 / loss D: 7.220623:  67%|██████▋   | 742/1110 [43:15<21:28,  3.50s/it]\u001b[A\n",
            "loss G: adv 5.696856 con 3.549575 gram 0.021061 color 7.787114 / loss D: 7.219962:  67%|██████▋   | 742/1110 [43:18<21:28,  3.50s/it]\u001b[A\n",
            "loss G: adv 5.696856 con 3.549575 gram 0.021061 color 7.787114 / loss D: 7.219962:  67%|██████▋   | 743/1110 [43:18<21:25,  3.50s/it]\u001b[A\n",
            "loss G: adv 5.697141 con 3.549881 gram 0.021060 color 7.786483 / loss D: 7.218445:  67%|██████▋   | 743/1110 [43:22<21:25,  3.50s/it]\u001b[A\n",
            "loss G: adv 5.697141 con 3.549881 gram 0.021060 color 7.786483 / loss D: 7.218445:  67%|██████▋   | 744/1110 [43:22<21:21,  3.50s/it]\u001b[A\n",
            "loss G: adv 5.697256 con 3.550264 gram 0.021055 color 7.785438 / loss D: 7.215765:  67%|██████▋   | 744/1110 [43:25<21:21,  3.50s/it]\u001b[A\n",
            "loss G: adv 5.697256 con 3.550264 gram 0.021055 color 7.785438 / loss D: 7.215765:  67%|██████▋   | 745/1110 [43:25<21:17,  3.50s/it]\u001b[A\n",
            "loss G: adv 5.695942 con 3.550679 gram 0.021064 color 7.782211 / loss D: 7.214137:  67%|██████▋   | 745/1110 [43:29<21:17,  3.50s/it]\u001b[A\n",
            "loss G: adv 5.695942 con 3.550679 gram 0.021064 color 7.782211 / loss D: 7.214137:  67%|██████▋   | 746/1110 [43:29<21:14,  3.50s/it]\u001b[A\n",
            "loss G: adv 5.695347 con 3.551155 gram 0.021062 color 7.782302 / loss D: 7.209755:  67%|██████▋   | 746/1110 [43:32<21:14,  3.50s/it]\u001b[A\n",
            "loss G: adv 5.695347 con 3.551155 gram 0.021062 color 7.782302 / loss D: 7.209755:  67%|██████▋   | 747/1110 [43:32<21:11,  3.50s/it]\u001b[A\n",
            "loss G: adv 5.693910 con 3.551241 gram 0.021062 color 7.781564 / loss D: 7.206902:  67%|██████▋   | 747/1110 [43:36<21:11,  3.50s/it]\u001b[A\n",
            "loss G: adv 5.693910 con 3.551241 gram 0.021062 color 7.781564 / loss D: 7.206902:  67%|██████▋   | 748/1110 [43:36<21:07,  3.50s/it]\u001b[A\n",
            "loss G: adv 5.693923 con 3.551899 gram 0.021063 color 7.784244 / loss D: 7.202425:  67%|██████▋   | 748/1110 [43:39<21:07,  3.50s/it]\u001b[A\n",
            "loss G: adv 5.693923 con 3.551899 gram 0.021063 color 7.784244 / loss D: 7.202425:  67%|██████▋   | 749/1110 [43:39<21:03,  3.50s/it]\u001b[A\n",
            "loss G: adv 5.693481 con 3.552036 gram 0.021061 color 7.781034 / loss D: 7.198712:  67%|██████▋   | 749/1110 [43:43<21:03,  3.50s/it]\u001b[A\n",
            "loss G: adv 5.693481 con 3.552036 gram 0.021061 color 7.781034 / loss D: 7.198712:  68%|██████▊   | 750/1110 [43:43<21:00,  3.50s/it]\u001b[A\n",
            "loss G: adv 5.692961 con 3.551985 gram 0.021068 color 7.778552 / loss D: 7.194352:  68%|██████▊   | 750/1110 [43:46<21:00,  3.50s/it]\u001b[A\n",
            "loss G: adv 5.692961 con 3.551985 gram 0.021068 color 7.778552 / loss D: 7.194352:  68%|██████▊   | 751/1110 [43:46<20:56,  3.50s/it]\u001b[A\n",
            "loss G: adv 5.691367 con 3.552925 gram 0.021062 color 7.776548 / loss D: 7.190713:  68%|██████▊   | 751/1110 [43:50<20:56,  3.50s/it]\u001b[A\n",
            "loss G: adv 5.691367 con 3.552925 gram 0.021062 color 7.776548 / loss D: 7.190713:  68%|██████▊   | 752/1110 [43:50<20:53,  3.50s/it]\u001b[A\n",
            "loss G: adv 5.690511 con 3.552686 gram 0.021068 color 7.773994 / loss D: 7.186743:  68%|██████▊   | 752/1110 [43:53<20:53,  3.50s/it]\u001b[A\n",
            "loss G: adv 5.690511 con 3.552686 gram 0.021068 color 7.773994 / loss D: 7.186743:  68%|██████▊   | 753/1110 [43:53<20:49,  3.50s/it]\u001b[A\n",
            "loss G: adv 5.690577 con 3.552877 gram 0.021066 color 7.773354 / loss D: 7.183673:  68%|██████▊   | 753/1110 [43:57<20:49,  3.50s/it]\u001b[A\n",
            "loss G: adv 5.690577 con 3.552877 gram 0.021066 color 7.773354 / loss D: 7.183673:  68%|██████▊   | 754/1110 [43:57<20:45,  3.50s/it]\u001b[A\n",
            "loss G: adv 5.691081 con 3.553035 gram 0.021063 color 7.771451 / loss D: 7.180327:  68%|██████▊   | 754/1110 [44:00<20:45,  3.50s/it]\u001b[A\n",
            "loss G: adv 5.691081 con 3.553035 gram 0.021063 color 7.771451 / loss D: 7.180327:  68%|██████▊   | 755/1110 [44:00<20:42,  3.50s/it]\u001b[A\n",
            "loss G: adv 5.690487 con 3.553420 gram 0.021057 color 7.769985 / loss D: 7.176419:  68%|██████▊   | 755/1110 [44:04<20:42,  3.50s/it]\u001b[A\n",
            "loss G: adv 5.690487 con 3.553420 gram 0.021057 color 7.769985 / loss D: 7.176419:  68%|██████▊   | 756/1110 [44:04<20:38,  3.50s/it]\u001b[A\n",
            "loss G: adv 5.689826 con 3.553444 gram 0.021052 color 7.767329 / loss D: 7.172316:  68%|██████▊   | 756/1110 [44:07<20:38,  3.50s/it]\u001b[A\n",
            "loss G: adv 5.689826 con 3.553444 gram 0.021052 color 7.767329 / loss D: 7.172316:  68%|██████▊   | 757/1110 [44:07<20:35,  3.50s/it]\u001b[A\n",
            "loss G: adv 5.687572 con 3.553606 gram 0.021064 color 7.769184 / loss D: 7.168605:  68%|██████▊   | 757/1110 [44:11<20:35,  3.50s/it]\u001b[A\n",
            "loss G: adv 5.687572 con 3.553606 gram 0.021064 color 7.769184 / loss D: 7.168605:  68%|██████▊   | 758/1110 [44:11<20:31,  3.50s/it]\u001b[A\n",
            "loss G: adv 5.686133 con 3.554119 gram 0.021059 color 7.768769 / loss D: 7.167135:  68%|██████▊   | 758/1110 [44:14<20:31,  3.50s/it]\u001b[A\n",
            "loss G: adv 5.686133 con 3.554119 gram 0.021059 color 7.768769 / loss D: 7.167135:  68%|██████▊   | 759/1110 [44:14<20:28,  3.50s/it]\u001b[A\n",
            "loss G: adv 5.684838 con 3.554461 gram 0.021061 color 7.767184 / loss D: 7.163825:  68%|██████▊   | 759/1110 [44:18<20:28,  3.50s/it]\u001b[A\n",
            "loss G: adv 5.684838 con 3.554461 gram 0.021061 color 7.767184 / loss D: 7.163825:  68%|██████▊   | 760/1110 [44:18<20:25,  3.50s/it]\u001b[A\n",
            "loss G: adv 5.684139 con 3.554988 gram 0.021067 color 7.764256 / loss D: 7.160264:  68%|██████▊   | 760/1110 [44:21<20:25,  3.50s/it]\u001b[A\n",
            "loss G: adv 5.684139 con 3.554988 gram 0.021067 color 7.764256 / loss D: 7.160264:  69%|██████▊   | 761/1110 [44:21<20:21,  3.50s/it]\u001b[A\n",
            "loss G: adv 5.683189 con 3.555260 gram 0.021062 color 7.762131 / loss D: 7.155936:  69%|██████▊   | 761/1110 [44:25<20:21,  3.50s/it]\u001b[A\n",
            "loss G: adv 5.683189 con 3.555260 gram 0.021062 color 7.762131 / loss D: 7.155936:  69%|██████▊   | 762/1110 [44:25<20:17,  3.50s/it]\u001b[A\n",
            "loss G: adv 5.682427 con 3.555165 gram 0.021070 color 7.762835 / loss D: 7.152417:  69%|██████▊   | 762/1110 [44:28<20:17,  3.50s/it]\u001b[A\n",
            "loss G: adv 5.682427 con 3.555165 gram 0.021070 color 7.762835 / loss D: 7.152417:  69%|██████▊   | 763/1110 [44:28<20:14,  3.50s/it]\u001b[A\n",
            "loss G: adv 5.681252 con 3.555678 gram 0.021079 color 7.761984 / loss D: 7.148974:  69%|██████▊   | 763/1110 [44:32<20:14,  3.50s/it]\u001b[A\n",
            "loss G: adv 5.681252 con 3.555678 gram 0.021079 color 7.761984 / loss D: 7.148974:  69%|██████▉   | 764/1110 [44:32<20:10,  3.50s/it]\u001b[A\n",
            "loss G: adv 5.680446 con 3.556796 gram 0.021083 color 7.760851 / loss D: 7.145588:  69%|██████▉   | 764/1110 [44:35<20:10,  3.50s/it]\u001b[A\n",
            "loss G: adv 5.680446 con 3.556796 gram 0.021083 color 7.760851 / loss D: 7.145588:  69%|██████▉   | 765/1110 [44:35<20:07,  3.50s/it]\u001b[A\n",
            "loss G: adv 5.681222 con 3.557095 gram 0.021090 color 7.760201 / loss D: 7.142166:  69%|██████▉   | 765/1110 [44:39<20:07,  3.50s/it]\u001b[A\n",
            "loss G: adv 5.681222 con 3.557095 gram 0.021090 color 7.760201 / loss D: 7.142166:  69%|██████▉   | 766/1110 [44:39<20:03,  3.50s/it]\u001b[A\n",
            "loss G: adv 5.681876 con 3.557614 gram 0.021088 color 7.757618 / loss D: 7.137910:  69%|██████▉   | 766/1110 [44:42<20:03,  3.50s/it]\u001b[A\n",
            "loss G: adv 5.681876 con 3.557614 gram 0.021088 color 7.757618 / loss D: 7.137910:  69%|██████▉   | 767/1110 [44:42<20:00,  3.50s/it]\u001b[A\n",
            "loss G: adv 5.681586 con 3.557967 gram 0.021084 color 7.755726 / loss D: 7.133315:  69%|██████▉   | 767/1110 [44:46<20:00,  3.50s/it]\u001b[A\n",
            "loss G: adv 5.681586 con 3.557967 gram 0.021084 color 7.755726 / loss D: 7.133315:  69%|██████▉   | 768/1110 [44:46<19:56,  3.50s/it]\u001b[A\n",
            "loss G: adv 5.680081 con 3.558136 gram 0.021079 color 7.757476 / loss D: 7.130374:  69%|██████▉   | 768/1110 [44:49<19:56,  3.50s/it]\u001b[A\n",
            "loss G: adv 5.680081 con 3.558136 gram 0.021079 color 7.757476 / loss D: 7.130374:  69%|██████▉   | 769/1110 [44:49<19:53,  3.50s/it]\u001b[A\n",
            "loss G: adv 5.678455 con 3.558415 gram 0.021088 color 7.757391 / loss D: 7.126518:  69%|██████▉   | 769/1110 [44:53<19:53,  3.50s/it]\u001b[A\n",
            "loss G: adv 5.678455 con 3.558415 gram 0.021088 color 7.757391 / loss D: 7.126518:  69%|██████▉   | 770/1110 [44:53<19:49,  3.50s/it]\u001b[A\n",
            "loss G: adv 5.677382 con 3.558539 gram 0.021089 color 7.759833 / loss D: 7.123228:  69%|██████▉   | 770/1110 [44:56<19:49,  3.50s/it]\u001b[A\n",
            "loss G: adv 5.677382 con 3.558539 gram 0.021089 color 7.759833 / loss D: 7.123228:  69%|██████▉   | 771/1110 [44:56<19:46,  3.50s/it]\u001b[A\n",
            "loss G: adv 5.677048 con 3.558900 gram 0.021099 color 7.756729 / loss D: 7.119877:  69%|██████▉   | 771/1110 [45:00<19:46,  3.50s/it]\u001b[A\n",
            "loss G: adv 5.677048 con 3.558900 gram 0.021099 color 7.756729 / loss D: 7.119877:  70%|██████▉   | 772/1110 [45:00<19:42,  3.50s/it]\u001b[A\n",
            "loss G: adv 5.676822 con 3.559079 gram 0.021116 color 7.755738 / loss D: 7.115629:  70%|██████▉   | 772/1110 [45:03<19:42,  3.50s/it]\u001b[A\n",
            "loss G: adv 5.676822 con 3.559079 gram 0.021116 color 7.755738 / loss D: 7.115629:  70%|██████▉   | 773/1110 [45:03<19:39,  3.50s/it]\u001b[A\n",
            "loss G: adv 5.675042 con 3.559676 gram 0.021128 color 7.753107 / loss D: 7.111684:  70%|██████▉   | 773/1110 [45:07<19:39,  3.50s/it]\u001b[A\n",
            "loss G: adv 5.675042 con 3.559676 gram 0.021128 color 7.753107 / loss D: 7.111684:  70%|██████▉   | 774/1110 [45:07<19:35,  3.50s/it]\u001b[A\n",
            "loss G: adv 5.673895 con 3.560018 gram 0.021126 color 7.749907 / loss D: 7.107767:  70%|██████▉   | 774/1110 [45:10<19:35,  3.50s/it]\u001b[A\n",
            "loss G: adv 5.673895 con 3.560018 gram 0.021126 color 7.749907 / loss D: 7.107767:  70%|██████▉   | 775/1110 [45:10<19:32,  3.50s/it]\u001b[A\n",
            "loss G: adv 5.675794 con 3.560340 gram 0.021120 color 7.748461 / loss D: 7.102142:  70%|██████▉   | 775/1110 [45:14<19:32,  3.50s/it]\u001b[A\n",
            "loss G: adv 5.675794 con 3.560340 gram 0.021120 color 7.748461 / loss D: 7.102142:  70%|██████▉   | 776/1110 [45:14<19:28,  3.50s/it]\u001b[A\n",
            "loss G: adv 5.676392 con 3.560466 gram 0.021135 color 7.746492 / loss D: 7.098006:  70%|██████▉   | 776/1110 [45:17<19:28,  3.50s/it]\u001b[A\n",
            "loss G: adv 5.676392 con 3.560466 gram 0.021135 color 7.746492 / loss D: 7.098006:  70%|███████   | 777/1110 [45:17<19:25,  3.50s/it]\u001b[A\n",
            "loss G: adv 5.676625 con 3.560823 gram 0.021133 color 7.743981 / loss D: 7.093800:  70%|███████   | 777/1110 [45:21<19:25,  3.50s/it]\u001b[A\n",
            "loss G: adv 5.676625 con 3.560823 gram 0.021133 color 7.743981 / loss D: 7.093800:  70%|███████   | 778/1110 [45:21<19:21,  3.50s/it]\u001b[A\n",
            "loss G: adv 5.675712 con 3.561354 gram 0.021139 color 7.744290 / loss D: 7.090794:  70%|███████   | 778/1110 [45:24<19:21,  3.50s/it]\u001b[A\n",
            "loss G: adv 5.675712 con 3.561354 gram 0.021139 color 7.744290 / loss D: 7.090794:  70%|███████   | 779/1110 [45:24<19:17,  3.50s/it]\u001b[A\n",
            "loss G: adv 5.675173 con 3.562384 gram 0.021144 color 7.743212 / loss D: 7.088599:  70%|███████   | 779/1110 [45:28<19:17,  3.50s/it]\u001b[A\n",
            "loss G: adv 5.675173 con 3.562384 gram 0.021144 color 7.743212 / loss D: 7.088599:  70%|███████   | 780/1110 [45:28<19:13,  3.49s/it]\u001b[A\n",
            "loss G: adv 5.675528 con 3.562637 gram 0.021143 color 7.740750 / loss D: 7.085753:  70%|███████   | 780/1110 [45:31<19:13,  3.49s/it]\u001b[A\n",
            "loss G: adv 5.675528 con 3.562637 gram 0.021143 color 7.740750 / loss D: 7.085753:  70%|███████   | 781/1110 [45:31<19:09,  3.50s/it]\u001b[A\n",
            "loss G: adv 5.675988 con 3.562962 gram 0.021139 color 7.739942 / loss D: 7.082271:  70%|███████   | 781/1110 [45:35<19:09,  3.50s/it]\u001b[A\n",
            "loss G: adv 5.675988 con 3.562962 gram 0.021139 color 7.739942 / loss D: 7.082271:  70%|███████   | 782/1110 [45:35<19:05,  3.49s/it]\u001b[A\n",
            "loss G: adv 5.674971 con 3.563834 gram 0.021140 color 7.737834 / loss D: 7.079083:  70%|███████   | 782/1110 [45:38<19:05,  3.49s/it]\u001b[A\n",
            "loss G: adv 5.674971 con 3.563834 gram 0.021140 color 7.737834 / loss D: 7.079083:  71%|███████   | 783/1110 [45:38<19:02,  3.49s/it]\u001b[A\n",
            "loss G: adv 5.675167 con 3.564517 gram 0.021140 color 7.735632 / loss D: 7.075521:  71%|███████   | 783/1110 [45:42<19:02,  3.49s/it]\u001b[A\n",
            "loss G: adv 5.675167 con 3.564517 gram 0.021140 color 7.735632 / loss D: 7.075521:  71%|███████   | 784/1110 [45:42<18:58,  3.49s/it]\u001b[A\n",
            "loss G: adv 5.675378 con 3.565010 gram 0.021141 color 7.733406 / loss D: 7.071989:  71%|███████   | 784/1110 [45:45<18:58,  3.49s/it]\u001b[A\n",
            "loss G: adv 5.675378 con 3.565010 gram 0.021141 color 7.733406 / loss D: 7.071989:  71%|███████   | 785/1110 [45:45<18:54,  3.49s/it]\u001b[A\n",
            "loss G: adv 5.674137 con 3.565021 gram 0.021146 color 7.732749 / loss D: 7.068729:  71%|███████   | 785/1110 [45:49<18:54,  3.49s/it]\u001b[A\n",
            "loss G: adv 5.674137 con 3.565021 gram 0.021146 color 7.732749 / loss D: 7.068729:  71%|███████   | 786/1110 [45:49<18:50,  3.49s/it]\u001b[A\n",
            "loss G: adv 5.673974 con 3.564956 gram 0.021143 color 7.729173 / loss D: 7.063885:  71%|███████   | 786/1110 [45:52<18:50,  3.49s/it]\u001b[A\n",
            "loss G: adv 5.673974 con 3.564956 gram 0.021143 color 7.729173 / loss D: 7.063885:  71%|███████   | 787/1110 [45:52<18:47,  3.49s/it]\u001b[A\n",
            "loss G: adv 5.672925 con 3.565822 gram 0.021144 color 7.731027 / loss D: 7.059563:  71%|███████   | 787/1110 [45:56<18:47,  3.49s/it]\u001b[A\n",
            "loss G: adv 5.672925 con 3.565822 gram 0.021144 color 7.731027 / loss D: 7.059563:  71%|███████   | 788/1110 [45:56<18:43,  3.49s/it]\u001b[A\n",
            "loss G: adv 5.672447 con 3.566177 gram 0.021151 color 7.727918 / loss D: 7.055204:  71%|███████   | 788/1110 [45:59<18:43,  3.49s/it]\u001b[A\n",
            "loss G: adv 5.672447 con 3.566177 gram 0.021151 color 7.727918 / loss D: 7.055204:  71%|███████   | 789/1110 [45:59<18:40,  3.49s/it]\u001b[A\n",
            "loss G: adv 5.673032 con 3.566862 gram 0.021158 color 7.728154 / loss D: 7.051043:  71%|███████   | 789/1110 [46:03<18:40,  3.49s/it]\u001b[A\n",
            "loss G: adv 5.673032 con 3.566862 gram 0.021158 color 7.728154 / loss D: 7.051043:  71%|███████   | 790/1110 [46:03<18:36,  3.49s/it]\u001b[A\n",
            "loss G: adv 5.672935 con 3.566945 gram 0.021155 color 7.726165 / loss D: 7.046878:  71%|███████   | 790/1110 [46:06<18:36,  3.49s/it]\u001b[A\n",
            "loss G: adv 5.672935 con 3.566945 gram 0.021155 color 7.726165 / loss D: 7.046878:  71%|███████▏  | 791/1110 [46:06<18:32,  3.49s/it]\u001b[A\n",
            "loss G: adv 5.673425 con 3.567624 gram 0.021161 color 7.725387 / loss D: 7.041911:  71%|███████▏  | 791/1110 [46:10<18:32,  3.49s/it]\u001b[A\n",
            "loss G: adv 5.673425 con 3.567624 gram 0.021161 color 7.725387 / loss D: 7.041911:  71%|███████▏  | 792/1110 [46:10<18:28,  3.49s/it]\u001b[A\n",
            "loss G: adv 5.672951 con 3.568015 gram 0.021155 color 7.723823 / loss D: 7.037843:  71%|███████▏  | 792/1110 [46:13<18:28,  3.49s/it]\u001b[A\n",
            "loss G: adv 5.672951 con 3.568015 gram 0.021155 color 7.723823 / loss D: 7.037843:  71%|███████▏  | 793/1110 [46:13<18:24,  3.49s/it]\u001b[A\n",
            "loss G: adv 5.672563 con 3.568098 gram 0.021155 color 7.719873 / loss D: 7.032678:  71%|███████▏  | 793/1110 [46:17<18:24,  3.49s/it]\u001b[A\n",
            "loss G: adv 5.672563 con 3.568098 gram 0.021155 color 7.719873 / loss D: 7.032678:  72%|███████▏  | 794/1110 [46:17<18:22,  3.49s/it]\u001b[A\n",
            "loss G: adv 5.671269 con 3.568059 gram 0.021157 color 7.717651 / loss D: 7.029588:  72%|███████▏  | 794/1110 [46:20<18:22,  3.49s/it]\u001b[A\n",
            "loss G: adv 5.671269 con 3.568059 gram 0.021157 color 7.717651 / loss D: 7.029588:  72%|███████▏  | 795/1110 [46:20<18:19,  3.49s/it]\u001b[A\n",
            "loss G: adv 5.671231 con 3.568380 gram 0.021151 color 7.716035 / loss D: 7.024496:  72%|███████▏  | 795/1110 [46:24<18:19,  3.49s/it]\u001b[A\n",
            "loss G: adv 5.671231 con 3.568380 gram 0.021151 color 7.716035 / loss D: 7.024496:  72%|███████▏  | 796/1110 [46:24<18:17,  3.49s/it]\u001b[A\n",
            "loss G: adv 5.671728 con 3.568269 gram 0.021151 color 7.715762 / loss D: 7.019704:  72%|███████▏  | 796/1110 [46:27<18:17,  3.49s/it]\u001b[A\n",
            "loss G: adv 5.671728 con 3.568269 gram 0.021151 color 7.715762 / loss D: 7.019704:  72%|███████▏  | 797/1110 [46:27<18:14,  3.50s/it]\u001b[A\n",
            "loss G: adv 5.670904 con 3.568233 gram 0.021164 color 7.712303 / loss D: 7.015920:  72%|███████▏  | 797/1110 [46:31<18:14,  3.50s/it]\u001b[A\n",
            "loss G: adv 5.670904 con 3.568233 gram 0.021164 color 7.712303 / loss D: 7.015920:  72%|███████▏  | 798/1110 [46:31<18:10,  3.49s/it]\u001b[A\n",
            "loss G: adv 5.670401 con 3.569041 gram 0.021164 color 7.711519 / loss D: 7.011865:  72%|███████▏  | 798/1110 [46:34<18:10,  3.49s/it]\u001b[A\n",
            "loss G: adv 5.670401 con 3.569041 gram 0.021164 color 7.711519 / loss D: 7.011865:  72%|███████▏  | 799/1110 [46:34<18:06,  3.49s/it]\u001b[A\n",
            "loss G: adv 5.670434 con 3.569413 gram 0.021160 color 7.711548 / loss D: 7.008542:  72%|███████▏  | 799/1110 [46:38<18:06,  3.49s/it]\u001b[A\n",
            "loss G: adv 5.670434 con 3.569413 gram 0.021160 color 7.711548 / loss D: 7.008542:  72%|███████▏  | 800/1110 [46:38<18:03,  3.49s/it]\u001b[A\n",
            "loss G: adv 5.671615 con 3.569567 gram 0.021152 color 7.708406 / loss D: 7.003012:  72%|███████▏  | 800/1110 [46:41<18:03,  3.49s/it]\u001b[A\n",
            "loss G: adv 5.671615 con 3.569567 gram 0.021152 color 7.708406 / loss D: 7.003012:  72%|███████▏  | 801/1110 [46:41<18:00,  3.50s/it]\u001b[A\n",
            "loss G: adv 5.671496 con 3.569570 gram 0.021161 color 7.705640 / loss D: 6.999448:  72%|███████▏  | 801/1110 [46:45<18:00,  3.50s/it]\u001b[A\n",
            "loss G: adv 5.671496 con 3.569570 gram 0.021161 color 7.705640 / loss D: 6.999448:  72%|███████▏  | 802/1110 [46:45<17:57,  3.50s/it]\u001b[A\n",
            "loss G: adv 5.669566 con 3.570861 gram 0.021162 color 7.702425 / loss D: 6.995910:  72%|███████▏  | 802/1110 [46:48<17:57,  3.50s/it]\u001b[A\n",
            "loss G: adv 5.669566 con 3.570861 gram 0.021162 color 7.702425 / loss D: 6.995910:  72%|███████▏  | 803/1110 [46:48<17:53,  3.50s/it]\u001b[A\n",
            "loss G: adv 5.668052 con 3.571090 gram 0.021163 color 7.703453 / loss D: 6.993239:  72%|███████▏  | 803/1110 [46:52<17:53,  3.50s/it]\u001b[A\n",
            "loss G: adv 5.668052 con 3.571090 gram 0.021163 color 7.703453 / loss D: 6.993239:  72%|███████▏  | 804/1110 [46:52<17:50,  3.50s/it]\u001b[A\n",
            "loss G: adv 5.667291 con 3.571541 gram 0.021176 color 7.704950 / loss D: 6.990101:  72%|███████▏  | 804/1110 [46:55<17:50,  3.50s/it]\u001b[A\n",
            "loss G: adv 5.667291 con 3.571541 gram 0.021176 color 7.704950 / loss D: 6.990101:  73%|███████▎  | 805/1110 [46:55<17:47,  3.50s/it]\u001b[A\n",
            "loss G: adv 5.667029 con 3.571562 gram 0.021177 color 7.704102 / loss D: 6.985718:  73%|███████▎  | 805/1110 [46:59<17:47,  3.50s/it]\u001b[A\n",
            "loss G: adv 5.667029 con 3.571562 gram 0.021177 color 7.704102 / loss D: 6.985718:  73%|███████▎  | 806/1110 [46:59<17:43,  3.50s/it]\u001b[A\n",
            "loss G: adv 5.666499 con 3.572396 gram 0.021176 color 7.701097 / loss D: 6.982235:  73%|███████▎  | 806/1110 [47:02<17:43,  3.50s/it]\u001b[A\n",
            "loss G: adv 5.666499 con 3.572396 gram 0.021176 color 7.701097 / loss D: 6.982235:  73%|███████▎  | 807/1110 [47:02<17:40,  3.50s/it]\u001b[A\n",
            "loss G: adv 5.665953 con 3.572779 gram 0.021174 color 7.698300 / loss D: 6.978314:  73%|███████▎  | 807/1110 [47:06<17:40,  3.50s/it]\u001b[A\n",
            "loss G: adv 5.665953 con 3.572779 gram 0.021174 color 7.698300 / loss D: 6.978314:  73%|███████▎  | 808/1110 [47:06<17:37,  3.50s/it]\u001b[A\n",
            "loss G: adv 5.666028 con 3.573594 gram 0.021172 color 7.699071 / loss D: 6.974841:  73%|███████▎  | 808/1110 [47:09<17:37,  3.50s/it]\u001b[A\n",
            "loss G: adv 5.666028 con 3.573594 gram 0.021172 color 7.699071 / loss D: 6.974841:  73%|███████▎  | 809/1110 [47:09<17:33,  3.50s/it]\u001b[A\n",
            "loss G: adv 5.665554 con 3.574421 gram 0.021176 color 7.700521 / loss D: 6.972395:  73%|███████▎  | 809/1110 [47:13<17:33,  3.50s/it]\u001b[A\n",
            "loss G: adv 5.665554 con 3.574421 gram 0.021176 color 7.700521 / loss D: 6.972395:  73%|███████▎  | 810/1110 [47:13<17:29,  3.50s/it]\u001b[A\n",
            "loss G: adv 5.664398 con 3.574697 gram 0.021177 color 7.701870 / loss D: 6.970006:  73%|███████▎  | 810/1110 [47:16<17:29,  3.50s/it]\u001b[A\n",
            "loss G: adv 5.664398 con 3.574697 gram 0.021177 color 7.701870 / loss D: 6.970006:  73%|███████▎  | 811/1110 [47:16<17:26,  3.50s/it]\u001b[A\n",
            "loss G: adv 5.665112 con 3.575294 gram 0.021176 color 7.700376 / loss D: 6.966690:  73%|███████▎  | 811/1110 [47:20<17:26,  3.50s/it]\u001b[A\n",
            "loss G: adv 5.665112 con 3.575294 gram 0.021176 color 7.700376 / loss D: 6.966690:  73%|███████▎  | 812/1110 [47:20<17:23,  3.50s/it]\u001b[A\n",
            "loss G: adv 5.666431 con 3.575697 gram 0.021168 color 7.701442 / loss D: 6.962735:  73%|███████▎  | 812/1110 [47:23<17:23,  3.50s/it]\u001b[A\n",
            "loss G: adv 5.666431 con 3.575697 gram 0.021168 color 7.701442 / loss D: 6.962735:  73%|███████▎  | 813/1110 [47:23<17:19,  3.50s/it]\u001b[A\n",
            "loss G: adv 5.667146 con 3.575729 gram 0.021162 color 7.704474 / loss D: 6.959543:  73%|███████▎  | 813/1110 [47:27<17:19,  3.50s/it]\u001b[A\n",
            "loss G: adv 5.667146 con 3.575729 gram 0.021162 color 7.704474 / loss D: 6.959543:  73%|███████▎  | 814/1110 [47:27<17:15,  3.50s/it]\u001b[A\n",
            "loss G: adv 5.665378 con 3.575755 gram 0.021160 color 7.701392 / loss D: 6.957365:  73%|███████▎  | 814/1110 [47:30<17:15,  3.50s/it]\u001b[A\n",
            "loss G: adv 5.665378 con 3.575755 gram 0.021160 color 7.701392 / loss D: 6.957365:  73%|███████▎  | 815/1110 [47:30<17:12,  3.50s/it]\u001b[A\n",
            "loss G: adv 5.664611 con 3.576453 gram 0.021168 color 7.698678 / loss D: 6.954559:  73%|███████▎  | 815/1110 [47:34<17:12,  3.50s/it]\u001b[A\n",
            "loss G: adv 5.664611 con 3.576453 gram 0.021168 color 7.698678 / loss D: 6.954559:  74%|███████▎  | 816/1110 [47:34<17:09,  3.50s/it]\u001b[A\n",
            "loss G: adv 5.665735 con 3.576596 gram 0.021167 color 7.695322 / loss D: 6.950217:  74%|███████▎  | 816/1110 [47:37<17:09,  3.50s/it]\u001b[A\n",
            "loss G: adv 5.665735 con 3.576596 gram 0.021167 color 7.695322 / loss D: 6.950217:  74%|███████▎  | 817/1110 [47:37<17:06,  3.50s/it]\u001b[A\n",
            "loss G: adv 5.666555 con 3.576331 gram 0.021167 color 7.692053 / loss D: 6.946540:  74%|███████▎  | 817/1110 [47:41<17:06,  3.50s/it]\u001b[A\n",
            "loss G: adv 5.666555 con 3.576331 gram 0.021167 color 7.692053 / loss D: 6.946540:  74%|███████▎  | 818/1110 [47:41<17:02,  3.50s/it]\u001b[A\n",
            "loss G: adv 5.666408 con 3.576770 gram 0.021169 color 7.689531 / loss D: 6.942120:  74%|███████▎  | 818/1110 [47:44<17:02,  3.50s/it]\u001b[A\n",
            "loss G: adv 5.666408 con 3.576770 gram 0.021169 color 7.689531 / loss D: 6.942120:  74%|███████▍  | 819/1110 [47:44<16:59,  3.50s/it]\u001b[A\n",
            "loss G: adv 5.667979 con 3.577197 gram 0.021174 color 7.686016 / loss D: 6.937701:  74%|███████▍  | 819/1110 [47:48<16:59,  3.50s/it]\u001b[A\n",
            "loss G: adv 5.667979 con 3.577197 gram 0.021174 color 7.686016 / loss D: 6.937701:  74%|███████▍  | 820/1110 [47:48<16:56,  3.50s/it]\u001b[A\n",
            "loss G: adv 5.668478 con 3.577265 gram 0.021175 color 7.681767 / loss D: 6.933712:  74%|███████▍  | 820/1110 [47:51<16:56,  3.50s/it]\u001b[A\n",
            "loss G: adv 5.668478 con 3.577265 gram 0.021175 color 7.681767 / loss D: 6.933712:  74%|███████▍  | 821/1110 [47:51<16:52,  3.50s/it]\u001b[A\n",
            "loss G: adv 5.667399 con 3.577525 gram 0.021185 color 7.679642 / loss D: 6.932242:  74%|███████▍  | 821/1110 [47:55<16:52,  3.50s/it]\u001b[A\n",
            "loss G: adv 5.667399 con 3.577525 gram 0.021185 color 7.679642 / loss D: 6.932242:  74%|███████▍  | 822/1110 [47:55<16:48,  3.50s/it]\u001b[A\n",
            "loss G: adv 5.667938 con 3.577873 gram 0.021187 color 7.677355 / loss D: 6.928055:  74%|███████▍  | 822/1110 [47:58<16:48,  3.50s/it]\u001b[A\n",
            "loss G: adv 5.667938 con 3.577873 gram 0.021187 color 7.677355 / loss D: 6.928055:  74%|███████▍  | 823/1110 [47:58<16:44,  3.50s/it]\u001b[A\n",
            "loss G: adv 5.667297 con 3.578334 gram 0.021195 color 7.676434 / loss D: 6.924046:  74%|███████▍  | 823/1110 [48:02<16:44,  3.50s/it]\u001b[A\n",
            "loss G: adv 5.667297 con 3.578334 gram 0.021195 color 7.676434 / loss D: 6.924046:  74%|███████▍  | 824/1110 [48:02<16:41,  3.50s/it]\u001b[A\n",
            "loss G: adv 5.667111 con 3.578454 gram 0.021190 color 7.673967 / loss D: 6.919850:  74%|███████▍  | 824/1110 [48:05<16:41,  3.50s/it]\u001b[A\n",
            "loss G: adv 5.667111 con 3.578454 gram 0.021190 color 7.673967 / loss D: 6.919850:  74%|███████▍  | 825/1110 [48:05<16:37,  3.50s/it]\u001b[A\n",
            "loss G: adv 5.667570 con 3.578312 gram 0.021190 color 7.670445 / loss D: 6.915740:  74%|███████▍  | 825/1110 [48:09<16:37,  3.50s/it]\u001b[A\n",
            "loss G: adv 5.667570 con 3.578312 gram 0.021190 color 7.670445 / loss D: 6.915740:  74%|███████▍  | 826/1110 [48:09<16:34,  3.50s/it]\u001b[A\n",
            "loss G: adv 5.666722 con 3.578719 gram 0.021198 color 7.671022 / loss D: 6.912110:  74%|███████▍  | 826/1110 [48:12<16:34,  3.50s/it]\u001b[A\n",
            "loss G: adv 5.666722 con 3.578719 gram 0.021198 color 7.671022 / loss D: 6.912110:  75%|███████▍  | 827/1110 [48:12<16:30,  3.50s/it]\u001b[A\n",
            "loss G: adv 5.666834 con 3.578734 gram 0.021200 color 7.670319 / loss D: 6.907636:  75%|███████▍  | 827/1110 [48:16<16:30,  3.50s/it]\u001b[A\n",
            "loss G: adv 5.666834 con 3.578734 gram 0.021200 color 7.670319 / loss D: 6.907636:  75%|███████▍  | 828/1110 [48:16<16:27,  3.50s/it]\u001b[A\n",
            "loss G: adv 5.667449 con 3.578836 gram 0.021191 color 7.666964 / loss D: 6.902687:  75%|███████▍  | 828/1110 [48:19<16:27,  3.50s/it]\u001b[A\n",
            "loss G: adv 5.667449 con 3.578836 gram 0.021191 color 7.666964 / loss D: 6.902687:  75%|███████▍  | 829/1110 [48:19<16:23,  3.50s/it]\u001b[A\n",
            "loss G: adv 5.666018 con 3.578706 gram 0.021188 color 7.665376 / loss D: 6.900232:  75%|███████▍  | 829/1110 [48:23<16:23,  3.50s/it]\u001b[A\n",
            "loss G: adv 5.666018 con 3.578706 gram 0.021188 color 7.665376 / loss D: 6.900232:  75%|███████▍  | 830/1110 [48:23<16:19,  3.50s/it]\u001b[A\n",
            "loss G: adv 5.665673 con 3.578468 gram 0.021185 color 7.664492 / loss D: 6.896859:  75%|███████▍  | 830/1110 [48:26<16:19,  3.50s/it]\u001b[A\n",
            "loss G: adv 5.665673 con 3.578468 gram 0.021185 color 7.664492 / loss D: 6.896859:  75%|███████▍  | 831/1110 [48:26<16:16,  3.50s/it]\u001b[A\n",
            "loss G: adv 5.665589 con 3.579309 gram 0.021181 color 7.664064 / loss D: 6.892841:  75%|███████▍  | 831/1110 [48:30<16:16,  3.50s/it]\u001b[A\n",
            "loss G: adv 5.665589 con 3.579309 gram 0.021181 color 7.664064 / loss D: 6.892841:  75%|███████▍  | 832/1110 [48:30<16:12,  3.50s/it]\u001b[A\n",
            "loss G: adv 5.665495 con 3.579267 gram 0.021175 color 7.663666 / loss D: 6.889476:  75%|███████▍  | 832/1110 [48:33<16:12,  3.50s/it]\u001b[A\n",
            "loss G: adv 5.665495 con 3.579267 gram 0.021175 color 7.663666 / loss D: 6.889476:  75%|███████▌  | 833/1110 [48:33<16:09,  3.50s/it]\u001b[A\n",
            "loss G: adv 5.666607 con 3.580003 gram 0.021167 color 7.662964 / loss D: 6.884399:  75%|███████▌  | 833/1110 [48:37<16:09,  3.50s/it]\u001b[A\n",
            "loss G: adv 5.666607 con 3.580003 gram 0.021167 color 7.662964 / loss D: 6.884399:  75%|███████▌  | 834/1110 [48:37<16:06,  3.50s/it]\u001b[A\n",
            "loss G: adv 5.666000 con 3.580311 gram 0.021163 color 7.662149 / loss D: 6.882787:  75%|███████▌  | 834/1110 [48:40<16:06,  3.50s/it]\u001b[A\n",
            "loss G: adv 5.666000 con 3.580311 gram 0.021163 color 7.662149 / loss D: 6.882787:  75%|███████▌  | 835/1110 [48:40<16:02,  3.50s/it]\u001b[A\n",
            "loss G: adv 5.664752 con 3.580895 gram 0.021160 color 7.660922 / loss D: 6.880406:  75%|███████▌  | 835/1110 [48:44<16:02,  3.50s/it]\u001b[A\n",
            "loss G: adv 5.664752 con 3.580895 gram 0.021160 color 7.660922 / loss D: 6.880406:  75%|███████▌  | 836/1110 [48:44<15:59,  3.50s/it]\u001b[A\n",
            "loss G: adv 5.663966 con 3.580888 gram 0.021180 color 7.660327 / loss D: 6.878479:  75%|███████▌  | 836/1110 [48:47<15:59,  3.50s/it]\u001b[A\n",
            "loss G: adv 5.663966 con 3.580888 gram 0.021180 color 7.660327 / loss D: 6.878479:  75%|███████▌  | 837/1110 [48:47<15:55,  3.50s/it]\u001b[A\n",
            "loss G: adv 5.663166 con 3.581399 gram 0.021173 color 7.658483 / loss D: 6.875849:  75%|███████▌  | 837/1110 [48:51<15:55,  3.50s/it]\u001b[A\n",
            "loss G: adv 5.663166 con 3.581399 gram 0.021173 color 7.658483 / loss D: 6.875849:  75%|███████▌  | 838/1110 [48:51<15:52,  3.50s/it]\u001b[A\n",
            "loss G: adv 5.663086 con 3.581623 gram 0.021175 color 7.657714 / loss D: 6.872023:  75%|███████▌  | 838/1110 [48:54<15:52,  3.50s/it]\u001b[A\n",
            "loss G: adv 5.663086 con 3.581623 gram 0.021175 color 7.657714 / loss D: 6.872023:  76%|███████▌  | 839/1110 [48:54<15:49,  3.50s/it]\u001b[A\n",
            "loss G: adv 5.665472 con 3.581750 gram 0.021172 color 7.656951 / loss D: 6.869928:  76%|███████▌  | 839/1110 [48:58<15:49,  3.50s/it]\u001b[A\n",
            "loss G: adv 5.665472 con 3.581750 gram 0.021172 color 7.656951 / loss D: 6.869928:  76%|███████▌  | 840/1110 [48:58<15:45,  3.50s/it]\u001b[A\n",
            "loss G: adv 5.668136 con 3.581843 gram 0.021177 color 7.657720 / loss D: 6.866467:  76%|███████▌  | 840/1110 [49:01<15:45,  3.50s/it]\u001b[A\n",
            "loss G: adv 5.668136 con 3.581843 gram 0.021177 color 7.657720 / loss D: 6.866467:  76%|███████▌  | 841/1110 [49:01<15:41,  3.50s/it]\u001b[A\n",
            "loss G: adv 5.668711 con 3.582456 gram 0.021171 color 7.656251 / loss D: 6.863685:  76%|███████▌  | 841/1110 [49:05<15:41,  3.50s/it]\u001b[A\n",
            "loss G: adv 5.668711 con 3.582456 gram 0.021171 color 7.656251 / loss D: 6.863685:  76%|███████▌  | 842/1110 [49:05<15:38,  3.50s/it]\u001b[A\n",
            "loss G: adv 5.667730 con 3.582478 gram 0.021175 color 7.656224 / loss D: 6.861115:  76%|███████▌  | 842/1110 [49:08<15:38,  3.50s/it]\u001b[A\n",
            "loss G: adv 5.667730 con 3.582478 gram 0.021175 color 7.656224 / loss D: 6.861115:  76%|███████▌  | 843/1110 [49:08<15:34,  3.50s/it]\u001b[A\n",
            "loss G: adv 5.666092 con 3.583495 gram 0.021168 color 7.654221 / loss D: 6.858746:  76%|███████▌  | 843/1110 [49:12<15:34,  3.50s/it]\u001b[A\n",
            "loss G: adv 5.666092 con 3.583495 gram 0.021168 color 7.654221 / loss D: 6.858746:  76%|███████▌  | 844/1110 [49:12<15:30,  3.50s/it]\u001b[A\n",
            "loss G: adv 5.666469 con 3.583896 gram 0.021171 color 7.652358 / loss D: 6.854647:  76%|███████▌  | 844/1110 [49:15<15:30,  3.50s/it]\u001b[A\n",
            "loss G: adv 5.666469 con 3.583896 gram 0.021171 color 7.652358 / loss D: 6.854647:  76%|███████▌  | 845/1110 [49:15<15:27,  3.50s/it]\u001b[A\n",
            "loss G: adv 5.667272 con 3.584189 gram 0.021178 color 7.650438 / loss D: 6.852484:  76%|███████▌  | 845/1110 [49:19<15:27,  3.50s/it]\u001b[A\n",
            "loss G: adv 5.667272 con 3.584189 gram 0.021178 color 7.650438 / loss D: 6.852484:  76%|███████▌  | 846/1110 [49:19<15:23,  3.50s/it]\u001b[A\n",
            "loss G: adv 5.667841 con 3.584696 gram 0.021176 color 7.648154 / loss D: 6.849054:  76%|███████▌  | 846/1110 [49:22<15:23,  3.50s/it]\u001b[A\n",
            "loss G: adv 5.667841 con 3.584696 gram 0.021176 color 7.648154 / loss D: 6.849054:  76%|███████▋  | 847/1110 [49:22<15:20,  3.50s/it]\u001b[A\n",
            "loss G: adv 5.667188 con 3.584943 gram 0.021176 color 7.648059 / loss D: 6.847643:  76%|███████▋  | 847/1110 [49:26<15:20,  3.50s/it]\u001b[A\n",
            "loss G: adv 5.667188 con 3.584943 gram 0.021176 color 7.648059 / loss D: 6.847643:  76%|███████▋  | 848/1110 [49:26<15:17,  3.50s/it]\u001b[A\n",
            "loss G: adv 5.666147 con 3.585577 gram 0.021173 color 7.646304 / loss D: 6.844954:  76%|███████▋  | 848/1110 [49:29<15:17,  3.50s/it]\u001b[A\n",
            "loss G: adv 5.666147 con 3.585577 gram 0.021173 color 7.646304 / loss D: 6.844954:  76%|███████▋  | 849/1110 [49:29<15:13,  3.50s/it]\u001b[A\n",
            "loss G: adv 5.665399 con 3.586871 gram 0.021166 color 7.646589 / loss D: 6.841675:  76%|███████▋  | 849/1110 [49:33<15:13,  3.50s/it]\u001b[A\n",
            "loss G: adv 5.665399 con 3.586871 gram 0.021166 color 7.646589 / loss D: 6.841675:  77%|███████▋  | 850/1110 [49:33<15:09,  3.50s/it]\u001b[A\n",
            "loss G: adv 5.665030 con 3.587533 gram 0.021167 color 7.643294 / loss D: 6.837153:  77%|███████▋  | 850/1110 [49:36<15:09,  3.50s/it]\u001b[A\n",
            "loss G: adv 5.665030 con 3.587533 gram 0.021167 color 7.643294 / loss D: 6.837153:  77%|███████▋  | 851/1110 [49:36<15:06,  3.50s/it]\u001b[A\n",
            "loss G: adv 5.664659 con 3.587461 gram 0.021175 color 7.641892 / loss D: 6.832987:  77%|███████▋  | 851/1110 [49:40<15:06,  3.50s/it]\u001b[A\n",
            "loss G: adv 5.664659 con 3.587461 gram 0.021175 color 7.641892 / loss D: 6.832987:  77%|███████▋  | 852/1110 [49:40<15:02,  3.50s/it]\u001b[A\n",
            "loss G: adv 5.665004 con 3.587913 gram 0.021173 color 7.641728 / loss D: 6.829034:  77%|███████▋  | 852/1110 [49:43<15:02,  3.50s/it]\u001b[A\n",
            "loss G: adv 5.665004 con 3.587913 gram 0.021173 color 7.641728 / loss D: 6.829034:  77%|███████▋  | 853/1110 [49:43<14:59,  3.50s/it]\u001b[A\n",
            "loss G: adv 5.665419 con 3.588774 gram 0.021171 color 7.638895 / loss D: 6.824722:  77%|███████▋  | 853/1110 [49:47<14:59,  3.50s/it]\u001b[A\n",
            "loss G: adv 5.665419 con 3.588774 gram 0.021171 color 7.638895 / loss D: 6.824722:  77%|███████▋  | 854/1110 [49:47<14:56,  3.50s/it]\u001b[A\n",
            "loss G: adv 5.664455 con 3.589533 gram 0.021170 color 7.637975 / loss D: 6.822297:  77%|███████▋  | 854/1110 [49:50<14:56,  3.50s/it]\u001b[A\n",
            "loss G: adv 5.664455 con 3.589533 gram 0.021170 color 7.637975 / loss D: 6.822297:  77%|███████▋  | 855/1110 [49:50<14:51,  3.50s/it]\u001b[A\n",
            "loss G: adv 5.664272 con 3.589756 gram 0.021164 color 7.638126 / loss D: 6.818646:  77%|███████▋  | 855/1110 [49:54<14:51,  3.50s/it]\u001b[A\n",
            "loss G: adv 5.664272 con 3.589756 gram 0.021164 color 7.638126 / loss D: 6.818646:  77%|███████▋  | 856/1110 [49:54<14:47,  3.49s/it]\u001b[A\n",
            "loss G: adv 5.663573 con 3.590398 gram 0.021164 color 7.638385 / loss D: 6.816450:  77%|███████▋  | 856/1110 [49:57<14:47,  3.49s/it]\u001b[A\n",
            "loss G: adv 5.663573 con 3.590398 gram 0.021164 color 7.638385 / loss D: 6.816450:  77%|███████▋  | 857/1110 [49:57<14:43,  3.49s/it]\u001b[A\n",
            "loss G: adv 5.663364 con 3.590613 gram 0.021166 color 7.636673 / loss D: 6.813006:  77%|███████▋  | 857/1110 [50:01<14:43,  3.49s/it]\u001b[A\n",
            "loss G: adv 5.663364 con 3.590613 gram 0.021166 color 7.636673 / loss D: 6.813006:  77%|███████▋  | 858/1110 [50:01<14:39,  3.49s/it]\u001b[A\n",
            "loss G: adv 5.663877 con 3.591109 gram 0.021161 color 7.635407 / loss D: 6.809298:  77%|███████▋  | 858/1110 [50:04<14:39,  3.49s/it]\u001b[A\n",
            "loss G: adv 5.663877 con 3.591109 gram 0.021161 color 7.635407 / loss D: 6.809298:  77%|███████▋  | 859/1110 [50:04<14:34,  3.48s/it]\u001b[A\n",
            "loss G: adv 5.664581 con 3.590975 gram 0.021162 color 7.636001 / loss D: 6.804914:  77%|███████▋  | 859/1110 [50:08<14:34,  3.48s/it]\u001b[A\n",
            "loss G: adv 5.664581 con 3.590975 gram 0.021162 color 7.636001 / loss D: 6.804914:  77%|███████▋  | 860/1110 [50:08<14:30,  3.48s/it]\u001b[A\n",
            "loss G: adv 5.663925 con 3.591312 gram 0.021154 color 7.633340 / loss D: 6.802809:  77%|███████▋  | 860/1110 [50:11<14:30,  3.48s/it]\u001b[A\n",
            "loss G: adv 5.663925 con 3.591312 gram 0.021154 color 7.633340 / loss D: 6.802809:  78%|███████▊  | 861/1110 [50:11<14:27,  3.49s/it]\u001b[A\n",
            "loss G: adv 5.663202 con 3.591875 gram 0.021159 color 7.632855 / loss D: 6.799256:  78%|███████▊  | 861/1110 [50:15<14:27,  3.49s/it]\u001b[A\n",
            "loss G: adv 5.663202 con 3.591875 gram 0.021159 color 7.632855 / loss D: 6.799256:  78%|███████▊  | 862/1110 [50:15<14:24,  3.49s/it]\u001b[A\n",
            "loss G: adv 5.663196 con 3.592108 gram 0.021169 color 7.630890 / loss D: 6.794972:  78%|███████▊  | 862/1110 [50:18<14:24,  3.49s/it]\u001b[A\n",
            "loss G: adv 5.663196 con 3.592108 gram 0.021169 color 7.630890 / loss D: 6.794972:  78%|███████▊  | 863/1110 [50:18<14:21,  3.49s/it]\u001b[A\n",
            "loss G: adv 5.662261 con 3.592916 gram 0.021168 color 7.631034 / loss D: 6.792008:  78%|███████▊  | 863/1110 [50:22<14:21,  3.49s/it]\u001b[A\n",
            "loss G: adv 5.662261 con 3.592916 gram 0.021168 color 7.631034 / loss D: 6.792008:  78%|███████▊  | 864/1110 [50:22<14:18,  3.49s/it]\u001b[A\n",
            "loss G: adv 5.662227 con 3.593608 gram 0.021162 color 7.629058 / loss D: 6.787817:  78%|███████▊  | 864/1110 [50:25<14:18,  3.49s/it]\u001b[A\n",
            "loss G: adv 5.662227 con 3.593608 gram 0.021162 color 7.629058 / loss D: 6.787817:  78%|███████▊  | 865/1110 [50:25<14:14,  3.49s/it]\u001b[A\n",
            "loss G: adv 5.662365 con 3.593737 gram 0.021160 color 7.627087 / loss D: 6.783947:  78%|███████▊  | 865/1110 [50:28<14:14,  3.49s/it]\u001b[A\n",
            "loss G: adv 5.662365 con 3.593737 gram 0.021160 color 7.627087 / loss D: 6.783947:  78%|███████▊  | 866/1110 [50:28<14:11,  3.49s/it]\u001b[A\n",
            "loss G: adv 5.661871 con 3.593985 gram 0.021154 color 7.626608 / loss D: 6.780270:  78%|███████▊  | 866/1110 [50:32<14:11,  3.49s/it]\u001b[A\n",
            "loss G: adv 5.661871 con 3.593985 gram 0.021154 color 7.626608 / loss D: 6.780270:  78%|███████▊  | 867/1110 [50:32<14:08,  3.49s/it]\u001b[A\n",
            "loss G: adv 5.662158 con 3.594562 gram 0.021155 color 7.624849 / loss D: 6.778591:  78%|███████▊  | 867/1110 [50:35<14:08,  3.49s/it]\u001b[A\n",
            "loss G: adv 5.662158 con 3.594562 gram 0.021155 color 7.624849 / loss D: 6.778591:  78%|███████▊  | 868/1110 [50:35<14:05,  3.49s/it]\u001b[A\n",
            "loss G: adv 5.661911 con 3.594686 gram 0.021153 color 7.623459 / loss D: 6.775362:  78%|███████▊  | 868/1110 [50:39<14:05,  3.49s/it]\u001b[A\n",
            "loss G: adv 5.661911 con 3.594686 gram 0.021153 color 7.623459 / loss D: 6.775362:  78%|███████▊  | 869/1110 [50:39<14:01,  3.49s/it]\u001b[A\n",
            "loss G: adv 5.661462 con 3.595031 gram 0.021162 color 7.623441 / loss D: 6.771990:  78%|███████▊  | 869/1110 [50:42<14:01,  3.49s/it]\u001b[A\n",
            "loss G: adv 5.661462 con 3.595031 gram 0.021162 color 7.623441 / loss D: 6.771990:  78%|███████▊  | 870/1110 [50:42<13:57,  3.49s/it]\u001b[A\n",
            "loss G: adv 5.661427 con 3.595509 gram 0.021167 color 7.621808 / loss D: 6.769007:  78%|███████▊  | 870/1110 [50:46<13:57,  3.49s/it]\u001b[A\n",
            "loss G: adv 5.661427 con 3.595509 gram 0.021167 color 7.621808 / loss D: 6.769007:  78%|███████▊  | 871/1110 [50:46<13:55,  3.49s/it]\u001b[A\n",
            "loss G: adv 5.660704 con 3.595956 gram 0.021170 color 7.621786 / loss D: 6.765762:  78%|███████▊  | 871/1110 [50:49<13:55,  3.49s/it]\u001b[A\n",
            "loss G: adv 5.660704 con 3.595956 gram 0.021170 color 7.621786 / loss D: 6.765762:  79%|███████▊  | 872/1110 [50:49<13:51,  3.49s/it]\u001b[A\n",
            "loss G: adv 5.660672 con 3.596382 gram 0.021169 color 7.621799 / loss D: 6.762975:  79%|███████▊  | 872/1110 [50:53<13:51,  3.49s/it]\u001b[A\n",
            "loss G: adv 5.660672 con 3.596382 gram 0.021169 color 7.621799 / loss D: 6.762975:  79%|███████▊  | 873/1110 [50:53<13:46,  3.49s/it]\u001b[A\n",
            "loss G: adv 5.659845 con 3.596431 gram 0.021164 color 7.620301 / loss D: 6.759157:  79%|███████▊  | 873/1110 [50:56<13:46,  3.49s/it]\u001b[A\n",
            "loss G: adv 5.659845 con 3.596431 gram 0.021164 color 7.620301 / loss D: 6.759157:  79%|███████▊  | 874/1110 [50:56<13:41,  3.48s/it]\u001b[A\n",
            "loss G: adv 5.659973 con 3.596413 gram 0.021161 color 7.617891 / loss D: 6.756434:  79%|███████▊  | 874/1110 [51:00<13:41,  3.48s/it]\u001b[A\n",
            "loss G: adv 5.659973 con 3.596413 gram 0.021161 color 7.617891 / loss D: 6.756434:  79%|███████▉  | 875/1110 [51:00<13:38,  3.48s/it]\u001b[A\n",
            "loss G: adv 5.660565 con 3.596403 gram 0.021160 color 7.617429 / loss D: 6.752916:  79%|███████▉  | 875/1110 [51:03<13:38,  3.48s/it]\u001b[A\n",
            "loss G: adv 5.660565 con 3.596403 gram 0.021160 color 7.617429 / loss D: 6.752916:  79%|███████▉  | 876/1110 [51:03<13:35,  3.48s/it]\u001b[A\n",
            "loss G: adv 5.660436 con 3.598202 gram 0.021160 color 7.617162 / loss D: 6.749559:  79%|███████▉  | 876/1110 [51:07<13:35,  3.48s/it]\u001b[A\n",
            "loss G: adv 5.660436 con 3.598202 gram 0.021160 color 7.617162 / loss D: 6.749559:  79%|███████▉  | 877/1110 [51:07<13:30,  3.48s/it]\u001b[A\n",
            "loss G: adv 5.660778 con 3.598509 gram 0.021164 color 7.614578 / loss D: 6.745960:  79%|███████▉  | 877/1110 [51:10<13:30,  3.48s/it]\u001b[A\n",
            "loss G: adv 5.660778 con 3.598509 gram 0.021164 color 7.614578 / loss D: 6.745960:  79%|███████▉  | 878/1110 [51:10<13:27,  3.48s/it]\u001b[A\n",
            "loss G: adv 5.659668 con 3.598595 gram 0.021167 color 7.611024 / loss D: 6.742767:  79%|███████▉  | 878/1110 [51:14<13:27,  3.48s/it]\u001b[A\n",
            "loss G: adv 5.659668 con 3.598595 gram 0.021167 color 7.611024 / loss D: 6.742767:  79%|███████▉  | 879/1110 [51:14<13:24,  3.48s/it]\u001b[A\n",
            "loss G: adv 5.659332 con 3.599357 gram 0.021169 color 7.611762 / loss D: 6.739225:  79%|███████▉  | 879/1110 [51:17<13:24,  3.48s/it]\u001b[A\n",
            "loss G: adv 5.659332 con 3.599357 gram 0.021169 color 7.611762 / loss D: 6.739225:  79%|███████▉  | 880/1110 [51:17<13:21,  3.48s/it]\u001b[A\n",
            "loss G: adv 5.659653 con 3.599690 gram 0.021172 color 7.610609 / loss D: 6.735505:  79%|███████▉  | 880/1110 [51:21<13:21,  3.48s/it]\u001b[A\n",
            "loss G: adv 5.659653 con 3.599690 gram 0.021172 color 7.610609 / loss D: 6.735505:  79%|███████▉  | 881/1110 [51:21<13:18,  3.49s/it]\u001b[A\n",
            "loss G: adv 5.662002 con 3.599623 gram 0.021174 color 7.610620 / loss D: 6.731786:  79%|███████▉  | 881/1110 [51:24<13:18,  3.49s/it]\u001b[A\n",
            "loss G: adv 5.662002 con 3.599623 gram 0.021174 color 7.610620 / loss D: 6.731786:  79%|███████▉  | 882/1110 [51:24<13:16,  3.49s/it]\u001b[A\n",
            "loss G: adv 5.661678 con 3.600494 gram 0.021178 color 7.609427 / loss D: 6.728067:  79%|███████▉  | 882/1110 [51:28<13:16,  3.49s/it]\u001b[A\n",
            "loss G: adv 5.661678 con 3.600494 gram 0.021178 color 7.609427 / loss D: 6.728067:  80%|███████▉  | 883/1110 [51:28<13:13,  3.49s/it]\u001b[A\n",
            "loss G: adv 5.660297 con 3.601108 gram 0.021186 color 7.608928 / loss D: 6.725369:  80%|███████▉  | 883/1110 [51:31<13:13,  3.49s/it]\u001b[A\n",
            "loss G: adv 5.660297 con 3.601108 gram 0.021186 color 7.608928 / loss D: 6.725369:  80%|███████▉  | 884/1110 [51:31<13:09,  3.50s/it]\u001b[A\n",
            "loss G: adv 5.660314 con 3.601334 gram 0.021182 color 7.607995 / loss D: 6.721560:  80%|███████▉  | 884/1110 [51:35<13:09,  3.50s/it]\u001b[A\n",
            "loss G: adv 5.660314 con 3.601334 gram 0.021182 color 7.607995 / loss D: 6.721560:  80%|███████▉  | 885/1110 [51:35<13:06,  3.50s/it]\u001b[A\n",
            "loss G: adv 5.662251 con 3.601188 gram 0.021182 color 7.604725 / loss D: 6.719783:  80%|███████▉  | 885/1110 [51:38<13:06,  3.50s/it]\u001b[A\n",
            "loss G: adv 5.662251 con 3.601188 gram 0.021182 color 7.604725 / loss D: 6.719783:  80%|███████▉  | 886/1110 [51:38<13:03,  3.50s/it]\u001b[A\n",
            "loss G: adv 5.662920 con 3.601409 gram 0.021196 color 7.605738 / loss D: 6.717941:  80%|███████▉  | 886/1110 [51:42<13:03,  3.50s/it]\u001b[A\n",
            "loss G: adv 5.662920 con 3.601409 gram 0.021196 color 7.605738 / loss D: 6.717941:  80%|███████▉  | 887/1110 [51:42<12:59,  3.50s/it]\u001b[A\n",
            "loss G: adv 5.663031 con 3.601984 gram 0.021194 color 7.605964 / loss D: 6.715712:  80%|███████▉  | 887/1110 [51:45<12:59,  3.50s/it]\u001b[A\n",
            "loss G: adv 5.663031 con 3.601984 gram 0.021194 color 7.605964 / loss D: 6.715712:  80%|████████  | 888/1110 [51:45<12:56,  3.50s/it]\u001b[A\n",
            "loss G: adv 5.663392 con 3.601865 gram 0.021185 color 7.602363 / loss D: 6.713320:  80%|████████  | 888/1110 [51:49<12:56,  3.50s/it]\u001b[A\n",
            "loss G: adv 5.663392 con 3.601865 gram 0.021185 color 7.602363 / loss D: 6.713320:  80%|████████  | 889/1110 [51:49<12:53,  3.50s/it]\u001b[A\n",
            "loss G: adv 5.663798 con 3.603010 gram 0.021184 color 7.603555 / loss D: 6.710456:  80%|████████  | 889/1110 [51:52<12:53,  3.50s/it]\u001b[A\n",
            "loss G: adv 5.663798 con 3.603010 gram 0.021184 color 7.603555 / loss D: 6.710456:  80%|████████  | 890/1110 [51:52<12:49,  3.50s/it]\u001b[A\n",
            "loss G: adv 5.663572 con 3.603266 gram 0.021186 color 7.604330 / loss D: 6.707538:  80%|████████  | 890/1110 [51:56<12:49,  3.50s/it]\u001b[A\n",
            "loss G: adv 5.663572 con 3.603266 gram 0.021186 color 7.604330 / loss D: 6.707538:  80%|████████  | 891/1110 [51:56<12:46,  3.50s/it]\u001b[A\n",
            "loss G: adv 5.664048 con 3.603055 gram 0.021187 color 7.601989 / loss D: 6.704026:  80%|████████  | 891/1110 [51:59<12:46,  3.50s/it]\u001b[A\n",
            "loss G: adv 5.664048 con 3.603055 gram 0.021187 color 7.601989 / loss D: 6.704026:  80%|████████  | 892/1110 [51:59<12:42,  3.50s/it]\u001b[A\n",
            "loss G: adv 5.665135 con 3.603762 gram 0.021178 color 7.600628 / loss D: 6.700078:  80%|████████  | 892/1110 [52:03<12:42,  3.50s/it]\u001b[A\n",
            "loss G: adv 5.665135 con 3.603762 gram 0.021178 color 7.600628 / loss D: 6.700078:  80%|████████  | 893/1110 [52:03<12:39,  3.50s/it]\u001b[A\n",
            "loss G: adv 5.664299 con 3.604416 gram 0.021180 color 7.599647 / loss D: 6.697667:  80%|████████  | 893/1110 [52:06<12:39,  3.50s/it]\u001b[A\n",
            "loss G: adv 5.664299 con 3.604416 gram 0.021180 color 7.599647 / loss D: 6.697667:  81%|████████  | 894/1110 [52:06<12:36,  3.50s/it]\u001b[A\n",
            "loss G: adv 5.665114 con 3.605369 gram 0.021176 color 7.601045 / loss D: 6.697194:  81%|████████  | 894/1110 [52:10<12:36,  3.50s/it]\u001b[A\n",
            "loss G: adv 5.665114 con 3.605369 gram 0.021176 color 7.601045 / loss D: 6.697194:  81%|████████  | 895/1110 [52:10<12:32,  3.50s/it]\u001b[A\n",
            "loss G: adv 5.666510 con 3.606168 gram 0.021178 color 7.599989 / loss D: 6.695407:  81%|████████  | 895/1110 [52:13<12:32,  3.50s/it]\u001b[A\n",
            "loss G: adv 5.666510 con 3.606168 gram 0.021178 color 7.599989 / loss D: 6.695407:  81%|████████  | 896/1110 [52:13<12:29,  3.50s/it]\u001b[A\n",
            "loss G: adv 5.668303 con 3.606247 gram 0.021171 color 7.598035 / loss D: 6.692969:  81%|████████  | 896/1110 [52:17<12:29,  3.50s/it]\u001b[A\n",
            "loss G: adv 5.668303 con 3.606247 gram 0.021171 color 7.598035 / loss D: 6.692969:  81%|████████  | 897/1110 [52:17<12:26,  3.51s/it]\u001b[A\n",
            "loss G: adv 5.667852 con 3.606896 gram 0.021173 color 7.599097 / loss D: 6.690582:  81%|████████  | 897/1110 [52:20<12:26,  3.51s/it]\u001b[A\n",
            "loss G: adv 5.667852 con 3.606896 gram 0.021173 color 7.599097 / loss D: 6.690582:  81%|████████  | 898/1110 [52:20<12:24,  3.51s/it]\u001b[A\n",
            "loss G: adv 5.669064 con 3.607227 gram 0.021174 color 7.599204 / loss D: 6.689137:  81%|████████  | 898/1110 [52:24<12:24,  3.51s/it]\u001b[A\n",
            "loss G: adv 5.669064 con 3.607227 gram 0.021174 color 7.599204 / loss D: 6.689137:  81%|████████  | 899/1110 [52:24<12:20,  3.51s/it]\u001b[A\n",
            "loss G: adv 5.669738 con 3.608705 gram 0.021170 color 7.597897 / loss D: 6.685436:  81%|████████  | 899/1110 [52:27<12:20,  3.51s/it]\u001b[A\n",
            "loss G: adv 5.669738 con 3.608705 gram 0.021170 color 7.597897 / loss D: 6.685436:  81%|████████  | 900/1110 [52:27<12:17,  3.51s/it]\u001b[A\n",
            "loss G: adv 5.670316 con 3.609255 gram 0.021170 color 7.595526 / loss D: 6.682219:  81%|████████  | 900/1110 [52:31<12:17,  3.51s/it]\u001b[A\n",
            "loss G: adv 5.670316 con 3.609255 gram 0.021170 color 7.595526 / loss D: 6.682219:  81%|████████  | 901/1110 [52:31<12:13,  3.51s/it]\u001b[A\n",
            "loss G: adv 5.670481 con 3.609721 gram 0.021170 color 7.595056 / loss D: 6.678312:  81%|████████  | 901/1110 [52:34<12:13,  3.51s/it]\u001b[A\n",
            "loss G: adv 5.670481 con 3.609721 gram 0.021170 color 7.595056 / loss D: 6.678312:  81%|████████▏ | 902/1110 [52:34<12:09,  3.51s/it]\u001b[A\n",
            "loss G: adv 5.670620 con 3.610380 gram 0.021170 color 7.594104 / loss D: 6.674325:  81%|████████▏ | 902/1110 [52:38<12:09,  3.51s/it]\u001b[A\n",
            "loss G: adv 5.670620 con 3.610380 gram 0.021170 color 7.594104 / loss D: 6.674325:  81%|████████▏ | 903/1110 [52:38<12:05,  3.50s/it]\u001b[A\n",
            "loss G: adv 5.671553 con 3.610426 gram 0.021164 color 7.593278 / loss D: 6.669803:  81%|████████▏ | 903/1110 [52:41<12:05,  3.50s/it]\u001b[A\n",
            "loss G: adv 5.671553 con 3.610426 gram 0.021164 color 7.593278 / loss D: 6.669803:  81%|████████▏ | 904/1110 [52:41<12:01,  3.50s/it]\u001b[A\n",
            "loss G: adv 5.671620 con 3.610628 gram 0.021167 color 7.592109 / loss D: 6.665667:  81%|████████▏ | 904/1110 [52:45<12:01,  3.50s/it]\u001b[A\n",
            "loss G: adv 5.671620 con 3.610628 gram 0.021167 color 7.592109 / loss D: 6.665667:  82%|████████▏ | 905/1110 [52:45<11:57,  3.50s/it]\u001b[A\n",
            "loss G: adv 5.670955 con 3.611252 gram 0.021164 color 7.592159 / loss D: 6.662310:  82%|████████▏ | 905/1110 [52:48<11:57,  3.50s/it]\u001b[A\n",
            "loss G: adv 5.670955 con 3.611252 gram 0.021164 color 7.592159 / loss D: 6.662310:  82%|████████▏ | 906/1110 [52:48<11:54,  3.50s/it]\u001b[A\n",
            "loss G: adv 5.671005 con 3.611765 gram 0.021159 color 7.590773 / loss D: 6.659043:  82%|████████▏ | 906/1110 [52:52<11:54,  3.50s/it]\u001b[A\n",
            "loss G: adv 5.671005 con 3.611765 gram 0.021159 color 7.590773 / loss D: 6.659043:  82%|████████▏ | 907/1110 [52:52<11:50,  3.50s/it]\u001b[A\n",
            "loss G: adv 5.670032 con 3.612461 gram 0.021165 color 7.591318 / loss D: 6.657379:  82%|████████▏ | 907/1110 [52:55<11:50,  3.50s/it]\u001b[A\n",
            "loss G: adv 5.670032 con 3.612461 gram 0.021165 color 7.591318 / loss D: 6.657379:  82%|████████▏ | 908/1110 [52:55<11:46,  3.50s/it]\u001b[A\n",
            "loss G: adv 5.669758 con 3.612488 gram 0.021163 color 7.591309 / loss D: 6.653848:  82%|████████▏ | 908/1110 [52:59<11:46,  3.50s/it]\u001b[A\n",
            "loss G: adv 5.669758 con 3.612488 gram 0.021163 color 7.591309 / loss D: 6.653848:  82%|████████▏ | 909/1110 [52:59<11:43,  3.50s/it]\u001b[A\n",
            "loss G: adv 5.669530 con 3.613186 gram 0.021161 color 7.589610 / loss D: 6.651546:  82%|████████▏ | 909/1110 [53:02<11:43,  3.50s/it]\u001b[A\n",
            "loss G: adv 5.669530 con 3.613186 gram 0.021161 color 7.589610 / loss D: 6.651546:  82%|████████▏ | 910/1110 [53:02<11:39,  3.50s/it]\u001b[A\n",
            "loss G: adv 5.668706 con 3.613360 gram 0.021159 color 7.590272 / loss D: 6.649051:  82%|████████▏ | 910/1110 [53:06<11:39,  3.50s/it]\u001b[A\n",
            "loss G: adv 5.668706 con 3.613360 gram 0.021159 color 7.590272 / loss D: 6.649051:  82%|████████▏ | 911/1110 [53:06<11:36,  3.50s/it]\u001b[A\n",
            "loss G: adv 5.668289 con 3.613557 gram 0.021161 color 7.590390 / loss D: 6.645923:  82%|████████▏ | 911/1110 [53:09<11:36,  3.50s/it]\u001b[A\n",
            "loss G: adv 5.668289 con 3.613557 gram 0.021161 color 7.590390 / loss D: 6.645923:  82%|████████▏ | 912/1110 [53:09<11:33,  3.50s/it]\u001b[A\n",
            "loss G: adv 5.668362 con 3.614008 gram 0.021157 color 7.588313 / loss D: 6.642123:  82%|████████▏ | 912/1110 [53:13<11:33,  3.50s/it]\u001b[A\n",
            "loss G: adv 5.668362 con 3.614008 gram 0.021157 color 7.588313 / loss D: 6.642123:  82%|████████▏ | 913/1110 [53:13<11:29,  3.50s/it]\u001b[A\n",
            "loss G: adv 5.668388 con 3.614446 gram 0.021152 color 7.587068 / loss D: 6.638279:  82%|████████▏ | 913/1110 [53:16<11:29,  3.50s/it]\u001b[A\n",
            "loss G: adv 5.668388 con 3.614446 gram 0.021152 color 7.587068 / loss D: 6.638279:  82%|████████▏ | 914/1110 [53:16<11:26,  3.50s/it]\u001b[A\n",
            "loss G: adv 5.669842 con 3.614956 gram 0.021146 color 7.586553 / loss D: 6.634106:  82%|████████▏ | 914/1110 [53:20<11:26,  3.50s/it]\u001b[A\n",
            "loss G: adv 5.669842 con 3.614956 gram 0.021146 color 7.586553 / loss D: 6.634106:  82%|████████▏ | 915/1110 [53:20<11:22,  3.50s/it]\u001b[A\n",
            "loss G: adv 5.669539 con 3.615299 gram 0.021139 color 7.584461 / loss D: 6.632027:  82%|████████▏ | 915/1110 [53:23<11:22,  3.50s/it]\u001b[A\n",
            "loss G: adv 5.669539 con 3.615299 gram 0.021139 color 7.584461 / loss D: 6.632027:  83%|████████▎ | 916/1110 [53:23<11:19,  3.50s/it]\u001b[A\n",
            "loss G: adv 5.668495 con 3.615444 gram 0.021149 color 7.582502 / loss D: 6.628649:  83%|████████▎ | 916/1110 [53:27<11:19,  3.50s/it]\u001b[A\n",
            "loss G: adv 5.668495 con 3.615444 gram 0.021149 color 7.582502 / loss D: 6.628649:  83%|████████▎ | 917/1110 [53:27<11:16,  3.50s/it]\u001b[A\n",
            "loss G: adv 5.668490 con 3.616152 gram 0.021156 color 7.580530 / loss D: 6.624957:  83%|████████▎ | 917/1110 [53:30<11:16,  3.50s/it]\u001b[A\n",
            "loss G: adv 5.668490 con 3.616152 gram 0.021156 color 7.580530 / loss D: 6.624957:  83%|████████▎ | 918/1110 [53:30<11:12,  3.50s/it]\u001b[A\n",
            "loss G: adv 5.668537 con 3.616359 gram 0.021164 color 7.580384 / loss D: 6.622068:  83%|████████▎ | 918/1110 [53:34<11:12,  3.50s/it]\u001b[A\n",
            "loss G: adv 5.668537 con 3.616359 gram 0.021164 color 7.580384 / loss D: 6.622068:  83%|████████▎ | 919/1110 [53:34<11:09,  3.50s/it]\u001b[A\n",
            "loss G: adv 5.668254 con 3.617046 gram 0.021161 color 7.579772 / loss D: 6.620941:  83%|████████▎ | 919/1110 [53:37<11:09,  3.50s/it]\u001b[A\n",
            "loss G: adv 5.668254 con 3.617046 gram 0.021161 color 7.579772 / loss D: 6.620941:  83%|████████▎ | 920/1110 [53:37<11:05,  3.50s/it]\u001b[A\n",
            "loss G: adv 5.669989 con 3.617066 gram 0.021157 color 7.577832 / loss D: 6.615933:  83%|████████▎ | 920/1110 [53:41<11:05,  3.50s/it]\u001b[A\n",
            "loss G: adv 5.669989 con 3.617066 gram 0.021157 color 7.577832 / loss D: 6.615933:  83%|████████▎ | 921/1110 [53:41<11:01,  3.50s/it]\u001b[A\n",
            "loss G: adv 5.671124 con 3.617374 gram 0.021151 color 7.576171 / loss D: 6.613125:  83%|████████▎ | 921/1110 [53:44<11:01,  3.50s/it]\u001b[A\n",
            "loss G: adv 5.671124 con 3.617374 gram 0.021151 color 7.576171 / loss D: 6.613125:  83%|████████▎ | 922/1110 [53:44<10:58,  3.50s/it]\u001b[A\n",
            "loss G: adv 5.672161 con 3.617490 gram 0.021154 color 7.576213 / loss D: 6.611082:  83%|████████▎ | 922/1110 [53:48<10:58,  3.50s/it]\u001b[A\n",
            "loss G: adv 5.672161 con 3.617490 gram 0.021154 color 7.576213 / loss D: 6.611082:  83%|████████▎ | 923/1110 [53:48<10:54,  3.50s/it]\u001b[A\n",
            "loss G: adv 5.672590 con 3.617682 gram 0.021155 color 7.575117 / loss D: 6.611723:  83%|████████▎ | 923/1110 [53:51<10:54,  3.50s/it]\u001b[A\n",
            "loss G: adv 5.672590 con 3.617682 gram 0.021155 color 7.575117 / loss D: 6.611723:  83%|████████▎ | 924/1110 [53:51<10:50,  3.50s/it]\u001b[A\n",
            "loss G: adv 5.672501 con 3.618585 gram 0.021154 color 7.573420 / loss D: 6.610199:  83%|████████▎ | 924/1110 [53:55<10:50,  3.50s/it]\u001b[A\n",
            "loss G: adv 5.672501 con 3.618585 gram 0.021154 color 7.573420 / loss D: 6.610199:  83%|████████▎ | 925/1110 [53:55<10:47,  3.50s/it]\u001b[A\n",
            "loss G: adv 5.672807 con 3.618545 gram 0.021155 color 7.571488 / loss D: 6.607693:  83%|████████▎ | 925/1110 [53:58<10:47,  3.50s/it]\u001b[A\n",
            "loss G: adv 5.672807 con 3.618545 gram 0.021155 color 7.571488 / loss D: 6.607693:  83%|████████▎ | 926/1110 [53:58<10:43,  3.50s/it]\u001b[A\n",
            "loss G: adv 5.672772 con 3.618597 gram 0.021157 color 7.570484 / loss D: 6.605986:  83%|████████▎ | 926/1110 [54:02<10:43,  3.50s/it]\u001b[A\n",
            "loss G: adv 5.672772 con 3.618597 gram 0.021157 color 7.570484 / loss D: 6.605986:  84%|████████▎ | 927/1110 [54:02<10:40,  3.50s/it]\u001b[A\n",
            "loss G: adv 5.673076 con 3.618703 gram 0.021164 color 7.568182 / loss D: 6.602690:  84%|████████▎ | 927/1110 [54:05<10:40,  3.50s/it]\u001b[A\n",
            "loss G: adv 5.673076 con 3.618703 gram 0.021164 color 7.568182 / loss D: 6.602690:  84%|████████▎ | 928/1110 [54:05<10:37,  3.50s/it]\u001b[A\n",
            "loss G: adv 5.674589 con 3.618873 gram 0.021159 color 7.568077 / loss D: 6.599507:  84%|████████▎ | 928/1110 [54:09<10:37,  3.50s/it]\u001b[A\n",
            "loss G: adv 5.674589 con 3.618873 gram 0.021159 color 7.568077 / loss D: 6.599507:  84%|████████▎ | 929/1110 [54:09<10:33,  3.50s/it]\u001b[A\n",
            "loss G: adv 5.674343 con 3.619374 gram 0.021169 color 7.568660 / loss D: 6.598446:  84%|████████▎ | 929/1110 [54:12<10:33,  3.50s/it]\u001b[A\n",
            "loss G: adv 5.674343 con 3.619374 gram 0.021169 color 7.568660 / loss D: 6.598446:  84%|████████▍ | 930/1110 [54:12<10:30,  3.50s/it]\u001b[A\n",
            "loss G: adv 5.674473 con 3.619446 gram 0.021170 color 7.566086 / loss D: 6.595819:  84%|████████▍ | 930/1110 [54:16<10:30,  3.50s/it]\u001b[A\n",
            "loss G: adv 5.674473 con 3.619446 gram 0.021170 color 7.566086 / loss D: 6.595819:  84%|████████▍ | 931/1110 [54:16<10:26,  3.50s/it]\u001b[A\n",
            "loss G: adv 5.675048 con 3.620078 gram 0.021166 color 7.564863 / loss D: 6.593042:  84%|████████▍ | 931/1110 [54:19<10:26,  3.50s/it]\u001b[A\n",
            "loss G: adv 5.675048 con 3.620078 gram 0.021166 color 7.564863 / loss D: 6.593042:  84%|████████▍ | 932/1110 [54:19<10:23,  3.50s/it]\u001b[A\n",
            "loss G: adv 5.674592 con 3.620398 gram 0.021167 color 7.564907 / loss D: 6.590688:  84%|████████▍ | 932/1110 [54:23<10:23,  3.50s/it]\u001b[A\n",
            "loss G: adv 5.674592 con 3.620398 gram 0.021167 color 7.564907 / loss D: 6.590688:  84%|████████▍ | 933/1110 [54:23<10:19,  3.50s/it]\u001b[A\n",
            "loss G: adv 5.674240 con 3.620988 gram 0.021165 color 7.561692 / loss D: 6.587264:  84%|████████▍ | 933/1110 [54:26<10:19,  3.50s/it]\u001b[A\n",
            "loss G: adv 5.674240 con 3.620988 gram 0.021165 color 7.561692 / loss D: 6.587264:  84%|████████▍ | 934/1110 [54:26<10:16,  3.50s/it]\u001b[A\n",
            "loss G: adv 5.674564 con 3.621481 gram 0.021166 color 7.560258 / loss D: 6.583870:  84%|████████▍ | 934/1110 [54:30<10:16,  3.50s/it]\u001b[A\n",
            "loss G: adv 5.674564 con 3.621481 gram 0.021166 color 7.560258 / loss D: 6.583870:  84%|████████▍ | 935/1110 [54:30<10:12,  3.50s/it]\u001b[A\n",
            "loss G: adv 5.674581 con 3.621737 gram 0.021166 color 7.559624 / loss D: 6.580202:  84%|████████▍ | 935/1110 [54:33<10:12,  3.50s/it]\u001b[A\n",
            "loss G: adv 5.674581 con 3.621737 gram 0.021166 color 7.559624 / loss D: 6.580202:  84%|████████▍ | 936/1110 [54:33<10:09,  3.50s/it]\u001b[A\n",
            "loss G: adv 5.673339 con 3.622189 gram 0.021159 color 7.558233 / loss D: 6.577347:  84%|████████▍ | 936/1110 [54:37<10:09,  3.50s/it]\u001b[A\n",
            "loss G: adv 5.673339 con 3.622189 gram 0.021159 color 7.558233 / loss D: 6.577347:  84%|████████▍ | 937/1110 [54:37<10:05,  3.50s/it]\u001b[A\n",
            "loss G: adv 5.672453 con 3.622465 gram 0.021159 color 7.556371 / loss D: 6.573769:  84%|████████▍ | 937/1110 [54:40<10:05,  3.50s/it]\u001b[A\n",
            "loss G: adv 5.672453 con 3.622465 gram 0.021159 color 7.556371 / loss D: 6.573769:  85%|████████▍ | 938/1110 [54:40<10:02,  3.50s/it]\u001b[A\n",
            "loss G: adv 5.671553 con 3.622358 gram 0.021155 color 7.558088 / loss D: 6.570082:  85%|████████▍ | 938/1110 [54:44<10:02,  3.50s/it]\u001b[A\n",
            "loss G: adv 5.671553 con 3.622358 gram 0.021155 color 7.558088 / loss D: 6.570082:  85%|████████▍ | 939/1110 [54:44<09:58,  3.50s/it]\u001b[A\n",
            "loss G: adv 5.672863 con 3.622810 gram 0.021156 color 7.555136 / loss D: 6.566411:  85%|████████▍ | 939/1110 [54:47<09:58,  3.50s/it]\u001b[A\n",
            "loss G: adv 5.672863 con 3.622810 gram 0.021156 color 7.555136 / loss D: 6.566411:  85%|████████▍ | 940/1110 [54:47<09:55,  3.50s/it]\u001b[A\n",
            "loss G: adv 5.674025 con 3.623013 gram 0.021155 color 7.554949 / loss D: 6.563914:  85%|████████▍ | 940/1110 [54:51<09:55,  3.50s/it]\u001b[A\n",
            "loss G: adv 5.674025 con 3.623013 gram 0.021155 color 7.554949 / loss D: 6.563914:  85%|████████▍ | 941/1110 [54:51<09:51,  3.50s/it]\u001b[A\n",
            "loss G: adv 5.673525 con 3.623334 gram 0.021153 color 7.555300 / loss D: 6.561670:  85%|████████▍ | 941/1110 [54:54<09:51,  3.50s/it]\u001b[A\n",
            "loss G: adv 5.673525 con 3.623334 gram 0.021153 color 7.555300 / loss D: 6.561670:  85%|████████▍ | 942/1110 [54:54<09:48,  3.50s/it]\u001b[A\n",
            "loss G: adv 5.672779 con 3.623778 gram 0.021152 color 7.553389 / loss D: 6.558007:  85%|████████▍ | 942/1110 [54:58<09:48,  3.50s/it]\u001b[A\n",
            "loss G: adv 5.672779 con 3.623778 gram 0.021152 color 7.553389 / loss D: 6.558007:  85%|████████▍ | 943/1110 [54:58<09:44,  3.50s/it]\u001b[A\n",
            "loss G: adv 5.673075 con 3.623701 gram 0.021147 color 7.550998 / loss D: 6.554344:  85%|████████▍ | 943/1110 [55:01<09:44,  3.50s/it]\u001b[A\n",
            "loss G: adv 5.673075 con 3.623701 gram 0.021147 color 7.550998 / loss D: 6.554344:  85%|████████▌ | 944/1110 [55:01<09:41,  3.50s/it]\u001b[A\n",
            "loss G: adv 5.673492 con 3.623806 gram 0.021146 color 7.551623 / loss D: 6.551039:  85%|████████▌ | 944/1110 [55:05<09:41,  3.50s/it]\u001b[A\n",
            "loss G: adv 5.673492 con 3.623806 gram 0.021146 color 7.551623 / loss D: 6.551039:  85%|████████▌ | 945/1110 [55:05<09:37,  3.50s/it]\u001b[A\n",
            "loss G: adv 5.673810 con 3.623646 gram 0.021156 color 7.547726 / loss D: 6.548957:  85%|████████▌ | 945/1110 [55:08<09:37,  3.50s/it]\u001b[A\n",
            "loss G: adv 5.673810 con 3.623646 gram 0.021156 color 7.547726 / loss D: 6.548957:  85%|████████▌ | 946/1110 [55:08<09:34,  3.50s/it]\u001b[A\n",
            "loss G: adv 5.672299 con 3.624188 gram 0.021157 color 7.546917 / loss D: 6.545388:  85%|████████▌ | 946/1110 [55:12<09:34,  3.50s/it]\u001b[A\n",
            "loss G: adv 5.672299 con 3.624188 gram 0.021157 color 7.546917 / loss D: 6.545388:  85%|████████▌ | 947/1110 [55:12<09:30,  3.50s/it]\u001b[A\n",
            "loss G: adv 5.671711 con 3.624308 gram 0.021157 color 7.546765 / loss D: 6.541734:  85%|████████▌ | 947/1110 [55:15<09:30,  3.50s/it]\u001b[A\n",
            "loss G: adv 5.671711 con 3.624308 gram 0.021157 color 7.546765 / loss D: 6.541734:  85%|████████▌ | 948/1110 [55:15<09:26,  3.50s/it]\u001b[A\n",
            "loss G: adv 5.672725 con 3.624475 gram 0.021157 color 7.542874 / loss D: 6.537288:  85%|████████▌ | 948/1110 [55:19<09:26,  3.50s/it]\u001b[A\n",
            "loss G: adv 5.672725 con 3.624475 gram 0.021157 color 7.542874 / loss D: 6.537288:  85%|████████▌ | 949/1110 [55:19<09:22,  3.50s/it]\u001b[A\n",
            "loss G: adv 5.673836 con 3.624782 gram 0.021153 color 7.543862 / loss D: 6.533508:  85%|████████▌ | 949/1110 [55:22<09:22,  3.50s/it]\u001b[A\n",
            "loss G: adv 5.673836 con 3.624782 gram 0.021153 color 7.543862 / loss D: 6.533508:  86%|████████▌ | 950/1110 [55:22<09:19,  3.49s/it]\u001b[A\n",
            "loss G: adv 5.673191 con 3.624823 gram 0.021153 color 7.542494 / loss D: 6.530994:  86%|████████▌ | 950/1110 [55:26<09:19,  3.49s/it]\u001b[A\n",
            "loss G: adv 5.673191 con 3.624823 gram 0.021153 color 7.542494 / loss D: 6.530994:  86%|████████▌ | 951/1110 [55:26<09:15,  3.50s/it]\u001b[A\n",
            "loss G: adv 5.671674 con 3.625234 gram 0.021158 color 7.542594 / loss D: 6.529475:  86%|████████▌ | 951/1110 [55:29<09:15,  3.50s/it]\u001b[A\n",
            "loss G: adv 5.671674 con 3.625234 gram 0.021158 color 7.542594 / loss D: 6.529475:  86%|████████▌ | 952/1110 [55:29<09:12,  3.50s/it]\u001b[A\n",
            "loss G: adv 5.671944 con 3.625386 gram 0.021158 color 7.538901 / loss D: 6.527062:  86%|████████▌ | 952/1110 [55:33<09:12,  3.50s/it]\u001b[A\n",
            "loss G: adv 5.671944 con 3.625386 gram 0.021158 color 7.538901 / loss D: 6.527062:  86%|████████▌ | 953/1110 [55:33<09:08,  3.50s/it]\u001b[A\n",
            "loss G: adv 5.672564 con 3.625822 gram 0.021163 color 7.540966 / loss D: 6.524718:  86%|████████▌ | 953/1110 [55:36<09:08,  3.50s/it]\u001b[A\n",
            "loss G: adv 5.672564 con 3.625822 gram 0.021163 color 7.540966 / loss D: 6.524718:  86%|████████▌ | 954/1110 [55:36<09:05,  3.50s/it]\u001b[A\n",
            "loss G: adv 5.672276 con 3.626146 gram 0.021163 color 7.541189 / loss D: 6.522849:  86%|████████▌ | 954/1110 [55:40<09:05,  3.50s/it]\u001b[A\n",
            "loss G: adv 5.672276 con 3.626146 gram 0.021163 color 7.541189 / loss D: 6.522849:  86%|████████▌ | 955/1110 [55:40<09:02,  3.50s/it]\u001b[A\n",
            "loss G: adv 5.671237 con 3.626207 gram 0.021160 color 7.540398 / loss D: 6.520393:  86%|████████▌ | 955/1110 [55:43<09:02,  3.50s/it]\u001b[A\n",
            "loss G: adv 5.671237 con 3.626207 gram 0.021160 color 7.540398 / loss D: 6.520393:  86%|████████▌ | 956/1110 [55:43<08:59,  3.50s/it]\u001b[A\n",
            "loss G: adv 5.670666 con 3.626144 gram 0.021163 color 7.538633 / loss D: 6.517786:  86%|████████▌ | 956/1110 [55:47<08:59,  3.50s/it]\u001b[A\n",
            "loss G: adv 5.670666 con 3.626144 gram 0.021163 color 7.538633 / loss D: 6.517786:  86%|████████▌ | 957/1110 [55:47<08:55,  3.50s/it]\u001b[A\n",
            "loss G: adv 5.671363 con 3.626610 gram 0.021162 color 7.539184 / loss D: 6.514518:  86%|████████▌ | 957/1110 [55:50<08:55,  3.50s/it]\u001b[A\n",
            "loss G: adv 5.671363 con 3.626610 gram 0.021162 color 7.539184 / loss D: 6.514518:  86%|████████▋ | 958/1110 [55:50<08:52,  3.50s/it]\u001b[A\n",
            "loss G: adv 5.673906 con 3.626497 gram 0.021163 color 7.539912 / loss D: 6.511304:  86%|████████▋ | 958/1110 [55:54<08:52,  3.50s/it]\u001b[A\n",
            "loss G: adv 5.673906 con 3.626497 gram 0.021163 color 7.539912 / loss D: 6.511304:  86%|████████▋ | 959/1110 [55:54<08:48,  3.50s/it]\u001b[A\n",
            "loss G: adv 5.676567 con 3.626267 gram 0.021156 color 7.539284 / loss D: 6.507245:  86%|████████▋ | 959/1110 [55:57<08:48,  3.50s/it]\u001b[A\n",
            "loss G: adv 5.676567 con 3.626267 gram 0.021156 color 7.539284 / loss D: 6.507245:  86%|████████▋ | 960/1110 [55:57<08:44,  3.50s/it]\u001b[A\n",
            "loss G: adv 5.678279 con 3.626748 gram 0.021151 color 7.537632 / loss D: 6.504168:  86%|████████▋ | 960/1110 [56:01<08:44,  3.50s/it]\u001b[A\n",
            "loss G: adv 5.678279 con 3.626748 gram 0.021151 color 7.537632 / loss D: 6.504168:  87%|████████▋ | 961/1110 [56:01<08:41,  3.50s/it]\u001b[A\n",
            "loss G: adv 5.677867 con 3.627278 gram 0.021151 color 7.535624 / loss D: 6.502544:  87%|████████▋ | 961/1110 [56:04<08:41,  3.50s/it]\u001b[A\n",
            "loss G: adv 5.677867 con 3.627278 gram 0.021151 color 7.535624 / loss D: 6.502544:  87%|████████▋ | 962/1110 [56:04<08:37,  3.50s/it]\u001b[A\n",
            "loss G: adv 5.677155 con 3.627439 gram 0.021163 color 7.534167 / loss D: 6.499689:  87%|████████▋ | 962/1110 [56:08<08:37,  3.50s/it]\u001b[A\n",
            "loss G: adv 5.677155 con 3.627439 gram 0.021163 color 7.534167 / loss D: 6.499689:  87%|████████▋ | 963/1110 [56:08<08:34,  3.50s/it]\u001b[A\n",
            "loss G: adv 5.677180 con 3.627610 gram 0.021158 color 7.532445 / loss D: 6.496792:  87%|████████▋ | 963/1110 [56:11<08:34,  3.50s/it]\u001b[A\n",
            "loss G: adv 5.677180 con 3.627610 gram 0.021158 color 7.532445 / loss D: 6.496792:  87%|████████▋ | 964/1110 [56:11<08:30,  3.50s/it]\u001b[A\n",
            "loss G: adv 5.677541 con 3.628493 gram 0.021159 color 7.531321 / loss D: 6.493359:  87%|████████▋ | 964/1110 [56:15<08:30,  3.50s/it]\u001b[A\n",
            "loss G: adv 5.677541 con 3.628493 gram 0.021159 color 7.531321 / loss D: 6.493359:  87%|████████▋ | 965/1110 [56:15<08:27,  3.50s/it]\u001b[A\n",
            "loss G: adv 5.678140 con 3.629752 gram 0.021157 color 7.532048 / loss D: 6.489742:  87%|████████▋ | 965/1110 [56:18<08:27,  3.50s/it]\u001b[A\n",
            "loss G: adv 5.678140 con 3.629752 gram 0.021157 color 7.532048 / loss D: 6.489742:  87%|████████▋ | 966/1110 [56:18<08:23,  3.50s/it]\u001b[A\n",
            "loss G: adv 5.679484 con 3.630364 gram 0.021154 color 7.532271 / loss D: 6.488365:  87%|████████▋ | 966/1110 [56:22<08:23,  3.50s/it]\u001b[A\n",
            "loss G: adv 5.679484 con 3.630364 gram 0.021154 color 7.532271 / loss D: 6.488365:  87%|████████▋ | 967/1110 [56:22<08:20,  3.50s/it]\u001b[A\n",
            "loss G: adv 5.679254 con 3.630964 gram 0.021155 color 7.532204 / loss D: 6.486096:  87%|████████▋ | 967/1110 [56:25<08:20,  3.50s/it]\u001b[A\n",
            "loss G: adv 5.679254 con 3.630964 gram 0.021155 color 7.532204 / loss D: 6.486096:  87%|████████▋ | 968/1110 [56:25<08:17,  3.50s/it]\u001b[A\n",
            "loss G: adv 5.677370 con 3.631257 gram 0.021150 color 7.530423 / loss D: 6.483526:  87%|████████▋ | 968/1110 [56:29<08:17,  3.50s/it]\u001b[A\n",
            "loss G: adv 5.677370 con 3.631257 gram 0.021150 color 7.530423 / loss D: 6.483526:  87%|████████▋ | 969/1110 [56:29<08:13,  3.50s/it]\u001b[A\n",
            "loss G: adv 5.676803 con 3.631395 gram 0.021153 color 7.527941 / loss D: 6.480805:  87%|████████▋ | 969/1110 [56:32<08:13,  3.50s/it]\u001b[A\n",
            "loss G: adv 5.676803 con 3.631395 gram 0.021153 color 7.527941 / loss D: 6.480805:  87%|████████▋ | 970/1110 [56:32<08:09,  3.50s/it]\u001b[A\n",
            "loss G: adv 5.677863 con 3.631504 gram 0.021151 color 7.524754 / loss D: 6.478159:  87%|████████▋ | 970/1110 [56:36<08:09,  3.50s/it]\u001b[A\n",
            "loss G: adv 5.677863 con 3.631504 gram 0.021151 color 7.524754 / loss D: 6.478159:  87%|████████▋ | 971/1110 [56:36<08:06,  3.50s/it]\u001b[A\n",
            "loss G: adv 5.678892 con 3.631429 gram 0.021149 color 7.521347 / loss D: 6.474794:  87%|████████▋ | 971/1110 [56:39<08:06,  3.50s/it]\u001b[A\n",
            "loss G: adv 5.678892 con 3.631429 gram 0.021149 color 7.521347 / loss D: 6.474794:  88%|████████▊ | 972/1110 [56:39<08:03,  3.50s/it]\u001b[A\n",
            "loss G: adv 5.678448 con 3.631597 gram 0.021151 color 7.524457 / loss D: 6.474003:  88%|████████▊ | 972/1110 [56:43<08:03,  3.50s/it]\u001b[A\n",
            "loss G: adv 5.678448 con 3.631597 gram 0.021151 color 7.524457 / loss D: 6.474003:  88%|████████▊ | 973/1110 [56:43<07:59,  3.50s/it]\u001b[A\n",
            "loss G: adv 5.678102 con 3.632163 gram 0.021149 color 7.522782 / loss D: 6.473007:  88%|████████▊ | 973/1110 [56:46<07:59,  3.50s/it]\u001b[A\n",
            "loss G: adv 5.678102 con 3.632163 gram 0.021149 color 7.522782 / loss D: 6.473007:  88%|████████▊ | 974/1110 [56:46<07:56,  3.50s/it]\u001b[A\n",
            "loss G: adv 5.678980 con 3.632569 gram 0.021154 color 7.521348 / loss D: 6.470375:  88%|████████▊ | 974/1110 [56:50<07:56,  3.50s/it]\u001b[A\n",
            "loss G: adv 5.678980 con 3.632569 gram 0.021154 color 7.521348 / loss D: 6.470375:  88%|████████▊ | 975/1110 [56:50<07:52,  3.50s/it]\u001b[A\n",
            "loss G: adv 5.679686 con 3.633046 gram 0.021151 color 7.520103 / loss D: 6.468309:  88%|████████▊ | 975/1110 [56:53<07:52,  3.50s/it]\u001b[A\n",
            "loss G: adv 5.679686 con 3.633046 gram 0.021151 color 7.520103 / loss D: 6.468309:  88%|████████▊ | 976/1110 [56:53<07:49,  3.50s/it]\u001b[A\n",
            "loss G: adv 5.681419 con 3.633398 gram 0.021144 color 7.518645 / loss D: 6.465520:  88%|████████▊ | 976/1110 [56:57<07:49,  3.50s/it]\u001b[A\n",
            "loss G: adv 5.681419 con 3.633398 gram 0.021144 color 7.518645 / loss D: 6.465520:  88%|████████▊ | 977/1110 [56:57<07:45,  3.50s/it]\u001b[A\n",
            "loss G: adv 5.682991 con 3.633538 gram 0.021147 color 7.518405 / loss D: 6.463134:  88%|████████▊ | 977/1110 [57:00<07:45,  3.50s/it]\u001b[A\n",
            "loss G: adv 5.682991 con 3.633538 gram 0.021147 color 7.518405 / loss D: 6.463134:  88%|████████▊ | 978/1110 [57:00<07:42,  3.50s/it]\u001b[A\n",
            "loss G: adv 5.683665 con 3.633995 gram 0.021145 color 7.516879 / loss D: 6.461842:  88%|████████▊ | 978/1110 [57:04<07:42,  3.50s/it]\u001b[A\n",
            "loss G: adv 5.683665 con 3.633995 gram 0.021145 color 7.516879 / loss D: 6.461842:  88%|████████▊ | 979/1110 [57:04<07:38,  3.50s/it]\u001b[A\n",
            "loss G: adv 5.682663 con 3.634908 gram 0.021147 color 7.515953 / loss D: 6.460950:  88%|████████▊ | 979/1110 [57:07<07:38,  3.50s/it]\u001b[A\n",
            "loss G: adv 5.682663 con 3.634908 gram 0.021147 color 7.515953 / loss D: 6.460950:  88%|████████▊ | 980/1110 [57:07<07:35,  3.50s/it]\u001b[A\n",
            "loss G: adv 5.683731 con 3.635155 gram 0.021154 color 7.514043 / loss D: 6.457784:  88%|████████▊ | 980/1110 [57:11<07:35,  3.50s/it]\u001b[A\n",
            "loss G: adv 5.683731 con 3.635155 gram 0.021154 color 7.514043 / loss D: 6.457784:  88%|████████▊ | 981/1110 [57:11<07:31,  3.50s/it]\u001b[A\n",
            "loss G: adv 5.684468 con 3.635335 gram 0.021155 color 7.512524 / loss D: 6.455581:  88%|████████▊ | 981/1110 [57:14<07:31,  3.50s/it]\u001b[A\n",
            "loss G: adv 5.684468 con 3.635335 gram 0.021155 color 7.512524 / loss D: 6.455581:  88%|████████▊ | 982/1110 [57:14<07:27,  3.50s/it]\u001b[A\n",
            "loss G: adv 5.685412 con 3.635662 gram 0.021154 color 7.512086 / loss D: 6.452202:  88%|████████▊ | 982/1110 [57:18<07:27,  3.50s/it]\u001b[A\n",
            "loss G: adv 5.685412 con 3.635662 gram 0.021154 color 7.512086 / loss D: 6.452202:  89%|████████▊ | 983/1110 [57:18<07:24,  3.50s/it]\u001b[A\n",
            "loss G: adv 5.684676 con 3.635731 gram 0.021157 color 7.512309 / loss D: 6.449577:  89%|████████▊ | 983/1110 [57:21<07:24,  3.50s/it]\u001b[A\n",
            "loss G: adv 5.684676 con 3.635731 gram 0.021157 color 7.512309 / loss D: 6.449577:  89%|████████▊ | 984/1110 [57:21<07:20,  3.50s/it]\u001b[A\n",
            "loss G: adv 5.684907 con 3.636435 gram 0.021152 color 7.513760 / loss D: 6.446371:  89%|████████▊ | 984/1110 [57:25<07:20,  3.50s/it]\u001b[A\n",
            "loss G: adv 5.684907 con 3.636435 gram 0.021152 color 7.513760 / loss D: 6.446371:  89%|████████▊ | 985/1110 [57:25<07:17,  3.50s/it]\u001b[A\n",
            "loss G: adv 5.684982 con 3.636567 gram 0.021155 color 7.513913 / loss D: 6.442825:  89%|████████▊ | 985/1110 [57:28<07:17,  3.50s/it]\u001b[A\n",
            "loss G: adv 5.684982 con 3.636567 gram 0.021155 color 7.513913 / loss D: 6.442825:  89%|████████▉ | 986/1110 [57:28<07:13,  3.50s/it]\u001b[A\n",
            "loss G: adv 5.684768 con 3.636458 gram 0.021155 color 7.512377 / loss D: 6.440892:  89%|████████▉ | 986/1110 [57:32<07:13,  3.50s/it]\u001b[A\n",
            "loss G: adv 5.684768 con 3.636458 gram 0.021155 color 7.512377 / loss D: 6.440892:  89%|████████▉ | 987/1110 [57:32<07:10,  3.50s/it]\u001b[A\n",
            "loss G: adv 5.684334 con 3.636739 gram 0.021150 color 7.509628 / loss D: 6.438326:  89%|████████▉ | 987/1110 [57:35<07:10,  3.50s/it]\u001b[A\n",
            "loss G: adv 5.684334 con 3.636739 gram 0.021150 color 7.509628 / loss D: 6.438326:  89%|████████▉ | 988/1110 [57:35<07:06,  3.50s/it]\u001b[A\n",
            "loss G: adv 5.683160 con 3.637346 gram 0.021147 color 7.508268 / loss D: 6.437187:  89%|████████▉ | 988/1110 [57:39<07:06,  3.50s/it]\u001b[A\n",
            "loss G: adv 5.683160 con 3.637346 gram 0.021147 color 7.508268 / loss D: 6.437187:  89%|████████▉ | 989/1110 [57:39<07:03,  3.50s/it]\u001b[A\n",
            "loss G: adv 5.682169 con 3.637218 gram 0.021154 color 7.505502 / loss D: 6.435069:  89%|████████▉ | 989/1110 [57:42<07:03,  3.50s/it]\u001b[A\n",
            "loss G: adv 5.682169 con 3.637218 gram 0.021154 color 7.505502 / loss D: 6.435069:  89%|████████▉ | 990/1110 [57:42<06:59,  3.50s/it]\u001b[A\n",
            "loss G: adv 5.680466 con 3.637884 gram 0.021151 color 7.506162 / loss D: 6.432162:  89%|████████▉ | 990/1110 [57:46<06:59,  3.50s/it]\u001b[A\n",
            "loss G: adv 5.680466 con 3.637884 gram 0.021151 color 7.506162 / loss D: 6.432162:  89%|████████▉ | 991/1110 [57:46<06:56,  3.50s/it]\u001b[A\n",
            "loss G: adv 5.679993 con 3.638453 gram 0.021149 color 7.505489 / loss D: 6.430508:  89%|████████▉ | 991/1110 [57:49<06:56,  3.50s/it]\u001b[A\n",
            "loss G: adv 5.679993 con 3.638453 gram 0.021149 color 7.505489 / loss D: 6.430508:  89%|████████▉ | 992/1110 [57:49<06:53,  3.50s/it]\u001b[A\n",
            "loss G: adv 5.681185 con 3.638462 gram 0.021147 color 7.503396 / loss D: 6.427422:  89%|████████▉ | 992/1110 [57:53<06:53,  3.50s/it]\u001b[A\n",
            "loss G: adv 5.681185 con 3.638462 gram 0.021147 color 7.503396 / loss D: 6.427422:  89%|████████▉ | 993/1110 [57:53<06:49,  3.50s/it]\u001b[A\n",
            "loss G: adv 5.681334 con 3.638656 gram 0.021144 color 7.504668 / loss D: 6.425037:  89%|████████▉ | 993/1110 [57:56<06:49,  3.50s/it]\u001b[A\n",
            "loss G: adv 5.681334 con 3.638656 gram 0.021144 color 7.504668 / loss D: 6.425037:  90%|████████▉ | 994/1110 [57:56<06:46,  3.50s/it]\u001b[A\n",
            "loss G: adv 5.680561 con 3.639183 gram 0.021144 color 7.505972 / loss D: 6.423308:  90%|████████▉ | 994/1110 [58:00<06:46,  3.50s/it]\u001b[A\n",
            "loss G: adv 5.680561 con 3.639183 gram 0.021144 color 7.505972 / loss D: 6.423308:  90%|████████▉ | 995/1110 [58:00<06:42,  3.50s/it]\u001b[A\n",
            "loss G: adv 5.679073 con 3.639804 gram 0.021146 color 7.506917 / loss D: 6.422578:  90%|████████▉ | 995/1110 [58:03<06:42,  3.50s/it]\u001b[A\n",
            "loss G: adv 5.679073 con 3.639804 gram 0.021146 color 7.506917 / loss D: 6.422578:  90%|████████▉ | 996/1110 [58:03<06:39,  3.50s/it]\u001b[A\n",
            "loss G: adv 5.678194 con 3.639911 gram 0.021144 color 7.504939 / loss D: 6.419936:  90%|████████▉ | 996/1110 [58:07<06:39,  3.50s/it]\u001b[A\n",
            "loss G: adv 5.678194 con 3.639911 gram 0.021144 color 7.504939 / loss D: 6.419936:  90%|████████▉ | 997/1110 [58:07<06:35,  3.50s/it]\u001b[A\n",
            "loss G: adv 5.678570 con 3.640205 gram 0.021139 color 7.504094 / loss D: 6.416816:  90%|████████▉ | 997/1110 [58:10<06:35,  3.50s/it]\u001b[A\n",
            "loss G: adv 5.678570 con 3.640205 gram 0.021139 color 7.504094 / loss D: 6.416816:  90%|████████▉ | 998/1110 [58:10<06:32,  3.50s/it]\u001b[A\n",
            "loss G: adv 5.678449 con 3.640563 gram 0.021137 color 7.506167 / loss D: 6.414388:  90%|████████▉ | 998/1110 [58:14<06:32,  3.50s/it]\u001b[A\n",
            "loss G: adv 5.678449 con 3.640563 gram 0.021137 color 7.506167 / loss D: 6.414388:  90%|█████████ | 999/1110 [58:14<06:28,  3.50s/it]\u001b[A\n",
            "loss G: adv 5.676851 con 3.640985 gram 0.021137 color 7.506504 / loss D: 6.412942:  90%|█████████ | 999/1110 [58:17<06:28,  3.50s/it]\u001b[A\n",
            "loss G: adv 5.676851 con 3.640985 gram 0.021137 color 7.506504 / loss D: 6.412942:  90%|█████████ | 1000/1110 [58:17<06:24,  3.50s/it]\u001b[A\n",
            "loss G: adv 5.676579 con 3.641854 gram 0.021133 color 7.507343 / loss D: 6.409582:  90%|█████████ | 1000/1110 [58:21<06:24,  3.50s/it]\u001b[A\n",
            "loss G: adv 5.676579 con 3.641854 gram 0.021133 color 7.507343 / loss D: 6.409582:  90%|█████████ | 1001/1110 [58:21<06:21,  3.50s/it]\u001b[A\n",
            "loss G: adv 5.677127 con 3.642171 gram 0.021134 color 7.505368 / loss D: 6.406988:  90%|█████████ | 1001/1110 [58:24<06:21,  3.50s/it]\u001b[A\n",
            "loss G: adv 5.677127 con 3.642171 gram 0.021134 color 7.505368 / loss D: 6.406988:  90%|█████████ | 1002/1110 [58:24<06:18,  3.50s/it]\u001b[A\n",
            "loss G: adv 5.678515 con 3.642207 gram 0.021127 color 7.503413 / loss D: 6.403121:  90%|█████████ | 1002/1110 [58:28<06:18,  3.50s/it]\u001b[A\n",
            "loss G: adv 5.678515 con 3.642207 gram 0.021127 color 7.503413 / loss D: 6.403121:  90%|█████████ | 1003/1110 [58:28<06:14,  3.50s/it]\u001b[A\n",
            "loss G: adv 5.679007 con 3.642635 gram 0.021127 color 7.501087 / loss D: 6.400464:  90%|█████████ | 1003/1110 [58:31<06:14,  3.50s/it]\u001b[A\n",
            "loss G: adv 5.679007 con 3.642635 gram 0.021127 color 7.501087 / loss D: 6.400464:  90%|█████████ | 1004/1110 [58:31<06:11,  3.50s/it]\u001b[A\n",
            "loss G: adv 5.679655 con 3.643310 gram 0.021128 color 7.500759 / loss D: 6.398171:  90%|█████████ | 1004/1110 [58:35<06:11,  3.50s/it]\u001b[A\n",
            "loss G: adv 5.679655 con 3.643310 gram 0.021128 color 7.500759 / loss D: 6.398171:  91%|█████████ | 1005/1110 [58:35<06:07,  3.50s/it]\u001b[A\n",
            "loss G: adv 5.679325 con 3.643958 gram 0.021135 color 7.500255 / loss D: 6.395776:  91%|█████████ | 1005/1110 [58:38<06:07,  3.50s/it]\u001b[A\n",
            "loss G: adv 5.679325 con 3.643958 gram 0.021135 color 7.500255 / loss D: 6.395776:  91%|█████████ | 1006/1110 [58:38<06:04,  3.50s/it]\u001b[A\n",
            "loss G: adv 5.679208 con 3.644038 gram 0.021138 color 7.498312 / loss D: 6.392470:  91%|█████████ | 1006/1110 [58:42<06:04,  3.50s/it]\u001b[A\n",
            "loss G: adv 5.679208 con 3.644038 gram 0.021138 color 7.498312 / loss D: 6.392470:  91%|█████████ | 1007/1110 [58:42<06:00,  3.50s/it]\u001b[A\n",
            "loss G: adv 5.678416 con 3.644598 gram 0.021142 color 7.498103 / loss D: 6.390411:  91%|█████████ | 1007/1110 [58:45<06:00,  3.50s/it]\u001b[A\n",
            "loss G: adv 5.678416 con 3.644598 gram 0.021142 color 7.498103 / loss D: 6.390411:  91%|█████████ | 1008/1110 [58:45<05:57,  3.50s/it]\u001b[A\n",
            "loss G: adv 5.678379 con 3.644684 gram 0.021145 color 7.504996 / loss D: 6.387766:  91%|█████████ | 1008/1110 [58:49<05:57,  3.50s/it]\u001b[A\n",
            "loss G: adv 5.678379 con 3.644684 gram 0.021145 color 7.504996 / loss D: 6.387766:  91%|█████████ | 1009/1110 [58:49<05:53,  3.50s/it]\u001b[A\n",
            "loss G: adv 5.678239 con 3.645164 gram 0.021152 color 7.505572 / loss D: 6.385471:  91%|█████████ | 1009/1110 [58:52<05:53,  3.50s/it]\u001b[A\n",
            "loss G: adv 5.678239 con 3.645164 gram 0.021152 color 7.505572 / loss D: 6.385471:  91%|█████████ | 1010/1110 [58:52<05:50,  3.50s/it]\u001b[A\n",
            "loss G: adv 5.677149 con 3.646136 gram 0.021154 color 7.505609 / loss D: 6.383398:  91%|█████████ | 1010/1110 [58:56<05:50,  3.50s/it]\u001b[A\n",
            "loss G: adv 5.677149 con 3.646136 gram 0.021154 color 7.505609 / loss D: 6.383398:  91%|█████████ | 1011/1110 [58:56<05:46,  3.50s/it]\u001b[A\n",
            "loss G: adv 5.675959 con 3.646411 gram 0.021158 color 7.503424 / loss D: 6.380530:  91%|█████████ | 1011/1110 [58:59<05:46,  3.50s/it]\u001b[A\n",
            "loss G: adv 5.675959 con 3.646411 gram 0.021158 color 7.503424 / loss D: 6.380530:  91%|█████████ | 1012/1110 [58:59<05:42,  3.50s/it]\u001b[A\n",
            "loss G: adv 5.676775 con 3.646904 gram 0.021162 color 7.505062 / loss D: 6.376750:  91%|█████████ | 1012/1110 [59:03<05:42,  3.50s/it]\u001b[A\n",
            "loss G: adv 5.676775 con 3.646904 gram 0.021162 color 7.505062 / loss D: 6.376750:  91%|█████████▏| 1013/1110 [59:03<05:39,  3.50s/it]\u001b[A\n",
            "loss G: adv 5.678276 con 3.647343 gram 0.021158 color 7.505275 / loss D: 6.373430:  91%|█████████▏| 1013/1110 [59:06<05:39,  3.50s/it]\u001b[A\n",
            "loss G: adv 5.678276 con 3.647343 gram 0.021158 color 7.505275 / loss D: 6.373430:  91%|█████████▏| 1014/1110 [59:06<05:35,  3.49s/it]\u001b[A\n",
            "loss G: adv 5.678731 con 3.647729 gram 0.021158 color 7.503040 / loss D: 6.371330:  91%|█████████▏| 1014/1110 [59:10<05:35,  3.49s/it]\u001b[A\n",
            "loss G: adv 5.678731 con 3.647729 gram 0.021158 color 7.503040 / loss D: 6.371330:  91%|█████████▏| 1015/1110 [59:10<05:31,  3.49s/it]\u001b[A\n",
            "loss G: adv 5.676481 con 3.647607 gram 0.021167 color 7.501822 / loss D: 6.369366:  91%|█████████▏| 1015/1110 [59:13<05:31,  3.49s/it]\u001b[A\n",
            "loss G: adv 5.676481 con 3.647607 gram 0.021167 color 7.501822 / loss D: 6.369366:  92%|█████████▏| 1016/1110 [59:13<05:28,  3.49s/it]\u001b[A\n",
            "loss G: adv 5.675717 con 3.647402 gram 0.021169 color 7.500527 / loss D: 6.367889:  92%|█████████▏| 1016/1110 [59:17<05:28,  3.49s/it]\u001b[A\n",
            "loss G: adv 5.675717 con 3.647402 gram 0.021169 color 7.500527 / loss D: 6.367889:  92%|█████████▏| 1017/1110 [59:17<05:24,  3.49s/it]\u001b[A\n",
            "loss G: adv 5.676362 con 3.647448 gram 0.021174 color 7.499970 / loss D: 6.365966:  92%|█████████▏| 1017/1110 [59:20<05:24,  3.49s/it]\u001b[A\n",
            "loss G: adv 5.676362 con 3.647448 gram 0.021174 color 7.499970 / loss D: 6.365966:  92%|█████████▏| 1018/1110 [59:20<05:20,  3.49s/it]\u001b[A\n",
            "loss G: adv 5.676841 con 3.647952 gram 0.021168 color 7.499609 / loss D: 6.363648:  92%|█████████▏| 1018/1110 [59:24<05:20,  3.49s/it]\u001b[A\n",
            "loss G: adv 5.676841 con 3.647952 gram 0.021168 color 7.499609 / loss D: 6.363648:  92%|█████████▏| 1019/1110 [59:24<05:17,  3.49s/it]\u001b[A\n",
            "loss G: adv 5.677218 con 3.647925 gram 0.021168 color 7.498303 / loss D: 6.359565:  92%|█████████▏| 1019/1110 [59:27<05:17,  3.49s/it]\u001b[A\n",
            "loss G: adv 5.677218 con 3.647925 gram 0.021168 color 7.498303 / loss D: 6.359565:  92%|█████████▏| 1020/1110 [59:27<05:13,  3.48s/it]\u001b[A\n",
            "loss G: adv 5.677310 con 3.648042 gram 0.021163 color 7.496644 / loss D: 6.355807:  92%|█████████▏| 1020/1110 [59:31<05:13,  3.48s/it]\u001b[A\n",
            "loss G: adv 5.677310 con 3.648042 gram 0.021163 color 7.496644 / loss D: 6.355807:  92%|█████████▏| 1021/1110 [59:31<05:10,  3.49s/it]\u001b[A\n",
            "loss G: adv 5.676809 con 3.648597 gram 0.021161 color 7.495859 / loss D: 6.352397:  92%|█████████▏| 1021/1110 [59:34<05:10,  3.49s/it]\u001b[A\n",
            "loss G: adv 5.676809 con 3.648597 gram 0.021161 color 7.495859 / loss D: 6.352397:  92%|█████████▏| 1022/1110 [59:34<05:06,  3.49s/it]\u001b[A\n",
            "loss G: adv 5.677518 con 3.648478 gram 0.021164 color 7.494019 / loss D: 6.348336:  92%|█████████▏| 1022/1110 [59:38<05:06,  3.49s/it]\u001b[A\n",
            "loss G: adv 5.677518 con 3.648478 gram 0.021164 color 7.494019 / loss D: 6.348336:  92%|█████████▏| 1023/1110 [59:38<05:03,  3.49s/it]\u001b[A\n",
            "loss G: adv 5.678239 con 3.648831 gram 0.021164 color 7.492611 / loss D: 6.344455:  92%|█████████▏| 1023/1110 [59:41<05:03,  3.49s/it]\u001b[A\n",
            "loss G: adv 5.678239 con 3.648831 gram 0.021164 color 7.492611 / loss D: 6.344455:  92%|█████████▏| 1024/1110 [59:41<05:00,  3.50s/it]\u001b[A\n",
            "loss G: adv 5.679367 con 3.648838 gram 0.021164 color 7.489755 / loss D: 6.342388:  92%|█████████▏| 1024/1110 [59:45<05:00,  3.50s/it]\u001b[A\n",
            "loss G: adv 5.679367 con 3.648838 gram 0.021164 color 7.489755 / loss D: 6.342388:  92%|█████████▏| 1025/1110 [59:45<04:57,  3.50s/it]\u001b[A\n",
            "loss G: adv 5.678964 con 3.649310 gram 0.021167 color 7.489582 / loss D: 6.341705:  92%|█████████▏| 1025/1110 [59:48<04:57,  3.50s/it]\u001b[A\n",
            "loss G: adv 5.678964 con 3.649310 gram 0.021167 color 7.489582 / loss D: 6.341705:  92%|█████████▏| 1026/1110 [59:48<04:53,  3.50s/it]\u001b[A\n",
            "loss G: adv 5.677267 con 3.650330 gram 0.021164 color 7.488390 / loss D: 6.339567:  92%|█████████▏| 1026/1110 [59:52<04:53,  3.50s/it]\u001b[A\n",
            "loss G: adv 5.677267 con 3.650330 gram 0.021164 color 7.488390 / loss D: 6.339567:  93%|█████████▎| 1027/1110 [59:52<04:50,  3.50s/it]\u001b[A\n",
            "loss G: adv 5.678048 con 3.650487 gram 0.021162 color 7.485677 / loss D: 6.336265:  93%|█████████▎| 1027/1110 [59:55<04:50,  3.50s/it]\u001b[A\n",
            "loss G: adv 5.678048 con 3.650487 gram 0.021162 color 7.485677 / loss D: 6.336265:  93%|█████████▎| 1028/1110 [59:55<04:46,  3.50s/it]\u001b[A\n",
            "loss G: adv 5.677876 con 3.650858 gram 0.021173 color 7.484168 / loss D: 6.334384:  93%|█████████▎| 1028/1110 [59:59<04:46,  3.50s/it]\u001b[A\n",
            "loss G: adv 5.677876 con 3.650858 gram 0.021173 color 7.484168 / loss D: 6.334384:  93%|█████████▎| 1029/1110 [59:59<04:43,  3.50s/it]\u001b[A\n",
            "loss G: adv 5.677991 con 3.650858 gram 0.021176 color 7.482997 / loss D: 6.330382:  93%|█████████▎| 1029/1110 [1:00:02<04:43,  3.50s/it]\u001b[A\n",
            "loss G: adv 5.677991 con 3.650858 gram 0.021176 color 7.482997 / loss D: 6.330382:  93%|█████████▎| 1030/1110 [1:00:02<04:39,  3.50s/it]\u001b[A\n",
            "loss G: adv 5.679447 con 3.650984 gram 0.021183 color 7.481188 / loss D: 6.327407:  93%|█████████▎| 1030/1110 [1:00:06<04:39,  3.50s/it]\u001b[A\n",
            "loss G: adv 5.679447 con 3.650984 gram 0.021183 color 7.481188 / loss D: 6.327407:  93%|█████████▎| 1031/1110 [1:00:06<04:35,  3.49s/it]\u001b[A\n",
            "loss G: adv 5.679910 con 3.651400 gram 0.021181 color 7.480058 / loss D: 6.324489:  93%|█████████▎| 1031/1110 [1:00:09<04:35,  3.49s/it]\u001b[A\n",
            "loss G: adv 5.679910 con 3.651400 gram 0.021181 color 7.480058 / loss D: 6.324489:  93%|█████████▎| 1032/1110 [1:00:09<04:32,  3.50s/it]\u001b[A\n",
            "loss G: adv 5.680581 con 3.651030 gram 0.021186 color 7.480086 / loss D: 6.320414:  93%|█████████▎| 1032/1110 [1:00:13<04:32,  3.50s/it]\u001b[A\n",
            "loss G: adv 5.680581 con 3.651030 gram 0.021186 color 7.480086 / loss D: 6.320414:  93%|█████████▎| 1033/1110 [1:00:13<04:29,  3.50s/it]\u001b[A\n",
            "loss G: adv 5.679583 con 3.651682 gram 0.021196 color 7.478480 / loss D: 6.317760:  93%|█████████▎| 1033/1110 [1:00:16<04:29,  3.50s/it]\u001b[A\n",
            "loss G: adv 5.679583 con 3.651682 gram 0.021196 color 7.478480 / loss D: 6.317760:  93%|█████████▎| 1034/1110 [1:00:16<04:25,  3.50s/it]\u001b[A\n",
            "loss G: adv 5.679227 con 3.651801 gram 0.021193 color 7.478265 / loss D: 6.315006:  93%|█████████▎| 1034/1110 [1:00:20<04:25,  3.50s/it]\u001b[A\n",
            "loss G: adv 5.679227 con 3.651801 gram 0.021193 color 7.478265 / loss D: 6.315006:  93%|█████████▎| 1035/1110 [1:00:20<04:22,  3.50s/it]\u001b[A\n",
            "loss G: adv 5.679766 con 3.652092 gram 0.021191 color 7.477628 / loss D: 6.312267:  93%|█████████▎| 1035/1110 [1:00:23<04:22,  3.50s/it]\u001b[A\n",
            "loss G: adv 5.679766 con 3.652092 gram 0.021191 color 7.477628 / loss D: 6.312267:  93%|█████████▎| 1036/1110 [1:00:23<04:18,  3.50s/it]\u001b[A\n",
            "loss G: adv 5.680611 con 3.652293 gram 0.021197 color 7.475952 / loss D: 6.310023:  93%|█████████▎| 1036/1110 [1:00:27<04:18,  3.50s/it]\u001b[A\n",
            "loss G: adv 5.680611 con 3.652293 gram 0.021197 color 7.475952 / loss D: 6.310023:  93%|█████████▎| 1037/1110 [1:00:27<04:15,  3.50s/it]\u001b[A\n",
            "loss G: adv 5.680953 con 3.652523 gram 0.021193 color 7.476562 / loss D: 6.307148:  93%|█████████▎| 1037/1110 [1:00:30<04:15,  3.50s/it]\u001b[A\n",
            "loss G: adv 5.680953 con 3.652523 gram 0.021193 color 7.476562 / loss D: 6.307148:  94%|█████████▎| 1038/1110 [1:00:30<04:11,  3.50s/it]\u001b[A\n",
            "loss G: adv 5.680624 con 3.652618 gram 0.021198 color 7.477180 / loss D: 6.305026:  94%|█████████▎| 1038/1110 [1:00:34<04:11,  3.50s/it]\u001b[A\n",
            "loss G: adv 5.680624 con 3.652618 gram 0.021198 color 7.477180 / loss D: 6.305026:  94%|█████████▎| 1039/1110 [1:00:34<04:08,  3.50s/it]\u001b[A\n",
            "loss G: adv 5.682073 con 3.652647 gram 0.021205 color 7.475385 / loss D: 6.303596:  94%|█████████▎| 1039/1110 [1:00:37<04:08,  3.50s/it]\u001b[A\n",
            "loss G: adv 5.682073 con 3.652647 gram 0.021205 color 7.475385 / loss D: 6.303596:  94%|█████████▎| 1040/1110 [1:00:37<04:04,  3.50s/it]\u001b[A\n",
            "loss G: adv 5.682283 con 3.652688 gram 0.021200 color 7.476981 / loss D: 6.300314:  94%|█████████▎| 1040/1110 [1:00:41<04:04,  3.50s/it]\u001b[A\n",
            "loss G: adv 5.682283 con 3.652688 gram 0.021200 color 7.476981 / loss D: 6.300314:  94%|█████████▍| 1041/1110 [1:00:41<04:01,  3.50s/it]\u001b[A\n",
            "loss G: adv 5.682081 con 3.653342 gram 0.021201 color 7.475733 / loss D: 6.297822:  94%|█████████▍| 1041/1110 [1:00:44<04:01,  3.50s/it]\u001b[A\n",
            "loss G: adv 5.682081 con 3.653342 gram 0.021201 color 7.475733 / loss D: 6.297822:  94%|█████████▍| 1042/1110 [1:00:44<03:57,  3.50s/it]\u001b[A\n",
            "loss G: adv 5.681371 con 3.653642 gram 0.021210 color 7.475088 / loss D: 6.295467:  94%|█████████▍| 1042/1110 [1:00:48<03:57,  3.50s/it]\u001b[A\n",
            "loss G: adv 5.681371 con 3.653642 gram 0.021210 color 7.475088 / loss D: 6.295467:  94%|█████████▍| 1043/1110 [1:00:48<03:54,  3.50s/it]\u001b[A\n",
            "loss G: adv 5.680888 con 3.654288 gram 0.021212 color 7.472646 / loss D: 6.293070:  94%|█████████▍| 1043/1110 [1:00:51<03:54,  3.50s/it]\u001b[A\n",
            "loss G: adv 5.680888 con 3.654288 gram 0.021212 color 7.472646 / loss D: 6.293070:  94%|█████████▍| 1044/1110 [1:00:51<03:50,  3.50s/it]\u001b[A\n",
            "loss G: adv 5.679482 con 3.654593 gram 0.021209 color 7.472183 / loss D: 6.291688:  94%|█████████▍| 1044/1110 [1:00:55<03:50,  3.50s/it]\u001b[A\n",
            "loss G: adv 5.679482 con 3.654593 gram 0.021209 color 7.472183 / loss D: 6.291688:  94%|█████████▍| 1045/1110 [1:00:55<03:47,  3.50s/it]\u001b[A\n",
            "loss G: adv 5.679565 con 3.654559 gram 0.021207 color 7.472604 / loss D: 6.289299:  94%|█████████▍| 1045/1110 [1:00:58<03:47,  3.50s/it]\u001b[A\n",
            "loss G: adv 5.679565 con 3.654559 gram 0.021207 color 7.472604 / loss D: 6.289299:  94%|█████████▍| 1046/1110 [1:00:58<03:43,  3.50s/it]\u001b[A\n",
            "loss G: adv 5.678276 con 3.654854 gram 0.021210 color 7.470184 / loss D: 6.287179:  94%|█████████▍| 1046/1110 [1:01:02<03:43,  3.50s/it]\u001b[A\n",
            "loss G: adv 5.678276 con 3.654854 gram 0.021210 color 7.470184 / loss D: 6.287179:  94%|█████████▍| 1047/1110 [1:01:02<03:40,  3.50s/it]\u001b[A\n",
            "loss G: adv 5.677345 con 3.655114 gram 0.021216 color 7.469379 / loss D: 6.284899:  94%|█████████▍| 1047/1110 [1:01:05<03:40,  3.50s/it]\u001b[A\n",
            "loss G: adv 5.677345 con 3.655114 gram 0.021216 color 7.469379 / loss D: 6.284899:  94%|█████████▍| 1048/1110 [1:01:05<03:37,  3.50s/it]\u001b[A\n",
            "loss G: adv 5.677789 con 3.654853 gram 0.021217 color 7.468228 / loss D: 6.281348:  94%|█████████▍| 1048/1110 [1:01:09<03:37,  3.50s/it]\u001b[A\n",
            "loss G: adv 5.677789 con 3.654853 gram 0.021217 color 7.468228 / loss D: 6.281348:  95%|█████████▍| 1049/1110 [1:01:09<03:33,  3.50s/it]\u001b[A\n",
            "loss G: adv 5.677963 con 3.655118 gram 0.021217 color 7.468004 / loss D: 6.279516:  95%|█████████▍| 1049/1110 [1:01:12<03:33,  3.50s/it]\u001b[A\n",
            "loss G: adv 5.677963 con 3.655118 gram 0.021217 color 7.468004 / loss D: 6.279516:  95%|█████████▍| 1050/1110 [1:01:12<03:30,  3.50s/it]\u001b[A\n",
            "loss G: adv 5.679410 con 3.655329 gram 0.021217 color 7.466770 / loss D: 6.276143:  95%|█████████▍| 1050/1110 [1:01:16<03:30,  3.50s/it]\u001b[A\n",
            "loss G: adv 5.679410 con 3.655329 gram 0.021217 color 7.466770 / loss D: 6.276143:  95%|█████████▍| 1051/1110 [1:01:16<03:26,  3.50s/it]\u001b[A\n",
            "loss G: adv 5.680133 con 3.656020 gram 0.021216 color 7.464256 / loss D: 6.273445:  95%|█████████▍| 1051/1110 [1:01:19<03:26,  3.50s/it]\u001b[A\n",
            "loss G: adv 5.680133 con 3.656020 gram 0.021216 color 7.464256 / loss D: 6.273445:  95%|█████████▍| 1052/1110 [1:01:19<03:23,  3.50s/it]\u001b[A\n",
            "loss G: adv 5.678827 con 3.656339 gram 0.021211 color 7.464886 / loss D: 6.271084:  95%|█████████▍| 1052/1110 [1:01:23<03:23,  3.50s/it]\u001b[A\n",
            "loss G: adv 5.678827 con 3.656339 gram 0.021211 color 7.464886 / loss D: 6.271084:  95%|█████████▍| 1053/1110 [1:01:23<03:19,  3.50s/it]\u001b[A\n",
            "loss G: adv 5.679419 con 3.656327 gram 0.021208 color 7.462301 / loss D: 6.268176:  95%|█████████▍| 1053/1110 [1:01:26<03:19,  3.50s/it]\u001b[A\n",
            "loss G: adv 5.679419 con 3.656327 gram 0.021208 color 7.462301 / loss D: 6.268176:  95%|█████████▍| 1054/1110 [1:01:26<03:16,  3.50s/it]\u001b[A\n",
            "loss G: adv 5.679812 con 3.656347 gram 0.021212 color 7.461109 / loss D: 6.264712:  95%|█████████▍| 1054/1110 [1:01:30<03:16,  3.50s/it]\u001b[A\n",
            "loss G: adv 5.679812 con 3.656347 gram 0.021212 color 7.461109 / loss D: 6.264712:  95%|█████████▌| 1055/1110 [1:01:30<03:12,  3.50s/it]\u001b[A\n",
            "loss G: adv 5.678984 con 3.656386 gram 0.021210 color 7.460843 / loss D: 6.262465:  95%|█████████▌| 1055/1110 [1:01:33<03:12,  3.50s/it]\u001b[A\n",
            "loss G: adv 5.678984 con 3.656386 gram 0.021210 color 7.460843 / loss D: 6.262465:  95%|█████████▌| 1056/1110 [1:01:33<03:08,  3.50s/it]\u001b[A\n",
            "loss G: adv 5.678995 con 3.656530 gram 0.021214 color 7.458125 / loss D: 6.258912:  95%|█████████▌| 1056/1110 [1:01:37<03:08,  3.50s/it]\u001b[A\n",
            "loss G: adv 5.678995 con 3.656530 gram 0.021214 color 7.458125 / loss D: 6.258912:  95%|█████████▌| 1057/1110 [1:01:37<03:05,  3.50s/it]\u001b[A\n",
            "loss G: adv 5.679481 con 3.656456 gram 0.021216 color 7.455378 / loss D: 6.255653:  95%|█████████▌| 1057/1110 [1:01:40<03:05,  3.50s/it]\u001b[A\n",
            "loss G: adv 5.679481 con 3.656456 gram 0.021216 color 7.455378 / loss D: 6.255653:  95%|█████████▌| 1058/1110 [1:01:40<03:01,  3.50s/it]\u001b[A\n",
            "loss G: adv 5.680542 con 3.656716 gram 0.021212 color 7.452879 / loss D: 6.252930:  95%|█████████▌| 1058/1110 [1:01:44<03:01,  3.50s/it]\u001b[A\n",
            "loss G: adv 5.680542 con 3.656716 gram 0.021212 color 7.452879 / loss D: 6.252930:  95%|█████████▌| 1059/1110 [1:01:44<02:58,  3.50s/it]\u001b[A\n",
            "loss G: adv 5.680061 con 3.657028 gram 0.021209 color 7.452069 / loss D: 6.251328:  95%|█████████▌| 1059/1110 [1:01:47<02:58,  3.50s/it]\u001b[A\n",
            "loss G: adv 5.680061 con 3.657028 gram 0.021209 color 7.452069 / loss D: 6.251328:  95%|█████████▌| 1060/1110 [1:01:47<02:54,  3.50s/it]\u001b[A\n",
            "loss G: adv 5.679772 con 3.657558 gram 0.021207 color 7.450676 / loss D: 6.249657:  95%|█████████▌| 1060/1110 [1:01:51<02:54,  3.50s/it]\u001b[A\n",
            "loss G: adv 5.679772 con 3.657558 gram 0.021207 color 7.450676 / loss D: 6.249657:  96%|█████████▌| 1061/1110 [1:01:51<02:51,  3.50s/it]\u001b[A\n",
            "loss G: adv 5.680055 con 3.657830 gram 0.021212 color 7.448890 / loss D: 6.247491:  96%|█████████▌| 1061/1110 [1:01:54<02:51,  3.50s/it]\u001b[A\n",
            "loss G: adv 5.680055 con 3.657830 gram 0.021212 color 7.448890 / loss D: 6.247491:  96%|█████████▌| 1062/1110 [1:01:54<02:47,  3.50s/it]\u001b[A\n",
            "loss G: adv 5.680721 con 3.658532 gram 0.021214 color 7.448003 / loss D: 6.245031:  96%|█████████▌| 1062/1110 [1:01:58<02:47,  3.50s/it]\u001b[A\n",
            "loss G: adv 5.680721 con 3.658532 gram 0.021214 color 7.448003 / loss D: 6.245031:  96%|█████████▌| 1063/1110 [1:01:58<02:44,  3.50s/it]\u001b[A\n",
            "loss G: adv 5.680772 con 3.658780 gram 0.021211 color 7.447279 / loss D: 6.242793:  96%|█████████▌| 1063/1110 [1:02:01<02:44,  3.50s/it]\u001b[A\n",
            "loss G: adv 5.680772 con 3.658780 gram 0.021211 color 7.447279 / loss D: 6.242793:  96%|█████████▌| 1064/1110 [1:02:01<02:40,  3.50s/it]\u001b[A\n",
            "loss G: adv 5.681160 con 3.659079 gram 0.021206 color 7.446262 / loss D: 6.240013:  96%|█████████▌| 1064/1110 [1:02:05<02:40,  3.50s/it]\u001b[A\n",
            "loss G: adv 5.681160 con 3.659079 gram 0.021206 color 7.446262 / loss D: 6.240013:  96%|█████████▌| 1065/1110 [1:02:05<02:37,  3.50s/it]\u001b[A\n",
            "loss G: adv 5.682356 con 3.659202 gram 0.021202 color 7.445122 / loss D: 6.237582:  96%|█████████▌| 1065/1110 [1:02:08<02:37,  3.50s/it]\u001b[A\n",
            "loss G: adv 5.682356 con 3.659202 gram 0.021202 color 7.445122 / loss D: 6.237582:  96%|█████████▌| 1066/1110 [1:02:08<02:34,  3.50s/it]\u001b[A\n",
            "loss G: adv 5.684085 con 3.659618 gram 0.021204 color 7.443103 / loss D: 6.234174:  96%|█████████▌| 1066/1110 [1:02:12<02:34,  3.50s/it]\u001b[A\n",
            "loss G: adv 5.684085 con 3.659618 gram 0.021204 color 7.443103 / loss D: 6.234174:  96%|█████████▌| 1067/1110 [1:02:12<02:30,  3.50s/it]\u001b[A\n",
            "loss G: adv 5.683733 con 3.659774 gram 0.021204 color 7.441714 / loss D: 6.231657:  96%|█████████▌| 1067/1110 [1:02:15<02:30,  3.50s/it]\u001b[A\n",
            "loss G: adv 5.683733 con 3.659774 gram 0.021204 color 7.441714 / loss D: 6.231657:  96%|█████████▌| 1068/1110 [1:02:15<02:27,  3.50s/it]\u001b[A\n",
            "loss G: adv 5.682870 con 3.660527 gram 0.021207 color 7.440770 / loss D: 6.229887:  96%|█████████▌| 1068/1110 [1:02:19<02:27,  3.50s/it]\u001b[A\n",
            "loss G: adv 5.682870 con 3.660527 gram 0.021207 color 7.440770 / loss D: 6.229887:  96%|█████████▋| 1069/1110 [1:02:19<02:23,  3.50s/it]\u001b[A\n",
            "loss G: adv 5.683125 con 3.660498 gram 0.021204 color 7.439529 / loss D: 6.227406:  96%|█████████▋| 1069/1110 [1:02:22<02:23,  3.50s/it]\u001b[A\n",
            "loss G: adv 5.683125 con 3.660498 gram 0.021204 color 7.439529 / loss D: 6.227406:  96%|█████████▋| 1070/1110 [1:02:22<02:20,  3.50s/it]\u001b[A\n",
            "loss G: adv 5.683288 con 3.660718 gram 0.021210 color 7.438263 / loss D: 6.224691:  96%|█████████▋| 1070/1110 [1:02:26<02:20,  3.50s/it]\u001b[A\n",
            "loss G: adv 5.683288 con 3.660718 gram 0.021210 color 7.438263 / loss D: 6.224691:  96%|█████████▋| 1071/1110 [1:02:26<02:16,  3.50s/it]\u001b[A\n",
            "loss G: adv 5.682042 con 3.661470 gram 0.021205 color 7.437731 / loss D: 6.222566:  96%|█████████▋| 1071/1110 [1:02:29<02:16,  3.50s/it]\u001b[A\n",
            "loss G: adv 5.682042 con 3.661470 gram 0.021205 color 7.437731 / loss D: 6.222566:  97%|█████████▋| 1072/1110 [1:02:29<02:13,  3.50s/it]\u001b[A\n",
            "loss G: adv 5.683333 con 3.661857 gram 0.021201 color 7.436028 / loss D: 6.219672:  97%|█████████▋| 1072/1110 [1:02:33<02:13,  3.50s/it]\u001b[A\n",
            "loss G: adv 5.683333 con 3.661857 gram 0.021201 color 7.436028 / loss D: 6.219672:  97%|█████████▋| 1073/1110 [1:02:33<02:09,  3.50s/it]\u001b[A\n",
            "loss G: adv 5.682756 con 3.662501 gram 0.021204 color 7.434647 / loss D: 6.218004:  97%|█████████▋| 1073/1110 [1:02:36<02:09,  3.50s/it]\u001b[A\n",
            "loss G: adv 5.682756 con 3.662501 gram 0.021204 color 7.434647 / loss D: 6.218004:  97%|█████████▋| 1074/1110 [1:02:36<02:06,  3.50s/it]\u001b[A\n",
            "loss G: adv 5.682328 con 3.662726 gram 0.021202 color 7.432539 / loss D: 6.215399:  97%|█████████▋| 1074/1110 [1:02:40<02:06,  3.50s/it]\u001b[A\n",
            "loss G: adv 5.682328 con 3.662726 gram 0.021202 color 7.432539 / loss D: 6.215399:  97%|█████████▋| 1075/1110 [1:02:40<02:02,  3.50s/it]\u001b[A\n",
            "loss G: adv 5.682840 con 3.663120 gram 0.021201 color 7.430250 / loss D: 6.212781:  97%|█████████▋| 1075/1110 [1:02:43<02:02,  3.50s/it]\u001b[A\n",
            "loss G: adv 5.682840 con 3.663120 gram 0.021201 color 7.430250 / loss D: 6.212781:  97%|█████████▋| 1076/1110 [1:02:43<01:59,  3.50s/it]\u001b[A\n",
            "loss G: adv 5.683622 con 3.663666 gram 0.021197 color 7.429884 / loss D: 6.209731:  97%|█████████▋| 1076/1110 [1:02:47<01:59,  3.50s/it]\u001b[A\n",
            "loss G: adv 5.683622 con 3.663666 gram 0.021197 color 7.429884 / loss D: 6.209731:  97%|█████████▋| 1077/1110 [1:02:47<01:55,  3.50s/it]\u001b[A\n",
            "loss G: adv 5.682560 con 3.663865 gram 0.021196 color 7.429561 / loss D: 6.208179:  97%|█████████▋| 1077/1110 [1:02:50<01:55,  3.50s/it]\u001b[A\n",
            "loss G: adv 5.682560 con 3.663865 gram 0.021196 color 7.429561 / loss D: 6.208179:  97%|█████████▋| 1078/1110 [1:02:50<01:52,  3.50s/it]\u001b[A\n",
            "loss G: adv 5.681927 con 3.664583 gram 0.021197 color 7.429347 / loss D: 6.205918:  97%|█████████▋| 1078/1110 [1:02:54<01:52,  3.50s/it]\u001b[A\n",
            "loss G: adv 5.681927 con 3.664583 gram 0.021197 color 7.429347 / loss D: 6.205918:  97%|█████████▋| 1079/1110 [1:02:54<01:48,  3.50s/it]\u001b[A\n",
            "loss G: adv 5.683276 con 3.665040 gram 0.021199 color 7.428344 / loss D: 6.203103:  97%|█████████▋| 1079/1110 [1:02:57<01:48,  3.50s/it]\u001b[A\n",
            "loss G: adv 5.683276 con 3.665040 gram 0.021199 color 7.428344 / loss D: 6.203103:  97%|█████████▋| 1080/1110 [1:02:57<01:45,  3.50s/it]\u001b[A\n",
            "loss G: adv 5.684254 con 3.666048 gram 0.021192 color 7.426610 / loss D: 6.201540:  97%|█████████▋| 1080/1110 [1:03:01<01:45,  3.50s/it]\u001b[A\n",
            "loss G: adv 5.684254 con 3.666048 gram 0.021192 color 7.426610 / loss D: 6.201540:  97%|█████████▋| 1081/1110 [1:03:01<01:41,  3.51s/it]\u001b[A\n",
            "loss G: adv 5.684106 con 3.666513 gram 0.021196 color 7.427217 / loss D: 6.199437:  97%|█████████▋| 1081/1110 [1:03:04<01:41,  3.51s/it]\u001b[A\n",
            "loss G: adv 5.684106 con 3.666513 gram 0.021196 color 7.427217 / loss D: 6.199437:  97%|█████████▋| 1082/1110 [1:03:04<01:38,  3.51s/it]\u001b[A\n",
            "loss G: adv 5.684653 con 3.667235 gram 0.021197 color 7.426275 / loss D: 6.196780:  97%|█████████▋| 1082/1110 [1:03:08<01:38,  3.51s/it]\u001b[A\n",
            "loss G: adv 5.684653 con 3.667235 gram 0.021197 color 7.426275 / loss D: 6.196780:  98%|█████████▊| 1083/1110 [1:03:08<01:34,  3.50s/it]\u001b[A\n",
            "loss G: adv 5.684261 con 3.667918 gram 0.021203 color 7.425467 / loss D: 6.195002:  98%|█████████▊| 1083/1110 [1:03:11<01:34,  3.50s/it]\u001b[A\n",
            "loss G: adv 5.684261 con 3.667918 gram 0.021203 color 7.425467 / loss D: 6.195002:  98%|█████████▊| 1084/1110 [1:03:11<01:31,  3.50s/it]\u001b[A\n",
            "loss G: adv 5.684297 con 3.668243 gram 0.021195 color 7.424978 / loss D: 6.192363:  98%|█████████▊| 1084/1110 [1:03:15<01:31,  3.50s/it]\u001b[A\n",
            "loss G: adv 5.684297 con 3.668243 gram 0.021195 color 7.424978 / loss D: 6.192363:  98%|█████████▊| 1085/1110 [1:03:15<01:27,  3.50s/it]\u001b[A\n",
            "loss G: adv 5.683400 con 3.668815 gram 0.021193 color 7.424004 / loss D: 6.190063:  98%|█████████▊| 1085/1110 [1:03:18<01:27,  3.50s/it]\u001b[A\n",
            "loss G: adv 5.683400 con 3.668815 gram 0.021193 color 7.424004 / loss D: 6.190063:  98%|█████████▊| 1086/1110 [1:03:18<01:24,  3.50s/it]\u001b[A\n",
            "loss G: adv 5.682100 con 3.669302 gram 0.021201 color 7.423373 / loss D: 6.188185:  98%|█████████▊| 1086/1110 [1:03:22<01:24,  3.50s/it]\u001b[A\n",
            "loss G: adv 5.682100 con 3.669302 gram 0.021201 color 7.423373 / loss D: 6.188185:  98%|█████████▊| 1087/1110 [1:03:22<01:20,  3.50s/it]\u001b[A\n",
            "loss G: adv 5.682616 con 3.669634 gram 0.021199 color 7.423561 / loss D: 6.185921:  98%|█████████▊| 1087/1110 [1:03:25<01:20,  3.50s/it]\u001b[A\n",
            "loss G: adv 5.682616 con 3.669634 gram 0.021199 color 7.423561 / loss D: 6.185921:  98%|█████████▊| 1088/1110 [1:03:25<01:17,  3.50s/it]\u001b[A\n",
            "loss G: adv 5.682502 con 3.670206 gram 0.021199 color 7.424427 / loss D: 6.183715:  98%|█████████▊| 1088/1110 [1:03:29<01:17,  3.50s/it]\u001b[A\n",
            "loss G: adv 5.682502 con 3.670206 gram 0.021199 color 7.424427 / loss D: 6.183715:  98%|█████████▊| 1089/1110 [1:03:29<01:13,  3.50s/it]\u001b[A\n",
            "loss G: adv 5.681293 con 3.670479 gram 0.021199 color 7.424041 / loss D: 6.181657:  98%|█████████▊| 1089/1110 [1:03:32<01:13,  3.50s/it]\u001b[A\n",
            "loss G: adv 5.681293 con 3.670479 gram 0.021199 color 7.424041 / loss D: 6.181657:  98%|█████████▊| 1090/1110 [1:03:32<01:10,  3.50s/it]\u001b[A\n",
            "loss G: adv 5.680474 con 3.670825 gram 0.021198 color 7.422537 / loss D: 6.179126:  98%|█████████▊| 1090/1110 [1:03:36<01:10,  3.50s/it]\u001b[A\n",
            "loss G: adv 5.680474 con 3.670825 gram 0.021198 color 7.422537 / loss D: 6.179126:  98%|█████████▊| 1091/1110 [1:03:36<01:06,  3.50s/it]\u001b[A\n",
            "loss G: adv 5.681141 con 3.671003 gram 0.021196 color 7.420787 / loss D: 6.176071:  98%|█████████▊| 1091/1110 [1:03:39<01:06,  3.50s/it]\u001b[A\n",
            "loss G: adv 5.681141 con 3.671003 gram 0.021196 color 7.420787 / loss D: 6.176071:  98%|█████████▊| 1092/1110 [1:03:39<01:03,  3.50s/it]\u001b[A\n",
            "loss G: adv 5.681389 con 3.670921 gram 0.021198 color 7.421408 / loss D: 6.173724:  98%|█████████▊| 1092/1110 [1:03:43<01:03,  3.50s/it]\u001b[A\n",
            "loss G: adv 5.681389 con 3.670921 gram 0.021198 color 7.421408 / loss D: 6.173724:  98%|█████████▊| 1093/1110 [1:03:43<00:59,  3.50s/it]\u001b[A\n",
            "loss G: adv 5.681229 con 3.671198 gram 0.021201 color 7.422373 / loss D: 6.171190:  98%|█████████▊| 1093/1110 [1:03:46<00:59,  3.50s/it]\u001b[A\n",
            "loss G: adv 5.681229 con 3.671198 gram 0.021201 color 7.422373 / loss D: 6.171190:  99%|█████████▊| 1094/1110 [1:03:46<00:55,  3.50s/it]\u001b[A\n",
            "loss G: adv 5.681510 con 3.671348 gram 0.021201 color 7.420835 / loss D: 6.168368:  99%|█████████▊| 1094/1110 [1:03:50<00:55,  3.50s/it]\u001b[A\n",
            "loss G: adv 5.681510 con 3.671348 gram 0.021201 color 7.420835 / loss D: 6.168368:  99%|█████████▊| 1095/1110 [1:03:50<00:52,  3.50s/it]\u001b[A\n",
            "loss G: adv 5.682894 con 3.671273 gram 0.021201 color 7.419263 / loss D: 6.166839:  99%|█████████▊| 1095/1110 [1:03:53<00:52,  3.50s/it]\u001b[A\n",
            "loss G: adv 5.682894 con 3.671273 gram 0.021201 color 7.419263 / loss D: 6.166839:  99%|█████████▊| 1096/1110 [1:03:53<00:48,  3.50s/it]\u001b[A\n",
            "loss G: adv 5.683231 con 3.671337 gram 0.021202 color 7.417814 / loss D: 6.164399:  99%|█████████▊| 1096/1110 [1:03:57<00:48,  3.50s/it]\u001b[A\n",
            "loss G: adv 5.683231 con 3.671337 gram 0.021202 color 7.417814 / loss D: 6.164399:  99%|█████████▉| 1097/1110 [1:03:57<00:45,  3.50s/it]\u001b[A\n",
            "loss G: adv 5.683376 con 3.671642 gram 0.021197 color 7.416923 / loss D: 6.161381:  99%|█████████▉| 1097/1110 [1:04:00<00:45,  3.50s/it]\u001b[A\n",
            "loss G: adv 5.683376 con 3.671642 gram 0.021197 color 7.416923 / loss D: 6.161381:  99%|█████████▉| 1098/1110 [1:04:00<00:41,  3.50s/it]\u001b[A\n",
            "loss G: adv 5.682395 con 3.672385 gram 0.021195 color 7.418916 / loss D: 6.159913:  99%|█████████▉| 1098/1110 [1:04:04<00:41,  3.50s/it]\u001b[A\n",
            "loss G: adv 5.682395 con 3.672385 gram 0.021195 color 7.418916 / loss D: 6.159913:  99%|█████████▉| 1099/1110 [1:04:04<00:38,  3.49s/it]\u001b[A\n",
            "loss G: adv 5.682912 con 3.672552 gram 0.021192 color 7.415810 / loss D: 6.157161:  99%|█████████▉| 1099/1110 [1:04:07<00:38,  3.49s/it]\u001b[A\n",
            "loss G: adv 5.682912 con 3.672552 gram 0.021192 color 7.415810 / loss D: 6.157161:  99%|█████████▉| 1100/1110 [1:04:07<00:34,  3.50s/it]\u001b[A\n",
            "loss G: adv 5.684663 con 3.672989 gram 0.021186 color 7.414583 / loss D: 6.154102:  99%|█████████▉| 1100/1110 [1:04:11<00:34,  3.50s/it]\u001b[A\n",
            "loss G: adv 5.684663 con 3.672989 gram 0.021186 color 7.414583 / loss D: 6.154102:  99%|█████████▉| 1101/1110 [1:04:11<00:31,  3.49s/it]\u001b[A\n",
            "loss G: adv 5.685733 con 3.673055 gram 0.021189 color 7.413857 / loss D: 6.151794:  99%|█████████▉| 1101/1110 [1:04:14<00:31,  3.49s/it]\u001b[A\n",
            "loss G: adv 5.685733 con 3.673055 gram 0.021189 color 7.413857 / loss D: 6.151794:  99%|█████████▉| 1102/1110 [1:04:14<00:27,  3.49s/it]\u001b[A\n",
            "loss G: adv 5.684669 con 3.673786 gram 0.021186 color 7.416171 / loss D: 6.149292:  99%|█████████▉| 1102/1110 [1:04:18<00:27,  3.49s/it]\u001b[A\n",
            "loss G: adv 5.684669 con 3.673786 gram 0.021186 color 7.416171 / loss D: 6.149292:  99%|█████████▉| 1103/1110 [1:04:18<00:24,  3.49s/it]\u001b[A\n",
            "loss G: adv 5.683888 con 3.674036 gram 0.021186 color 7.416087 / loss D: 6.147076:  99%|█████████▉| 1103/1110 [1:04:21<00:24,  3.49s/it]\u001b[A\n",
            "loss G: adv 5.683888 con 3.674036 gram 0.021186 color 7.416087 / loss D: 6.147076:  99%|█████████▉| 1104/1110 [1:04:21<00:20,  3.49s/it]\u001b[A\n",
            "loss G: adv 5.684891 con 3.674190 gram 0.021183 color 7.415324 / loss D: 6.144300:  99%|█████████▉| 1104/1110 [1:04:25<00:20,  3.49s/it]\u001b[A\n",
            "loss G: adv 5.684891 con 3.674190 gram 0.021183 color 7.415324 / loss D: 6.144300: 100%|█████████▉| 1105/1110 [1:04:25<00:17,  3.49s/it]\u001b[A\n",
            "loss G: adv 5.685601 con 3.674144 gram 0.021192 color 7.414471 / loss D: 6.142163: 100%|█████████▉| 1105/1110 [1:04:28<00:17,  3.49s/it]\u001b[A\n",
            "loss G: adv 5.685601 con 3.674144 gram 0.021192 color 7.414471 / loss D: 6.142163: 100%|█████████▉| 1106/1110 [1:04:28<00:13,  3.49s/it]\u001b[A\n",
            "loss G: adv 5.686389 con 3.674263 gram 0.021193 color 7.412748 / loss D: 6.138521: 100%|█████████▉| 1106/1110 [1:04:32<00:13,  3.49s/it]\u001b[A\n",
            "loss G: adv 5.686389 con 3.674263 gram 0.021193 color 7.412748 / loss D: 6.138521: 100%|█████████▉| 1107/1110 [1:04:32<00:10,  3.49s/it]\u001b[A\n",
            "loss G: adv 5.685669 con 3.674475 gram 0.021192 color 7.411000 / loss D: 6.135397: 100%|█████████▉| 1107/1110 [1:04:35<00:10,  3.49s/it]\u001b[A\n",
            "loss G: adv 5.685669 con 3.674475 gram 0.021192 color 7.411000 / loss D: 6.135397: 100%|█████████▉| 1108/1110 [1:04:35<00:06,  3.50s/it]\u001b[A\n",
            "loss G: adv 5.686490 con 3.674659 gram 0.021191 color 7.410484 / loss D: 6.132497: 100%|█████████▉| 1108/1110 [1:04:39<00:06,  3.50s/it]\u001b[A\n",
            "loss G: adv 5.686490 con 3.674659 gram 0.021191 color 7.410484 / loss D: 6.132497: 100%|█████████▉| 1109/1110 [1:04:39<00:03,  3.50s/it]\u001b[A\n",
            "loss G: adv 5.687101 con 3.674911 gram 0.021227 color 7.412992 / loss D: 6.129215: 100%|█████████▉| 1109/1110 [1:04:40<00:03,  3.50s/it]\u001b[A\n",
            "loss G: adv 5.687101 con 3.674911 gram 0.021227 color 7.412992 / loss D: 6.129215: 100%|██████████| 1110/1110 [1:04:40<00:00,  3.50s/it]\n"
          ]
        }
      ]
    },
    {
      "cell_type": "markdown",
      "source": [
        "# References"
      ],
      "metadata": {
        "id": "-6AuwHJo7fxT"
      }
    },
    {
      "cell_type": "markdown",
      "source": [
        "![image.png](data:image/png;base64,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)"
      ],
      "metadata": {
        "id": "iSYDQHMNvzbo"
      }
    },
    {
      "cell_type": "code",
      "source": [],
      "metadata": {
        "id": "prPugcjvvyi2"
      },
      "execution_count": null,
      "outputs": []
    }
  ]
}